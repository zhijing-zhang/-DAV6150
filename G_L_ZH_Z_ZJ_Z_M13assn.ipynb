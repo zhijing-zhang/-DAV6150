{
  "nbformat": 4,
  "nbformat_minor": 0,
  "metadata": {
    "colab": {
      "name": "G_L_ZH_Z_ZJ_Z_M13assn.ipynb",
      "provenance": [],
      "collapsed_sections": [],
      "toc_visible": true
    },
    "kernelspec": {
      "name": "python3",
      "display_name": "Python 3"
    }
  },
  "cells": [
    {
      "cell_type": "markdown",
      "metadata": {
        "id": "xyogBzn36PwA",
        "colab_type": "text"
      },
      "source": [
        "# Assignment 13 --- Neural Network\n",
        "#### Group members: Gege Li, Zhihong Zhang, Zhijing Zhang\n"
      ]
    },
    {
      "cell_type": "markdown",
      "metadata": {
        "id": "IyB6XVqN6riA",
        "colab_type": "text"
      },
      "source": [
        "## Introduction \n",
        "In this assignment, we are going to construct a series of different neural network models for a provided data set and compare/contrast the performance of the varying models against one another. The data set was built upon a popular dataset of diamonds from the UCI repository. Comparing with the common usage of predicting the price of the diamond, in this task, we applied these different models for predicting the cut. \n",
        "\n",
        "For the steps we will use in this project, we will launch EDA firstly, and based on the EDA, we will apply Data preparation which includes tidy invalid values, add/remove features for modeling, etc. After Data Prep, we relaunch EDA to analyze the data. Then based on the given information, we will build several models according to the project requirement. Compare the performance of each model, we will finally identify a preferred model and get our conclusion."
      ]
    },
    {
      "cell_type": "markdown",
      "metadata": {
        "id": "dqxxiAcy6utz",
        "colab_type": "text"
      },
      "source": [
        "##  Exploratory Data Analysis"
      ]
    },
    {
      "cell_type": "code",
      "metadata": {
        "id": "EjcZ3Q_p6KO_",
        "colab_type": "code",
        "colab": {
          "base_uri": "https://localhost:8080/",
          "height": 195
        },
        "outputId": "915972a7-a908-4b04-9974-17077dc3908f"
      },
      "source": [
        "import numpy as np\n",
        "import pandas as pd\n",
        "\n",
        "# check and read the dataset from github\n",
        "df = pd.read_csv('https://raw.githubusercontent.com/gegeli638/DAV-6150/master/Project3_Data.csv')\n",
        "df.head()"
      ],
      "execution_count": null,
      "outputs": [
        {
          "output_type": "execute_result",
          "data": {
            "text/html": [
              "<div>\n",
              "<style scoped>\n",
              "    .dataframe tbody tr th:only-of-type {\n",
              "        vertical-align: middle;\n",
              "    }\n",
              "\n",
              "    .dataframe tbody tr th {\n",
              "        vertical-align: top;\n",
              "    }\n",
              "\n",
              "    .dataframe thead th {\n",
              "        text-align: right;\n",
              "    }\n",
              "</style>\n",
              "<table border=\"1\" class=\"dataframe\">\n",
              "  <thead>\n",
              "    <tr style=\"text-align: right;\">\n",
              "      <th></th>\n",
              "      <th>carat</th>\n",
              "      <th>cut</th>\n",
              "      <th>color</th>\n",
              "      <th>clarity</th>\n",
              "      <th>depth</th>\n",
              "      <th>table</th>\n",
              "      <th>price</th>\n",
              "      <th>x</th>\n",
              "      <th>y</th>\n",
              "      <th>z</th>\n",
              "    </tr>\n",
              "  </thead>\n",
              "  <tbody>\n",
              "    <tr>\n",
              "      <th>0</th>\n",
              "      <td>0.23</td>\n",
              "      <td>Ideal</td>\n",
              "      <td>E</td>\n",
              "      <td>SI2</td>\n",
              "      <td>61.5</td>\n",
              "      <td>55.0</td>\n",
              "      <td>326</td>\n",
              "      <td>3.95</td>\n",
              "      <td>3.98</td>\n",
              "      <td>2.43</td>\n",
              "    </tr>\n",
              "    <tr>\n",
              "      <th>1</th>\n",
              "      <td>0.21</td>\n",
              "      <td>Premium</td>\n",
              "      <td>E</td>\n",
              "      <td>SI1</td>\n",
              "      <td>59.8</td>\n",
              "      <td>61.0</td>\n",
              "      <td>326</td>\n",
              "      <td>3.89</td>\n",
              "      <td>3.84</td>\n",
              "      <td>2.31</td>\n",
              "    </tr>\n",
              "    <tr>\n",
              "      <th>2</th>\n",
              "      <td>0.23</td>\n",
              "      <td>Good</td>\n",
              "      <td>E</td>\n",
              "      <td>VS1</td>\n",
              "      <td>56.9</td>\n",
              "      <td>65.0</td>\n",
              "      <td>327</td>\n",
              "      <td>4.05</td>\n",
              "      <td>4.07</td>\n",
              "      <td>2.31</td>\n",
              "    </tr>\n",
              "    <tr>\n",
              "      <th>3</th>\n",
              "      <td>0.29</td>\n",
              "      <td>Premium</td>\n",
              "      <td>I</td>\n",
              "      <td>VS2</td>\n",
              "      <td>62.4</td>\n",
              "      <td>58.0</td>\n",
              "      <td>334</td>\n",
              "      <td>4.20</td>\n",
              "      <td>4.23</td>\n",
              "      <td>2.63</td>\n",
              "    </tr>\n",
              "    <tr>\n",
              "      <th>4</th>\n",
              "      <td>0.31</td>\n",
              "      <td>Good</td>\n",
              "      <td>J</td>\n",
              "      <td>SI2</td>\n",
              "      <td>63.3</td>\n",
              "      <td>58.0</td>\n",
              "      <td>335</td>\n",
              "      <td>4.34</td>\n",
              "      <td>4.35</td>\n",
              "      <td>2.75</td>\n",
              "    </tr>\n",
              "  </tbody>\n",
              "</table>\n",
              "</div>"
            ],
            "text/plain": [
              "   carat      cut color clarity  depth  table  price     x     y     z\n",
              "0   0.23    Ideal     E     SI2   61.5   55.0    326  3.95  3.98  2.43\n",
              "1   0.21  Premium     E     SI1   59.8   61.0    326  3.89  3.84  2.31\n",
              "2   0.23     Good     E     VS1   56.9   65.0    327  4.05  4.07  2.31\n",
              "3   0.29  Premium     I     VS2   62.4   58.0    334  4.20  4.23  2.63\n",
              "4   0.31     Good     J     SI2   63.3   58.0    335  4.34  4.35  2.75"
            ]
          },
          "metadata": {
            "tags": []
          },
          "execution_count": 182
        }
      ]
    },
    {
      "cell_type": "code",
      "metadata": {
        "id": "PW8H5x5l7SYl",
        "colab_type": "code",
        "colab": {
          "base_uri": "https://localhost:8080/",
          "height": 302
        },
        "outputId": "68ce0f47-ef52-4a4f-99f6-7409d30f4b87"
      },
      "source": [
        "df.info()"
      ],
      "execution_count": null,
      "outputs": [
        {
          "output_type": "stream",
          "text": [
            "<class 'pandas.core.frame.DataFrame'>\n",
            "RangeIndex: 53940 entries, 0 to 53939\n",
            "Data columns (total 10 columns):\n",
            " #   Column   Non-Null Count  Dtype  \n",
            "---  ------   --------------  -----  \n",
            " 0   carat    53940 non-null  float64\n",
            " 1   cut      53940 non-null  object \n",
            " 2   color    53940 non-null  object \n",
            " 3   clarity  53940 non-null  object \n",
            " 4   depth    53940 non-null  float64\n",
            " 5   table    53940 non-null  float64\n",
            " 6   price    53940 non-null  int64  \n",
            " 7   x        53940 non-null  float64\n",
            " 8   y        53940 non-null  float64\n",
            " 9   z        53940 non-null  float64\n",
            "dtypes: float64(6), int64(1), object(3)\n",
            "memory usage: 4.1+ MB\n"
          ],
          "name": "stdout"
        }
      ]
    },
    {
      "cell_type": "markdown",
      "metadata": {
        "id": "q5FDPFnz76iF",
        "colab_type": "text"
      },
      "source": [
        "This data frame have 53940 rows and 10 variables:\n",
        "\n",
        "- price: price in US dollars (\\$326--\\$18,823)\n",
        "- carat: weight of the diamond (0.2--5.01)\n",
        "- cut: quality of the cut (Fair, Good, Very Good, Premium, Ideal)\n",
        "- color: diamond colour, from D (best) to J (worst)\n",
        "- clarity: a measurement of how clear the diamond is (I1 (worst), SI2, SI1, VS2, VS1, VVS2, VVS1, IF (best))\n",
        "- x: length in mm (0--10.74)\n",
        "- y: width in mm (0--58.9)\n",
        "- z: depth in mm (0--31.8)\n",
        "- depth: total depth percentage = z / mean(x, y) = 2 * z / (x + y) (43--79)\n",
        "- table: width of top of diamond relative to widest point (43--95)"
      ]
    },
    {
      "cell_type": "markdown",
      "metadata": {
        "id": "qwoN7LC3GFVX",
        "colab_type": "text"
      },
      "source": [
        "As we can see, there are three categorical data(cut, color, clarity) and 7 numerical data(price, carat, x,y,z, depth, table)."
      ]
    },
    {
      "cell_type": "code",
      "metadata": {
        "id": "vWEbRC1J7Vus",
        "colab_type": "code",
        "colab": {
          "base_uri": "https://localhost:8080/",
          "height": 202
        },
        "outputId": "4afd883c-1a20-4fcb-f32a-32b622262b5a"
      },
      "source": [
        "df.isnull().sum()"
      ],
      "execution_count": null,
      "outputs": [
        {
          "output_type": "execute_result",
          "data": {
            "text/plain": [
              "carat      0\n",
              "cut        0\n",
              "color      0\n",
              "clarity    0\n",
              "depth      0\n",
              "table      0\n",
              "price      0\n",
              "x          0\n",
              "y          0\n",
              "z          0\n",
              "dtype: int64"
            ]
          },
          "metadata": {
            "tags": []
          },
          "execution_count": 184
        }
      ]
    },
    {
      "cell_type": "markdown",
      "metadata": {
        "id": "LfYkJm4MGIGb",
        "colab_type": "text"
      },
      "source": [
        "There is no null value for it. Let's check the details."
      ]
    },
    {
      "cell_type": "code",
      "metadata": {
        "id": "pSJie2fHwBGf",
        "colab_type": "code",
        "colab": {
          "base_uri": "https://localhost:8080/",
          "height": 284
        },
        "outputId": "2f396b91-0524-43ec-ad7f-7748d005fc8c"
      },
      "source": [
        "df.describe()"
      ],
      "execution_count": null,
      "outputs": [
        {
          "output_type": "execute_result",
          "data": {
            "text/html": [
              "<div>\n",
              "<style scoped>\n",
              "    .dataframe tbody tr th:only-of-type {\n",
              "        vertical-align: middle;\n",
              "    }\n",
              "\n",
              "    .dataframe tbody tr th {\n",
              "        vertical-align: top;\n",
              "    }\n",
              "\n",
              "    .dataframe thead th {\n",
              "        text-align: right;\n",
              "    }\n",
              "</style>\n",
              "<table border=\"1\" class=\"dataframe\">\n",
              "  <thead>\n",
              "    <tr style=\"text-align: right;\">\n",
              "      <th></th>\n",
              "      <th>carat</th>\n",
              "      <th>depth</th>\n",
              "      <th>table</th>\n",
              "      <th>price</th>\n",
              "      <th>x</th>\n",
              "      <th>y</th>\n",
              "      <th>z</th>\n",
              "    </tr>\n",
              "  </thead>\n",
              "  <tbody>\n",
              "    <tr>\n",
              "      <th>count</th>\n",
              "      <td>53940.000000</td>\n",
              "      <td>53940.000000</td>\n",
              "      <td>53940.000000</td>\n",
              "      <td>53940.000000</td>\n",
              "      <td>53940.000000</td>\n",
              "      <td>53940.000000</td>\n",
              "      <td>53940.000000</td>\n",
              "    </tr>\n",
              "    <tr>\n",
              "      <th>mean</th>\n",
              "      <td>0.797940</td>\n",
              "      <td>61.749405</td>\n",
              "      <td>57.457184</td>\n",
              "      <td>3932.799722</td>\n",
              "      <td>5.731157</td>\n",
              "      <td>5.734526</td>\n",
              "      <td>3.538734</td>\n",
              "    </tr>\n",
              "    <tr>\n",
              "      <th>std</th>\n",
              "      <td>0.474011</td>\n",
              "      <td>1.432621</td>\n",
              "      <td>2.234491</td>\n",
              "      <td>3989.439738</td>\n",
              "      <td>1.121761</td>\n",
              "      <td>1.142135</td>\n",
              "      <td>0.705699</td>\n",
              "    </tr>\n",
              "    <tr>\n",
              "      <th>min</th>\n",
              "      <td>0.200000</td>\n",
              "      <td>43.000000</td>\n",
              "      <td>43.000000</td>\n",
              "      <td>326.000000</td>\n",
              "      <td>0.000000</td>\n",
              "      <td>0.000000</td>\n",
              "      <td>0.000000</td>\n",
              "    </tr>\n",
              "    <tr>\n",
              "      <th>25%</th>\n",
              "      <td>0.400000</td>\n",
              "      <td>61.000000</td>\n",
              "      <td>56.000000</td>\n",
              "      <td>950.000000</td>\n",
              "      <td>4.710000</td>\n",
              "      <td>4.720000</td>\n",
              "      <td>2.910000</td>\n",
              "    </tr>\n",
              "    <tr>\n",
              "      <th>50%</th>\n",
              "      <td>0.700000</td>\n",
              "      <td>61.800000</td>\n",
              "      <td>57.000000</td>\n",
              "      <td>2401.000000</td>\n",
              "      <td>5.700000</td>\n",
              "      <td>5.710000</td>\n",
              "      <td>3.530000</td>\n",
              "    </tr>\n",
              "    <tr>\n",
              "      <th>75%</th>\n",
              "      <td>1.040000</td>\n",
              "      <td>62.500000</td>\n",
              "      <td>59.000000</td>\n",
              "      <td>5324.250000</td>\n",
              "      <td>6.540000</td>\n",
              "      <td>6.540000</td>\n",
              "      <td>4.040000</td>\n",
              "    </tr>\n",
              "    <tr>\n",
              "      <th>max</th>\n",
              "      <td>5.010000</td>\n",
              "      <td>79.000000</td>\n",
              "      <td>95.000000</td>\n",
              "      <td>18823.000000</td>\n",
              "      <td>10.740000</td>\n",
              "      <td>58.900000</td>\n",
              "      <td>31.800000</td>\n",
              "    </tr>\n",
              "  </tbody>\n",
              "</table>\n",
              "</div>"
            ],
            "text/plain": [
              "              carat         depth  ...             y             z\n",
              "count  53940.000000  53940.000000  ...  53940.000000  53940.000000\n",
              "mean       0.797940     61.749405  ...      5.734526      3.538734\n",
              "std        0.474011      1.432621  ...      1.142135      0.705699\n",
              "min        0.200000     43.000000  ...      0.000000      0.000000\n",
              "25%        0.400000     61.000000  ...      4.720000      2.910000\n",
              "50%        0.700000     61.800000  ...      5.710000      3.530000\n",
              "75%        1.040000     62.500000  ...      6.540000      4.040000\n",
              "max        5.010000     79.000000  ...     58.900000     31.800000\n",
              "\n",
              "[8 rows x 7 columns]"
            ]
          },
          "metadata": {
            "tags": []
          },
          "execution_count": 185
        }
      ]
    },
    {
      "cell_type": "markdown",
      "metadata": {
        "id": "Nv9bp8k-wJke",
        "colab_type": "text"
      },
      "source": [
        "It doesn't make any sense to have either of Length or Width or Height to be zero, so we would find them and move them out. We will do that later in Data preparation part."
      ]
    },
    {
      "cell_type": "markdown",
      "metadata": {
        "id": "qP4VqydZDIO4",
        "colab_type": "text"
      },
      "source": [
        "To begin our data preparation, we will see each of the attributes firstly. "
      ]
    },
    {
      "cell_type": "code",
      "metadata": {
        "id": "UpWkWC2P-vOH",
        "colab_type": "code",
        "colab": {
          "base_uri": "https://localhost:8080/",
          "height": 439
        },
        "outputId": "4fac925e-b579-4b4a-9eac-813a2ec0497f"
      },
      "source": [
        "import matplotlib.pyplot as plt\n",
        "import seaborn as sns\n",
        "sns.factorplot(x='cut', data=df , kind='count' )#,aspect=2.5"
      ],
      "execution_count": null,
      "outputs": [
        {
          "output_type": "stream",
          "text": [
            "/usr/local/lib/python3.6/dist-packages/seaborn/categorical.py:3666: UserWarning: The `factorplot` function has been renamed to `catplot`. The original name will be removed in a future release. Please update your code. Note that the default `kind` in `factorplot` (`'point'`) has changed `'strip'` in `catplot`.\n",
            "  warnings.warn(msg)\n"
          ],
          "name": "stderr"
        },
        {
          "output_type": "execute_result",
          "data": {
            "text/plain": [
              "<seaborn.axisgrid.FacetGrid at 0x7f1066cceef0>"
            ]
          },
          "metadata": {
            "tags": []
          },
          "execution_count": 186
        },
        {
          "output_type": "display_data",
          "data": {
            "image/png": "[encoded data removed]",
            "text/plain": [
              "<Figure size 360x360 with 1 Axes>"
            ]
          },
          "metadata": {
            "tags": [],
            "needs_background": "light"
          }
        }
      ]
    },
    {
      "cell_type": "markdown",
      "metadata": {
        "id": "7J5g6fJMGZ50",
        "colab_type": "text"
      },
      "source": [
        "Based on the diamond cut distribution, we know it is also not quite balanced data, about 40% of the whole data set is the ideal cut of ideal quality. "
      ]
    },
    {
      "cell_type": "code",
      "metadata": {
        "id": "xHX6d9a3GXm-",
        "colab_type": "code",
        "colab": {
          "base_uri": "https://localhost:8080/",
          "height": 118
        },
        "outputId": "ad2a3ac9-1df1-427d-c46c-f3618b8602eb"
      },
      "source": [
        "df.cut.value_counts()"
      ],
      "execution_count": null,
      "outputs": [
        {
          "output_type": "execute_result",
          "data": {
            "text/plain": [
              "Ideal        21551\n",
              "Premium      13791\n",
              "Very Good    12082\n",
              "Good          4906\n",
              "Fair          1610\n",
              "Name: cut, dtype: int64"
            ]
          },
          "metadata": {
            "tags": []
          },
          "execution_count": 187
        }
      ]
    },
    {
      "cell_type": "markdown",
      "metadata": {
        "id": "eLOabOMRDa1v",
        "colab_type": "text"
      },
      "source": [
        "The first thing we need to notice is that the null-error rate of ideal cut, which contributes to 41.84%(21548/51506), about one half of the whole population. We need to notice that it is not a quite balanced data. Since we will use decision tree and random forest algorithm which does not require us to deal with imbalanced nature of the data. Also, based on our reference, the gradient boost algorithm has the advantage of dealing with the imbalanced nature of the data set. Therefore, based on the models we will use, the imbalanced nature of the data set should not be worried. Among all five models, built-in weighted parameters are used for all algorithms. "
      ]
    },
    {
      "cell_type": "code",
      "metadata": {
        "id": "eAwPAT4b2D3t",
        "colab_type": "code",
        "colab": {
          "base_uri": "https://localhost:8080/",
          "height": 667
        },
        "outputId": "22141fba-0da1-48f9-8bb6-4318a6bcc19b"
      },
      "source": [
        "#plot numerical data histogram\n",
        "df.hist(figsize=(10,8), color='skyblue')"
      ],
      "execution_count": null,
      "outputs": [
        {
          "output_type": "execute_result",
          "data": {
            "text/plain": [
              "array([[<matplotlib.axes._subplots.AxesSubplot object at 0x7f1065bd8c88>,\n",
              "        <matplotlib.axes._subplots.AxesSubplot object at 0x7f1065bb9860>,\n",
              "        <matplotlib.axes._subplots.AxesSubplot object at 0x7f106408e470>],\n",
              "       [<matplotlib.axes._subplots.AxesSubplot object at 0x7f1066ce7710>,\n",
              "        <matplotlib.axes._subplots.AxesSubplot object at 0x7f1069190a20>,\n",
              "        <matplotlib.axes._subplots.AxesSubplot object at 0x7f1063662da0>],\n",
              "       [<matplotlib.axes._subplots.AxesSubplot object at 0x7f1068f89160>,\n",
              "        <matplotlib.axes._subplots.AxesSubplot object at 0x7f1065c754a8>,\n",
              "        <matplotlib.axes._subplots.AxesSubplot object at 0x7f1065c75518>]],\n",
              "      dtype=object)"
            ]
          },
          "metadata": {
            "tags": []
          },
          "execution_count": 188
        },
        {
          "output_type": "display_data",
          "data": {
            "image/png": "[encoded data removed]",
            "text/plain": [
              "<Figure size 720x576 with 9 Axes>"
            ]
          },
          "metadata": {
            "tags": [],
            "needs_background": "light"
          }
        }
      ]
    },
    {
      "cell_type": "markdown",
      "metadata": {
        "id": "0kHNL_Gbe2U3",
        "colab_type": "text"
      },
      "source": [
        "From this basic histogram, we can see\n",
        "- The distribution of price and carat is a little right-skewed.\n",
        "- x is kind of normal distribution, but y and z are focused more between 0 to 10.\n",
        "- The maximum value of table and depth are around approximately 60."
      ]
    },
    {
      "cell_type": "markdown",
      "metadata": {
        "id": "_KF77EHD-o0V",
        "colab_type": "text"
      },
      "source": [
        "All the attributes except y and z are all shown some diverse patterns, and they may provide some extra information. From this graph, most of the attributes are all potential good candidates for our selected explanatory variable. For detailed analysis, we can use other plots later."
      ]
    },
    {
      "cell_type": "code",
      "metadata": {
        "id": "u2im7hio488J",
        "colab_type": "code",
        "colab": {
          "base_uri": "https://localhost:8080/",
          "height": 369
        },
        "outputId": "79068b45-bc3f-4e5e-aee6-d8327dc0b0a9"
      },
      "source": [
        "#plot categorical data\n",
        "fig, axes =plt.subplots(2,2, figsize=(8,5)) #, sharex=True\n",
        "axes = axes.flatten()\n",
        "#remove last plot\n",
        "axes.flat[-1].set_visible(False)\n",
        "\n",
        "object_bol = df.dtypes == 'object'\n",
        "for ax, catplot in zip(axes, df.dtypes[object_bol].index):\n",
        "    sns.countplot(x=catplot, data=df, ax=ax, color = 'skyblue')\n",
        "plt.tight_layout()  \n",
        "plt.show()"
      ],
      "execution_count": null,
      "outputs": [
        {
          "output_type": "display_data",
          "data": {
            "image/png": "[encoded data removed]",
            "text/plain": [
              "<Figure size 576x360 with 4 Axes>"
            ]
          },
          "metadata": {
            "tags": [],
            "needs_background": "light"
          }
        }
      ]
    },
    {
      "cell_type": "markdown",
      "metadata": {
        "id": "i_ZuDU06H5CO",
        "colab_type": "text"
      },
      "source": [
        "From this count plot, we can see\n",
        "- The worst color J and worst clarity l1 have less count.\n",
        "- But the best color D and best clarity IF are not the most count.\n",
        "- Color G and clarity SI1 have the most count."
      ]
    },
    {
      "cell_type": "markdown",
      "metadata": {
        "id": "hnyUKPg_DgP1",
        "colab_type": "text"
      },
      "source": [
        "Then we are going to see their relationship."
      ]
    },
    {
      "cell_type": "code",
      "metadata": {
        "id": "92rfxCo5Djp_",
        "colab_type": "code",
        "colab": {
          "base_uri": "https://localhost:8080/",
          "height": 493
        },
        "outputId": "f85ca3fc-2699-4ccc-d93d-0ef03c642f11"
      },
      "source": [
        "#relationship of categorical data \n",
        "\n",
        "fig, axes =plt.subplots(3,1, figsize=(7,10)) #, sharex=True\n",
        "axes = axes.flatten()\n",
        "axes.flat[0].set_visible(False)\n",
        "object_bol = df.dtypes == 'object'\n",
        "for ax, catplot in zip(axes, df.dtypes[object_bol].index):\n",
        "    sns.countplot(x=catplot,hue='cut', data=df, ax=ax)#, color='skyblue'\n",
        "plt.tight_layout()  \n",
        "plt.show()"
      ],
      "execution_count": null,
      "outputs": [
        {
          "output_type": "display_data",
          "data": {
            "image/png": "[encoded data removed]",
            "text/plain": [
              "<Figure size 504x720 with 3 Axes>"
            ]
          },
          "metadata": {
            "tags": [],
            "needs_background": "light"
          }
        }
      ]
    },
    {
      "cell_type": "markdown",
      "metadata": {
        "id": "FWmrOhiZZYR8",
        "colab_type": "text"
      },
      "source": [
        "Based on the histogram above, we can see that almost all color has the same order of the distribution which follows ideal, premium, very good, good, and fair by counts. This quite uniform distribution implies quite high entropy and this may not be useful for our further feature selection.\n",
        "\n",
        "\n",
        "Clarity is a bit different, from the left of the WS2, based on the height, almost all left side clarity type has the order of ideal, premium very good and fair. But on the right side, the order is mainly different.\n",
        "Simply speaking, the clarity has a more diverse distribution which brings a lower entropy which implies it can be a possible good feature for further modeling."
      ]
    },
    {
      "cell_type": "code",
      "metadata": {
        "id": "pporO7TWw4PN",
        "colab_type": "code",
        "colab": {
          "base_uri": "https://localhost:8080/",
          "height": 286
        },
        "outputId": "c0015092-4081-41ea-b186-5aaa64c56b53"
      },
      "source": [
        "##relationship of numerical data--- Correlation Map\n",
        "corr = df.corr()\n",
        "sns.heatmap(data=corr, square=True , annot=True, cbar=True)"
      ],
      "execution_count": null,
      "outputs": [
        {
          "output_type": "execute_result",
          "data": {
            "text/plain": [
              "<matplotlib.axes._subplots.AxesSubplot at 0x7f1066cb1470>"
            ]
          },
          "metadata": {
            "tags": []
          },
          "execution_count": 191
        },
        {
          "output_type": "display_data",
          "data": {
            "image/png": "[encoded data removed]",
            "text/plain": [
              "<Figure size 432x288 with 2 Axes>"
            ]
          },
          "metadata": {
            "tags": [],
            "needs_background": "light"
          }
        }
      ]
    },
    {
      "cell_type": "code",
      "metadata": {
        "id": "KCXqj2AQFb92",
        "colab_type": "code",
        "colab": {}
      },
      "source": [
        "#relationship of numerical data\n",
        "#sns.pairplot(data=df)"
      ],
      "execution_count": null,
      "outputs": []
    },
    {
      "cell_type": "markdown",
      "metadata": {
        "id": "NdObiqhBNL-z",
        "colab_type": "text"
      },
      "source": [
        "Based on this heatmap/correlation matrix, we can have these findings and insights.\n",
        "\n",
        "- Carat has quite a strong linear correlation with price,x,y, and z. It actually makes sense, since the size is related to the dimension of the diamond. Also, it is common that the larger size of diamonds has a higher price.\n",
        "\n",
        "\n",
        "\n",
        "- Table has also a quite strong linear correlation with x,y, and z. By definition, table is the term related to the dimension of the diamond, and it is also obvious that it has a correlation with these terms x,y, and z. \n",
        "\n"
      ]
    },
    {
      "cell_type": "markdown",
      "metadata": {
        "id": "F5TU-XWHmCZ6",
        "colab_type": "text"
      },
      "source": [
        "Since the colinearity of the dimension of the diamond. Through this diagram, we knew that there are some collinearities among x,y, and z. To deal with this fact, we may consider to covert these three features into a new feature- the volume of the diamond. We will do this step in data preparation part."
      ]
    },
    {
      "cell_type": "markdown",
      "metadata": {
        "id": "CJ25DMCagZue",
        "colab_type": "text"
      },
      "source": [
        "The we are going to see some details in the relationship of some features and response variable."
      ]
    },
    {
      "cell_type": "code",
      "metadata": {
        "id": "3QmYhqL2GKNy",
        "colab_type": "code",
        "colab": {
          "base_uri": "https://localhost:8080/",
          "height": 439
        },
        "outputId": "37ae0611-4cc8-4de1-c5aa-33122a2a82e8"
      },
      "source": [
        "# Cut vs Price\n",
        "sns.factorplot(x='cut', y='price', data=df, kind='box') #,aspect=2.5 \n",
        "#sns.catplot(x=\"cut\", y=\"price\", kind=\"box\", data=df);"
      ],
      "execution_count": null,
      "outputs": [
        {
          "output_type": "stream",
          "text": [
            "/usr/local/lib/python3.6/dist-packages/seaborn/categorical.py:3666: UserWarning: The `factorplot` function has been renamed to `catplot`. The original name will be removed in a future release. Please update your code. Note that the default `kind` in `factorplot` (`'point'`) has changed `'strip'` in `catplot`.\n",
            "  warnings.warn(msg)\n"
          ],
          "name": "stderr"
        },
        {
          "output_type": "execute_result",
          "data": {
            "text/plain": [
              "<seaborn.axisgrid.FacetGrid at 0x7f1068b874e0>"
            ]
          },
          "metadata": {
            "tags": []
          },
          "execution_count": 193
        },
        {
          "output_type": "display_data",
          "data": {
            "image/png": "[encoded data removed]",
            "text/plain": [
              "<Figure size 360x360 with 1 Axes>"
            ]
          },
          "metadata": {
            "tags": [],
            "needs_background": "light"
          }
        }
      ]
    },
    {
      "cell_type": "markdown",
      "metadata": {
        "id": "NDmh426iGTHR",
        "colab_type": "text"
      },
      "source": [
        "When we plot the cut by price plot, it is interesting to see that with the ideal cut, the median price of the ideal cut is still below all other parts. it may imply that cut is not the main factor affecting the price. ( Our assumption is that size, or we call carat, plays a more important role in the price."
      ]
    },
    {
      "cell_type": "code",
      "metadata": {
        "id": "nauriJtxsgjg",
        "colab_type": "code",
        "colab": {
          "base_uri": "https://localhost:8080/",
          "height": 296
        },
        "outputId": "c1b965b0-2e13-497f-c6f5-240fc2cb8c91"
      },
      "source": [
        "sns.scatterplot(x=\"carat\", y=\"price\",data=df) #kind=\"box\",   color = 'b',\n",
        "#sns.factorpslot(x=\"carat\", y=\"price\", kind=\"box\", color = 'b' ,data=df)"
      ],
      "execution_count": null,
      "outputs": [
        {
          "output_type": "execute_result",
          "data": {
            "text/plain": [
              "<matplotlib.axes._subplots.AxesSubplot at 0x7f1068c32f28>"
            ]
          },
          "metadata": {
            "tags": []
          },
          "execution_count": 194
        },
        {
          "output_type": "display_data",
          "data": {
            "image/png": "[encoded data removed]",
            "text/plain": [
              "<Figure size 432x288 with 1 Axes>"
            ]
          },
          "metadata": {
            "tags": [],
            "needs_background": "light"
          }
        }
      ]
    },
    {
      "cell_type": "markdown",
      "metadata": {
        "id": "h0Q0eKKhsnHg",
        "colab_type": "text"
      },
      "source": [
        "Although it is not required, through this graph, we can verify our assumption that price has a more strong correlation with carat instead of cut."
      ]
    },
    {
      "cell_type": "code",
      "metadata": {
        "id": "gWFbwbiRu7l7",
        "colab_type": "code",
        "colab": {
          "base_uri": "https://localhost:8080/",
          "height": 386
        },
        "outputId": "d753faa4-72e1-40f3-865e-caee6c5f0884"
      },
      "source": [
        "#cut vs carat\n",
        "sns.catplot(x=\"cut\", y=\"carat\", kind=\"box\", data=df)#,aspect=2.5 "
      ],
      "execution_count": null,
      "outputs": [
        {
          "output_type": "execute_result",
          "data": {
            "text/plain": [
              "<seaborn.axisgrid.FacetGrid at 0x7f10631f3a58>"
            ]
          },
          "metadata": {
            "tags": []
          },
          "execution_count": 195
        },
        {
          "output_type": "display_data",
          "data": {
            "image/png": "[encoded data removed]",
            "text/plain": [
              "<Figure size 360x360 with 1 Axes>"
            ]
          },
          "metadata": {
            "tags": [],
            "needs_background": "light"
          }
        }
      ]
    },
    {
      "cell_type": "markdown",
      "metadata": {
        "id": "nSXnwfAWvNr-",
        "colab_type": "text"
      },
      "source": [
        "Through this graph, we can tell that size of the diamond may be a good explanatory variable for predicting the cut.\n",
        "\n",
        "We can find that the overall ideal cut is dense within one carat, especially for 75% quantile, and it reached at reached exactly 1 carat. Another noticeable point is that the median carat of ideal cut is significantly below other features. Our assumption is that for the smaller size of the diamond, the company may want to cut it well for compensating its disadvantages and still make it a better selling point at the market."
      ]
    },
    {
      "cell_type": "code",
      "metadata": {
        "id": "Slc8zp5hG5DF",
        "colab_type": "code",
        "colab": {
          "base_uri": "https://localhost:8080/",
          "height": 282
        },
        "outputId": "42967354-8e50-44f6-ce36-40ca7f0b95ab"
      },
      "source": [
        "#kdeplot--- table\n",
        "sns.kdeplot(df['table'] ,shade=True , color='orange')"
      ],
      "execution_count": null,
      "outputs": [
        {
          "output_type": "execute_result",
          "data": {
            "text/plain": [
              "<matplotlib.axes._subplots.AxesSubplot at 0x7f10607476d8>"
            ]
          },
          "metadata": {
            "tags": []
          },
          "execution_count": 196
        },
        {
          "output_type": "display_data",
          "data": {
            "image/png": "[encoded data removed]",
            "text/plain": [
              "<Figure size 432x288 with 1 Axes>"
            ]
          },
          "metadata": {
            "tags": [],
            "needs_background": "light"
          }
        }
      ]
    },
    {
      "cell_type": "markdown",
      "metadata": {
        "id": "zIAWuU0o7bFm",
        "colab_type": "text"
      },
      "source": [
        "Table attribute has a nice normal distribution of density. It is a good sign since it is not a uniform distribution which will not provide much information. Then we plot another plot to see in detail. "
      ]
    },
    {
      "cell_type": "code",
      "metadata": {
        "id": "heZpSgD659uH",
        "colab_type": "code",
        "colab": {
          "base_uri": "https://localhost:8080/",
          "height": 386
        },
        "outputId": "8ba807c9-c966-4432-d76c-b0e05ffb2162"
      },
      "source": [
        "#cut vs table\n",
        "sns.catplot(x=\"cut\", y=\"table\", kind=\"box\", data=df)"
      ],
      "execution_count": null,
      "outputs": [
        {
          "output_type": "execute_result",
          "data": {
            "text/plain": [
              "<seaborn.axisgrid.FacetGrid at 0x7f1060edbcf8>"
            ]
          },
          "metadata": {
            "tags": []
          },
          "execution_count": 197
        },
        {
          "output_type": "display_data",
          "data": {
            "image/png": "[encoded data removed]",
            "text/plain": [
              "<Figure size 360x360 with 1 Axes>"
            ]
          },
          "metadata": {
            "tags": [],
            "needs_background": "light"
          }
        }
      ]
    },
    {
      "cell_type": "markdown",
      "metadata": {
        "id": "ItMesgVmiFOd",
        "colab_type": "text"
      },
      "source": [
        "Since we knew that table attribute is also correlated with the dimension of the diamond, Based on this cut vs table plot, it is noticeable for some cut(such as ideal and premium) have some patterns. The findings are as follows:\n",
        "\n",
        "- Ideal cut has a quite dense distribution between 52 and 60 with the lowest median around 56. \n",
        "- Premium cut has a quite unique distribution among 5 types. Premium cut has the highest median value of table with a bunch of outlier below its 25% quantile.\n",
        "\n",
        "- Good, Very Good, and Fair cut have a quite similar pattern. They all have the same median value, while the range sparse a bit in the order of very good, good, and fair cut. In addition, Fair cut has a bunch of higher outliers for above 80 in table.\n",
        "\n",
        "- Both ideal and very good cut has a pretty low outliers\n",
        "\n",
        "\n",
        "When we combined this graph with the previous matrix correlation which reveals some correlation within attributes, we considered this attribute to be a possible good explanatory variable for predicting the cut."
      ]
    },
    {
      "cell_type": "code",
      "metadata": {
        "id": "Adh99ZANBA9q",
        "colab_type": "code",
        "colab": {
          "base_uri": "https://localhost:8080/",
          "height": 282
        },
        "outputId": "eb9c51b1-a054-4220-f3d7-d7491b3f6641"
      },
      "source": [
        "#kdeplot--- depth\n",
        "sns.kdeplot(df['depth'] ,shade=True , color='orange')"
      ],
      "execution_count": null,
      "outputs": [
        {
          "output_type": "execute_result",
          "data": {
            "text/plain": [
              "<matplotlib.axes._subplots.AxesSubplot at 0x7f1060650b70>"
            ]
          },
          "metadata": {
            "tags": []
          },
          "execution_count": 198
        },
        {
          "output_type": "display_data",
          "data": {
            "image/png": "[encoded data removed]",
            "text/plain": [
              "<Figure size 432x288 with 1 Axes>"
            ]
          },
          "metadata": {
            "tags": [],
            "needs_background": "light"
          }
        }
      ]
    },
    {
      "cell_type": "markdown",
      "metadata": {
        "id": "-nbPgJNJCa_p",
        "colab_type": "text"
      },
      "source": [
        "We can do the same step for 'depth'. It's also a nice normal distribution of density. The maximum value is around 60 to 62."
      ]
    },
    {
      "cell_type": "code",
      "metadata": {
        "id": "sv8vluNyBat9",
        "colab_type": "code",
        "colab": {
          "base_uri": "https://localhost:8080/",
          "height": 386
        },
        "outputId": "81885ae2-fbd5-4f06-cde9-76ee42961dec"
      },
      "source": [
        "#cut vs depth\n",
        "sns.catplot(x=\"cut\", y=\"depth\", kind=\"box\", data=df)"
      ],
      "execution_count": null,
      "outputs": [
        {
          "output_type": "execute_result",
          "data": {
            "text/plain": [
              "<seaborn.axisgrid.FacetGrid at 0x7f1060ddfe80>"
            ]
          },
          "metadata": {
            "tags": []
          },
          "execution_count": 199
        },
        {
          "output_type": "display_data",
          "data": {
            "image/png": "[encoded data removed]",
            "text/plain": [
              "<Figure size 360x360 with 1 Axes>"
            ]
          },
          "metadata": {
            "tags": [],
            "needs_background": "light"
          }
        }
      ]
    },
    {
      "cell_type": "markdown",
      "metadata": {
        "id": "NzH8PZvwCi-u",
        "colab_type": "text"
      },
      "source": [
        "Depth attribute is also correlated with the dimension of the diamond. From this catplot we can see that fair cut has the highest median and lots of outliers. Meanwhile ideal cut also has lots of outliers. There are very few outliers in premium cut and very good cut. Most cut's median value is between 60 to 65.\n",
        "\n",
        "Combined with previous plots, we also considered this attribute to be a possible good explanatory variable for predicting the cut. "
      ]
    },
    {
      "cell_type": "code",
      "metadata": {
        "id": "AGxH8zRmG7Gd",
        "colab_type": "code",
        "colab": {
          "base_uri": "https://localhost:8080/",
          "height": 282
        },
        "outputId": "ae966ecd-144f-4d28-e80e-20db767f51c9"
      },
      "source": [
        "#kdeplot-- xyz\n",
        "sns.kdeplot(df['x'] ,shade=True , color='r' )\n",
        "sns.kdeplot(df['y'] , shade=True , color='g' )\n",
        "sns.kdeplot(df['z'] , shade= True , color='b')\n",
        "plt.xlim(2,10)"
      ],
      "execution_count": null,
      "outputs": [
        {
          "output_type": "execute_result",
          "data": {
            "text/plain": [
              "(2.0, 10.0)"
            ]
          },
          "metadata": {
            "tags": []
          },
          "execution_count": 200
        },
        {
          "output_type": "display_data",
          "data": {
            "image/png": "[encoded data removed]",
            "text/plain": [
              "<Figure size 432x288 with 1 Axes>"
            ]
          },
          "metadata": {
            "tags": [],
            "needs_background": "light"
          }
        }
      ]
    },
    {
      "cell_type": "markdown",
      "metadata": {
        "id": "d7fZoGvGHQ1a",
        "colab_type": "text"
      },
      "source": [
        "Through this plot of x,y, and z distribution, we can tell that x and y share a very similar distribution. It makes sense, since x and y axes, whose combination can represent the surface size of the diamond, can be regarded as a rough circle or square. z has a different distribution, it also reveals the shape of the common diamond in this data set is not a cubic or other round shape. So if we want to calculate the volume of the diamond based on x,y, and z. We may regard this as a clone shape of the diamond or a rectangle. \n",
        "Also, when we check the x and y value, there are also possibilities that there is a rectangle shape as the base.\n",
        "So the final volume of the diamond shape should be evaluated based on the rectangular pyramid or cone. \n",
        "By combining the belief and the actual value of the x,y, and z, we will later use a revised rectangular pyramid to evaluate the value. \n",
        "\n",
        "Equation will be $$  \\frac{1}{3} a*b*h $$ in our case, it is $$  V= \\frac{1}{3} x*y*z $$ \n",
        "\n",
        "Although it is not a perfect way of estimating the volume, it should give us a close approximation.\n",
        "\n",
        "\n",
        "Also, for safe, since carat also reveals the same property of the diamond-size, we will also run another feature selections which take away volume term."
      ]
    },
    {
      "cell_type": "markdown",
      "metadata": {
        "id": "9iElGRrRGxSz",
        "colab_type": "text"
      },
      "source": [
        "## Data Preparation & Prepped Data Review\n"
      ]
    },
    {
      "cell_type": "markdown",
      "metadata": {
        "id": "x055iwPXZ2Dz",
        "colab_type": "text"
      },
      "source": [
        "In this section, we will clear up data, moved out some meaningless values such as 0 in the dimensions, and also creat the new feature we mentioned before."
      ]
    },
    {
      "cell_type": "code",
      "metadata": {
        "id": "BKJBDwJSHVC8",
        "colab_type": "code",
        "colab": {
          "base_uri": "https://localhost:8080/",
          "height": 639
        },
        "outputId": "14800b90-9288-4976-a4b5-2cf724f8af0a"
      },
      "source": [
        "#check and find the rows\n",
        "df.loc[(df['x']==0) | (df['y']==0) | (df['z']==0)]"
      ],
      "execution_count": null,
      "outputs": [
        {
          "output_type": "execute_result",
          "data": {
            "text/html": [
              "<div>\n",
              "<style scoped>\n",
              "    .dataframe tbody tr th:only-of-type {\n",
              "        vertical-align: middle;\n",
              "    }\n",
              "\n",
              "    .dataframe tbody tr th {\n",
              "        vertical-align: top;\n",
              "    }\n",
              "\n",
              "    .dataframe thead th {\n",
              "        text-align: right;\n",
              "    }\n",
              "</style>\n",
              "<table border=\"1\" class=\"dataframe\">\n",
              "  <thead>\n",
              "    <tr style=\"text-align: right;\">\n",
              "      <th></th>\n",
              "      <th>carat</th>\n",
              "      <th>cut</th>\n",
              "      <th>color</th>\n",
              "      <th>clarity</th>\n",
              "      <th>depth</th>\n",
              "      <th>table</th>\n",
              "      <th>price</th>\n",
              "      <th>x</th>\n",
              "      <th>y</th>\n",
              "      <th>z</th>\n",
              "    </tr>\n",
              "  </thead>\n",
              "  <tbody>\n",
              "    <tr>\n",
              "      <th>2207</th>\n",
              "      <td>1.00</td>\n",
              "      <td>Premium</td>\n",
              "      <td>G</td>\n",
              "      <td>SI2</td>\n",
              "      <td>59.1</td>\n",
              "      <td>59.0</td>\n",
              "      <td>3142</td>\n",
              "      <td>6.55</td>\n",
              "      <td>6.48</td>\n",
              "      <td>0.0</td>\n",
              "    </tr>\n",
              "    <tr>\n",
              "      <th>2314</th>\n",
              "      <td>1.01</td>\n",
              "      <td>Premium</td>\n",
              "      <td>H</td>\n",
              "      <td>I1</td>\n",
              "      <td>58.1</td>\n",
              "      <td>59.0</td>\n",
              "      <td>3167</td>\n",
              "      <td>6.66</td>\n",
              "      <td>6.60</td>\n",
              "      <td>0.0</td>\n",
              "    </tr>\n",
              "    <tr>\n",
              "      <th>4791</th>\n",
              "      <td>1.10</td>\n",
              "      <td>Premium</td>\n",
              "      <td>G</td>\n",
              "      <td>SI2</td>\n",
              "      <td>63.0</td>\n",
              "      <td>59.0</td>\n",
              "      <td>3696</td>\n",
              "      <td>6.50</td>\n",
              "      <td>6.47</td>\n",
              "      <td>0.0</td>\n",
              "    </tr>\n",
              "    <tr>\n",
              "      <th>5471</th>\n",
              "      <td>1.01</td>\n",
              "      <td>Premium</td>\n",
              "      <td>F</td>\n",
              "      <td>SI2</td>\n",
              "      <td>59.2</td>\n",
              "      <td>58.0</td>\n",
              "      <td>3837</td>\n",
              "      <td>6.50</td>\n",
              "      <td>6.47</td>\n",
              "      <td>0.0</td>\n",
              "    </tr>\n",
              "    <tr>\n",
              "      <th>10167</th>\n",
              "      <td>1.50</td>\n",
              "      <td>Good</td>\n",
              "      <td>G</td>\n",
              "      <td>I1</td>\n",
              "      <td>64.0</td>\n",
              "      <td>61.0</td>\n",
              "      <td>4731</td>\n",
              "      <td>7.15</td>\n",
              "      <td>7.04</td>\n",
              "      <td>0.0</td>\n",
              "    </tr>\n",
              "    <tr>\n",
              "      <th>11182</th>\n",
              "      <td>1.07</td>\n",
              "      <td>Ideal</td>\n",
              "      <td>F</td>\n",
              "      <td>SI2</td>\n",
              "      <td>61.6</td>\n",
              "      <td>56.0</td>\n",
              "      <td>4954</td>\n",
              "      <td>0.00</td>\n",
              "      <td>6.62</td>\n",
              "      <td>0.0</td>\n",
              "    </tr>\n",
              "    <tr>\n",
              "      <th>11963</th>\n",
              "      <td>1.00</td>\n",
              "      <td>Very Good</td>\n",
              "      <td>H</td>\n",
              "      <td>VS2</td>\n",
              "      <td>63.3</td>\n",
              "      <td>53.0</td>\n",
              "      <td>5139</td>\n",
              "      <td>0.00</td>\n",
              "      <td>0.00</td>\n",
              "      <td>0.0</td>\n",
              "    </tr>\n",
              "    <tr>\n",
              "      <th>13601</th>\n",
              "      <td>1.15</td>\n",
              "      <td>Ideal</td>\n",
              "      <td>G</td>\n",
              "      <td>VS2</td>\n",
              "      <td>59.2</td>\n",
              "      <td>56.0</td>\n",
              "      <td>5564</td>\n",
              "      <td>6.88</td>\n",
              "      <td>6.83</td>\n",
              "      <td>0.0</td>\n",
              "    </tr>\n",
              "    <tr>\n",
              "      <th>15951</th>\n",
              "      <td>1.14</td>\n",
              "      <td>Fair</td>\n",
              "      <td>G</td>\n",
              "      <td>VS1</td>\n",
              "      <td>57.5</td>\n",
              "      <td>67.0</td>\n",
              "      <td>6381</td>\n",
              "      <td>0.00</td>\n",
              "      <td>0.00</td>\n",
              "      <td>0.0</td>\n",
              "    </tr>\n",
              "    <tr>\n",
              "      <th>24394</th>\n",
              "      <td>2.18</td>\n",
              "      <td>Premium</td>\n",
              "      <td>H</td>\n",
              "      <td>SI2</td>\n",
              "      <td>59.4</td>\n",
              "      <td>61.0</td>\n",
              "      <td>12631</td>\n",
              "      <td>8.49</td>\n",
              "      <td>8.45</td>\n",
              "      <td>0.0</td>\n",
              "    </tr>\n",
              "    <tr>\n",
              "      <th>24520</th>\n",
              "      <td>1.56</td>\n",
              "      <td>Ideal</td>\n",
              "      <td>G</td>\n",
              "      <td>VS2</td>\n",
              "      <td>62.2</td>\n",
              "      <td>54.0</td>\n",
              "      <td>12800</td>\n",
              "      <td>0.00</td>\n",
              "      <td>0.00</td>\n",
              "      <td>0.0</td>\n",
              "    </tr>\n",
              "    <tr>\n",
              "      <th>26123</th>\n",
              "      <td>2.25</td>\n",
              "      <td>Premium</td>\n",
              "      <td>I</td>\n",
              "      <td>SI1</td>\n",
              "      <td>61.3</td>\n",
              "      <td>58.0</td>\n",
              "      <td>15397</td>\n",
              "      <td>8.52</td>\n",
              "      <td>8.42</td>\n",
              "      <td>0.0</td>\n",
              "    </tr>\n",
              "    <tr>\n",
              "      <th>26243</th>\n",
              "      <td>1.20</td>\n",
              "      <td>Premium</td>\n",
              "      <td>D</td>\n",
              "      <td>VVS1</td>\n",
              "      <td>62.1</td>\n",
              "      <td>59.0</td>\n",
              "      <td>15686</td>\n",
              "      <td>0.00</td>\n",
              "      <td>0.00</td>\n",
              "      <td>0.0</td>\n",
              "    </tr>\n",
              "    <tr>\n",
              "      <th>27112</th>\n",
              "      <td>2.20</td>\n",
              "      <td>Premium</td>\n",
              "      <td>H</td>\n",
              "      <td>SI1</td>\n",
              "      <td>61.2</td>\n",
              "      <td>59.0</td>\n",
              "      <td>17265</td>\n",
              "      <td>8.42</td>\n",
              "      <td>8.37</td>\n",
              "      <td>0.0</td>\n",
              "    </tr>\n",
              "    <tr>\n",
              "      <th>27429</th>\n",
              "      <td>2.25</td>\n",
              "      <td>Premium</td>\n",
              "      <td>H</td>\n",
              "      <td>SI2</td>\n",
              "      <td>62.8</td>\n",
              "      <td>59.0</td>\n",
              "      <td>18034</td>\n",
              "      <td>0.00</td>\n",
              "      <td>0.00</td>\n",
              "      <td>0.0</td>\n",
              "    </tr>\n",
              "    <tr>\n",
              "      <th>27503</th>\n",
              "      <td>2.02</td>\n",
              "      <td>Premium</td>\n",
              "      <td>H</td>\n",
              "      <td>VS2</td>\n",
              "      <td>62.7</td>\n",
              "      <td>53.0</td>\n",
              "      <td>18207</td>\n",
              "      <td>8.02</td>\n",
              "      <td>7.95</td>\n",
              "      <td>0.0</td>\n",
              "    </tr>\n",
              "    <tr>\n",
              "      <th>27739</th>\n",
              "      <td>2.80</td>\n",
              "      <td>Good</td>\n",
              "      <td>G</td>\n",
              "      <td>SI2</td>\n",
              "      <td>63.8</td>\n",
              "      <td>58.0</td>\n",
              "      <td>18788</td>\n",
              "      <td>8.90</td>\n",
              "      <td>8.85</td>\n",
              "      <td>0.0</td>\n",
              "    </tr>\n",
              "    <tr>\n",
              "      <th>49556</th>\n",
              "      <td>0.71</td>\n",
              "      <td>Good</td>\n",
              "      <td>F</td>\n",
              "      <td>SI2</td>\n",
              "      <td>64.1</td>\n",
              "      <td>60.0</td>\n",
              "      <td>2130</td>\n",
              "      <td>0.00</td>\n",
              "      <td>0.00</td>\n",
              "      <td>0.0</td>\n",
              "    </tr>\n",
              "    <tr>\n",
              "      <th>49557</th>\n",
              "      <td>0.71</td>\n",
              "      <td>Good</td>\n",
              "      <td>F</td>\n",
              "      <td>SI2</td>\n",
              "      <td>64.1</td>\n",
              "      <td>60.0</td>\n",
              "      <td>2130</td>\n",
              "      <td>0.00</td>\n",
              "      <td>0.00</td>\n",
              "      <td>0.0</td>\n",
              "    </tr>\n",
              "    <tr>\n",
              "      <th>51506</th>\n",
              "      <td>1.12</td>\n",
              "      <td>Premium</td>\n",
              "      <td>G</td>\n",
              "      <td>I1</td>\n",
              "      <td>60.4</td>\n",
              "      <td>59.0</td>\n",
              "      <td>2383</td>\n",
              "      <td>6.71</td>\n",
              "      <td>6.67</td>\n",
              "      <td>0.0</td>\n",
              "    </tr>\n",
              "  </tbody>\n",
              "</table>\n",
              "</div>"
            ],
            "text/plain": [
              "       carat        cut color clarity  depth  table  price     x     y    z\n",
              "2207    1.00    Premium     G     SI2   59.1   59.0   3142  6.55  6.48  0.0\n",
              "2314    1.01    Premium     H      I1   58.1   59.0   3167  6.66  6.60  0.0\n",
              "4791    1.10    Premium     G     SI2   63.0   59.0   3696  6.50  6.47  0.0\n",
              "5471    1.01    Premium     F     SI2   59.2   58.0   3837  6.50  6.47  0.0\n",
              "10167   1.50       Good     G      I1   64.0   61.0   4731  7.15  7.04  0.0\n",
              "11182   1.07      Ideal     F     SI2   61.6   56.0   4954  0.00  6.62  0.0\n",
              "11963   1.00  Very Good     H     VS2   63.3   53.0   5139  0.00  0.00  0.0\n",
              "13601   1.15      Ideal     G     VS2   59.2   56.0   5564  6.88  6.83  0.0\n",
              "15951   1.14       Fair     G     VS1   57.5   67.0   6381  0.00  0.00  0.0\n",
              "24394   2.18    Premium     H     SI2   59.4   61.0  12631  8.49  8.45  0.0\n",
              "24520   1.56      Ideal     G     VS2   62.2   54.0  12800  0.00  0.00  0.0\n",
              "26123   2.25    Premium     I     SI1   61.3   58.0  15397  8.52  8.42  0.0\n",
              "26243   1.20    Premium     D    VVS1   62.1   59.0  15686  0.00  0.00  0.0\n",
              "27112   2.20    Premium     H     SI1   61.2   59.0  17265  8.42  8.37  0.0\n",
              "27429   2.25    Premium     H     SI2   62.8   59.0  18034  0.00  0.00  0.0\n",
              "27503   2.02    Premium     H     VS2   62.7   53.0  18207  8.02  7.95  0.0\n",
              "27739   2.80       Good     G     SI2   63.8   58.0  18788  8.90  8.85  0.0\n",
              "49556   0.71       Good     F     SI2   64.1   60.0   2130  0.00  0.00  0.0\n",
              "49557   0.71       Good     F     SI2   64.1   60.0   2130  0.00  0.00  0.0\n",
              "51506   1.12    Premium     G      I1   60.4   59.0   2383  6.71  6.67  0.0"
            ]
          },
          "metadata": {
            "tags": []
          },
          "execution_count": 201
        }
      ]
    },
    {
      "cell_type": "code",
      "metadata": {
        "id": "cDHHG-Z7HWgw",
        "colab_type": "code",
        "colab": {
          "base_uri": "https://localhost:8080/",
          "height": 34
        },
        "outputId": "f4719177-8e45-4c8a-cff7-2752b3642a0f"
      },
      "source": [
        "#print the length\n",
        "len(df[(df['x']==0) | (df['y']==0) | (df['z']==0)])"
      ],
      "execution_count": null,
      "outputs": [
        {
          "output_type": "execute_result",
          "data": {
            "text/plain": [
              "20"
            ]
          },
          "metadata": {
            "tags": []
          },
          "execution_count": 202
        }
      ]
    },
    {
      "cell_type": "markdown",
      "metadata": {
        "id": "lwHwHiChIQdS",
        "colab_type": "text"
      },
      "source": [
        "We can see there are 20 rows with Dimensions '0'.\n",
        "We'll Drop them instead of filling them with any of Mean or Median."
      ]
    },
    {
      "cell_type": "code",
      "metadata": {
        "id": "M_rsP6n3HYHA",
        "colab_type": "code",
        "colab": {
          "base_uri": "https://localhost:8080/",
          "height": 47
        },
        "outputId": "7836d08e-bc4f-43c1-b58f-8d6a75c32cd8"
      },
      "source": [
        "# drop the meanless rows\n",
        "df = df[(df[['x','y','z']] != 0).all(axis=1)]\n",
        "# confirm\n",
        "df.loc[(df['x']==0) | (df['y']==0) | (df['z']==0)]"
      ],
      "execution_count": null,
      "outputs": [
        {
          "output_type": "execute_result",
          "data": {
            "text/html": [
              "<div>\n",
              "<style scoped>\n",
              "    .dataframe tbody tr th:only-of-type {\n",
              "        vertical-align: middle;\n",
              "    }\n",
              "\n",
              "    .dataframe tbody tr th {\n",
              "        vertical-align: top;\n",
              "    }\n",
              "\n",
              "    .dataframe thead th {\n",
              "        text-align: right;\n",
              "    }\n",
              "</style>\n",
              "<table border=\"1\" class=\"dataframe\">\n",
              "  <thead>\n",
              "    <tr style=\"text-align: right;\">\n",
              "      <th></th>\n",
              "      <th>carat</th>\n",
              "      <th>cut</th>\n",
              "      <th>color</th>\n",
              "      <th>clarity</th>\n",
              "      <th>depth</th>\n",
              "      <th>table</th>\n",
              "      <th>price</th>\n",
              "      <th>x</th>\n",
              "      <th>y</th>\n",
              "      <th>z</th>\n",
              "    </tr>\n",
              "  </thead>\n",
              "  <tbody>\n",
              "  </tbody>\n",
              "</table>\n",
              "</div>"
            ],
            "text/plain": [
              "Empty DataFrame\n",
              "Columns: [carat, cut, color, clarity, depth, table, price, x, y, z]\n",
              "Index: []"
            ]
          },
          "metadata": {
            "tags": []
          },
          "execution_count": 203
        }
      ]
    },
    {
      "cell_type": "markdown",
      "metadata": {
        "id": "zTd44q_6Hbvg",
        "colab_type": "text"
      },
      "source": [
        "Now we moved the meaningless value. We can do re-run the histogram to see the new distribution."
      ]
    },
    {
      "cell_type": "code",
      "metadata": {
        "id": "75G7J3CsHdMo",
        "colab_type": "code",
        "colab": {
          "base_uri": "https://localhost:8080/",
          "height": 667
        },
        "outputId": "4abdd7f8-cbdf-4074-97fd-4d11e8b82b50"
      },
      "source": [
        "#plot histogram\n",
        "df.hist(figsize=(10,8), color='skyblue')"
      ],
      "execution_count": null,
      "outputs": [
        {
          "output_type": "execute_result",
          "data": {
            "text/plain": [
              "array([[<matplotlib.axes._subplots.AxesSubplot object at 0x7f1060c93320>,\n",
              "        <matplotlib.axes._subplots.AxesSubplot object at 0x7f1060c7de48>,\n",
              "        <matplotlib.axes._subplots.AxesSubplot object at 0x7f1060c3afd0>],\n",
              "       [<matplotlib.axes._subplots.AxesSubplot object at 0x7f1060bf8358>,\n",
              "        <matplotlib.axes._subplots.AxesSubplot object at 0x7f1060ba96d8>,\n",
              "        <matplotlib.axes._subplots.AxesSubplot object at 0x7f1060b59a58>],\n",
              "       [<matplotlib.axes._subplots.AxesSubplot object at 0x7f1060b8ddd8>,\n",
              "        <matplotlib.axes._subplots.AxesSubplot object at 0x7f1060b4c160>,\n",
              "        <matplotlib.axes._subplots.AxesSubplot object at 0x7f1060b4c1d0>]],\n",
              "      dtype=object)"
            ]
          },
          "metadata": {
            "tags": []
          },
          "execution_count": 204
        },
        {
          "output_type": "display_data",
          "data": {
            "image/png": "[encoded data removed]",
            "text/plain": [
              "<Figure size 720x576 with 9 Axes>"
            ]
          },
          "metadata": {
            "tags": [],
            "needs_background": "light"
          }
        }
      ]
    },
    {
      "cell_type": "markdown",
      "metadata": {
        "id": "sbX9bEzkHfw9",
        "colab_type": "text"
      },
      "source": [
        "Now we can see compared graph with before. The histogram does not really change much, the reason can be contributed to the fact that these invalid values are negligible compared with the whole data size. "
      ]
    },
    {
      "cell_type": "markdown",
      "metadata": {
        "id": "RhW0U0qIQ-Y4",
        "colab_type": "text"
      },
      "source": [
        "As we mentioned before, due to the nature of some collinearity among x,y, and z. We used our domain knowledge along with the EDA analysis to create a new dimension- Volume. The equation was mentioned in EDA."
      ]
    },
    {
      "cell_type": "code",
      "metadata": {
        "id": "XvFeS4hNHf-P",
        "colab_type": "code",
        "colab": {
          "base_uri": "https://localhost:8080/",
          "height": 296
        },
        "outputId": "6511bc07-e675-4b6a-f696-e5c96714383f"
      },
      "source": [
        "# Create New Feature 'Volume'\n",
        "df['volume'] = 1/3*df['x']*df['y']*df['z']\n",
        "df.head()"
      ],
      "execution_count": null,
      "outputs": [
        {
          "output_type": "stream",
          "text": [
            "/usr/local/lib/python3.6/dist-packages/ipykernel_launcher.py:2: SettingWithCopyWarning: \n",
            "A value is trying to be set on a copy of a slice from a DataFrame.\n",
            "Try using .loc[row_indexer,col_indexer] = value instead\n",
            "\n",
            "See the caveats in the documentation: https://pandas.pydata.org/pandas-docs/stable/user_guide/indexing.html#returning-a-view-versus-a-copy\n",
            "  \n"
          ],
          "name": "stderr"
        },
        {
          "output_type": "execute_result",
          "data": {
            "text/html": [
              "<div>\n",
              "<style scoped>\n",
              "    .dataframe tbody tr th:only-of-type {\n",
              "        vertical-align: middle;\n",
              "    }\n",
              "\n",
              "    .dataframe tbody tr th {\n",
              "        vertical-align: top;\n",
              "    }\n",
              "\n",
              "    .dataframe thead th {\n",
              "        text-align: right;\n",
              "    }\n",
              "</style>\n",
              "<table border=\"1\" class=\"dataframe\">\n",
              "  <thead>\n",
              "    <tr style=\"text-align: right;\">\n",
              "      <th></th>\n",
              "      <th>carat</th>\n",
              "      <th>cut</th>\n",
              "      <th>color</th>\n",
              "      <th>clarity</th>\n",
              "      <th>depth</th>\n",
              "      <th>table</th>\n",
              "      <th>price</th>\n",
              "      <th>x</th>\n",
              "      <th>y</th>\n",
              "      <th>z</th>\n",
              "      <th>volume</th>\n",
              "    </tr>\n",
              "  </thead>\n",
              "  <tbody>\n",
              "    <tr>\n",
              "      <th>0</th>\n",
              "      <td>0.23</td>\n",
              "      <td>Ideal</td>\n",
              "      <td>E</td>\n",
              "      <td>SI2</td>\n",
              "      <td>61.5</td>\n",
              "      <td>55.0</td>\n",
              "      <td>326</td>\n",
              "      <td>3.95</td>\n",
              "      <td>3.98</td>\n",
              "      <td>2.43</td>\n",
              "      <td>12.734010</td>\n",
              "    </tr>\n",
              "    <tr>\n",
              "      <th>1</th>\n",
              "      <td>0.21</td>\n",
              "      <td>Premium</td>\n",
              "      <td>E</td>\n",
              "      <td>SI1</td>\n",
              "      <td>59.8</td>\n",
              "      <td>61.0</td>\n",
              "      <td>326</td>\n",
              "      <td>3.89</td>\n",
              "      <td>3.84</td>\n",
              "      <td>2.31</td>\n",
              "      <td>11.501952</td>\n",
              "    </tr>\n",
              "    <tr>\n",
              "      <th>2</th>\n",
              "      <td>0.23</td>\n",
              "      <td>Good</td>\n",
              "      <td>E</td>\n",
              "      <td>VS1</td>\n",
              "      <td>56.9</td>\n",
              "      <td>65.0</td>\n",
              "      <td>327</td>\n",
              "      <td>4.05</td>\n",
              "      <td>4.07</td>\n",
              "      <td>2.31</td>\n",
              "      <td>12.692295</td>\n",
              "    </tr>\n",
              "    <tr>\n",
              "      <th>3</th>\n",
              "      <td>0.29</td>\n",
              "      <td>Premium</td>\n",
              "      <td>I</td>\n",
              "      <td>VS2</td>\n",
              "      <td>62.4</td>\n",
              "      <td>58.0</td>\n",
              "      <td>334</td>\n",
              "      <td>4.20</td>\n",
              "      <td>4.23</td>\n",
              "      <td>2.63</td>\n",
              "      <td>15.574860</td>\n",
              "    </tr>\n",
              "    <tr>\n",
              "      <th>4</th>\n",
              "      <td>0.31</td>\n",
              "      <td>Good</td>\n",
              "      <td>J</td>\n",
              "      <td>SI2</td>\n",
              "      <td>63.3</td>\n",
              "      <td>58.0</td>\n",
              "      <td>335</td>\n",
              "      <td>4.34</td>\n",
              "      <td>4.35</td>\n",
              "      <td>2.75</td>\n",
              "      <td>17.305750</td>\n",
              "    </tr>\n",
              "  </tbody>\n",
              "</table>\n",
              "</div>"
            ],
            "text/plain": [
              "   carat      cut color clarity  depth  ...  price     x     y     z     volume\n",
              "0   0.23    Ideal     E     SI2   61.5  ...    326  3.95  3.98  2.43  12.734010\n",
              "1   0.21  Premium     E     SI1   59.8  ...    326  3.89  3.84  2.31  11.501952\n",
              "2   0.23     Good     E     VS1   56.9  ...    327  4.05  4.07  2.31  12.692295\n",
              "3   0.29  Premium     I     VS2   62.4  ...    334  4.20  4.23  2.63  15.574860\n",
              "4   0.31     Good     J     SI2   63.3  ...    335  4.34  4.35  2.75  17.305750\n",
              "\n",
              "[5 rows x 11 columns]"
            ]
          },
          "metadata": {
            "tags": []
          },
          "execution_count": 205
        }
      ]
    },
    {
      "cell_type": "code",
      "metadata": {
        "id": "EZE4KrKEHiun",
        "colab_type": "code",
        "colab": {
          "base_uri": "https://localhost:8080/",
          "height": 279
        },
        "outputId": "5c9c0d6b-9235-44b3-9971-fce69efda3fb"
      },
      "source": [
        "#drop\n",
        "df.drop(['x','y','z'], axis=1, inplace= True)\n",
        "df.head()"
      ],
      "execution_count": null,
      "outputs": [
        {
          "output_type": "stream",
          "text": [
            "/usr/local/lib/python3.6/dist-packages/pandas/core/frame.py:3997: SettingWithCopyWarning: \n",
            "A value is trying to be set on a copy of a slice from a DataFrame\n",
            "\n",
            "See the caveats in the documentation: https://pandas.pydata.org/pandas-docs/stable/user_guide/indexing.html#returning-a-view-versus-a-copy\n",
            "  errors=errors,\n"
          ],
          "name": "stderr"
        },
        {
          "output_type": "execute_result",
          "data": {
            "text/html": [
              "<div>\n",
              "<style scoped>\n",
              "    .dataframe tbody tr th:only-of-type {\n",
              "        vertical-align: middle;\n",
              "    }\n",
              "\n",
              "    .dataframe tbody tr th {\n",
              "        vertical-align: top;\n",
              "    }\n",
              "\n",
              "    .dataframe thead th {\n",
              "        text-align: right;\n",
              "    }\n",
              "</style>\n",
              "<table border=\"1\" class=\"dataframe\">\n",
              "  <thead>\n",
              "    <tr style=\"text-align: right;\">\n",
              "      <th></th>\n",
              "      <th>carat</th>\n",
              "      <th>cut</th>\n",
              "      <th>color</th>\n",
              "      <th>clarity</th>\n",
              "      <th>depth</th>\n",
              "      <th>table</th>\n",
              "      <th>price</th>\n",
              "      <th>volume</th>\n",
              "    </tr>\n",
              "  </thead>\n",
              "  <tbody>\n",
              "    <tr>\n",
              "      <th>0</th>\n",
              "      <td>0.23</td>\n",
              "      <td>Ideal</td>\n",
              "      <td>E</td>\n",
              "      <td>SI2</td>\n",
              "      <td>61.5</td>\n",
              "      <td>55.0</td>\n",
              "      <td>326</td>\n",
              "      <td>12.734010</td>\n",
              "    </tr>\n",
              "    <tr>\n",
              "      <th>1</th>\n",
              "      <td>0.21</td>\n",
              "      <td>Premium</td>\n",
              "      <td>E</td>\n",
              "      <td>SI1</td>\n",
              "      <td>59.8</td>\n",
              "      <td>61.0</td>\n",
              "      <td>326</td>\n",
              "      <td>11.501952</td>\n",
              "    </tr>\n",
              "    <tr>\n",
              "      <th>2</th>\n",
              "      <td>0.23</td>\n",
              "      <td>Good</td>\n",
              "      <td>E</td>\n",
              "      <td>VS1</td>\n",
              "      <td>56.9</td>\n",
              "      <td>65.0</td>\n",
              "      <td>327</td>\n",
              "      <td>12.692295</td>\n",
              "    </tr>\n",
              "    <tr>\n",
              "      <th>3</th>\n",
              "      <td>0.29</td>\n",
              "      <td>Premium</td>\n",
              "      <td>I</td>\n",
              "      <td>VS2</td>\n",
              "      <td>62.4</td>\n",
              "      <td>58.0</td>\n",
              "      <td>334</td>\n",
              "      <td>15.574860</td>\n",
              "    </tr>\n",
              "    <tr>\n",
              "      <th>4</th>\n",
              "      <td>0.31</td>\n",
              "      <td>Good</td>\n",
              "      <td>J</td>\n",
              "      <td>SI2</td>\n",
              "      <td>63.3</td>\n",
              "      <td>58.0</td>\n",
              "      <td>335</td>\n",
              "      <td>17.305750</td>\n",
              "    </tr>\n",
              "  </tbody>\n",
              "</table>\n",
              "</div>"
            ],
            "text/plain": [
              "   carat      cut color clarity  depth  table  price     volume\n",
              "0   0.23    Ideal     E     SI2   61.5   55.0    326  12.734010\n",
              "1   0.21  Premium     E     SI1   59.8   61.0    326  11.501952\n",
              "2   0.23     Good     E     VS1   56.9   65.0    327  12.692295\n",
              "3   0.29  Premium     I     VS2   62.4   58.0    334  15.574860\n",
              "4   0.31     Good     J     SI2   63.3   58.0    335  17.305750"
            ]
          },
          "metadata": {
            "tags": []
          },
          "execution_count": 206
        }
      ]
    },
    {
      "cell_type": "markdown",
      "metadata": {
        "id": "09C_MPgti1Mj",
        "colab_type": "text"
      },
      "source": [
        "Now we moved the xyz features. We can do re-run the EDA to see the new feature--volume."
      ]
    },
    {
      "cell_type": "code",
      "metadata": {
        "id": "QWHIfJSQHlP7",
        "colab_type": "code",
        "colab": {
          "base_uri": "https://localhost:8080/",
          "height": 282
        },
        "outputId": "41baaa81-ad9b-4f12-f473-e667bf061ad4"
      },
      "source": [
        "#kdeplot-- xyz\n",
        "sns.kdeplot(df['volume'] ,shade=True , color='b')\n",
        "#sns.kdeplot(df['x'] ,shade=True , color='r' )\n",
        "#sns.kdeplot(df['y'] , shade=True , color='g' )\n",
        "#sns.kdeplot(df['z'] , shade= True , color='b')\n",
        "#plt.xlim(2,10)"
      ],
      "execution_count": null,
      "outputs": [
        {
          "output_type": "execute_result",
          "data": {
            "text/plain": [
              "<matplotlib.axes._subplots.AxesSubplot at 0x7f10609bec88>"
            ]
          },
          "metadata": {
            "tags": []
          },
          "execution_count": 207
        },
        {
          "output_type": "display_data",
          "data": {
            "image/png": "[encoded data removed]",
            "text/plain": [
              "<Figure size 432x288 with 1 Axes>"
            ]
          },
          "metadata": {
            "tags": [],
            "needs_background": "light"
          }
        }
      ]
    },
    {
      "cell_type": "markdown",
      "metadata": {
        "id": "mHxW0-AxHk5y",
        "colab_type": "text"
      },
      "source": [
        "We can compare this plot with the previous xyz plot. Most diamonds volume are between 0 to 200."
      ]
    },
    {
      "cell_type": "markdown",
      "metadata": {
        "id": "v6DcOCmpvvUP",
        "colab_type": "text"
      },
      "source": [
        "Now we have a list of features to be selected for further modelings:\n",
        "- Qualitative Features (Categorical): Cut, Color, Clarity.\n",
        "- Quantitative Features (Numerical): Carat, Depth, Table, Price, volume(X, Y, Z).\n",
        "\n",
        "Based on our EDA finding and domain knowledge, we will not choose 'price' and 'color' as our explanatory features. \n",
        "\n",
        "Our explanatory variables will be __'clarity', 'carat', 'depth', 'table' and 'volume'__."
      ]
    },
    {
      "cell_type": "markdown",
      "metadata": {
        "id": "kM_ib6fSRITA",
        "colab_type": "text"
      },
      "source": [
        "## Classifier Modeling\n",
        "\n"
      ]
    },
    {
      "cell_type": "markdown",
      "metadata": {
        "id": "42sfetNd3m3N",
        "colab_type": "text"
      },
      "source": [
        "Since some of the categorical variables are ordinal, dummy should not be used for dealing with this type. The ordinal encoder is the choice for explanatory variable and the label encoder will be used for the response variable. In detail, we use OrdinalEncoder() to convert 'clarity' since its in order. The 'cut' is converted by LabelEncoder()."
      ]
    },
    {
      "cell_type": "markdown",
      "metadata": {
        "id": "ENgTkLtmJszc",
        "colab_type": "text"
      },
      "source": [
        "Also, when we deal with feature selection, we choose 'clarity','carat', 'depth','table', 'volume' from the EDA, and we also tried the features which dropped attribute-volume. \n",
        "Based on our last project finding, it is legitimate to keep this volume term.  We decided to use these five features for feature selection."
      ]
    },
    {
      "cell_type": "code",
      "metadata": {
        "id": "0aBsZEBrISbB",
        "colab_type": "code",
        "colab": {}
      },
      "source": [
        "from sklearn.preprocessing import LabelEncoder\n",
        "from sklearn.preprocessing import OrdinalEncoder\n",
        "\n",
        "new_df = df.cut\n",
        "#we also test with less feature which drops volumn attribute\n",
        "\n",
        "#new_df = pd.concat([new_df,df[['clarity','price','carat','table']]],axis='columns')\n",
        "#the feature wwithout volumn does not give a satisfying output.\n",
        "new_df = pd.concat([new_df,df[['clarity','carat','depth','table','volume']]],axis='columns')\n",
        "\n",
        "label_cut = LabelEncoder()\n",
        "label_clarity = OrdinalEncoder()\n",
        "new_df['cut'] = label_cut.fit_transform(new_df['cut'])\n",
        "new_df['clarity'] = label_clarity.fit_transform(new_df[['clarity']])"
      ],
      "execution_count": null,
      "outputs": []
    },
    {
      "cell_type": "code",
      "metadata": {
        "id": "wLkTyh8z2XFA",
        "colab_type": "code",
        "colab": {}
      },
      "source": [
        "from sklearn.model_selection import train_test_split\n",
        "X = new_df.drop(['cut'], axis=1)\n",
        "y = new_df['cut']\n",
        "X_train, X_test, y_train, y_test = train_test_split(X,y,test_size=0.2, random_state=66)"
      ],
      "execution_count": null,
      "outputs": []
    },
    {
      "cell_type": "code",
      "metadata": {
        "id": "iLopquYD5Cb5",
        "colab_type": "code",
        "colab": {
          "base_uri": "https://localhost:8080/",
          "height": 195
        },
        "outputId": "761cdc3f-c2de-47f6-ef6e-271c407cec12"
      },
      "source": [
        "new_df.head()"
      ],
      "execution_count": null,
      "outputs": [
        {
          "output_type": "execute_result",
          "data": {
            "text/html": [
              "<div>\n",
              "<style scoped>\n",
              "    .dataframe tbody tr th:only-of-type {\n",
              "        vertical-align: middle;\n",
              "    }\n",
              "\n",
              "    .dataframe tbody tr th {\n",
              "        vertical-align: top;\n",
              "    }\n",
              "\n",
              "    .dataframe thead th {\n",
              "        text-align: right;\n",
              "    }\n",
              "</style>\n",
              "<table border=\"1\" class=\"dataframe\">\n",
              "  <thead>\n",
              "    <tr style=\"text-align: right;\">\n",
              "      <th></th>\n",
              "      <th>cut</th>\n",
              "      <th>clarity</th>\n",
              "      <th>carat</th>\n",
              "      <th>depth</th>\n",
              "      <th>table</th>\n",
              "      <th>volume</th>\n",
              "    </tr>\n",
              "  </thead>\n",
              "  <tbody>\n",
              "    <tr>\n",
              "      <th>0</th>\n",
              "      <td>2</td>\n",
              "      <td>3.0</td>\n",
              "      <td>0.23</td>\n",
              "      <td>61.5</td>\n",
              "      <td>55.0</td>\n",
              "      <td>12.734010</td>\n",
              "    </tr>\n",
              "    <tr>\n",
              "      <th>1</th>\n",
              "      <td>3</td>\n",
              "      <td>2.0</td>\n",
              "      <td>0.21</td>\n",
              "      <td>59.8</td>\n",
              "      <td>61.0</td>\n",
              "      <td>11.501952</td>\n",
              "    </tr>\n",
              "    <tr>\n",
              "      <th>2</th>\n",
              "      <td>1</td>\n",
              "      <td>4.0</td>\n",
              "      <td>0.23</td>\n",
              "      <td>56.9</td>\n",
              "      <td>65.0</td>\n",
              "      <td>12.692295</td>\n",
              "    </tr>\n",
              "    <tr>\n",
              "      <th>3</th>\n",
              "      <td>3</td>\n",
              "      <td>5.0</td>\n",
              "      <td>0.29</td>\n",
              "      <td>62.4</td>\n",
              "      <td>58.0</td>\n",
              "      <td>15.574860</td>\n",
              "    </tr>\n",
              "    <tr>\n",
              "      <th>4</th>\n",
              "      <td>1</td>\n",
              "      <td>3.0</td>\n",
              "      <td>0.31</td>\n",
              "      <td>63.3</td>\n",
              "      <td>58.0</td>\n",
              "      <td>17.305750</td>\n",
              "    </tr>\n",
              "  </tbody>\n",
              "</table>\n",
              "</div>"
            ],
            "text/plain": [
              "   cut  clarity  carat  depth  table     volume\n",
              "0    2      3.0   0.23   61.5   55.0  12.734010\n",
              "1    3      2.0   0.21   59.8   61.0  11.501952\n",
              "2    1      4.0   0.23   56.9   65.0  12.692295\n",
              "3    3      5.0   0.29   62.4   58.0  15.574860\n",
              "4    1      3.0   0.31   63.3   58.0  17.305750"
            ]
          },
          "metadata": {
            "tags": []
          },
          "execution_count": 210
        }
      ]
    },
    {
      "cell_type": "code",
      "metadata": {
        "id": "baOTzU58a_87",
        "colab_type": "code",
        "colab": {
          "base_uri": "https://localhost:8080/",
          "height": 34
        },
        "outputId": "d65967d7-9c40-4e57-a624-63a1cc2c4550"
      },
      "source": [
        "X_train.shape"
      ],
      "execution_count": null,
      "outputs": [
        {
          "output_type": "execute_result",
          "data": {
            "text/plain": [
              "(43136, 5)"
            ]
          },
          "metadata": {
            "tags": []
          },
          "execution_count": 211
        }
      ]
    },
    {
      "cell_type": "markdown",
      "metadata": {
        "id": "5LCcn2-t5N8p",
        "colab_type": "text"
      },
      "source": [
        "Grid search is a powerful optimization technique to find the best hyperparameters in the neural network. Firstly, to use this technique, we need to normalize the value since it is a wide range of numerical values. These ranges of values can cause longer computing time and cause algorithm not to converge.\n",
        "\n",
        " Here we will use MinMaxscaler to scale these numerical values."
      ]
    },
    {
      "cell_type": "code",
      "metadata": {
        "id": "-bwg_HNvCOVL",
        "colab_type": "code",
        "colab": {}
      },
      "source": [
        "from sklearn.preprocessing import MinMaxScaler\n",
        "#MinMax subtracts the minimum value in the feature and then divides by the range\n",
        "scaler = MinMaxScaler()\n",
        "X_train = scaler.fit_transform(X_train)\n",
        "X_test = scaler.transform(X_test)"
      ],
      "execution_count": null,
      "outputs": []
    },
    {
      "cell_type": "markdown",
      "metadata": {
        "id": "sLT7a-23lyKx",
        "colab_type": "text"
      },
      "source": [
        "### grid search for optimization on hyperparameters"
      ]
    },
    {
      "cell_type": "markdown",
      "metadata": {
        "id": "VEPZOwnvDiQ6",
        "colab_type": "text"
      },
      "source": [
        "Here we use grid search to find the optimization hyperparameter. Since later Keras require another set-up of the dimension, here we setup another setting for using grid search method only."
      ]
    },
    {
      "cell_type": "code",
      "metadata": {
        "id": "Dt29QsX5N7R6",
        "colab_type": "code",
        "colab": {}
      },
      "source": [
        "#For sklearn grid search\n",
        "X_train_grid=X_train.copy()\n",
        "y_train_grid=y_train.copy()\n",
        "X_test_grid = X_test.copy()"
      ],
      "execution_count": null,
      "outputs": []
    },
    {
      "cell_type": "markdown",
      "metadata": {
        "id": "g4QxPRDaRRBi",
        "colab_type": "text"
      },
      "source": [
        "Although grid search can give a nice overview of how to choose the best hyperparameters since there are a lot of parameters. Too many parameters can definitely cause trouble on computing complexity."
      ]
    },
    {
      "cell_type": "markdown",
      "metadata": {
        "id": "q2QBeYa3iZhF",
        "colab_type": "text"
      },
      "source": [
        "In the activating function, generally, the rectifier activation function(Relu) is the most popular one, while Sigmoid is used in the output layer for making binary predictions. Since sklearn is using logistics instead, we also put these parameters into the function. \n",
        "\n",
        "The learning rate defines how quickly a network updates its parameters.\n",
        "Low learning rate slows down the learning process but converges smoothly. Larger learning rate speeds up the learning but may not converge. Therefore we generally used 0.01 for its value.\n",
        "\n",
        "The number of epochs is the number of times the whole training data is shown to the network while training.\n",
        "Increase the number of epochs until the validation accuracy starts decreasing even when training accuracy is increasing(overfitting). On these values, we all used the old school way of testing and verify our values by results."
      ]
    },
    {
      "cell_type": "code",
      "metadata": {
        "id": "ZEwXakml1L2L",
        "colab_type": "code",
        "colab": {}
      },
      "source": [
        "from sklearn.neural_network import MLPClassifier\n",
        "from sklearn.model_selection import GridSearchCV\n",
        "\n",
        "# we try this method first\n",
        "'''\n",
        "# preset parameter for finding optimization\n",
        "#another way of setting values\n",
        "#parameters = {'solver': ['lbfgs'], 'max_iter': [100,200,300,400 ], 'alpha': 10.0 ** -np.arange(1, 3), 'hidden_layer_sizes':np.arange(10, 15), 'random_state':[0,1,2,3,4,5,6,7,8,9]}\n",
        "parameters = {'activation' : ['relu'], 'solver': ['adam'], 'max_iter': [300 ], 'alpha': 10.0 ** -np.arange(1, 3), 'hidden_layer_sizes':[500,800], 'random_state':[0,1]}\n",
        "#clf = GridSearchCV(MLPClassifier(), parameters, n_jobs=-1)\n",
        "clf = GridSearchCV(MLPClassifier(), parameters)\n",
        "clf.fit(X_train, y_train)\n",
        "print(clf.score(X_train, y_train))\n",
        "print(clf.best_params_)\n",
        "result = clf.predict(X_test)\n",
        "'''\n",
        "\n",
        "#defining grid\n",
        "alphas = np.array([1,0.1,0.01,0.001,0.0001])\n",
        "solvers = ['adam','lbfgs','sgd']\n",
        "max_iters = [300,500]\n",
        "activations= ['tanh','relu','logistic']\n",
        "learning_rates=['constant', 'invscaling', 'adaptive']\n",
        "\n",
        "# create and fit  model, testing each parameters\n",
        "\n",
        "mlc_grid = GridSearchCV(estimator=MLPClassifier(random_state=6), param_grid=dict(learning_rate=learning_rates,alpha=alphas,solver=solvers,activation=activations,max_iter=max_iters))\n",
        "mlc_grid .fit(X_train_grid, y_train_grid)\n",
        "print(mlc_grid )\n",
        "# summarize the results of the grid search\n",
        "print('Best Score: ',mlc_grid.best_score_)\n",
        "print('Best parameters: ',mlc_grid.best_params_)"
      ],
      "execution_count": null,
      "outputs": []
    },
    {
      "cell_type": "markdown",
      "metadata": {
        "id": "QrZILASW_weO",
        "colab_type": "text"
      },
      "source": [
        "Based on the result, lbfgs always failed to converge and it will not be used in the later modeling. Alpha, which is the regularization term of preventing model from overfitting or not, is possible for using default-value- 0.0001.\n",
        "\n",
        "\n",
        "Also, due to the fact that our computing time is extremely high and it is not feasible to use it in the Colab. After the insights from this grid search. We mixed manual selection with domain knowledge of selecting later hyperparameters.\n",
        "\n",
        "Our grid search used default hidden layer values of 100. The reference suggested we can choose hidden-layer based on the value between the input layer and the output layer. it is one thumb-up easy method. "
      ]
    },
    {
      "cell_type": "markdown",
      "metadata": {
        "id": "J5doR9XKh1go",
        "colab_type": "text"
      },
      "source": [
        "Then we start to build our three models. \n"
      ]
    },
    {
      "cell_type": "markdown",
      "metadata": {
        "id": "mPTy3dOuft58",
        "colab_type": "text"
      },
      "source": [
        "### __model 1__\n",
        "\n",
        "Then we use the multilayer perceptron model.  And this one is based on sklearn package and as our representative of feedforward neural network. "
      ]
    },
    {
      "cell_type": "code",
      "metadata": {
        "id": "zDj3HPDj6Um7",
        "colab_type": "code",
        "colab": {}
      },
      "source": [
        "# Classification\n",
        "from sklearn.metrics import accuracy_score,precision_score,recall_score,f1_score  \n",
        "from sklearn.model_selection import cross_val_score "
      ],
      "execution_count": null,
      "outputs": []
    },
    {
      "cell_type": "markdown",
      "metadata": {
        "id": "n52vTjnLVD_V",
        "colab_type": "text"
      },
      "source": [
        "Since we used default hidden layer-100 for grid search, we varied hidden layer hyperparameter to check the difference. Here we determine the hidden layer of 50 and 150 along with default value. "
      ]
    },
    {
      "cell_type": "code",
      "metadata": {
        "id": "LkK7osms8xO5",
        "colab_type": "code",
        "colab": {}
      },
      "source": [
        "from sklearn.neural_network import MLPClassifier\n",
        "\n",
        "# Classification using Multi-layer perceptron\n",
        "#we also checked other activation function(logisitic, tanh) and they did not give the same performance as relu did. \n",
        "ann = MLPClassifier(hidden_layer_sizes=(150,100,50), max_iter=300, activation='relu', solver ='adam', random_state=1)\n",
        "ann = ann.fit(X_train, y_train)"
      ],
      "execution_count": null,
      "outputs": []
    },
    {
      "cell_type": "code",
      "metadata": {
        "id": "tUYatMgt-hsf",
        "colab_type": "code",
        "colab": {
          "base_uri": "https://localhost:8080/",
          "height": 151
        },
        "outputId": "14649bde-59de-4639-ac0e-af87c50c37b5"
      },
      "source": [
        "ann"
      ],
      "execution_count": null,
      "outputs": [
        {
          "output_type": "execute_result",
          "data": {
            "text/plain": [
              "MLPClassifier(activation='relu', alpha=0.0001, batch_size='auto', beta_1=0.9,\n",
              "              beta_2=0.999, early_stopping=False, epsilon=1e-08,\n",
              "              hidden_layer_sizes=(150, 100, 50), learning_rate='constant',\n",
              "              learning_rate_init=0.001, max_fun=15000, max_iter=300,\n",
              "              momentum=0.9, n_iter_no_change=10, nesterovs_momentum=True,\n",
              "              power_t=0.5, random_state=1, shuffle=True, solver='adam',\n",
              "              tol=0.0001, validation_fraction=0.1, verbose=False,\n",
              "              warm_start=False)"
            ]
          },
          "metadata": {
            "tags": []
          },
          "execution_count": 216
        }
      ]
    },
    {
      "cell_type": "code",
      "metadata": {
        "id": "SDbK81LP8zTV",
        "colab_type": "code",
        "colab": {
          "base_uri": "https://localhost:8080/",
          "height": 101
        },
        "outputId": "8c3af39c-6e23-4b91-ce79-6094d4c2ac30"
      },
      "source": [
        "from sklearn.metrics import mean_squared_error as mse\n",
        "from sklearn.metrics import accuracy_score, f1_score, precision_score, recall_score\n",
        "prediction = ann.predict(X_test)\n",
        "print(\"Mean-squared error using Neural networks MLP:\", mse(y_test, prediction))\n",
        "print(\"Accuracy with Neural networks MLP:\",accuracy_score(y_test, prediction))\n",
        "print(\"f1_score with Neural networks MLP:\",f1_score(y_test, prediction, average=\"macro\"))\n",
        "print(\"precision with Neural networks MLP:\",precision_score(y_test, prediction, average=\"macro\"))\n",
        "print(\"recall with Neural networks MLP:\",recall_score(y_test, prediction, average=\"macro\"))   "
      ],
      "execution_count": null,
      "outputs": [
        {
          "output_type": "stream",
          "text": [
            "Mean-squared error using Neural networks MLP: 0.8456045994065282\n",
            "Accuracy with Neural networks MLP: 0.7151335311572701\n",
            "f1_score with Neural networks MLP: 0.6889333726276804\n",
            "precision with Neural networks MLP: 0.7155346045636775\n",
            "recall with Neural networks MLP: 0.6871924747762649\n"
          ],
          "name": "stdout"
        }
      ]
    },
    {
      "cell_type": "markdown",
      "metadata": {
        "id": "vHiZi1oTTi8n",
        "colab_type": "text"
      },
      "source": [
        "Based on testing data, we have accuracy of 0.715 along with 0.68 on f1 score."
      ]
    },
    {
      "cell_type": "markdown",
      "metadata": {
        "id": "wS1tW4FpKf4C",
        "colab_type": "text"
      },
      "source": [
        "### __model 2__\n",
        "\n",
        "__Keras based back-propagation model__\n"
      ]
    },
    {
      "cell_type": "markdown",
      "metadata": {
        "id": "BoeKljMhzhS3",
        "colab_type": "text"
      },
      "source": [
        "In this part, we reshape the training data due to the keras requirement on the dimensionality.  "
      ]
    },
    {
      "cell_type": "code",
      "metadata": {
        "id": "bYO6XjF3bJDe",
        "colab_type": "code",
        "colab": {
          "base_uri": "https://localhost:8080/",
          "height": 50
        },
        "outputId": "2f3a1ff1-0926-4366-edb6-e2530364eb3c"
      },
      "source": [
        "y_train = np.array(y_train)\n",
        "y_test = np.array(y_test)\n",
        "X_train = np.array(X_train)\n",
        "X_test = np.array(X_test)\n",
        "\n",
        "#reshape data\n",
        "X_train = np.reshape(X_train, (X_train.shape[0], X_train.shape[1], 1))\n",
        "X_test = np.reshape(X_test, (X_test.shape[0], X_test.shape[1], 1))\n",
        "\n",
        "print('train shape after reshape: {}'.format(X_train.shape))\n",
        "print('test shape after reshape: {}'.format(X_test.shape))"
      ],
      "execution_count": null,
      "outputs": [
        {
          "output_type": "stream",
          "text": [
            "train shape after reshape: (43136, 5, 1)\n",
            "test shape after reshape: (10784, 5, 1)\n"
          ],
          "name": "stdout"
        }
      ]
    },
    {
      "cell_type": "markdown",
      "metadata": {
        "id": "r3CYLklKcR12",
        "colab_type": "text"
      },
      "source": [
        "Here is the reason which we choose these hyperparameters on this model:\n",
        "\n",
        "1. Network will output a 5-dimensional vector\n",
        "2. Nodes in the hidden layer will use the rectified linear activation function (ReLU), whereas nodes in the output layer will use the softmax activation function. Softmax activation: network will output a probability distribution over the 5 different o\n",
        "utput classes\n",
        "3. Loss function: if targets are integers, use 'sparse_categorical_crossentropy', measures the distance between the probability distribution output by the network and the true distribution of the labels\n",
        "4. Keras provides the SGD class that implements the stochastic gradient descent optimizer with a learning rate and momentum.\n",
        "5. The learning rate can be specified via the “lr” argument and the momentum can be specified via the “momentum” argument.\n",
        "6. With learning rate decay, the learning rate is calculated each update (e.g. end of each mini-batch) as follows:\n",
        "\n",
        "$$lrate = initial lrate \\cdot  \\frac{1}{1 + decay * iteration} $$\n",
        "\n",
        "Where lrate is the learning rate for the current epoch, initial_lrate is the learning rate specified as an argument to SGD, decay is the decay rate which is greater than zero and iteration is the current update number."
      ]
    },
    {
      "cell_type": "markdown",
      "metadata": {
        "id": "Ja9hRKgmdkMJ",
        "colab_type": "text"
      },
      "source": [
        "On determining these hyperparameters, what we did is to try multiple parameters."
      ]
    },
    {
      "cell_type": "markdown",
      "metadata": {
        "id": "BoQCgrTWXVw8",
        "colab_type": "text"
      },
      "source": [
        "Here we also tested with multiple settings, we ended with SGD with default learning rate. SGD is out back propagation neural network. "
      ]
    },
    {
      "cell_type": "code",
      "metadata": {
        "id": "7SdqueZ4hvta",
        "colab_type": "code",
        "colab": {
          "base_uri": "https://localhost:8080/",
          "height": 134
        },
        "outputId": "0414be45-f2a4-44cc-ef17-6dcc8cc8aa99"
      },
      "source": [
        "#prepared required library\n",
        "!pip install keras_metrics"
      ],
      "execution_count": null,
      "outputs": [
        {
          "output_type": "stream",
          "text": [
            "Requirement already satisfied: keras_metrics in /usr/local/lib/python3.6/dist-packages (1.1.0)\n",
            "Requirement already satisfied: Keras>=2.1.5 in /usr/local/lib/python3.6/dist-packages (from keras_metrics) (2.4.3)\n",
            "Requirement already satisfied: scipy>=0.14 in /usr/local/lib/python3.6/dist-packages (from Keras>=2.1.5->keras_metrics) (1.4.1)\n",
            "Requirement already satisfied: pyyaml in /usr/local/lib/python3.6/dist-packages (from Keras>=2.1.5->keras_metrics) (3.13)\n",
            "Requirement already satisfied: numpy>=1.9.1 in /usr/local/lib/python3.6/dist-packages (from Keras>=2.1.5->keras_metrics) (1.18.5)\n",
            "Requirement already satisfied: h5py in /usr/local/lib/python3.6/dist-packages (from Keras>=2.1.5->keras_metrics) (2.10.0)\n",
            "Requirement already satisfied: six in /usr/local/lib/python3.6/dist-packages (from h5py->Keras>=2.1.5->keras_metrics) (1.15.0)\n"
          ],
          "name": "stdout"
        }
      ]
    },
    {
      "cell_type": "code",
      "metadata": {
        "id": "GX8tZITIbI_5",
        "colab_type": "code",
        "colab": {
          "base_uri": "https://localhost:8080/",
          "height": 319
        },
        "outputId": "132c15e7-2d64-4a7e-d6ec-037d3d2dd3b9"
      },
      "source": [
        "import keras_metrics\n",
        "from tensorflow import keras\n",
        "from keras import models\n",
        "from keras import layers\n",
        "\n",
        "model = models.Sequential([\n",
        "    layers.Flatten(input_shape=[5, 1]),\n",
        "    layers.Dense(64, activation=\"relu\"),\n",
        "    layers.Dense(64, activation=\"relu\"),\n",
        "    layers.Flatten(),\n",
        "    layers.Dense(5, activation=\"softmax\")]) # activation='sigmoid'\n",
        "\n",
        "\n",
        "model.compile(loss=\"sparse_categorical_crossentropy\",  #categorical_crossentropy/sparse_categorical_crossentropy/mean_squared_error'\n",
        "              optimizer='sgd',    # opt/'rmsprop'/ sgd / adam / optimizers.SGD(lr=2e-1) / optimizers.SGD(lr=0.01)\n",
        "              metrics=[\"accuracy\",keras_metrics.precision(), keras_metrics.recall()])\n",
        "model.summary()\n",
        "\n",
        "# metrics=[keras_metrics.precision(), keras_metrics.recall()]"
      ],
      "execution_count": null,
      "outputs": [
        {
          "output_type": "stream",
          "text": [
            "Model: \"sequential_7\"\n",
            "_________________________________________________________________\n",
            "Layer (type)                 Output Shape              Param #   \n",
            "=================================================================\n",
            "flatten_10 (Flatten)         (None, 5)                 0         \n",
            "_________________________________________________________________\n",
            "dense_21 (Dense)             (None, 64)                384       \n",
            "_________________________________________________________________\n",
            "dense_22 (Dense)             (None, 64)                4160      \n",
            "_________________________________________________________________\n",
            "flatten_11 (Flatten)         (None, 64)                0         \n",
            "_________________________________________________________________\n",
            "dense_23 (Dense)             (None, 5)                 325       \n",
            "=================================================================\n",
            "Total params: 4,869\n",
            "Trainable params: 4,869\n",
            "Non-trainable params: 0\n",
            "_________________________________________________________________\n"
          ],
          "name": "stdout"
        }
      ]
    },
    {
      "cell_type": "markdown",
      "metadata": {
        "id": "-o7ZyoJ-cka7",
        "colab_type": "text"
      },
      "source": [
        "By minimizing the distance between these two distributions, train the network to output something as close as possible to the true labels."
      ]
    },
    {
      "cell_type": "markdown",
      "metadata": {
        "id": "xjN6J_p6oEup",
        "colab_type": "text"
      },
      "source": [
        "Here we use 1000 samples of training data for validation. "
      ]
    },
    {
      "cell_type": "code",
      "metadata": {
        "id": "KIXEx-mwYQs3",
        "colab_type": "code",
        "colab": {}
      },
      "source": [
        "# we use 1000 samples of training data\n",
        "X_val = X_train[:1000]   # 1000\n",
        "y_val = y_train[:1000]"
      ],
      "execution_count": null,
      "outputs": []
    },
    {
      "cell_type": "markdown",
      "metadata": {
        "id": "vR2Xe7_lu11c",
        "colab_type": "text"
      },
      "source": [
        "Since batch size must be more than or equal to one and less than or equal to the number of samples in the training dataset. Here we tested with 512 and 128. Actually, by our testing, this hyperparameter has almost negligible effect on results. We still put this parameter here. "
      ]
    },
    {
      "cell_type": "code",
      "metadata": {
        "id": "elaQX2doYQmT",
        "colab_type": "code",
        "colab": {
          "base_uri": "https://localhost:8080/",
          "height": 709
        },
        "outputId": "0f91edb3-2cc4-4c17-af63-31ba51da69a2"
      },
      "source": [
        "history = model.fit(X_train,\n",
        "\t\t\ty_train,\n",
        "\t\t\tepochs=20,\n",
        "\t\t\t#validation_split=0.1, \n",
        "\t\t\tbatch_size=128,\n",
        "\t\t\t#batch_size=512,\n",
        "      #validation_data=(X_test, y_test))\n",
        "\t\t\tvalidation_data=(X_val, y_val))"
      ],
      "execution_count": null,
      "outputs": [
        {
          "output_type": "stream",
          "text": [
            "Epoch 1/20\n",
            "337/337 [==============================] - 1s 2ms/step - loss: 1.4605 - accuracy: 0.3911 - precision: 0.0000e+00 - recall: 0.0000e+00 - val_loss: 1.4090 - val_accuracy: 0.3870 - val_precision: 0.0000e+00 - val_recall: 0.0000e+00\n",
            "Epoch 2/20\n",
            "337/337 [==============================] - 0s 1ms/step - loss: 1.3771 - accuracy: 0.3998 - precision: 0.0000e+00 - recall: 0.0000e+00 - val_loss: 1.3892 - val_accuracy: 0.3870 - val_precision: 0.0000e+00 - val_recall: 0.0000e+00\n",
            "Epoch 3/20\n",
            "337/337 [==============================] - 0s 1ms/step - loss: 1.3650 - accuracy: 0.3998 - precision: 0.0000e+00 - recall: 0.0000e+00 - val_loss: 1.3839 - val_accuracy: 0.3870 - val_precision: 0.0000e+00 - val_recall: 0.0000e+00\n",
            "Epoch 4/20\n",
            "337/337 [==============================] - 0s 1ms/step - loss: 1.3601 - accuracy: 0.3999 - precision: 0.0000e+00 - recall: 0.0000e+00 - val_loss: 1.3808 - val_accuracy: 0.3870 - val_precision: 0.0000e+00 - val_recall: 0.0000e+00\n",
            "Epoch 5/20\n",
            "337/337 [==============================] - 0s 1ms/step - loss: 1.3568 - accuracy: 0.4005 - precision: 0.0000e+00 - recall: 0.0000e+00 - val_loss: 1.3783 - val_accuracy: 0.3870 - val_precision: 0.0000e+00 - val_recall: 0.0000e+00\n",
            "Epoch 6/20\n",
            "337/337 [==============================] - 0s 1ms/step - loss: 1.3536 - accuracy: 0.4018 - precision: 0.0000e+00 - recall: 0.0000e+00 - val_loss: 1.3757 - val_accuracy: 0.3880 - val_precision: 0.0000e+00 - val_recall: 0.0000e+00\n",
            "Epoch 7/20\n",
            "337/337 [==============================] - 0s 1ms/step - loss: 1.3503 - accuracy: 0.4040 - precision: 0.0000e+00 - recall: 0.0000e+00 - val_loss: 1.3725 - val_accuracy: 0.3910 - val_precision: 0.0000e+00 - val_recall: 0.0000e+00\n",
            "Epoch 8/20\n",
            "337/337 [==============================] - 0s 1ms/step - loss: 1.3467 - accuracy: 0.4075 - precision: 0.0000e+00 - recall: 0.0000e+00 - val_loss: 1.3694 - val_accuracy: 0.3930 - val_precision: 0.0000e+00 - val_recall: 0.0000e+00\n",
            "Epoch 9/20\n",
            "337/337 [==============================] - 0s 1ms/step - loss: 1.3428 - accuracy: 0.4136 - precision: 0.0000e+00 - recall: 0.0000e+00 - val_loss: 1.3650 - val_accuracy: 0.4000 - val_precision: 0.0000e+00 - val_recall: 0.0000e+00\n",
            "Epoch 10/20\n",
            "337/337 [==============================] - 0s 1ms/step - loss: 1.3387 - accuracy: 0.4194 - precision: 0.0000e+00 - recall: 0.0000e+00 - val_loss: 1.3610 - val_accuracy: 0.4050 - val_precision: 0.0000e+00 - val_recall: 0.0000e+00\n",
            "Epoch 11/20\n",
            "337/337 [==============================] - 0s 1ms/step - loss: 1.3342 - accuracy: 0.4246 - precision: 0.0000e+00 - recall: 0.0000e+00 - val_loss: 1.3564 - val_accuracy: 0.4070 - val_precision: 0.0000e+00 - val_recall: 0.0000e+00\n",
            "Epoch 12/20\n",
            "337/337 [==============================] - 0s 1ms/step - loss: 1.3293 - accuracy: 0.4317 - precision: 0.0000e+00 - recall: 0.0000e+00 - val_loss: 1.3512 - val_accuracy: 0.4120 - val_precision: 0.0000e+00 - val_recall: 0.0000e+00\n",
            "Epoch 13/20\n",
            "337/337 [==============================] - 0s 1ms/step - loss: 1.3239 - accuracy: 0.4376 - precision: 0.0000e+00 - recall: 0.0000e+00 - val_loss: 1.3451 - val_accuracy: 0.4220 - val_precision: 0.0000e+00 - val_recall: 0.0000e+00\n",
            "Epoch 14/20\n",
            "337/337 [==============================] - 0s 1ms/step - loss: 1.3178 - accuracy: 0.4440 - precision: 0.0000e+00 - recall: 0.0000e+00 - val_loss: 1.3381 - val_accuracy: 0.4320 - val_precision: 0.0000e+00 - val_recall: 0.0000e+00\n",
            "Epoch 15/20\n",
            "337/337 [==============================] - 0s 1ms/step - loss: 1.3110 - accuracy: 0.4508 - precision: 0.0000e+00 - recall: 0.0000e+00 - val_loss: 1.3302 - val_accuracy: 0.4450 - val_precision: 0.0000e+00 - val_recall: 0.0000e+00\n",
            "Epoch 16/20\n",
            "337/337 [==============================] - 0s 1ms/step - loss: 1.3034 - accuracy: 0.4573 - precision: 0.0000e+00 - recall: 0.0000e+00 - val_loss: 1.3217 - val_accuracy: 0.4590 - val_precision: 0.0000e+00 - val_recall: 0.0000e+00\n",
            "Epoch 17/20\n",
            "337/337 [==============================] - 0s 1ms/step - loss: 1.2952 - accuracy: 0.4645 - precision: 0.0000e+00 - recall: 0.0000e+00 - val_loss: 1.3127 - val_accuracy: 0.4620 - val_precision: 0.0000e+00 - val_recall: 0.0000e+00\n",
            "Epoch 18/20\n",
            "337/337 [==============================] - 0s 1ms/step - loss: 1.2861 - accuracy: 0.4715 - precision: 0.0000e+00 - recall: 0.0000e+00 - val_loss: 1.3035 - val_accuracy: 0.4630 - val_precision: 0.0000e+00 - val_recall: 0.0000e+00\n",
            "Epoch 19/20\n",
            "337/337 [==============================] - 0s 1ms/step - loss: 1.2766 - accuracy: 0.4790 - precision: 0.0000e+00 - recall: 0.0000e+00 - val_loss: 1.2923 - val_accuracy: 0.4710 - val_precision: 0.0000e+00 - val_recall: 0.0000e+00\n",
            "Epoch 20/20\n",
            "337/337 [==============================] - 0s 1ms/step - loss: 1.2663 - accuracy: 0.4877 - precision: 0.0000e+00 - recall: 0.0000e+00 - val_loss: 1.2804 - val_accuracy: 0.4870 - val_precision: 0.0000e+00 - val_recall: 0.0000e+00\n"
          ],
          "name": "stdout"
        }
      ]
    },
    {
      "cell_type": "code",
      "metadata": {
        "id": "gc8I_-aSqX0d",
        "colab_type": "code",
        "colab": {
          "base_uri": "https://localhost:8080/",
          "height": 324
        },
        "outputId": "9ab1b6b6-3883-49e5-a497-814dc48e69d4"
      },
      "source": [
        "#show the plot\n",
        "pd.DataFrame(history.history).plot(figsize=(8, 5))\n",
        "plt.grid(True)\n",
        "plt.gca().set_ylim(0, 1)\n",
        "plt.show()"
      ],
      "execution_count": null,
      "outputs": [
        {
          "output_type": "display_data",
          "data": {
            "image/png": "[encoded data removed]",
            "text/plain": [
              "<Figure size 576x360 with 1 Axes>"
            ]
          },
          "metadata": {
            "tags": [],
            "needs_background": "light"
          }
        }
      ]
    },
    {
      "cell_type": "code",
      "metadata": {
        "id": "HlWOIjvlYOZ5",
        "colab_type": "code",
        "colab": {
          "base_uri": "https://localhost:8080/",
          "height": 295
        },
        "outputId": "ea021d84-3cc7-4b64-c877-934583ef897f"
      },
      "source": [
        "#show the plot\n",
        "history_dict = history.history\n",
        "loss=history_dict['loss']\n",
        "val_loss=history_dict['val_loss']\n",
        "\n",
        "epochs = range(1, len(loss)+1) #acc\n",
        "\n",
        "plt.plot(epochs, loss, 'bo', label='Training loss')\n",
        "plt.plot(epochs, val_loss, 'b', label='Validation loss')\n",
        "plt.title('Training & Validation loss')\n",
        "plt.xlabel('epochs')\n",
        "plt.ylabel('loss')\n",
        "plt.legend()\n",
        "plt.show()"
      ],
      "execution_count": null,
      "outputs": [
        {
          "output_type": "display_data",
          "data": {
            "image/png": "[encoded data removed]",
            "text/plain": [
              "<Figure size 432x288 with 1 Axes>"
            ]
          },
          "metadata": {
            "tags": [],
            "needs_background": "light"
          }
        }
      ]
    },
    {
      "cell_type": "code",
      "metadata": {
        "id": "5p3_ibKzrFud",
        "colab_type": "code",
        "colab": {
          "base_uri": "https://localhost:8080/",
          "height": 50
        },
        "outputId": "bbb5ea5d-d96d-4d92-ae03-df7186deb5eb"
      },
      "source": [
        "#print the result of model 2\n",
        "results = model.evaluate(X_test, y_test)\n",
        "results"
      ],
      "execution_count": null,
      "outputs": [
        {
          "output_type": "stream",
          "text": [
            "337/337 [==============================] - 0s 1ms/step - loss: 1.2616 - accuracy: 0.4908 - precision: 0.0000e+00 - recall: 0.0000e+00\n"
          ],
          "name": "stdout"
        },
        {
          "output_type": "execute_result",
          "data": {
            "text/plain": [
              "[1.2616323232650757, 0.4908197224140167, 0.0, 0.0]"
            ]
          },
          "metadata": {
            "tags": []
          },
          "execution_count": 226
        }
      ]
    },
    {
      "cell_type": "code",
      "metadata": {
        "id": "u7ZhrpTJah4x",
        "colab_type": "code",
        "colab": {
          "base_uri": "https://localhost:8080/",
          "height": 34
        },
        "outputId": "8f06a543-3583-4d67-d7dd-37b74b2d1a0d"
      },
      "source": [
        "predictions = model.predict(X_test)\n",
        "np.sum(predictions[0])"
      ],
      "execution_count": null,
      "outputs": [
        {
          "output_type": "execute_result",
          "data": {
            "text/plain": [
              "1.0"
            ]
          },
          "metadata": {
            "tags": []
          },
          "execution_count": 227
        }
      ]
    },
    {
      "cell_type": "code",
      "metadata": {
        "id": "QY5AZ6QDah2p",
        "colab_type": "code",
        "colab": {
          "base_uri": "https://localhost:8080/",
          "height": 34
        },
        "outputId": "b5a5b5ba-cce8-449f-a1e2-9cc944bdb7c0"
      },
      "source": [
        "# result\n",
        "np.argmax(predictions[0])"
      ],
      "execution_count": null,
      "outputs": [
        {
          "output_type": "execute_result",
          "data": {
            "text/plain": [
              "2"
            ]
          },
          "metadata": {
            "tags": []
          },
          "execution_count": 228
        }
      ]
    },
    {
      "cell_type": "markdown",
      "metadata": {
        "id": "CV51clQMxIOC",
        "colab_type": "text"
      },
      "source": [
        "2 represents the predicted value of the target variable, which is ideal. "
      ]
    },
    {
      "cell_type": "markdown",
      "metadata": {
        "id": "CY1BQlq2Yh_-",
        "colab_type": "text"
      },
      "source": [
        "This model gave accuracy of 0.4908 on testing data and a zero of precision makes this model under the standard of good models."
      ]
    },
    {
      "cell_type": "markdown",
      "metadata": {
        "id": "e7yReIhGLGMk",
        "colab_type": "text"
      },
      "source": [
        "### __model 3__"
      ]
    },
    {
      "cell_type": "markdown",
      "metadata": {
        "id": "XHFrvHhMZQI2",
        "colab_type": "text"
      },
      "source": [
        "Our last model is also one Keras based softmax function. This neural network is ideal for dealing with multi-class classification. "
      ]
    },
    {
      "cell_type": "code",
      "metadata": {
        "id": "RLt81GLbpVh7",
        "colab_type": "code",
        "colab": {
          "base_uri": "https://localhost:8080/",
          "height": 286
        },
        "outputId": "0af8d938-1f24-4336-f968-0bca460e456b"
      },
      "source": [
        "import keras_metrics\n",
        "from keras import models\n",
        "from keras import layers\n",
        "import keras_metrics\n",
        "model = models.Sequential([\n",
        "    layers.Flatten(input_shape=[5, 1]),\n",
        "    layers.Dense(64, activation=\"relu\"),\n",
        "    layers.Dense(64, activation=\"relu\"),\n",
        "    layers.Dense(5, activation=\"softmax\")]) #activation='sigmoid'\n",
        "\n",
        "model.compile(loss=\"sparse_categorical_crossentropy\", #sparse_categorical_crossentropy/mean_squared_error\n",
        "              optimizer=keras.optimizers.SGD(lr=2e-1),\n",
        "              metrics=[\"accuracy\", keras_metrics.precision(), keras_metrics.recall()])\n",
        "model.summary()"
      ],
      "execution_count": null,
      "outputs": [
        {
          "output_type": "stream",
          "text": [
            "Model: \"sequential_8\"\n",
            "_________________________________________________________________\n",
            "Layer (type)                 Output Shape              Param #   \n",
            "=================================================================\n",
            "flatten_12 (Flatten)         (None, 5)                 0         \n",
            "_________________________________________________________________\n",
            "dense_24 (Dense)             (None, 64)                384       \n",
            "_________________________________________________________________\n",
            "dense_25 (Dense)             (None, 64)                4160      \n",
            "_________________________________________________________________\n",
            "dense_26 (Dense)             (None, 5)                 325       \n",
            "=================================================================\n",
            "Total params: 4,869\n",
            "Trainable params: 4,869\n",
            "Non-trainable params: 0\n",
            "_________________________________________________________________\n"
          ],
          "name": "stdout"
        }
      ]
    },
    {
      "cell_type": "code",
      "metadata": {
        "id": "M8D9PxkGpVfp",
        "colab_type": "code",
        "colab": {
          "base_uri": "https://localhost:8080/",
          "height": 709
        },
        "outputId": "7b29625b-9495-4f81-ebf8-0db67a508a17"
      },
      "source": [
        "history = model.fit(X_train,\n",
        "\t\t\ty_train,\n",
        "\t\t\tepochs=20,\n",
        "\t\t\t#validation_split=0.1, \n",
        "\t\t\tbatch_size=128,\n",
        "\t\t\t#batch_size=512,\n",
        "      #validation_data=(X_test, y_test))\n",
        "\t\t\tvalidation_data=(X_val, y_val))"
      ],
      "execution_count": null,
      "outputs": [
        {
          "output_type": "stream",
          "text": [
            "Epoch 1/20\n",
            "337/337 [==============================] - 1s 2ms/step - loss: 1.3427 - accuracy: 0.4195 - precision: 0.0000e+00 - recall: 0.0000e+00 - val_loss: 1.2914 - val_accuracy: 0.4830 - val_precision: 0.0000e+00 - val_recall: 0.0000e+00\n",
            "Epoch 2/20\n",
            "337/337 [==============================] - 0s 1ms/step - loss: 1.2787 - accuracy: 0.4706 - precision: 0.0000e+00 - recall: 0.0000e+00 - val_loss: 1.2089 - val_accuracy: 0.5500 - val_precision: 0.0000e+00 - val_recall: 0.0000e+00\n",
            "Epoch 3/20\n",
            "337/337 [==============================] - 0s 1ms/step - loss: 1.2238 - accuracy: 0.5051 - precision: 0.0000e+00 - recall: 0.0000e+00 - val_loss: 1.1685 - val_accuracy: 0.5540 - val_precision: 0.0000e+00 - val_recall: 0.0000e+00\n",
            "Epoch 4/20\n",
            "337/337 [==============================] - 0s 1ms/step - loss: 1.1622 - accuracy: 0.5292 - precision: 0.0000e+00 - recall: 0.0000e+00 - val_loss: 1.0566 - val_accuracy: 0.6140 - val_precision: 0.0000e+00 - val_recall: 0.0000e+00\n",
            "Epoch 5/20\n",
            "337/337 [==============================] - 0s 1ms/step - loss: 1.1139 - accuracy: 0.5506 - precision: 0.0000e+00 - recall: 0.0000e+00 - val_loss: 1.0509 - val_accuracy: 0.5780 - val_precision: 0.0000e+00 - val_recall: 0.0000e+00\n",
            "Epoch 6/20\n",
            "337/337 [==============================] - 0s 1ms/step - loss: 1.0920 - accuracy: 0.5652 - precision: 0.0439 - recall: 5.4063e-05 - val_loss: 1.0025 - val_accuracy: 0.5750 - val_precision: 0.0000e+00 - val_recall: 0.0000e+00\n",
            "Epoch 7/20\n",
            "337/337 [==============================] - 0s 1ms/step - loss: 1.0594 - accuracy: 0.5817 - precision: 0.0898 - recall: 2.7804e-04 - val_loss: 0.9857 - val_accuracy: 0.5980 - val_precision: 0.1793 - val_recall: 0.0011\n",
            "Epoch 8/20\n",
            "337/337 [==============================] - 0s 1ms/step - loss: 1.0250 - accuracy: 0.5961 - precision: 0.0858 - recall: 4.1445e-04 - val_loss: 1.1952 - val_accuracy: 0.5670 - val_precision: 0.0000e+00 - val_recall: 0.0000e+00\n",
            "Epoch 9/20\n",
            "337/337 [==============================] - 0s 1ms/step - loss: 1.0242 - accuracy: 0.5957 - precision: 0.1626 - recall: 7.5732e-04 - val_loss: 1.2356 - val_accuracy: 0.5520 - val_precision: 0.0000e+00 - val_recall: 0.0000e+00\n",
            "Epoch 10/20\n",
            "337/337 [==============================] - 0s 1ms/step - loss: 1.0083 - accuracy: 0.6016 - precision: 0.1365 - recall: 6.7879e-04 - val_loss: 0.9025 - val_accuracy: 0.6440 - val_precision: 0.1260 - val_recall: 0.0011\n",
            "Epoch 11/20\n",
            "337/337 [==============================] - 0s 1ms/step - loss: 0.9625 - accuracy: 0.6244 - precision: 0.1405 - recall: 7.7736e-04 - val_loss: 0.8775 - val_accuracy: 0.6590 - val_precision: 0.0912 - val_recall: 0.0011\n",
            "Epoch 12/20\n",
            "337/337 [==============================] - 0s 1ms/step - loss: 0.9302 - accuracy: 0.6372 - precision: 0.1020 - recall: 6.3279e-04 - val_loss: 0.8249 - val_accuracy: 0.7030 - val_precision: 0.0844 - val_recall: 0.0011\n",
            "Epoch 13/20\n",
            "337/337 [==============================] - 0s 1ms/step - loss: 0.9361 - accuracy: 0.6338 - precision: 0.1316 - recall: 9.5584e-04 - val_loss: 0.9909 - val_accuracy: 0.6050 - val_precision: 0.1356 - val_recall: 0.0011\n",
            "Epoch 14/20\n",
            "337/337 [==============================] - 0s 1ms/step - loss: 0.9169 - accuracy: 0.6408 - precision: 0.1531 - recall: 0.0011 - val_loss: 0.8629 - val_accuracy: 0.6620 - val_precision: 0.0912 - val_recall: 0.0011\n",
            "Epoch 15/20\n",
            "337/337 [==============================] - 0s 1ms/step - loss: 0.8935 - accuracy: 0.6514 - precision: 0.1046 - recall: 7.9490e-04 - val_loss: 0.8112 - val_accuracy: 0.6910 - val_precision: 0.1619 - val_recall: 0.0024\n",
            "Epoch 16/20\n",
            "337/337 [==============================] - 0s 1ms/step - loss: 0.8974 - accuracy: 0.6537 - precision: 0.1460 - recall: 0.0012 - val_loss: 0.8571 - val_accuracy: 0.6410 - val_precision: 0.0915 - val_recall: 0.0011\n",
            "Epoch 17/20\n",
            "337/337 [==============================] - 0s 1ms/step - loss: 0.8860 - accuracy: 0.6546 - precision: 0.1345 - recall: 0.0011 - val_loss: 0.7876 - val_accuracy: 0.7090 - val_precision: 0.0899 - val_recall: 0.0011\n",
            "Epoch 18/20\n",
            "337/337 [==============================] - 0s 1ms/step - loss: 0.8617 - accuracy: 0.6625 - precision: 0.1222 - recall: 0.0011 - val_loss: 0.7855 - val_accuracy: 0.7070 - val_precision: 0.1560 - val_recall: 0.0022\n",
            "Epoch 19/20\n",
            "337/337 [==============================] - 0s 1ms/step - loss: 0.8686 - accuracy: 0.6603 - precision: 0.1504 - recall: 0.0012 - val_loss: 0.7774 - val_accuracy: 0.7090 - val_precision: 0.1634 - val_recall: 0.0024\n",
            "Epoch 20/20\n",
            "337/337 [==============================] - 0s 1ms/step - loss: 0.8464 - accuracy: 0.6682 - precision: 0.1259 - recall: 0.0010 - val_loss: 0.7709 - val_accuracy: 0.7030 - val_precision: 0.0899 - val_recall: 0.0011\n"
          ],
          "name": "stdout"
        }
      ]
    },
    {
      "cell_type": "markdown",
      "metadata": {
        "id": "1p2aUEQRZwgi",
        "colab_type": "text"
      },
      "source": [
        "We also plot related loss function as well"
      ]
    },
    {
      "cell_type": "code",
      "metadata": {
        "id": "_WMfbjjcLS4b",
        "colab_type": "code",
        "colab": {
          "base_uri": "https://localhost:8080/",
          "height": 324
        },
        "outputId": "825f511a-bfaf-4481-c3e2-2f1f7a17bbe0"
      },
      "source": [
        "# show the plot\n",
        "pd.DataFrame(history.history).plot(figsize=(8, 5))\n",
        "plt.grid(True)\n",
        "plt.gca().set_ylim(0, 1)\n",
        "plt.show()"
      ],
      "execution_count": null,
      "outputs": [
        {
          "output_type": "display_data",
          "data": {
            "image/png": "[encoded data removed]",
            "text/plain": [
              "<Figure size 576x360 with 1 Axes>"
            ]
          },
          "metadata": {
            "tags": [],
            "needs_background": "light"
          }
        }
      ]
    },
    {
      "cell_type": "code",
      "metadata": {
        "id": "4w0iTfRfLTap",
        "colab_type": "code",
        "colab": {
          "base_uri": "https://localhost:8080/",
          "height": 295
        },
        "outputId": "f2072424-fc4a-4bef-a518-55b1ed7070ab"
      },
      "source": [
        "#show the plot\n",
        "history_dict = history.history\n",
        "loss=history_dict['loss']\n",
        "val_loss=history_dict['val_loss']\n",
        "\n",
        "epochs = range(1, len(loss)+1) #acc\n",
        "\n",
        "plt.plot(epochs, loss, 'bo', label='Training loss')\n",
        "plt.plot(epochs, val_loss, 'b', label='Validation loss')\n",
        "plt.title('Training & Validation loss')\n",
        "plt.xlabel('epochs')\n",
        "plt.ylabel('loss')\n",
        "plt.legend()\n",
        "plt.show()"
      ],
      "execution_count": null,
      "outputs": [
        {
          "output_type": "display_data",
          "data": {
            "image/png": "[encoded data removed]",
            "text/plain": [
              "<Figure size 432x288 with 1 Axes>"
            ]
          },
          "metadata": {
            "tags": [],
            "needs_background": "light"
          }
        }
      ]
    },
    {
      "cell_type": "code",
      "metadata": {
        "id": "zGhUhBI7pVda",
        "colab_type": "code",
        "colab": {
          "base_uri": "https://localhost:8080/",
          "height": 101
        },
        "outputId": "abc455e5-1796-4620-e39c-bdf1dec151c3"
      },
      "source": [
        "# print the result of model 3\n",
        "results = model.evaluate(X_test, y_test)\n",
        "results"
      ],
      "execution_count": null,
      "outputs": [
        {
          "output_type": "stream",
          "text": [
            "337/337 [==============================] - 0s 1ms/step - loss: 0.7924 - accuracy: 0.7017 - precision: 0.1109 - recall: 7.6186e-04\n"
          ],
          "name": "stdout"
        },
        {
          "output_type": "execute_result",
          "data": {
            "text/plain": [
              "[0.7923648357391357,\n",
              " 0.7016876935958862,\n",
              " 0.11094284057617188,\n",
              " 0.0007618564995937049]"
            ]
          },
          "metadata": {
            "tags": []
          },
          "execution_count": 233
        }
      ]
    },
    {
      "cell_type": "code",
      "metadata": {
        "id": "KIQmjacMi3WY",
        "colab_type": "code",
        "colab": {
          "base_uri": "https://localhost:8080/",
          "height": 34
        },
        "outputId": "6497e848-0826-440a-a659-a374e7ff7a87"
      },
      "source": [
        "# result\n",
        "np.argmax(predictions[0])"
      ],
      "execution_count": null,
      "outputs": [
        {
          "output_type": "execute_result",
          "data": {
            "text/plain": [
              "2"
            ]
          },
          "metadata": {
            "tags": []
          },
          "execution_count": 234
        }
      ]
    },
    {
      "cell_type": "markdown",
      "metadata": {
        "id": "r7npiqf_ySMN",
        "colab_type": "text"
      },
      "source": [
        "Similar to model 2, 2 also represents the predicted value of the target variable, which is ideal. "
      ]
    },
    {
      "cell_type": "markdown",
      "metadata": {
        "id": "VwycUMFaMM5n",
        "colab_type": "text"
      },
      "source": [
        "This final model gives 0.7017 accuracy along with the precision of 0.1109 on the test data. \n",
        "\n",
        "Since both model2 and model 3 does not have f1 score, we use the definition\n",
        "\n",
        "$$f1= \\frac{2* precision*recall }{precision+recall}$$"
      ]
    },
    {
      "cell_type": "markdown",
      "metadata": {
        "id": "t7v_3vcDRRNr",
        "colab_type": "text"
      },
      "source": [
        "## Select Model"
      ]
    },
    {
      "cell_type": "markdown",
      "metadata": {
        "id": "QbDTE6yKOjtB",
        "colab_type": "text"
      },
      "source": [
        "After bunch of run, we put our results on this table:\n",
        "\n",
        "|Model      | accuracy | precision | recall     | f1-score | \n",
        "| --------  | -------- | --------- | ------     | -------- |  \n",
        "| model 1   | 0.7151   | 0.7155    | 0.6872     | 0.6889   |     \n",
        "| model 2   | 0.4908   | 0.0000    | 0.0000     | N/A      |        \n",
        "| model 3   | 0.7017   | 0.1109    | 7.688e-04  | 0.0015   |  "
      ]
    },
    {
      "cell_type": "markdown",
      "metadata": {
        "id": "wjnyXoOCMyXJ",
        "colab_type": "text"
      },
      "source": [
        "As shown from the table, among these models, the model1 - feedforward Neural network gave the best result on the training data according to accuracy and the precision score. However, not shown from this table, this model also has the issues of computing expensiveness.\n",
        "\n",
        "Model 3 has a slightly lower accuracy score on testing data, while precision and f1 score is too low to be considered as a good competitor. In addition, this model has a similar performance with model 2 on time-consuming, and it is far lower than model1.\n",
        "\n",
        "After we took computing complexity into account, model 1 also takes the longest time on computing. However, the overwhelmingly high overall score still make it a winner among three models.\n",
        "\n",
        "Overall, we still decide model 1 to be the best choice of all. "
      ]
    },
    {
      "cell_type": "markdown",
      "metadata": {
        "id": "2EWj8DjMRV2d",
        "colab_type": "text"
      },
      "source": [
        "## Conclusion"
      ]
    },
    {
      "cell_type": "markdown",
      "metadata": {
        "id": "sy2dbdTsvzKa",
        "colab_type": "text"
      },
      "source": [
        "Based on the results and considering the computing time spent, we believe that model 1 gives the best performance in this data set for its relatively great performance and reasonable time-spending."
      ]
    },
    {
      "cell_type": "markdown",
      "metadata": {
        "id": "F1wyaMR4heIj",
        "colab_type": "text"
      },
      "source": [
        "## Reference\n",
        "\n"
      ]
    },
    {
      "cell_type": "markdown",
      "metadata": {
        "id": "G5iaUzEshiDU",
        "colab_type": "text"
      },
      "source": [
        "1. https://towardsdatascience.com/what-are-hyperparameters-and-how-to-tune-the-hyperparameters-in-a-deep-neural-network-d0604917584a#:~:text=Hyperparameters%20are%20the%20variables%20which,optimizing%20the%20weights%20and%20bias).\n",
        "\n",
        "2. https://machinelearningmastery.com/grid-search-hyperparameters-deep-learning-models-python-keras/\n",
        "\n",
        "3. https://www.kaggle.com/hatone/mlpclassifier-with-gridsearchcv\n",
        "\n",
        "4. https://www.heatonresearch.com/2017/06/01/hidden-layers.html\n"
      ]
    }
  ]
}