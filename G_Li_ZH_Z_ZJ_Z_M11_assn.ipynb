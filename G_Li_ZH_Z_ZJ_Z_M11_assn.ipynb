{
  "nbformat": 4,
  "nbformat_minor": 0,
  "metadata": {
    "colab": {
      "name": "G_Li_ZH_Z_ZJ_Z_M11_assn.ipynb",
      "provenance": [],
      "collapsed_sections": [],
      "toc_visible": true
    },
    "kernelspec": {
      "name": "python3",
      "display_name": "Python 3"
    }
  },
  "cells": [
    {
      "cell_type": "markdown",
      "metadata": {
        "id": "f295mp5V3utt",
        "colab_type": "text"
      },
      "source": [
        "# Module 11 -- Decision Trees & Random Forests\n",
        "### Group Members: Gege Li, Zhihong Zhang, Zhijing Zhang"
      ]
    },
    {
      "cell_type": "markdown",
      "metadata": {
        "id": "J1BRE2FK3v1p",
        "colab_type": "text"
      },
      "source": [
        "## Introduction\n",
        "\n",
        "\n"
      ]
    },
    {
      "cell_type": "markdown",
      "metadata": {
        "id": "2jOjSluQHiCK",
        "colab_type": "text"
      },
      "source": [
        "In this module, we are given a mushroom data set from the UCI repository and used given attributes to predict veil color of given observation. After the basic EDA and data preparation work, we are going to apply decision trees and random forest models to the dataset and evaluate their performance. Decision tree and random forest models will be designed for purposes of predicting which of the four veil-color values is most likely to apply to a given observation. Finally, we will identify the preferred model and get a conclusion."
      ]
    },
    {
      "cell_type": "markdown",
      "metadata": {
        "id": "mPQjvGGF3v48",
        "colab_type": "text"
      },
      "source": [
        "## Exploratory Data Analysis"
      ]
    },
    {
      "cell_type": "markdown",
      "metadata": {
        "id": "Bojd8Jjma1Pv",
        "colab_type": "text"
      },
      "source": [
        "First of all load the library and read the dataset from GitHub."
      ]
    },
    {
      "cell_type": "code",
      "metadata": {
        "id": "lveLZRAg3a0G",
        "colab_type": "code",
        "colab": {}
      },
      "source": [
        "#prepared library \n",
        "import numpy as np\n",
        "import pandas as pd\n",
        "import matplotlib.pyplot as plt\n",
        "import seaborn as sns"
      ],
      "execution_count": 64,
      "outputs": []
    },
    {
      "cell_type": "code",
      "metadata": {
        "id": "uggzdh-n4BCG",
        "colab_type": "code",
        "colab": {
          "base_uri": "https://localhost:8080/",
          "height": 195
        },
        "outputId": "a7e98af6-aa89-4492-bca1-3990d23de1bc"
      },
      "source": [
        "# check and read the dataset from github\n",
        "df = pd.read_csv('https://raw.githubusercontent.com/gegeli638/DAV-6150/master/M11_Data.csv', header=None)\n",
        "df.head()"
      ],
      "execution_count": 65,
      "outputs": [
        {
          "output_type": "execute_result",
          "data": {
            "text/html": [
              "<div>\n",
              "<style scoped>\n",
              "    .dataframe tbody tr th:only-of-type {\n",
              "        vertical-align: middle;\n",
              "    }\n",
              "\n",
              "    .dataframe tbody tr th {\n",
              "        vertical-align: top;\n",
              "    }\n",
              "\n",
              "    .dataframe thead th {\n",
              "        text-align: right;\n",
              "    }\n",
              "</style>\n",
              "<table border=\"1\" class=\"dataframe\">\n",
              "  <thead>\n",
              "    <tr style=\"text-align: right;\">\n",
              "      <th></th>\n",
              "      <th>0</th>\n",
              "      <th>1</th>\n",
              "      <th>2</th>\n",
              "      <th>3</th>\n",
              "      <th>4</th>\n",
              "      <th>5</th>\n",
              "      <th>6</th>\n",
              "      <th>7</th>\n",
              "      <th>8</th>\n",
              "      <th>9</th>\n",
              "      <th>10</th>\n",
              "      <th>11</th>\n",
              "      <th>12</th>\n",
              "      <th>13</th>\n",
              "      <th>14</th>\n",
              "      <th>15</th>\n",
              "      <th>16</th>\n",
              "      <th>17</th>\n",
              "      <th>18</th>\n",
              "      <th>19</th>\n",
              "      <th>20</th>\n",
              "      <th>21</th>\n",
              "      <th>22</th>\n",
              "    </tr>\n",
              "  </thead>\n",
              "  <tbody>\n",
              "    <tr>\n",
              "      <th>0</th>\n",
              "      <td>p</td>\n",
              "      <td>x</td>\n",
              "      <td>s</td>\n",
              "      <td>n</td>\n",
              "      <td>t</td>\n",
              "      <td>p</td>\n",
              "      <td>f</td>\n",
              "      <td>c</td>\n",
              "      <td>n</td>\n",
              "      <td>k</td>\n",
              "      <td>e</td>\n",
              "      <td>e</td>\n",
              "      <td>s</td>\n",
              "      <td>s</td>\n",
              "      <td>w</td>\n",
              "      <td>w</td>\n",
              "      <td>p</td>\n",
              "      <td>w</td>\n",
              "      <td>o</td>\n",
              "      <td>p</td>\n",
              "      <td>k</td>\n",
              "      <td>s</td>\n",
              "      <td>u</td>\n",
              "    </tr>\n",
              "    <tr>\n",
              "      <th>1</th>\n",
              "      <td>e</td>\n",
              "      <td>x</td>\n",
              "      <td>s</td>\n",
              "      <td>y</td>\n",
              "      <td>t</td>\n",
              "      <td>a</td>\n",
              "      <td>f</td>\n",
              "      <td>c</td>\n",
              "      <td>b</td>\n",
              "      <td>k</td>\n",
              "      <td>e</td>\n",
              "      <td>c</td>\n",
              "      <td>s</td>\n",
              "      <td>s</td>\n",
              "      <td>w</td>\n",
              "      <td>w</td>\n",
              "      <td>p</td>\n",
              "      <td>w</td>\n",
              "      <td>o</td>\n",
              "      <td>p</td>\n",
              "      <td>n</td>\n",
              "      <td>n</td>\n",
              "      <td>g</td>\n",
              "    </tr>\n",
              "    <tr>\n",
              "      <th>2</th>\n",
              "      <td>e</td>\n",
              "      <td>b</td>\n",
              "      <td>s</td>\n",
              "      <td>w</td>\n",
              "      <td>t</td>\n",
              "      <td>l</td>\n",
              "      <td>f</td>\n",
              "      <td>c</td>\n",
              "      <td>b</td>\n",
              "      <td>n</td>\n",
              "      <td>e</td>\n",
              "      <td>c</td>\n",
              "      <td>s</td>\n",
              "      <td>s</td>\n",
              "      <td>w</td>\n",
              "      <td>w</td>\n",
              "      <td>p</td>\n",
              "      <td>w</td>\n",
              "      <td>o</td>\n",
              "      <td>p</td>\n",
              "      <td>n</td>\n",
              "      <td>n</td>\n",
              "      <td>m</td>\n",
              "    </tr>\n",
              "    <tr>\n",
              "      <th>3</th>\n",
              "      <td>p</td>\n",
              "      <td>x</td>\n",
              "      <td>y</td>\n",
              "      <td>w</td>\n",
              "      <td>t</td>\n",
              "      <td>p</td>\n",
              "      <td>f</td>\n",
              "      <td>c</td>\n",
              "      <td>n</td>\n",
              "      <td>n</td>\n",
              "      <td>e</td>\n",
              "      <td>e</td>\n",
              "      <td>s</td>\n",
              "      <td>s</td>\n",
              "      <td>w</td>\n",
              "      <td>w</td>\n",
              "      <td>p</td>\n",
              "      <td>w</td>\n",
              "      <td>o</td>\n",
              "      <td>p</td>\n",
              "      <td>k</td>\n",
              "      <td>s</td>\n",
              "      <td>u</td>\n",
              "    </tr>\n",
              "    <tr>\n",
              "      <th>4</th>\n",
              "      <td>e</td>\n",
              "      <td>x</td>\n",
              "      <td>s</td>\n",
              "      <td>g</td>\n",
              "      <td>f</td>\n",
              "      <td>n</td>\n",
              "      <td>f</td>\n",
              "      <td>w</td>\n",
              "      <td>b</td>\n",
              "      <td>k</td>\n",
              "      <td>t</td>\n",
              "      <td>e</td>\n",
              "      <td>s</td>\n",
              "      <td>s</td>\n",
              "      <td>w</td>\n",
              "      <td>w</td>\n",
              "      <td>p</td>\n",
              "      <td>w</td>\n",
              "      <td>o</td>\n",
              "      <td>e</td>\n",
              "      <td>n</td>\n",
              "      <td>a</td>\n",
              "      <td>g</td>\n",
              "    </tr>\n",
              "  </tbody>\n",
              "</table>\n",
              "</div>"
            ],
            "text/plain": [
              "  0  1  2  3  4  5  6  7  8  9  10 11 12 13 14 15 16 17 18 19 20 21 22\n",
              "0  p  x  s  n  t  p  f  c  n  k  e  e  s  s  w  w  p  w  o  p  k  s  u\n",
              "1  e  x  s  y  t  a  f  c  b  k  e  c  s  s  w  w  p  w  o  p  n  n  g\n",
              "2  e  b  s  w  t  l  f  c  b  n  e  c  s  s  w  w  p  w  o  p  n  n  m\n",
              "3  p  x  y  w  t  p  f  c  n  n  e  e  s  s  w  w  p  w  o  p  k  s  u\n",
              "4  e  x  s  g  f  n  f  w  b  k  t  e  s  s  w  w  p  w  o  e  n  a  g"
            ]
          },
          "metadata": {
            "tags": []
          },
          "execution_count": 65
        }
      ]
    },
    {
      "cell_type": "markdown",
      "metadata": {
        "id": "SK6aYfO97AwI",
        "colab_type": "text"
      },
      "source": [
        "Data Set Information:\n",
        "\n",
        "This data set includes descriptions of hypothetical samples corresponding to 23 species of gilled mushrooms in the Agaricus and Lepiota Family (pp. 500-525). Each species is identified as definitely edible, definitely poisonous, or of unknown edibility and not recommended. This latter class was combined with the poisonous one. The Guide clearly states that there is no simple rule for determining the edibility of a mushroom; no rule like ``leaflets three, let it be'' for Poisonous Oak and Ivy.\n",
        "\n",
        "\n",
        "Attribute Information:\n",
        "1. cap-shape: bell=b,conical=c,convex=x,flat=f, knobbed=k,sunken=s\n",
        "2. cap-surface: fibrous=f,grooves=g,scaly=y,smooth=s\n",
        "3. cap-color: brown=n,buff=b,cinnamon=c,gray=g,green=r, pink=p,purple=u,red=e,white=w,yellow=y\n",
        "4. bruises?: bruises=t,no=f\n",
        "5. odor: almond=a,anise=l,creosote=c,fishy=y,foul=f, musty=m,none=n,pungent=p,spicy=s\n",
        "6. gill-attachment: attached=a,descending=d,free=f,notched=n\n",
        "7. gill-spacing: close=c,crowded=w,distant=d\n",
        "8. gill-size: broad=b,narrow=n\n",
        "9. gill-color: black=k,brown=n,buff=b,chocolate=h,gray=g, green=r,orange=o,pink=p,purple=u,red=e, white=w,yellow=y\n",
        "10. stalk-shape: enlarging=e,tapering=t\n",
        "11. stalk-root: bulbous=b,club=c,cup=u,equal=e, rhizomorphs=z,rooted=r,missing=?\n",
        "12. stalk-surface-above-ring: fibrous=f,scaly=y,silky=k,smooth=s\n",
        "13. stalk-surface-below-ring: fibrous=f,scaly=y,silky=k,smooth=s\n",
        "14. stalk-color-above-ring: brown=n,buff=b,cinnamon=c,gray=g,orange=o, pink=p,red=e,white=w,yellow=y\n",
        "15. stalk-color-below-ring: brown=n,buff=b,cinnamon=c,gray=g,orange=o, pink=p,red=e,white=w,yellow=y\n",
        "16. veil-type: partial=p,universal=u\n",
        "17. veil-color: brown=n,orange=o,white=w,yellow=y\n",
        "18. ring-number: none=n,one=o,two=t\n",
        "19. ring-type: cobwebby=c,evanescent=e,flaring=f,large=l, none=n,pendant=p,sheathing=s,zone=z\n",
        "20. spore-print-color: black=k,brown=n,buff=b,chocolate=h,green=r, orange=o,purple=u,white=w,yellow=y\n",
        "21. population: abundant=a,clustered=c,numerous=n, scattered=s,several=v,solitary=y\n",
        "22. habitat: grasses=g,leaves=l,meadows=m,paths=p, urban=u,waste=w,woods=d\n",
        "\n",
        "\n",
        "In this assignment, our response variable would be __veil-color__."
      ]
    },
    {
      "cell_type": "markdown",
      "metadata": {
        "id": "6SzLB7LauBjd",
        "colab_type": "text"
      },
      "source": [
        "Firstly, we need to rename the columns."
      ]
    },
    {
      "cell_type": "code",
      "metadata": {
        "id": "_06erb0s6Vg_",
        "colab_type": "code",
        "colab": {
          "base_uri": "https://localhost:8080/",
          "height": 215
        },
        "outputId": "98f76cff-a6dd-4a52-eb16-6eb5b9e733dc"
      },
      "source": [
        "df.rename(columns={0: 'edibility', \n",
        "         1: 'shape', 2: 'surface',3: 'color', 4: 'bruises',5: 'odor', \n",
        "         6: 'gill_attach', 7: 'gill_spacing',8: 'gill_size',9: 'gill_color', \n",
        "         10: 'stalk_shape', 11: 'stalk_root', 12: 'stalk_surface_above', 13: 'stalk_surface_below', \n",
        "         14: 'stalk_color_above', 15: 'stalk_color_below',\n",
        "         16: 'veil_type', 17: 'veil_color',18: 'ring_number', 19: 'ring_type',\n",
        "         20: 'spore_print', 21: 'population', 22: 'habitat'},inplace = True) \n",
        "df.head()"
      ],
      "execution_count": 66,
      "outputs": [
        {
          "output_type": "execute_result",
          "data": {
            "text/html": [
              "<div>\n",
              "<style scoped>\n",
              "    .dataframe tbody tr th:only-of-type {\n",
              "        vertical-align: middle;\n",
              "    }\n",
              "\n",
              "    .dataframe tbody tr th {\n",
              "        vertical-align: top;\n",
              "    }\n",
              "\n",
              "    .dataframe thead th {\n",
              "        text-align: right;\n",
              "    }\n",
              "</style>\n",
              "<table border=\"1\" class=\"dataframe\">\n",
              "  <thead>\n",
              "    <tr style=\"text-align: right;\">\n",
              "      <th></th>\n",
              "      <th>edibility</th>\n",
              "      <th>shape</th>\n",
              "      <th>surface</th>\n",
              "      <th>color</th>\n",
              "      <th>bruises</th>\n",
              "      <th>odor</th>\n",
              "      <th>gill_attach</th>\n",
              "      <th>gill_spacing</th>\n",
              "      <th>gill_size</th>\n",
              "      <th>gill_color</th>\n",
              "      <th>stalk_shape</th>\n",
              "      <th>stalk_root</th>\n",
              "      <th>stalk_surface_above</th>\n",
              "      <th>stalk_surface_below</th>\n",
              "      <th>stalk_color_above</th>\n",
              "      <th>stalk_color_below</th>\n",
              "      <th>veil_type</th>\n",
              "      <th>veil_color</th>\n",
              "      <th>ring_number</th>\n",
              "      <th>ring_type</th>\n",
              "      <th>spore_print</th>\n",
              "      <th>population</th>\n",
              "      <th>habitat</th>\n",
              "    </tr>\n",
              "  </thead>\n",
              "  <tbody>\n",
              "    <tr>\n",
              "      <th>0</th>\n",
              "      <td>p</td>\n",
              "      <td>x</td>\n",
              "      <td>s</td>\n",
              "      <td>n</td>\n",
              "      <td>t</td>\n",
              "      <td>p</td>\n",
              "      <td>f</td>\n",
              "      <td>c</td>\n",
              "      <td>n</td>\n",
              "      <td>k</td>\n",
              "      <td>e</td>\n",
              "      <td>e</td>\n",
              "      <td>s</td>\n",
              "      <td>s</td>\n",
              "      <td>w</td>\n",
              "      <td>w</td>\n",
              "      <td>p</td>\n",
              "      <td>w</td>\n",
              "      <td>o</td>\n",
              "      <td>p</td>\n",
              "      <td>k</td>\n",
              "      <td>s</td>\n",
              "      <td>u</td>\n",
              "    </tr>\n",
              "    <tr>\n",
              "      <th>1</th>\n",
              "      <td>e</td>\n",
              "      <td>x</td>\n",
              "      <td>s</td>\n",
              "      <td>y</td>\n",
              "      <td>t</td>\n",
              "      <td>a</td>\n",
              "      <td>f</td>\n",
              "      <td>c</td>\n",
              "      <td>b</td>\n",
              "      <td>k</td>\n",
              "      <td>e</td>\n",
              "      <td>c</td>\n",
              "      <td>s</td>\n",
              "      <td>s</td>\n",
              "      <td>w</td>\n",
              "      <td>w</td>\n",
              "      <td>p</td>\n",
              "      <td>w</td>\n",
              "      <td>o</td>\n",
              "      <td>p</td>\n",
              "      <td>n</td>\n",
              "      <td>n</td>\n",
              "      <td>g</td>\n",
              "    </tr>\n",
              "    <tr>\n",
              "      <th>2</th>\n",
              "      <td>e</td>\n",
              "      <td>b</td>\n",
              "      <td>s</td>\n",
              "      <td>w</td>\n",
              "      <td>t</td>\n",
              "      <td>l</td>\n",
              "      <td>f</td>\n",
              "      <td>c</td>\n",
              "      <td>b</td>\n",
              "      <td>n</td>\n",
              "      <td>e</td>\n",
              "      <td>c</td>\n",
              "      <td>s</td>\n",
              "      <td>s</td>\n",
              "      <td>w</td>\n",
              "      <td>w</td>\n",
              "      <td>p</td>\n",
              "      <td>w</td>\n",
              "      <td>o</td>\n",
              "      <td>p</td>\n",
              "      <td>n</td>\n",
              "      <td>n</td>\n",
              "      <td>m</td>\n",
              "    </tr>\n",
              "    <tr>\n",
              "      <th>3</th>\n",
              "      <td>p</td>\n",
              "      <td>x</td>\n",
              "      <td>y</td>\n",
              "      <td>w</td>\n",
              "      <td>t</td>\n",
              "      <td>p</td>\n",
              "      <td>f</td>\n",
              "      <td>c</td>\n",
              "      <td>n</td>\n",
              "      <td>n</td>\n",
              "      <td>e</td>\n",
              "      <td>e</td>\n",
              "      <td>s</td>\n",
              "      <td>s</td>\n",
              "      <td>w</td>\n",
              "      <td>w</td>\n",
              "      <td>p</td>\n",
              "      <td>w</td>\n",
              "      <td>o</td>\n",
              "      <td>p</td>\n",
              "      <td>k</td>\n",
              "      <td>s</td>\n",
              "      <td>u</td>\n",
              "    </tr>\n",
              "    <tr>\n",
              "      <th>4</th>\n",
              "      <td>e</td>\n",
              "      <td>x</td>\n",
              "      <td>s</td>\n",
              "      <td>g</td>\n",
              "      <td>f</td>\n",
              "      <td>n</td>\n",
              "      <td>f</td>\n",
              "      <td>w</td>\n",
              "      <td>b</td>\n",
              "      <td>k</td>\n",
              "      <td>t</td>\n",
              "      <td>e</td>\n",
              "      <td>s</td>\n",
              "      <td>s</td>\n",
              "      <td>w</td>\n",
              "      <td>w</td>\n",
              "      <td>p</td>\n",
              "      <td>w</td>\n",
              "      <td>o</td>\n",
              "      <td>e</td>\n",
              "      <td>n</td>\n",
              "      <td>a</td>\n",
              "      <td>g</td>\n",
              "    </tr>\n",
              "  </tbody>\n",
              "</table>\n",
              "</div>"
            ],
            "text/plain": [
              "  edibility shape surface color  ... ring_type spore_print population habitat\n",
              "0         p     x       s     n  ...         p           k          s       u\n",
              "1         e     x       s     y  ...         p           n          n       g\n",
              "2         e     b       s     w  ...         p           n          n       m\n",
              "3         p     x       y     w  ...         p           k          s       u\n",
              "4         e     x       s     g  ...         e           n          a       g\n",
              "\n",
              "[5 rows x 23 columns]"
            ]
          },
          "metadata": {
            "tags": []
          },
          "execution_count": 66
        }
      ]
    },
    {
      "cell_type": "code",
      "metadata": {
        "id": "DPWBUp2sQXuf",
        "colab_type": "code",
        "colab": {
          "base_uri": "https://localhost:8080/",
          "height": 534
        },
        "outputId": "2bbc43b1-6e41-4fc4-c5b1-42b6660b30db"
      },
      "source": [
        "df.info()"
      ],
      "execution_count": null,
      "outputs": [
        {
          "output_type": "stream",
          "text": [
            "<class 'pandas.core.frame.DataFrame'>\n",
            "RangeIndex: 8124 entries, 0 to 8123\n",
            "Data columns (total 23 columns):\n",
            " #   Column               Non-Null Count  Dtype \n",
            "---  ------               --------------  ----- \n",
            " 0   edibility            8124 non-null   object\n",
            " 1   shape                8124 non-null   object\n",
            " 2   surface              8124 non-null   object\n",
            " 3   color                8124 non-null   object\n",
            " 4   bruises              8124 non-null   object\n",
            " 5   odor                 8124 non-null   object\n",
            " 6   gill_attach          8124 non-null   object\n",
            " 7   gill_spacing         8124 non-null   object\n",
            " 8   gill_size            8124 non-null   object\n",
            " 9   gill_color           8124 non-null   object\n",
            " 10  stalk_shape          8124 non-null   object\n",
            " 11  stalk_root           8124 non-null   object\n",
            " 12  stalk_surface_above  8124 non-null   object\n",
            " 13  stalk_surface_below  8124 non-null   object\n",
            " 14  stalk_color_above    8124 non-null   object\n",
            " 15  stalk_color_below    8124 non-null   object\n",
            " 16  veil_type            8124 non-null   object\n",
            " 17  veil_color           8124 non-null   object\n",
            " 18  ring_number          8124 non-null   object\n",
            " 19  ring_type            8124 non-null   object\n",
            " 20  spore_print          8124 non-null   object\n",
            " 21  population           8124 non-null   object\n",
            " 22  habitat              8124 non-null   object\n",
            "dtypes: object(23)\n",
            "memory usage: 1.4+ MB\n"
          ],
          "name": "stdout"
        }
      ]
    },
    {
      "cell_type": "markdown",
      "metadata": {
        "id": "4sGrf9yzE1xA",
        "colab_type": "text"
      },
      "source": [
        "We can tell all the attributes are categorical variables.\n",
        "\n",
        "Also, we can tell there is no null value."
      ]
    },
    {
      "cell_type": "code",
      "metadata": {
        "id": "nv5i9XeyE9U6",
        "colab_type": "code",
        "colab": {
          "base_uri": "https://localhost:8080/",
          "height": 430
        },
        "outputId": "59c83b10-200b-4217-93aa-8ad9a102e431"
      },
      "source": [
        "#check null value\n",
        "df.isnull().sum()"
      ],
      "execution_count": null,
      "outputs": [
        {
          "output_type": "execute_result",
          "data": {
            "text/plain": [
              "edibility              0\n",
              "shape                  0\n",
              "surface                0\n",
              "color                  0\n",
              "bruises                0\n",
              "odor                   0\n",
              "gill_attach            0\n",
              "gill_spacing           0\n",
              "gill_size              0\n",
              "gill_color             0\n",
              "stalk_shape            0\n",
              "stalk_root             0\n",
              "stalk_surface_above    0\n",
              "stalk_surface_below    0\n",
              "stalk_color_above      0\n",
              "stalk_color_below      0\n",
              "veil_type              0\n",
              "veil_color             0\n",
              "ring_number            0\n",
              "ring_type              0\n",
              "spore_print            0\n",
              "population             0\n",
              "habitat                0\n",
              "dtype: int64"
            ]
          },
          "metadata": {
            "tags": []
          },
          "execution_count": 89
        }
      ]
    },
    {
      "cell_type": "markdown",
      "metadata": {
        "id": "LAsKeAjAIAtd",
        "colab_type": "text"
      },
      "source": [
        "There is no missing value in this dataset."
      ]
    },
    {
      "cell_type": "markdown",
      "metadata": {
        "id": "Znws5JWtFsYG",
        "colab_type": "text"
      },
      "source": [
        "Then, check the __response variable__."
      ]
    },
    {
      "cell_type": "code",
      "metadata": {
        "id": "OZQPE3QGt_No",
        "colab_type": "code",
        "colab": {
          "base_uri": "https://localhost:8080/",
          "height": 103
        },
        "outputId": "d2906f52-4936-4a39-a563-231fbb05c4e7"
      },
      "source": [
        "df.veil_color.value_counts()\n",
        "# brown=n,orange=o,white=w,yellow=y"
      ],
      "execution_count": null,
      "outputs": [
        {
          "output_type": "execute_result",
          "data": {
            "text/plain": [
              "w    7924\n",
              "n      96\n",
              "o      96\n",
              "y       8\n",
              "Name: veil_color, dtype: int64"
            ]
          },
          "metadata": {
            "tags": []
          },
          "execution_count": 90
        }
      ]
    },
    {
      "cell_type": "code",
      "metadata": {
        "id": "PlmOqeSna41c",
        "colab_type": "code",
        "colab": {
          "base_uri": "https://localhost:8080/",
          "height": 389
        },
        "outputId": "13a65666-063f-405d-fb08-f4855a15b4c5"
      },
      "source": [
        "df['veil_color'].value_counts().plot.bar(figsize=(10,6))"
      ],
      "execution_count": null,
      "outputs": [
        {
          "output_type": "execute_result",
          "data": {
            "text/plain": [
              "<matplotlib.axes._subplots.AxesSubplot at 0x7ff27f6f4cc0>"
            ]
          },
          "metadata": {
            "tags": []
          },
          "execution_count": 91
        },
        {
          "output_type": "display_data",
          "data": {
            "image/png": "[encoded data removed]",
            "text/plain": [
              "<Figure size 720x432 with 1 Axes>"
            ]
          },
          "metadata": {
            "tags": [],
            "needs_background": "light"
          }
        }
      ]
    },
    {
      "cell_type": "markdown",
      "metadata": {
        "id": "kHnyRZ4z-7TQ",
        "colab_type": "text"
      },
      "source": [
        "Based on the histogram, we can tell that it is quite imbalanced in veil color based on the population, and w, which represent white color, dominates the whole population of the asttributes. Later we also need to apply SMOOTE for modeling. "
      ]
    },
    {
      "cell_type": "markdown",
      "metadata": {
        "id": "9vwZRix-F0cp",
        "colab_type": "text"
      },
      "source": [
        "Then, draw some catplots to help us to understand\n",
        "the nature of __each of the variables__ (including the response variable)."
      ]
    },
    {
      "cell_type": "code",
      "metadata": {
        "id": "HYrVBiFGFNdn",
        "colab_type": "code",
        "colab": {
          "base_uri": "https://localhost:8080/",
          "height": 1000
        },
        "outputId": "40a7c89e-4baf-4d9c-b1d8-b5e9df4b09fe"
      },
      "source": [
        "#plot all the categorical data\n",
        "fig, axes =plt.subplots(6,4, figsize=(15,15)) #, sharex=True\n",
        "axes = axes.flatten()\n",
        "\n",
        "#remove last plot\n",
        "axes.flat[-1].set_visible(False)\n",
        "\n",
        "object_bol = df.dtypes == 'object'\n",
        "\n",
        "for ax, catplot in zip(axes, df.dtypes[object_bol].index):\n",
        "    sns.countplot(x=catplot, data=df, ax=ax)\n",
        "\n",
        "plt.tight_layout()  \n",
        "#show the plot\n",
        "plt.show()"
      ],
      "execution_count": null,
      "outputs": [
        {
          "output_type": "display_data",
          "data": {
            "image/png": "[encoded data removed]",
            "text/plain": [
              "<Figure size 1080x1080 with 24 Axes>"
            ]
          },
          "metadata": {
            "tags": [],
            "needs_background": "light"
          }
        }
      ]
    },
    {
      "cell_type": "markdown",
      "metadata": {
        "id": "fGBloRhxapv2",
        "colab_type": "text"
      },
      "source": [
        "Base on these plots, we can find these findings\n",
        "\n",
        "- Many attributes has imbalanced population spread. For example, our target attribute, veil color, has a quite imbalanced distribution and white dominates the who selections. \n",
        "\n",
        "- veil type  attribute has only one value. It is not a useful explantory attribute. \n",
        "\n",
        "- For the cap surface, g,which represent grooves, has almost no count."
      ]
    },
    {
      "cell_type": "code",
      "metadata": {
        "id": "5kXcdNHmFRcw",
        "colab_type": "code",
        "colab": {
          "base_uri": "https://localhost:8080/",
          "height": 1000
        },
        "outputId": "5d0a52df-a3d1-4bc4-8e4e-f1c6638e1deb"
      },
      "source": [
        "#plot all the categorical data as veil color\n",
        "\n",
        "fig, axes =plt.subplots(6,4, figsize=(15,15)) #, sharex=True\n",
        "axes = axes.flatten()\n",
        "\n",
        "# remove last one empty plot\n",
        "axes.flat[-1].set_visible(False)\n",
        "# remove nonsense veil vs veil color\n",
        "axes.flat[-7].set_visible(False)\n",
        "\n",
        "object_bol = df.dtypes == 'object'\n",
        "\n",
        "for ax, catplot in zip(axes, df.dtypes[object_bol].index):\n",
        "    sns.countplot(x=catplot,hue='veil_color', data=df, ax=ax)\n",
        "\n",
        "plt.tight_layout()  \n",
        "plt.show()"
      ],
      "execution_count": null,
      "outputs": [
        {
          "output_type": "display_data",
          "data": {
            "image/png": "[encoded data removed]",
            "text/plain": [
              "<Figure size 1080x1080 with 24 Axes>"
            ]
          },
          "metadata": {
            "tags": [],
            "needs_background": "light"
          }
        }
      ]
    },
    {
      "cell_type": "markdown",
      "metadata": {
        "id": "qScCEWvnFmuB",
        "colab_type": "text"
      },
      "source": [
        "Through this diagram, we have these findings and insights.\n",
        "\n",
        "- For certain attributes, such as habitat , except on grass, almost all veil color are white. It is very helpful on predicting veil color if we \n",
        "\n",
        "\n",
        "- For gill size, the narrow one only has white color. \n",
        "Similarly, bruises and edibility have the same issues. \n",
        "\n",
        "- There are many of imbalanced features showed on the response variable of attributes. \n",
        "\n",
        "- yellow veil color only showed in color,spore print and ring type attributes.\n"
      ]
    },
    {
      "cell_type": "markdown",
      "metadata": {
        "id": "eQKM5OvBERPm",
        "colab_type": "text"
      },
      "source": [
        "When we combined two graphs, some possible good explantory attributes based on distribution spread are as follows:\n",
        "\n",
        "- edibility: it seems that all poinsous mushroom has white veil type. \n",
        "- stalk-surface-above and stalk-surface-below: We can see two distributions are very similar and mainly most veil color distributes at smooth feature. White veil color appears in all explantory variable values. \n",
        "\n",
        "- gill size: brown and orange veil color only show in broad\n",
        "\n",
        "- bruises : brown and orange veil color only show in broad\n",
        "\n",
        "- ring number: almost only white veil color shows at two or none. Brown and orange color appear at one ring number.\n",
        "\n",
        "- habitat : all of brown ,orange, and white appear at leaves. All other habitats seems to be white exclusively. Given habitat can help to identify the veil color. \n"
      ]
    },
    {
      "cell_type": "markdown",
      "metadata": {
        "id": "meIU2C4EMLut",
        "colab_type": "text"
      },
      "source": [
        "Through this analysis, we may want to have a closer look at these attributes."
      ]
    },
    {
      "cell_type": "code",
      "metadata": {
        "id": "hHbiRbIXQhPo",
        "colab_type": "code",
        "colab": {
          "base_uri": "https://localhost:8080/",
          "height": 235
        },
        "outputId": "f8983fd2-3e2c-45fd-860a-9c36bbc8f848"
      },
      "source": [
        "#check the number of each veil color in edibility\n",
        "pd.crosstab(df.veil_color, df.edibility, margins=True)"
      ],
      "execution_count": null,
      "outputs": [
        {
          "output_type": "execute_result",
          "data": {
            "text/html": [
              "<div>\n",
              "<style scoped>\n",
              "    .dataframe tbody tr th:only-of-type {\n",
              "        vertical-align: middle;\n",
              "    }\n",
              "\n",
              "    .dataframe tbody tr th {\n",
              "        vertical-align: top;\n",
              "    }\n",
              "\n",
              "    .dataframe thead th {\n",
              "        text-align: right;\n",
              "    }\n",
              "</style>\n",
              "<table border=\"1\" class=\"dataframe\">\n",
              "  <thead>\n",
              "    <tr style=\"text-align: right;\">\n",
              "      <th>edibility</th>\n",
              "      <th>e</th>\n",
              "      <th>p</th>\n",
              "      <th>All</th>\n",
              "    </tr>\n",
              "    <tr>\n",
              "      <th>veil_color</th>\n",
              "      <th></th>\n",
              "      <th></th>\n",
              "      <th></th>\n",
              "    </tr>\n",
              "  </thead>\n",
              "  <tbody>\n",
              "    <tr>\n",
              "      <th>n</th>\n",
              "      <td>96</td>\n",
              "      <td>0</td>\n",
              "      <td>96</td>\n",
              "    </tr>\n",
              "    <tr>\n",
              "      <th>o</th>\n",
              "      <td>96</td>\n",
              "      <td>0</td>\n",
              "      <td>96</td>\n",
              "    </tr>\n",
              "    <tr>\n",
              "      <th>w</th>\n",
              "      <td>4016</td>\n",
              "      <td>3908</td>\n",
              "      <td>7924</td>\n",
              "    </tr>\n",
              "    <tr>\n",
              "      <th>y</th>\n",
              "      <td>0</td>\n",
              "      <td>8</td>\n",
              "      <td>8</td>\n",
              "    </tr>\n",
              "    <tr>\n",
              "      <th>All</th>\n",
              "      <td>4208</td>\n",
              "      <td>3916</td>\n",
              "      <td>8124</td>\n",
              "    </tr>\n",
              "  </tbody>\n",
              "</table>\n",
              "</div>"
            ],
            "text/plain": [
              "edibility      e     p   All\n",
              "veil_color                  \n",
              "n             96     0    96\n",
              "o             96     0    96\n",
              "w           4016  3908  7924\n",
              "y              0     8     8\n",
              "All         4208  3916  8124"
            ]
          },
          "metadata": {
            "tags": []
          },
          "execution_count": 94
        }
      ]
    },
    {
      "cell_type": "code",
      "metadata": {
        "id": "_CTMaanR_7rY",
        "colab_type": "code",
        "colab": {
          "base_uri": "https://localhost:8080/",
          "height": 235
        },
        "outputId": "b5fe3241-8fab-406d-c7f0-d23804f8b9ee"
      },
      "source": [
        "#check the number of each veil color in stalk_surface_above\n",
        "pd.crosstab(df.veil_color, df.stalk_surface_above, margins=True)"
      ],
      "execution_count": null,
      "outputs": [
        {
          "output_type": "execute_result",
          "data": {
            "text/html": [
              "<div>\n",
              "<style scoped>\n",
              "    .dataframe tbody tr th:only-of-type {\n",
              "        vertical-align: middle;\n",
              "    }\n",
              "\n",
              "    .dataframe tbody tr th {\n",
              "        vertical-align: top;\n",
              "    }\n",
              "\n",
              "    .dataframe thead th {\n",
              "        text-align: right;\n",
              "    }\n",
              "</style>\n",
              "<table border=\"1\" class=\"dataframe\">\n",
              "  <thead>\n",
              "    <tr style=\"text-align: right;\">\n",
              "      <th>stalk_surface_above</th>\n",
              "      <th>f</th>\n",
              "      <th>k</th>\n",
              "      <th>s</th>\n",
              "      <th>y</th>\n",
              "      <th>All</th>\n",
              "    </tr>\n",
              "    <tr>\n",
              "      <th>veil_color</th>\n",
              "      <th></th>\n",
              "      <th></th>\n",
              "      <th></th>\n",
              "      <th></th>\n",
              "      <th></th>\n",
              "    </tr>\n",
              "  </thead>\n",
              "  <tbody>\n",
              "    <tr>\n",
              "      <th>n</th>\n",
              "      <td>0</td>\n",
              "      <td>0</td>\n",
              "      <td>96</td>\n",
              "      <td>0</td>\n",
              "      <td>96</td>\n",
              "    </tr>\n",
              "    <tr>\n",
              "      <th>o</th>\n",
              "      <td>0</td>\n",
              "      <td>0</td>\n",
              "      <td>96</td>\n",
              "      <td>0</td>\n",
              "      <td>96</td>\n",
              "    </tr>\n",
              "    <tr>\n",
              "      <th>w</th>\n",
              "      <td>552</td>\n",
              "      <td>2372</td>\n",
              "      <td>4984</td>\n",
              "      <td>16</td>\n",
              "      <td>7924</td>\n",
              "    </tr>\n",
              "    <tr>\n",
              "      <th>y</th>\n",
              "      <td>0</td>\n",
              "      <td>0</td>\n",
              "      <td>0</td>\n",
              "      <td>8</td>\n",
              "      <td>8</td>\n",
              "    </tr>\n",
              "    <tr>\n",
              "      <th>All</th>\n",
              "      <td>552</td>\n",
              "      <td>2372</td>\n",
              "      <td>5176</td>\n",
              "      <td>24</td>\n",
              "      <td>8124</td>\n",
              "    </tr>\n",
              "  </tbody>\n",
              "</table>\n",
              "</div>"
            ],
            "text/plain": [
              "stalk_surface_above    f     k     s   y   All\n",
              "veil_color                                    \n",
              "n                      0     0    96   0    96\n",
              "o                      0     0    96   0    96\n",
              "w                    552  2372  4984  16  7924\n",
              "y                      0     0     0   8     8\n",
              "All                  552  2372  5176  24  8124"
            ]
          },
          "metadata": {
            "tags": []
          },
          "execution_count": 95
        }
      ]
    },
    {
      "cell_type": "code",
      "metadata": {
        "id": "YfDy8o7iAjXX",
        "colab_type": "code",
        "colab": {
          "base_uri": "https://localhost:8080/",
          "height": 235
        },
        "outputId": "6f5013e3-0fe3-46bd-f280-b9423137474a"
      },
      "source": [
        "#check the number of each veil color in stalk_surface_below\n",
        "pd.crosstab(df.veil_color, df.stalk_surface_below, margins=True)"
      ],
      "execution_count": null,
      "outputs": [
        {
          "output_type": "execute_result",
          "data": {
            "text/html": [
              "<div>\n",
              "<style scoped>\n",
              "    .dataframe tbody tr th:only-of-type {\n",
              "        vertical-align: middle;\n",
              "    }\n",
              "\n",
              "    .dataframe tbody tr th {\n",
              "        vertical-align: top;\n",
              "    }\n",
              "\n",
              "    .dataframe thead th {\n",
              "        text-align: right;\n",
              "    }\n",
              "</style>\n",
              "<table border=\"1\" class=\"dataframe\">\n",
              "  <thead>\n",
              "    <tr style=\"text-align: right;\">\n",
              "      <th>stalk_surface_below</th>\n",
              "      <th>f</th>\n",
              "      <th>k</th>\n",
              "      <th>s</th>\n",
              "      <th>y</th>\n",
              "      <th>All</th>\n",
              "    </tr>\n",
              "    <tr>\n",
              "      <th>veil_color</th>\n",
              "      <th></th>\n",
              "      <th></th>\n",
              "      <th></th>\n",
              "      <th></th>\n",
              "      <th></th>\n",
              "    </tr>\n",
              "  </thead>\n",
              "  <tbody>\n",
              "    <tr>\n",
              "      <th>n</th>\n",
              "      <td>0</td>\n",
              "      <td>0</td>\n",
              "      <td>96</td>\n",
              "      <td>0</td>\n",
              "      <td>96</td>\n",
              "    </tr>\n",
              "    <tr>\n",
              "      <th>o</th>\n",
              "      <td>0</td>\n",
              "      <td>0</td>\n",
              "      <td>96</td>\n",
              "      <td>0</td>\n",
              "      <td>96</td>\n",
              "    </tr>\n",
              "    <tr>\n",
              "      <th>w</th>\n",
              "      <td>600</td>\n",
              "      <td>2304</td>\n",
              "      <td>4744</td>\n",
              "      <td>276</td>\n",
              "      <td>7924</td>\n",
              "    </tr>\n",
              "    <tr>\n",
              "      <th>y</th>\n",
              "      <td>0</td>\n",
              "      <td>0</td>\n",
              "      <td>0</td>\n",
              "      <td>8</td>\n",
              "      <td>8</td>\n",
              "    </tr>\n",
              "    <tr>\n",
              "      <th>All</th>\n",
              "      <td>600</td>\n",
              "      <td>2304</td>\n",
              "      <td>4936</td>\n",
              "      <td>284</td>\n",
              "      <td>8124</td>\n",
              "    </tr>\n",
              "  </tbody>\n",
              "</table>\n",
              "</div>"
            ],
            "text/plain": [
              "stalk_surface_below    f     k     s    y   All\n",
              "veil_color                                     \n",
              "n                      0     0    96    0    96\n",
              "o                      0     0    96    0    96\n",
              "w                    600  2304  4744  276  7924\n",
              "y                      0     0     0    8     8\n",
              "All                  600  2304  4936  284  8124"
            ]
          },
          "metadata": {
            "tags": []
          },
          "execution_count": 96
        }
      ]
    },
    {
      "cell_type": "code",
      "metadata": {
        "id": "9Pk3plfCAk-K",
        "colab_type": "code",
        "colab": {
          "base_uri": "https://localhost:8080/",
          "height": 235
        },
        "outputId": "f6f52cd4-b6f2-411f-af29-98ba07108fe5"
      },
      "source": [
        "#check the number of each veil color in gill size:\n",
        "pd.crosstab(df.veil_color, df.gill_size, margins=True)"
      ],
      "execution_count": null,
      "outputs": [
        {
          "output_type": "execute_result",
          "data": {
            "text/html": [
              "<div>\n",
              "<style scoped>\n",
              "    .dataframe tbody tr th:only-of-type {\n",
              "        vertical-align: middle;\n",
              "    }\n",
              "\n",
              "    .dataframe tbody tr th {\n",
              "        vertical-align: top;\n",
              "    }\n",
              "\n",
              "    .dataframe thead th {\n",
              "        text-align: right;\n",
              "    }\n",
              "</style>\n",
              "<table border=\"1\" class=\"dataframe\">\n",
              "  <thead>\n",
              "    <tr style=\"text-align: right;\">\n",
              "      <th>gill_size</th>\n",
              "      <th>b</th>\n",
              "      <th>n</th>\n",
              "      <th>All</th>\n",
              "    </tr>\n",
              "    <tr>\n",
              "      <th>veil_color</th>\n",
              "      <th></th>\n",
              "      <th></th>\n",
              "      <th></th>\n",
              "    </tr>\n",
              "  </thead>\n",
              "  <tbody>\n",
              "    <tr>\n",
              "      <th>n</th>\n",
              "      <td>96</td>\n",
              "      <td>0</td>\n",
              "      <td>96</td>\n",
              "    </tr>\n",
              "    <tr>\n",
              "      <th>o</th>\n",
              "      <td>96</td>\n",
              "      <td>0</td>\n",
              "      <td>96</td>\n",
              "    </tr>\n",
              "    <tr>\n",
              "      <th>w</th>\n",
              "      <td>5420</td>\n",
              "      <td>2504</td>\n",
              "      <td>7924</td>\n",
              "    </tr>\n",
              "    <tr>\n",
              "      <th>y</th>\n",
              "      <td>0</td>\n",
              "      <td>8</td>\n",
              "      <td>8</td>\n",
              "    </tr>\n",
              "    <tr>\n",
              "      <th>All</th>\n",
              "      <td>5612</td>\n",
              "      <td>2512</td>\n",
              "      <td>8124</td>\n",
              "    </tr>\n",
              "  </tbody>\n",
              "</table>\n",
              "</div>"
            ],
            "text/plain": [
              "gill_size      b     n   All\n",
              "veil_color                  \n",
              "n             96     0    96\n",
              "o             96     0    96\n",
              "w           5420  2504  7924\n",
              "y              0     8     8\n",
              "All         5612  2512  8124"
            ]
          },
          "metadata": {
            "tags": []
          },
          "execution_count": 97
        }
      ]
    },
    {
      "cell_type": "code",
      "metadata": {
        "id": "kG1PV4ELAxuS",
        "colab_type": "code",
        "colab": {
          "base_uri": "https://localhost:8080/",
          "height": 235
        },
        "outputId": "0ba18dfb-d2d2-4c49-92a4-476652a04e75"
      },
      "source": [
        "#check the number of each veil color in bruises \n",
        "pd.crosstab(df.veil_color, df.bruises, margins=True)"
      ],
      "execution_count": null,
      "outputs": [
        {
          "output_type": "execute_result",
          "data": {
            "text/html": [
              "<div>\n",
              "<style scoped>\n",
              "    .dataframe tbody tr th:only-of-type {\n",
              "        vertical-align: middle;\n",
              "    }\n",
              "\n",
              "    .dataframe tbody tr th {\n",
              "        vertical-align: top;\n",
              "    }\n",
              "\n",
              "    .dataframe thead th {\n",
              "        text-align: right;\n",
              "    }\n",
              "</style>\n",
              "<table border=\"1\" class=\"dataframe\">\n",
              "  <thead>\n",
              "    <tr style=\"text-align: right;\">\n",
              "      <th>bruises</th>\n",
              "      <th>f</th>\n",
              "      <th>t</th>\n",
              "      <th>All</th>\n",
              "    </tr>\n",
              "    <tr>\n",
              "      <th>veil_color</th>\n",
              "      <th></th>\n",
              "      <th></th>\n",
              "      <th></th>\n",
              "    </tr>\n",
              "  </thead>\n",
              "  <tbody>\n",
              "    <tr>\n",
              "      <th>n</th>\n",
              "      <td>96</td>\n",
              "      <td>0</td>\n",
              "      <td>96</td>\n",
              "    </tr>\n",
              "    <tr>\n",
              "      <th>o</th>\n",
              "      <td>96</td>\n",
              "      <td>0</td>\n",
              "      <td>96</td>\n",
              "    </tr>\n",
              "    <tr>\n",
              "      <th>w</th>\n",
              "      <td>4548</td>\n",
              "      <td>3376</td>\n",
              "      <td>7924</td>\n",
              "    </tr>\n",
              "    <tr>\n",
              "      <th>y</th>\n",
              "      <td>8</td>\n",
              "      <td>0</td>\n",
              "      <td>8</td>\n",
              "    </tr>\n",
              "    <tr>\n",
              "      <th>All</th>\n",
              "      <td>4748</td>\n",
              "      <td>3376</td>\n",
              "      <td>8124</td>\n",
              "    </tr>\n",
              "  </tbody>\n",
              "</table>\n",
              "</div>"
            ],
            "text/plain": [
              "bruises        f     t   All\n",
              "veil_color                  \n",
              "n             96     0    96\n",
              "o             96     0    96\n",
              "w           4548  3376  7924\n",
              "y              8     0     8\n",
              "All         4748  3376  8124"
            ]
          },
          "metadata": {
            "tags": []
          },
          "execution_count": 98
        }
      ]
    },
    {
      "cell_type": "code",
      "metadata": {
        "id": "JFaCcwMMAxyr",
        "colab_type": "code",
        "colab": {
          "base_uri": "https://localhost:8080/",
          "height": 235
        },
        "outputId": "048da4b4-ccfa-4b6b-be18-e8623790d4ef"
      },
      "source": [
        "#check the number of each veil color in ring number \n",
        "pd.crosstab(df.veil_color, df.ring_number, margins=True)"
      ],
      "execution_count": null,
      "outputs": [
        {
          "output_type": "execute_result",
          "data": {
            "text/html": [
              "<div>\n",
              "<style scoped>\n",
              "    .dataframe tbody tr th:only-of-type {\n",
              "        vertical-align: middle;\n",
              "    }\n",
              "\n",
              "    .dataframe tbody tr th {\n",
              "        vertical-align: top;\n",
              "    }\n",
              "\n",
              "    .dataframe thead th {\n",
              "        text-align: right;\n",
              "    }\n",
              "</style>\n",
              "<table border=\"1\" class=\"dataframe\">\n",
              "  <thead>\n",
              "    <tr style=\"text-align: right;\">\n",
              "      <th>ring_number</th>\n",
              "      <th>n</th>\n",
              "      <th>o</th>\n",
              "      <th>t</th>\n",
              "      <th>All</th>\n",
              "    </tr>\n",
              "    <tr>\n",
              "      <th>veil_color</th>\n",
              "      <th></th>\n",
              "      <th></th>\n",
              "      <th></th>\n",
              "      <th></th>\n",
              "    </tr>\n",
              "  </thead>\n",
              "  <tbody>\n",
              "    <tr>\n",
              "      <th>n</th>\n",
              "      <td>0</td>\n",
              "      <td>96</td>\n",
              "      <td>0</td>\n",
              "      <td>96</td>\n",
              "    </tr>\n",
              "    <tr>\n",
              "      <th>o</th>\n",
              "      <td>0</td>\n",
              "      <td>96</td>\n",
              "      <td>0</td>\n",
              "      <td>96</td>\n",
              "    </tr>\n",
              "    <tr>\n",
              "      <th>w</th>\n",
              "      <td>36</td>\n",
              "      <td>7288</td>\n",
              "      <td>600</td>\n",
              "      <td>7924</td>\n",
              "    </tr>\n",
              "    <tr>\n",
              "      <th>y</th>\n",
              "      <td>0</td>\n",
              "      <td>8</td>\n",
              "      <td>0</td>\n",
              "      <td>8</td>\n",
              "    </tr>\n",
              "    <tr>\n",
              "      <th>All</th>\n",
              "      <td>36</td>\n",
              "      <td>7488</td>\n",
              "      <td>600</td>\n",
              "      <td>8124</td>\n",
              "    </tr>\n",
              "  </tbody>\n",
              "</table>\n",
              "</div>"
            ],
            "text/plain": [
              "ring_number   n     o    t   All\n",
              "veil_color                      \n",
              "n             0    96    0    96\n",
              "o             0    96    0    96\n",
              "w            36  7288  600  7924\n",
              "y             0     8    0     8\n",
              "All          36  7488  600  8124"
            ]
          },
          "metadata": {
            "tags": []
          },
          "execution_count": 99
        }
      ]
    },
    {
      "cell_type": "code",
      "metadata": {
        "id": "QrQPAwwsA-jT",
        "colab_type": "code",
        "colab": {
          "base_uri": "https://localhost:8080/",
          "height": 235
        },
        "outputId": "ad888a8b-30cc-43d9-f44e-fbe51732aca6"
      },
      "source": [
        "#check the number of each veil color in habitat \n",
        "pd.crosstab(df.veil_color, df.habitat, margins=True)"
      ],
      "execution_count": null,
      "outputs": [
        {
          "output_type": "execute_result",
          "data": {
            "text/html": [
              "<div>\n",
              "<style scoped>\n",
              "    .dataframe tbody tr th:only-of-type {\n",
              "        vertical-align: middle;\n",
              "    }\n",
              "\n",
              "    .dataframe tbody tr th {\n",
              "        vertical-align: top;\n",
              "    }\n",
              "\n",
              "    .dataframe thead th {\n",
              "        text-align: right;\n",
              "    }\n",
              "</style>\n",
              "<table border=\"1\" class=\"dataframe\">\n",
              "  <thead>\n",
              "    <tr style=\"text-align: right;\">\n",
              "      <th>habitat</th>\n",
              "      <th>d</th>\n",
              "      <th>g</th>\n",
              "      <th>l</th>\n",
              "      <th>m</th>\n",
              "      <th>p</th>\n",
              "      <th>u</th>\n",
              "      <th>w</th>\n",
              "      <th>All</th>\n",
              "    </tr>\n",
              "    <tr>\n",
              "      <th>veil_color</th>\n",
              "      <th></th>\n",
              "      <th></th>\n",
              "      <th></th>\n",
              "      <th></th>\n",
              "      <th></th>\n",
              "      <th></th>\n",
              "      <th></th>\n",
              "      <th></th>\n",
              "    </tr>\n",
              "  </thead>\n",
              "  <tbody>\n",
              "    <tr>\n",
              "      <th>n</th>\n",
              "      <td>0</td>\n",
              "      <td>0</td>\n",
              "      <td>96</td>\n",
              "      <td>0</td>\n",
              "      <td>0</td>\n",
              "      <td>0</td>\n",
              "      <td>0</td>\n",
              "      <td>96</td>\n",
              "    </tr>\n",
              "    <tr>\n",
              "      <th>o</th>\n",
              "      <td>0</td>\n",
              "      <td>0</td>\n",
              "      <td>96</td>\n",
              "      <td>0</td>\n",
              "      <td>0</td>\n",
              "      <td>0</td>\n",
              "      <td>0</td>\n",
              "      <td>96</td>\n",
              "    </tr>\n",
              "    <tr>\n",
              "      <th>w</th>\n",
              "      <td>3148</td>\n",
              "      <td>2148</td>\n",
              "      <td>632</td>\n",
              "      <td>292</td>\n",
              "      <td>1144</td>\n",
              "      <td>368</td>\n",
              "      <td>192</td>\n",
              "      <td>7924</td>\n",
              "    </tr>\n",
              "    <tr>\n",
              "      <th>y</th>\n",
              "      <td>0</td>\n",
              "      <td>0</td>\n",
              "      <td>8</td>\n",
              "      <td>0</td>\n",
              "      <td>0</td>\n",
              "      <td>0</td>\n",
              "      <td>0</td>\n",
              "      <td>8</td>\n",
              "    </tr>\n",
              "    <tr>\n",
              "      <th>All</th>\n",
              "      <td>3148</td>\n",
              "      <td>2148</td>\n",
              "      <td>832</td>\n",
              "      <td>292</td>\n",
              "      <td>1144</td>\n",
              "      <td>368</td>\n",
              "      <td>192</td>\n",
              "      <td>8124</td>\n",
              "    </tr>\n",
              "  </tbody>\n",
              "</table>\n",
              "</div>"
            ],
            "text/plain": [
              "habitat        d     g    l    m     p    u    w   All\n",
              "veil_color                                            \n",
              "n              0     0   96    0     0    0    0    96\n",
              "o              0     0   96    0     0    0    0    96\n",
              "w           3148  2148  632  292  1144  368  192  7924\n",
              "y              0     0    8    0     0    0    0     8\n",
              "All         3148  2148  832  292  1144  368  192  8124"
            ]
          },
          "metadata": {
            "tags": []
          },
          "execution_count": 100
        }
      ]
    },
    {
      "cell_type": "markdown",
      "metadata": {
        "id": "vB5QBGz7XNyh",
        "colab_type": "text"
      },
      "source": [
        "After check the detail in these table, we can tell that the features we select make sense. Later we will use these seven features to constrct modle. Now we can do the further analysis."
      ]
    },
    {
      "cell_type": "markdown",
      "metadata": {
        "id": "HQ2qKiJLr7nf",
        "colab_type": "text"
      },
      "source": [
        "## Data Preparation & Prepped Data Review"
      ]
    },
    {
      "cell_type": "markdown",
      "metadata": {
        "id": "DBReay-HCNHn",
        "colab_type": "text"
      },
      "source": [
        "Based on our EDA finding, we need to do these __data preparation__ process as follows:\n",
        "\n",
        "- Drop useless feature column--- veil type\n",
        "- All variables are categorical, we need to do the data transformation to change it into numerical data.\n",
        "- There are many imbalanced patterns which we can digger deeper on selected features. We will resample the imbalance data later in modeling part."
      ]
    },
    {
      "cell_type": "code",
      "metadata": {
        "id": "df03zWtXbwhy",
        "colab_type": "code",
        "colab": {}
      },
      "source": [
        "df2 = df.copy()"
      ],
      "execution_count": 67,
      "outputs": []
    },
    {
      "cell_type": "markdown",
      "metadata": {
        "id": "leIU3awwWOmQ",
        "colab_type": "text"
      },
      "source": [
        "Firstly, we need to delete veil type because this attribute has only one value."
      ]
    },
    {
      "cell_type": "code",
      "metadata": {
        "id": "jKjm85rxVkbX",
        "colab_type": "code",
        "colab": {}
      },
      "source": [
        "# drop 'veil-type'\n",
        "df2.drop(['veil_type'],axis=1,inplace=True)"
      ],
      "execution_count": 68,
      "outputs": []
    },
    {
      "cell_type": "code",
      "metadata": {
        "id": "AJIm8UucZi9V",
        "colab_type": "code",
        "colab": {
          "base_uri": "https://localhost:8080/",
          "height": 224
        },
        "outputId": "4246d6c0-868e-4df6-8372-89c915b3db2a"
      },
      "source": [
        "df2.head()"
      ],
      "execution_count": null,
      "outputs": [
        {
          "output_type": "execute_result",
          "data": {
            "text/html": [
              "<div>\n",
              "<style scoped>\n",
              "    .dataframe tbody tr th:only-of-type {\n",
              "        vertical-align: middle;\n",
              "    }\n",
              "\n",
              "    .dataframe tbody tr th {\n",
              "        vertical-align: top;\n",
              "    }\n",
              "\n",
              "    .dataframe thead th {\n",
              "        text-align: right;\n",
              "    }\n",
              "</style>\n",
              "<table border=\"1\" class=\"dataframe\">\n",
              "  <thead>\n",
              "    <tr style=\"text-align: right;\">\n",
              "      <th></th>\n",
              "      <th>edibility</th>\n",
              "      <th>shape</th>\n",
              "      <th>surface</th>\n",
              "      <th>color</th>\n",
              "      <th>bruises</th>\n",
              "      <th>odor</th>\n",
              "      <th>gill_attach</th>\n",
              "      <th>gill_spacing</th>\n",
              "      <th>gill_size</th>\n",
              "      <th>gill_color</th>\n",
              "      <th>stalk_shape</th>\n",
              "      <th>stalk_root</th>\n",
              "      <th>stalk_surface_above</th>\n",
              "      <th>stalk_surface_below</th>\n",
              "      <th>stalk_color_above</th>\n",
              "      <th>stalk_color_below</th>\n",
              "      <th>veil_color</th>\n",
              "      <th>ring_number</th>\n",
              "      <th>ring_type</th>\n",
              "      <th>spore_print</th>\n",
              "      <th>population</th>\n",
              "      <th>habitat</th>\n",
              "    </tr>\n",
              "  </thead>\n",
              "  <tbody>\n",
              "    <tr>\n",
              "      <th>0</th>\n",
              "      <td>p</td>\n",
              "      <td>x</td>\n",
              "      <td>s</td>\n",
              "      <td>n</td>\n",
              "      <td>t</td>\n",
              "      <td>p</td>\n",
              "      <td>f</td>\n",
              "      <td>c</td>\n",
              "      <td>n</td>\n",
              "      <td>k</td>\n",
              "      <td>e</td>\n",
              "      <td>e</td>\n",
              "      <td>s</td>\n",
              "      <td>s</td>\n",
              "      <td>w</td>\n",
              "      <td>w</td>\n",
              "      <td>w</td>\n",
              "      <td>o</td>\n",
              "      <td>p</td>\n",
              "      <td>k</td>\n",
              "      <td>s</td>\n",
              "      <td>u</td>\n",
              "    </tr>\n",
              "    <tr>\n",
              "      <th>1</th>\n",
              "      <td>e</td>\n",
              "      <td>x</td>\n",
              "      <td>s</td>\n",
              "      <td>y</td>\n",
              "      <td>t</td>\n",
              "      <td>a</td>\n",
              "      <td>f</td>\n",
              "      <td>c</td>\n",
              "      <td>b</td>\n",
              "      <td>k</td>\n",
              "      <td>e</td>\n",
              "      <td>c</td>\n",
              "      <td>s</td>\n",
              "      <td>s</td>\n",
              "      <td>w</td>\n",
              "      <td>w</td>\n",
              "      <td>w</td>\n",
              "      <td>o</td>\n",
              "      <td>p</td>\n",
              "      <td>n</td>\n",
              "      <td>n</td>\n",
              "      <td>g</td>\n",
              "    </tr>\n",
              "    <tr>\n",
              "      <th>2</th>\n",
              "      <td>e</td>\n",
              "      <td>b</td>\n",
              "      <td>s</td>\n",
              "      <td>w</td>\n",
              "      <td>t</td>\n",
              "      <td>l</td>\n",
              "      <td>f</td>\n",
              "      <td>c</td>\n",
              "      <td>b</td>\n",
              "      <td>n</td>\n",
              "      <td>e</td>\n",
              "      <td>c</td>\n",
              "      <td>s</td>\n",
              "      <td>s</td>\n",
              "      <td>w</td>\n",
              "      <td>w</td>\n",
              "      <td>w</td>\n",
              "      <td>o</td>\n",
              "      <td>p</td>\n",
              "      <td>n</td>\n",
              "      <td>n</td>\n",
              "      <td>m</td>\n",
              "    </tr>\n",
              "    <tr>\n",
              "      <th>3</th>\n",
              "      <td>p</td>\n",
              "      <td>x</td>\n",
              "      <td>y</td>\n",
              "      <td>w</td>\n",
              "      <td>t</td>\n",
              "      <td>p</td>\n",
              "      <td>f</td>\n",
              "      <td>c</td>\n",
              "      <td>n</td>\n",
              "      <td>n</td>\n",
              "      <td>e</td>\n",
              "      <td>e</td>\n",
              "      <td>s</td>\n",
              "      <td>s</td>\n",
              "      <td>w</td>\n",
              "      <td>w</td>\n",
              "      <td>w</td>\n",
              "      <td>o</td>\n",
              "      <td>p</td>\n",
              "      <td>k</td>\n",
              "      <td>s</td>\n",
              "      <td>u</td>\n",
              "    </tr>\n",
              "    <tr>\n",
              "      <th>4</th>\n",
              "      <td>e</td>\n",
              "      <td>x</td>\n",
              "      <td>s</td>\n",
              "      <td>g</td>\n",
              "      <td>f</td>\n",
              "      <td>n</td>\n",
              "      <td>f</td>\n",
              "      <td>w</td>\n",
              "      <td>b</td>\n",
              "      <td>k</td>\n",
              "      <td>t</td>\n",
              "      <td>e</td>\n",
              "      <td>s</td>\n",
              "      <td>s</td>\n",
              "      <td>w</td>\n",
              "      <td>w</td>\n",
              "      <td>w</td>\n",
              "      <td>o</td>\n",
              "      <td>e</td>\n",
              "      <td>n</td>\n",
              "      <td>a</td>\n",
              "      <td>g</td>\n",
              "    </tr>\n",
              "  </tbody>\n",
              "</table>\n",
              "</div>"
            ],
            "text/plain": [
              "  edibility shape surface color  ... ring_type spore_print population habitat\n",
              "0         p     x       s     n  ...         p           k          s       u\n",
              "1         e     x       s     y  ...         p           n          n       g\n",
              "2         e     b       s     w  ...         p           n          n       m\n",
              "3         p     x       y     w  ...         p           k          s       u\n",
              "4         e     x       s     g  ...         e           n          a       g\n",
              "\n",
              "[5 rows x 22 columns]"
            ]
          },
          "metadata": {
            "tags": []
          },
          "execution_count": 103
        }
      ]
    },
    {
      "cell_type": "markdown",
      "metadata": {
        "id": "88wwh1rMWg-Y",
        "colab_type": "text"
      },
      "source": [
        "Then we need to convert all categorical features into numerical representatives."
      ]
    },
    {
      "cell_type": "code",
      "metadata": {
        "id": "szrXK5AjT78y",
        "colab_type": "code",
        "colab": {}
      },
      "source": [
        "#labelEncoder\n",
        "from sklearn.preprocessing import LabelEncoder\n",
        "\n",
        "labelencoder=LabelEncoder()\n",
        "for column in df2.columns:\n",
        "    df2[column] = labelencoder.fit_transform(df2[column])"
      ],
      "execution_count": 69,
      "outputs": []
    },
    {
      "cell_type": "code",
      "metadata": {
        "id": "snZ2VWVtaD-y",
        "colab_type": "code",
        "colab": {
          "base_uri": "https://localhost:8080/",
          "height": 224
        },
        "outputId": "d5366781-06b6-457c-85fc-0bc62d534fa2"
      },
      "source": [
        "df2.head()"
      ],
      "execution_count": null,
      "outputs": [
        {
          "output_type": "execute_result",
          "data": {
            "text/html": [
              "<div>\n",
              "<style scoped>\n",
              "    .dataframe tbody tr th:only-of-type {\n",
              "        vertical-align: middle;\n",
              "    }\n",
              "\n",
              "    .dataframe tbody tr th {\n",
              "        vertical-align: top;\n",
              "    }\n",
              "\n",
              "    .dataframe thead th {\n",
              "        text-align: right;\n",
              "    }\n",
              "</style>\n",
              "<table border=\"1\" class=\"dataframe\">\n",
              "  <thead>\n",
              "    <tr style=\"text-align: right;\">\n",
              "      <th></th>\n",
              "      <th>edibility</th>\n",
              "      <th>shape</th>\n",
              "      <th>surface</th>\n",
              "      <th>color</th>\n",
              "      <th>bruises</th>\n",
              "      <th>odor</th>\n",
              "      <th>gill_attach</th>\n",
              "      <th>gill_spacing</th>\n",
              "      <th>gill_size</th>\n",
              "      <th>gill_color</th>\n",
              "      <th>stalk_shape</th>\n",
              "      <th>stalk_root</th>\n",
              "      <th>stalk_surface_above</th>\n",
              "      <th>stalk_surface_below</th>\n",
              "      <th>stalk_color_above</th>\n",
              "      <th>stalk_color_below</th>\n",
              "      <th>veil_color</th>\n",
              "      <th>ring_number</th>\n",
              "      <th>ring_type</th>\n",
              "      <th>spore_print</th>\n",
              "      <th>population</th>\n",
              "      <th>habitat</th>\n",
              "    </tr>\n",
              "  </thead>\n",
              "  <tbody>\n",
              "    <tr>\n",
              "      <th>0</th>\n",
              "      <td>1</td>\n",
              "      <td>5</td>\n",
              "      <td>2</td>\n",
              "      <td>4</td>\n",
              "      <td>1</td>\n",
              "      <td>6</td>\n",
              "      <td>1</td>\n",
              "      <td>0</td>\n",
              "      <td>1</td>\n",
              "      <td>4</td>\n",
              "      <td>0</td>\n",
              "      <td>3</td>\n",
              "      <td>2</td>\n",
              "      <td>2</td>\n",
              "      <td>7</td>\n",
              "      <td>7</td>\n",
              "      <td>2</td>\n",
              "      <td>1</td>\n",
              "      <td>4</td>\n",
              "      <td>2</td>\n",
              "      <td>3</td>\n",
              "      <td>5</td>\n",
              "    </tr>\n",
              "    <tr>\n",
              "      <th>1</th>\n",
              "      <td>0</td>\n",
              "      <td>5</td>\n",
              "      <td>2</td>\n",
              "      <td>9</td>\n",
              "      <td>1</td>\n",
              "      <td>0</td>\n",
              "      <td>1</td>\n",
              "      <td>0</td>\n",
              "      <td>0</td>\n",
              "      <td>4</td>\n",
              "      <td>0</td>\n",
              "      <td>2</td>\n",
              "      <td>2</td>\n",
              "      <td>2</td>\n",
              "      <td>7</td>\n",
              "      <td>7</td>\n",
              "      <td>2</td>\n",
              "      <td>1</td>\n",
              "      <td>4</td>\n",
              "      <td>3</td>\n",
              "      <td>2</td>\n",
              "      <td>1</td>\n",
              "    </tr>\n",
              "    <tr>\n",
              "      <th>2</th>\n",
              "      <td>0</td>\n",
              "      <td>0</td>\n",
              "      <td>2</td>\n",
              "      <td>8</td>\n",
              "      <td>1</td>\n",
              "      <td>3</td>\n",
              "      <td>1</td>\n",
              "      <td>0</td>\n",
              "      <td>0</td>\n",
              "      <td>5</td>\n",
              "      <td>0</td>\n",
              "      <td>2</td>\n",
              "      <td>2</td>\n",
              "      <td>2</td>\n",
              "      <td>7</td>\n",
              "      <td>7</td>\n",
              "      <td>2</td>\n",
              "      <td>1</td>\n",
              "      <td>4</td>\n",
              "      <td>3</td>\n",
              "      <td>2</td>\n",
              "      <td>3</td>\n",
              "    </tr>\n",
              "    <tr>\n",
              "      <th>3</th>\n",
              "      <td>1</td>\n",
              "      <td>5</td>\n",
              "      <td>3</td>\n",
              "      <td>8</td>\n",
              "      <td>1</td>\n",
              "      <td>6</td>\n",
              "      <td>1</td>\n",
              "      <td>0</td>\n",
              "      <td>1</td>\n",
              "      <td>5</td>\n",
              "      <td>0</td>\n",
              "      <td>3</td>\n",
              "      <td>2</td>\n",
              "      <td>2</td>\n",
              "      <td>7</td>\n",
              "      <td>7</td>\n",
              "      <td>2</td>\n",
              "      <td>1</td>\n",
              "      <td>4</td>\n",
              "      <td>2</td>\n",
              "      <td>3</td>\n",
              "      <td>5</td>\n",
              "    </tr>\n",
              "    <tr>\n",
              "      <th>4</th>\n",
              "      <td>0</td>\n",
              "      <td>5</td>\n",
              "      <td>2</td>\n",
              "      <td>3</td>\n",
              "      <td>0</td>\n",
              "      <td>5</td>\n",
              "      <td>1</td>\n",
              "      <td>1</td>\n",
              "      <td>0</td>\n",
              "      <td>4</td>\n",
              "      <td>1</td>\n",
              "      <td>3</td>\n",
              "      <td>2</td>\n",
              "      <td>2</td>\n",
              "      <td>7</td>\n",
              "      <td>7</td>\n",
              "      <td>2</td>\n",
              "      <td>1</td>\n",
              "      <td>0</td>\n",
              "      <td>3</td>\n",
              "      <td>0</td>\n",
              "      <td>1</td>\n",
              "    </tr>\n",
              "  </tbody>\n",
              "</table>\n",
              "</div>"
            ],
            "text/plain": [
              "   edibility  shape  surface  ...  spore_print  population  habitat\n",
              "0          1      5        2  ...            2           3        5\n",
              "1          0      5        2  ...            3           2        1\n",
              "2          0      0        2  ...            3           2        3\n",
              "3          1      5        3  ...            2           3        5\n",
              "4          0      5        2  ...            3           0        1\n",
              "\n",
              "[5 rows x 22 columns]"
            ]
          },
          "metadata": {
            "tags": []
          },
          "execution_count": 105
        }
      ]
    },
    {
      "cell_type": "markdown",
      "metadata": {
        "id": "vLCwA2mT7Tyo",
        "colab_type": "text"
      },
      "source": [
        "\n",
        "\n",
        "We will resample the imbalance data later in modeling part."
      ]
    },
    {
      "cell_type": "markdown",
      "metadata": {
        "id": "Gnp5Y_cVbiC2",
        "colab_type": "text"
      },
      "source": [
        "Now we can __re-run EDA__ to see the change."
      ]
    },
    {
      "cell_type": "code",
      "metadata": {
        "id": "CEEY-BxEbajc",
        "colab_type": "code",
        "colab": {
          "base_uri": "https://localhost:8080/",
          "height": 992
        },
        "outputId": "98ff7906-d17d-436d-cbc2-aaf7bff98920"
      },
      "source": [
        "#plot all the categorical data\n",
        "fig, axes =plt.subplots(6,4, figsize=(15,15)) #, sharex=True\n",
        "axes = axes.flatten()\n",
        "\n",
        "#remove last two plot\n",
        "axes.flat[-1].set_visible(False)\n",
        "axes.flat[-2].set_visible(False)\n",
        "\n",
        "object_bol = df.dtypes == 'object'\n",
        "\n",
        "for ax, catplot in zip(axes, df2.dtypes[object_bol].index):\n",
        "    sns.countplot(x=catplot, data=df2, ax=ax)\n",
        "\n",
        "plt.tight_layout()  \n",
        "#show the plot\n",
        "plt.show()"
      ],
      "execution_count": null,
      "outputs": [
        {
          "output_type": "display_data",
          "data": {
            "image/png": "[encoded data removed]",
            "text/plain": [
              "<Figure size 1080x1080 with 24 Axes>"
            ]
          },
          "metadata": {
            "tags": [],
            "needs_background": "light"
          }
        }
      ]
    },
    {
      "cell_type": "markdown",
      "metadata": {
        "id": "WeMjYjupb7j7",
        "colab_type": "text"
      },
      "source": [
        "We can see that all the columns name change into number and there is no veil type."
      ]
    },
    {
      "cell_type": "markdown",
      "metadata": {
        "id": "D2atw7sUBwDP",
        "colab_type": "text"
      },
      "source": [
        "## Decision Tree + Random Forest Modeling & Select Model"
      ]
    },
    {
      "cell_type": "markdown",
      "metadata": {
        "id": "olLKKx77Z_74",
        "colab_type": "text"
      },
      "source": [
        "### Feature selection"
      ]
    },
    {
      "cell_type": "markdown",
      "metadata": {
        "id": "O5LhQ0IxK6lw",
        "colab_type": "text"
      },
      "source": [
        "Since all the attributes are categorical, PCA will not be suitable for feature selection in this project. We can either use decision tree or randomforest to do feature selection. In this section, instead of using these two decision tree related method, We will introduce chi-squared statistic for feature selection. To use chi-square test，we also need to run labelencoder to the categorical variable. Then select K best function is to select the k lowest p-values based on chi2 Statistics. Thus p value gave the score of these relevant features."
      ]
    },
    {
      "cell_type": "markdown",
      "metadata": {
        "id": "Vy80y-pJEjtC",
        "colab_type": "text"
      },
      "source": [
        " **Chi-Squared Feature Selection**"
      ]
    },
    {
      "cell_type": "code",
      "metadata": {
        "id": "263aZLvaWuYX",
        "colab_type": "code",
        "colab": {
          "base_uri": "https://localhost:8080/",
          "height": 651
        },
        "outputId": "09c2bdad-9f20-437e-81fa-66f71b4756b0"
      },
      "source": [
        "# load library\n",
        "from pandas import read_csv\n",
        "from sklearn.model_selection import train_test_split\n",
        "from sklearn.preprocessing import LabelEncoder\n",
        "from sklearn.preprocessing import OrdinalEncoder\n",
        "from sklearn.feature_selection import SelectKBest\n",
        "from sklearn.feature_selection import chi2\n",
        "from matplotlib import pyplot\n",
        " \n",
        "# load the dataset\n",
        "def load_dataset(filename):\n",
        "\t# load the dataset as a pandas DataFrame\n",
        "\tdata = read_csv(filename, header=None)\n",
        "\t# retrieve numpy array\n",
        "\tdataset = data.values\n",
        "\t# split into input (X) and output (y) variables\n",
        "\t#x is all the attributes\n",
        "\t# y is our response variable\n",
        "\tX = dataset[:, :23]\n",
        "\ty = dataset[:,17]\n",
        "\t# format all fields as string\n",
        "\tX = X.astype(str)\n",
        "\treturn X, y\n",
        " \n",
        "# prepare input data\n",
        "def prepare_inputs(X_train, X_test):\n",
        "\toe = OrdinalEncoder()\n",
        "\toe.fit(X_train)\n",
        "\tX_train_enc = oe.transform(X_train)\n",
        "\tX_test_enc = oe.transform(X_test)\n",
        "\treturn X_train_enc, X_test_enc\n",
        " \n",
        "# prepare target\n",
        "def prepare_targets(y_train, y_test):\n",
        "\tle = LabelEncoder()\n",
        "\tle.fit(y_train)\n",
        "\ty_train_enc = le.transform(y_train)\n",
        "\ty_test_enc = le.transform(y_test)\n",
        "\treturn y_train_enc, y_test_enc\n",
        " \n",
        "# feature selection use chisquare testing\n",
        "def select_features(X_train, y_train, X_test):\n",
        "\tfs = SelectKBest(score_func=chi2, k='all')\n",
        "\tfs.fit(X_train, y_train)\n",
        "\tX_train_fs = fs.transform(X_train)\n",
        "\tX_test_fs = fs.transform(X_test)\n",
        "\treturn X_train_fs, X_test_fs, fs\n",
        " \n",
        "# load the dataset\n",
        "X, y = load_dataset('https://raw.githubusercontent.com/gegeli638/DAV-6150/master/M11_Data.csv')\n",
        "# split into train and test sets\n",
        "X_train, X_test, y_train, y_test = train_test_split(X, y, test_size=0.2, random_state=22)\n",
        "# prepare input data\n",
        "X_train_enc, X_test_enc = prepare_inputs(X_train, X_test)\n",
        "# prepare output data\n",
        "y_train_enc, y_test_enc = prepare_targets(y_train, y_test)\n",
        "# feature selection\n",
        "X_train_fs, X_test_fs, fs = select_features(X_train_enc, y_train_enc, X_test_enc)\n",
        "# what are scores for the features\n",
        "for i in range(len(fs.scores_)):\n",
        "\tprint('Feature %d: %f' % (i, fs.scores_[i]))\n",
        "# plot the scores\n",
        "pyplot.bar([i for i in range(len(fs.scores_))], fs.scores_)\n",
        "pyplot.show()"
      ],
      "execution_count": 70,
      "outputs": [
        {
          "output_type": "stream",
          "text": [
            "Feature 0: 75.111805\n",
            "Feature 1: 26.480114\n",
            "Feature 2: 8.406505\n",
            "Feature 3: 43.965931\n",
            "Feature 4: 63.273472\n",
            "Feature 5: 27.856508\n",
            "Feature 6: 142.662569\n",
            "Feature 7: 58.197847\n",
            "Feature 8: 57.374291\n",
            "Feature 9: 233.150867\n",
            "Feature 10: 87.583806\n",
            "Feature 11: 167.110021\n",
            "Feature 12: 27.889136\n",
            "Feature 13: 24.933164\n",
            "Feature 14: 22.933375\n",
            "Feature 15: 22.280173\n",
            "Feature 16: nan\n",
            "Feature 17: 181.613508\n",
            "Feature 18: 0.705147\n",
            "Feature 19: 211.673659\n",
            "Feature 20: 26.027192\n",
            "Feature 21: 63.817035\n",
            "Feature 22: 23.441219\n"
          ],
          "name": "stdout"
        },
        {
          "output_type": "display_data",
          "data": {
            "image/png": "[encoded data removed]",
            "text/plain": [
              "<Figure size 432x288 with 1 Axes>"
            ]
          },
          "metadata": {
            "tags": [],
            "needs_background": "light"
          }
        }
      ]
    },
    {
      "cell_type": "markdown",
      "metadata": {
        "id": "1GQta7lZvl5t",
        "colab_type": "text"
      },
      "source": [
        "Now, we have feature importance scores for each input features. feature 16 did not give output due to the fact we delete this features before we run the test. Then based on the score, we choose the following features:\n",
        "- feature 0, which is edibility\n",
        "- feature 6, which is gill_attach \n",
        "- feature 9, which is gill_color\n",
        "- feature 10, which is stalk_shape\n",
        "- feature 11, which is stalk_root  \n",
        "- feature 19, which is ring_type       \n",
        "- feature 21, which is population\n"
      ]
    },
    {
      "cell_type": "markdown",
      "metadata": {
        "id": "ekhoajQROWUd",
        "colab_type": "text"
      },
      "source": [
        "Overall, we use chi-square, EDA and domain knowledge to select three sets of features. \n",
        "- chi-square: edibility, gill_attach, gill-color,stalk_shape, stalk-root, ring-type, and population.\n",
        "\n",
        "- EDA:edibility, stalk_surface_above\t, stalk_surface_below, gill size,bruises,ring number and habitat.\n",
        "\n",
        "- domain knowledge: edibility, spore_print,habitat(sun light,water, etc)\n",
        "\n",
        "By combine them, we finally decide to use these features:\n",
        "- __First Model__-- \n",
        "We use EDA and domain knowlege to select these features: edibility, stalk_surface_above, stalk_surface_below, gill_size, bruises, spore_print, ring_number, and habitat.\n",
        "\n",
        "- __Second Model__ -- \n",
        "For another model, we select features based on Chi square testing:\n",
        "edibility, gill_attach, gill-color, stalk_shape, stalk-root, ring-type, and population.\n"
      ]
    },
    {
      "cell_type": "code",
      "metadata": {
        "id": "tlqkpWRnHn2v",
        "colab_type": "code",
        "colab": {
          "base_uri": "https://localhost:8080/",
          "height": 195
        },
        "outputId": "405928a2-591a-414a-c750-c84b2f52d134"
      },
      "source": [
        "from sklearn.preprocessing import LabelEncoder\n",
        "new_df1 = df.edibility\n",
        "new_df1= pd.concat([new_df1,df[['stalk_surface_above', 'stalk_surface_below', \n",
        "              'gill_size', 'bruises', 'spore_print', 'ring_number', 'habitat','veil_color']]],axis='columns')\n",
        "new_df1\n",
        "le_edibility = LabelEncoder() \n",
        "le_stalk_surface_above = LabelEncoder()   \n",
        "le_stalk_surface_below = LabelEncoder()\n",
        "le_gill_size = LabelEncoder()\n",
        "le_bruises = LabelEncoder()\n",
        "le_spore_print = LabelEncoder()\n",
        "le_ring_number = LabelEncoder()\n",
        "le_habitat = LabelEncoder()\n",
        "le_veil_color = LabelEncoder()\n",
        "\n",
        "new_df1['edibility'] = le_edibility.fit_transform(new_df1['edibility'])\n",
        "new_df1['stalk_surface_below'] = le_stalk_surface_below.fit_transform(new_df1['stalk_surface_below'])        \n",
        "new_df1['gill_size'] = le_gill_size.fit_transform(new_df1['gill_size'])\n",
        "new_df1['stalk_surface_above'] = le_stalk_surface_above.fit_transform(new_df1['stalk_surface_above'])\n",
        "new_df1['bruises'] = le_bruises.fit_transform(new_df1['bruises'])\n",
        "new_df1['spore_print'] = le_spore_print.fit_transform(new_df1['spore_print'])\n",
        "new_df1['ring_number'] = le_ring_number.fit_transform(new_df1['ring_number'])\n",
        "new_df1['habitat'] = le_habitat.fit_transform(new_df1['habitat'])\n",
        "new_df1['veil_color'] = le_veil_color.fit_transform(new_df1['veil_color'])\n",
        "#new_df = new_df.drop(['gill_spacing','stalk_surface_above','veil_color'],axis='columns') \n",
        "\n",
        "new_df1.head()"
      ],
      "execution_count": 72,
      "outputs": [
        {
          "output_type": "execute_result",
          "data": {
            "text/html": [
              "<div>\n",
              "<style scoped>\n",
              "    .dataframe tbody tr th:only-of-type {\n",
              "        vertical-align: middle;\n",
              "    }\n",
              "\n",
              "    .dataframe tbody tr th {\n",
              "        vertical-align: top;\n",
              "    }\n",
              "\n",
              "    .dataframe thead th {\n",
              "        text-align: right;\n",
              "    }\n",
              "</style>\n",
              "<table border=\"1\" class=\"dataframe\">\n",
              "  <thead>\n",
              "    <tr style=\"text-align: right;\">\n",
              "      <th></th>\n",
              "      <th>edibility</th>\n",
              "      <th>stalk_surface_above</th>\n",
              "      <th>stalk_surface_below</th>\n",
              "      <th>gill_size</th>\n",
              "      <th>bruises</th>\n",
              "      <th>spore_print</th>\n",
              "      <th>ring_number</th>\n",
              "      <th>habitat</th>\n",
              "      <th>veil_color</th>\n",
              "    </tr>\n",
              "  </thead>\n",
              "  <tbody>\n",
              "    <tr>\n",
              "      <th>0</th>\n",
              "      <td>1</td>\n",
              "      <td>2</td>\n",
              "      <td>2</td>\n",
              "      <td>1</td>\n",
              "      <td>1</td>\n",
              "      <td>2</td>\n",
              "      <td>1</td>\n",
              "      <td>5</td>\n",
              "      <td>2</td>\n",
              "    </tr>\n",
              "    <tr>\n",
              "      <th>1</th>\n",
              "      <td>0</td>\n",
              "      <td>2</td>\n",
              "      <td>2</td>\n",
              "      <td>0</td>\n",
              "      <td>1</td>\n",
              "      <td>3</td>\n",
              "      <td>1</td>\n",
              "      <td>1</td>\n",
              "      <td>2</td>\n",
              "    </tr>\n",
              "    <tr>\n",
              "      <th>2</th>\n",
              "      <td>0</td>\n",
              "      <td>2</td>\n",
              "      <td>2</td>\n",
              "      <td>0</td>\n",
              "      <td>1</td>\n",
              "      <td>3</td>\n",
              "      <td>1</td>\n",
              "      <td>3</td>\n",
              "      <td>2</td>\n",
              "    </tr>\n",
              "    <tr>\n",
              "      <th>3</th>\n",
              "      <td>1</td>\n",
              "      <td>2</td>\n",
              "      <td>2</td>\n",
              "      <td>1</td>\n",
              "      <td>1</td>\n",
              "      <td>2</td>\n",
              "      <td>1</td>\n",
              "      <td>5</td>\n",
              "      <td>2</td>\n",
              "    </tr>\n",
              "    <tr>\n",
              "      <th>4</th>\n",
              "      <td>0</td>\n",
              "      <td>2</td>\n",
              "      <td>2</td>\n",
              "      <td>0</td>\n",
              "      <td>0</td>\n",
              "      <td>3</td>\n",
              "      <td>1</td>\n",
              "      <td>1</td>\n",
              "      <td>2</td>\n",
              "    </tr>\n",
              "  </tbody>\n",
              "</table>\n",
              "</div>"
            ],
            "text/plain": [
              "   edibility  stalk_surface_above  ...  habitat  veil_color\n",
              "0          1                    2  ...        5           2\n",
              "1          0                    2  ...        1           2\n",
              "2          0                    2  ...        3           2\n",
              "3          1                    2  ...        5           2\n",
              "4          0                    2  ...        1           2\n",
              "\n",
              "[5 rows x 9 columns]"
            ]
          },
          "metadata": {
            "tags": []
          },
          "execution_count": 72
        }
      ]
    },
    {
      "cell_type": "code",
      "metadata": {
        "id": "UgK98xibyifV",
        "colab_type": "code",
        "colab": {}
      },
      "source": [
        "# model 1 --- explanatory variables from EDA and domain knowlege \n",
        "from sklearn.model_selection import train_test_split\n",
        "\n",
        "X1 = new_df1[['edibility', 'stalk_surface_above', 'stalk_surface_below', 'gill_size', 'bruises', 'spore_print', 'ring_number', 'habitat']]\n",
        "y = new_df1['veil_color']\n",
        "\n",
        "X1_train, X1_test, y1_train, y1_test = train_test_split(X1, y, test_size=0.2, shuffle=True,random_state=2020)"
      ],
      "execution_count": 73,
      "outputs": []
    },
    {
      "cell_type": "code",
      "metadata": {
        "id": "erEOQgy1JsrR",
        "colab_type": "code",
        "colab": {
          "base_uri": "https://localhost:8080/",
          "height": 195
        },
        "outputId": "340a8ff9-4f69-4cf3-c6d9-54020b752401"
      },
      "source": [
        "from sklearn.preprocessing import LabelEncoder\n",
        "new_df2 = df.edibility\n",
        "new_df2= pd.concat([new_df2,df[['population', 'gill_attach', 'gill_color', \n",
        "                'stalk_shape', 'stalk_root', 'ring_type', 'veil_color']]],axis='columns')\n",
        "new_df2\n",
        "le_edibility = LabelEncoder()\n",
        "le_population = LabelEncoder()    \n",
        "le_gill_attach = LabelEncoder()\n",
        "le_gill_color = LabelEncoder()\n",
        "le_stalk_shape = LabelEncoder()\n",
        "le_stalk_root = LabelEncoder()\n",
        "le_ring_type = LabelEncoder()\n",
        "le_population = LabelEncoder()\n",
        "le_veil_color = LabelEncoder()\n",
        "\n",
        "new_df2['edibility'] = le_edibility.fit_transform(new_df2['edibility'])\n",
        "new_df2['population'] = le_population.fit_transform(new_df2['population'])\n",
        "new_df2['gill_attach'] = le_gill_attach.fit_transform(new_df2['gill_attach'])        \n",
        "new_df2['gill_color'] = le_gill_color.fit_transform(new_df2['gill_color'])\n",
        "new_df2['stalk_shape'] = le_stalk_shape.fit_transform(new_df2['stalk_shape'])\n",
        "new_df2['stalk_root'] = le_stalk_root.fit_transform(new_df2['stalk_root'])\n",
        "new_df2['ring_type'] = le_ring_type.fit_transform(new_df2['ring_type'])\n",
        "new_df2['population'] = le_population.fit_transform(new_df2['population'])\n",
        "new_df2['veil_color'] = le_veil_color.fit_transform(new_df2['veil_color'])\n",
        "#new_df = new_df.drop(['gill_spacing','stalk_surface_above','veil_color'],axis='columns') \n",
        "\n",
        "new_df2.head()"
      ],
      "execution_count": 75,
      "outputs": [
        {
          "output_type": "execute_result",
          "data": {
            "text/html": [
              "<div>\n",
              "<style scoped>\n",
              "    .dataframe tbody tr th:only-of-type {\n",
              "        vertical-align: middle;\n",
              "    }\n",
              "\n",
              "    .dataframe tbody tr th {\n",
              "        vertical-align: top;\n",
              "    }\n",
              "\n",
              "    .dataframe thead th {\n",
              "        text-align: right;\n",
              "    }\n",
              "</style>\n",
              "<table border=\"1\" class=\"dataframe\">\n",
              "  <thead>\n",
              "    <tr style=\"text-align: right;\">\n",
              "      <th></th>\n",
              "      <th>edibility</th>\n",
              "      <th>population</th>\n",
              "      <th>gill_attach</th>\n",
              "      <th>gill_color</th>\n",
              "      <th>stalk_shape</th>\n",
              "      <th>stalk_root</th>\n",
              "      <th>ring_type</th>\n",
              "      <th>veil_color</th>\n",
              "    </tr>\n",
              "  </thead>\n",
              "  <tbody>\n",
              "    <tr>\n",
              "      <th>0</th>\n",
              "      <td>1</td>\n",
              "      <td>3</td>\n",
              "      <td>1</td>\n",
              "      <td>4</td>\n",
              "      <td>0</td>\n",
              "      <td>3</td>\n",
              "      <td>4</td>\n",
              "      <td>2</td>\n",
              "    </tr>\n",
              "    <tr>\n",
              "      <th>1</th>\n",
              "      <td>0</td>\n",
              "      <td>2</td>\n",
              "      <td>1</td>\n",
              "      <td>4</td>\n",
              "      <td>0</td>\n",
              "      <td>2</td>\n",
              "      <td>4</td>\n",
              "      <td>2</td>\n",
              "    </tr>\n",
              "    <tr>\n",
              "      <th>2</th>\n",
              "      <td>0</td>\n",
              "      <td>2</td>\n",
              "      <td>1</td>\n",
              "      <td>5</td>\n",
              "      <td>0</td>\n",
              "      <td>2</td>\n",
              "      <td>4</td>\n",
              "      <td>2</td>\n",
              "    </tr>\n",
              "    <tr>\n",
              "      <th>3</th>\n",
              "      <td>1</td>\n",
              "      <td>3</td>\n",
              "      <td>1</td>\n",
              "      <td>5</td>\n",
              "      <td>0</td>\n",
              "      <td>3</td>\n",
              "      <td>4</td>\n",
              "      <td>2</td>\n",
              "    </tr>\n",
              "    <tr>\n",
              "      <th>4</th>\n",
              "      <td>0</td>\n",
              "      <td>0</td>\n",
              "      <td>1</td>\n",
              "      <td>4</td>\n",
              "      <td>1</td>\n",
              "      <td>3</td>\n",
              "      <td>0</td>\n",
              "      <td>2</td>\n",
              "    </tr>\n",
              "  </tbody>\n",
              "</table>\n",
              "</div>"
            ],
            "text/plain": [
              "   edibility  population  gill_attach  ...  stalk_root  ring_type  veil_color\n",
              "0          1           3            1  ...           3          4           2\n",
              "1          0           2            1  ...           2          4           2\n",
              "2          0           2            1  ...           2          4           2\n",
              "3          1           3            1  ...           3          4           2\n",
              "4          0           0            1  ...           3          0           2\n",
              "\n",
              "[5 rows x 8 columns]"
            ]
          },
          "metadata": {
            "tags": []
          },
          "execution_count": 75
        }
      ]
    },
    {
      "cell_type": "code",
      "metadata": {
        "id": "uHp8NhFRyxpu",
        "colab_type": "code",
        "colab": {}
      },
      "source": [
        "# model 2 --- explanatory variables from chi square\n",
        "from sklearn.model_selection import train_test_split\n",
        "\n",
        "X2 = new_df2[['edibility', 'gill_attach', 'gill_color', 'stalk_shape', 'stalk_root', 'ring_type', 'population']] \n",
        "y = new_df2['veil_color']\n",
        "\n",
        "X2_train, X2_test, y2_train, y2_test = train_test_split(X2, y, test_size=0.2, shuffle=True,random_state=2020)"
      ],
      "execution_count": 77,
      "outputs": []
    },
    {
      "cell_type": "markdown",
      "metadata": {
        "id": "bU0QVvn8GSRM",
        "colab_type": "text"
      },
      "source": [
        "After we got preparation for building models, now we can start the decision tree and random forest"
      ]
    },
    {
      "cell_type": "markdown",
      "metadata": {
        "id": "3gdYr1r_ByZ1",
        "colab_type": "text"
      },
      "source": [
        "### Decision Tree"
      ]
    },
    {
      "cell_type": "markdown",
      "metadata": {
        "id": "NOEBagB02-ma",
        "colab_type": "text"
      },
      "source": [
        "We do not want each simulation gave different result so we set random state as certain value. \n",
        "Although a larger max depth value can give a higher accuracy, this higher value also provide higher risks of overfitting. For the sake of performance and low-risk, Max depth value is set at 5 ."
      ]
    },
    {
      "cell_type": "markdown",
      "metadata": {
        "id": "TQhrIad-5_Uc",
        "colab_type": "text"
      },
      "source": [
        "__Decison Tree model 1__ "
      ]
    },
    {
      "cell_type": "code",
      "metadata": {
        "id": "G9LyW8rZCNw8",
        "colab_type": "code",
        "colab": {
          "base_uri": "https://localhost:8080/",
          "height": 202
        },
        "outputId": "51e8b31b-dbc4-4c72-8cbc-a91c32133408"
      },
      "source": [
        "import time\n",
        "start = time.time()\n",
        "\n",
        "from sklearn.tree import DecisionTreeClassifier\n",
        "from sklearn.metrics import accuracy_score\n",
        "\n",
        "dt_clf = DecisionTreeClassifier(max_depth=5, random_state=42)\n",
        "dt_clf.fit(X1_train , y1_train)\n",
        "DTpred1 = dt_clf.predict(X1_test)\n",
        "probablility = dt_clf.predict_proba(X1_test)\n",
        "\n",
        "print('type the predict:\\n',DTpred1) #output is the type the predict\n",
        "print('\\nprobablility of every type:\\n',probablility)   #output is the probablility of every type"
      ],
      "execution_count": 78,
      "outputs": [
        {
          "output_type": "stream",
          "text": [
            "type the predict:\n",
            " [2 2 2 ... 2 2 2]\n",
            "\n",
            "probablility of every type:\n",
            " [[0. 0. 1. 0.]\n",
            " [0. 0. 1. 0.]\n",
            " [0. 0. 1. 0.]\n",
            " ...\n",
            " [0. 0. 1. 0.]\n",
            " [0. 0. 1. 0.]\n",
            " [0. 0. 1. 0.]]\n"
          ],
          "name": "stdout"
        }
      ]
    },
    {
      "cell_type": "code",
      "metadata": {
        "id": "G1U_QxMgPtNh",
        "colab_type": "code",
        "colab": {
          "base_uri": "https://localhost:8080/",
          "height": 34
        },
        "outputId": "e54da49e-acd3-45af-d267-b91c15599201"
      },
      "source": [
        "end = time.time()\n",
        "running_time = end-start\n",
        "print('DecisionTree-1 time cost : %.5f sec' %running_time)"
      ],
      "execution_count": 79,
      "outputs": [
        {
          "output_type": "stream",
          "text": [
            "DecisionTree-1 time cost : 3.84380 sec\n"
          ],
          "name": "stdout"
        }
      ]
    },
    {
      "cell_type": "code",
      "metadata": {
        "id": "mDyIVmDHIIbh",
        "colab_type": "code",
        "colab": {
          "base_uri": "https://localhost:8080/",
          "height": 34
        },
        "outputId": "7e03ddc4-9a09-47ac-89d1-42c52e3be897"
      },
      "source": [
        "# count result \n",
        "unique, counts = np.unique(DTpred1, return_counts=True)\n",
        "dict(zip(unique, counts))"
      ],
      "execution_count": 80,
      "outputs": [
        {
          "output_type": "execute_result",
          "data": {
            "text/plain": [
              "{0: 12, 1: 11, 2: 1601, 3: 1}"
            ]
          },
          "metadata": {
            "tags": []
          },
          "execution_count": 80
        }
      ]
    },
    {
      "cell_type": "code",
      "metadata": {
        "id": "RmUVuzvWJuEB",
        "colab_type": "code",
        "colab": {
          "base_uri": "https://localhost:8080/",
          "height": 34
        },
        "outputId": "a579a351-1752-490e-9161-fa15f82784e3"
      },
      "source": [
        "# return orig value\n",
        "from sklearn import preprocessing\n",
        "le_veil_color.inverse_transform(DTpred1) "
      ],
      "execution_count": 81,
      "outputs": [
        {
          "output_type": "execute_result",
          "data": {
            "text/plain": [
              "array(['w', 'w', 'w', ..., 'w', 'w', 'w'], dtype=object)"
            ]
          },
          "metadata": {
            "tags": []
          },
          "execution_count": 81
        }
      ]
    },
    {
      "cell_type": "code",
      "metadata": {
        "id": "Bt9wTnSUHFnU",
        "colab_type": "code",
        "colab": {
          "base_uri": "https://localhost:8080/",
          "height": 70
        },
        "outputId": "28a18ed7-52c8-42d9-f0e5-6c6db1ea86ab"
      },
      "source": [
        "print('DecisionTreeClassifier basic hyperparameters:\\n', dt_clf.get_params())"
      ],
      "execution_count": 82,
      "outputs": [
        {
          "output_type": "stream",
          "text": [
            "DecisionTreeClassifier basic hyperparameters:\n",
            " {'ccp_alpha': 0.0, 'class_weight': None, 'criterion': 'gini', 'max_depth': 5, 'max_features': None, 'max_leaf_nodes': None, 'min_impurity_decrease': 0.0, 'min_impurity_split': None, 'min_samples_leaf': 1, 'min_samples_split': 2, 'min_weight_fraction_leaf': 0.0, 'presort': 'deprecated', 'random_state': 42, 'splitter': 'best'}\n"
          ],
          "name": "stdout"
        }
      ]
    },
    {
      "cell_type": "code",
      "metadata": {
        "id": "Fp_IFITBXafe",
        "colab_type": "code",
        "colab": {
          "base_uri": "https://localhost:8080/",
          "height": 128
        },
        "outputId": "e9d23234-682f-4d69-e587-30409b646d95"
      },
      "source": [
        "from sklearn.model_selection import cross_val_score\n",
        "# evaluate the model using 10-fold cross-validation\n",
        "# we use k value of 10 for its relatively low\n",
        "scores = cross_val_score(dt_clf, X1_train , y1_train, scoring='accuracy', cv=10)\n",
        "print(scores)\n",
        "print(scores.mean())"
      ],
      "execution_count": 113,
      "outputs": [
        {
          "output_type": "error",
          "ename": "SyntaxError",
          "evalue": "ignored",
          "traceback": [
            "\u001b[0;36m  File \u001b[0;32m\"<ipython-input-113-2a4c1b3f1af4>\"\u001b[0;36m, line \u001b[0;32m4\u001b[0m\n\u001b[0;31m    scores = cross_val_score(dt_clf, X1_train , y1_train, scoring='accuracy', cv=10)\u001b[0m\n\u001b[0m          ^\u001b[0m\n\u001b[0;31mSyntaxError\u001b[0m\u001b[0;31m:\u001b[0m invalid character in identifier\n"
          ]
        }
      ]
    },
    {
      "cell_type": "code",
      "metadata": {
        "id": "DqcmOO7XTE-h",
        "colab_type": "code",
        "colab": {
          "base_uri": "https://localhost:8080/",
          "height": 269
        },
        "outputId": "7e3fe44c-2d3d-4da7-fc3f-628da5c24de5"
      },
      "source": [
        "from sklearn.metrics import classification_report, confusion_matrix\n",
        "print(confusion_matrix(y1_test,DTpred1))\n",
        "print(classification_report(y1_test,DTpred1))"
      ],
      "execution_count": 83,
      "outputs": [
        {
          "output_type": "stream",
          "text": [
            "[[   5    7    9    0]\n",
            " [   7    4    7    0]\n",
            " [   0    0 1585    0]\n",
            " [   0    0    0    1]]\n",
            "              precision    recall  f1-score   support\n",
            "\n",
            "           0       0.42      0.24      0.30        21\n",
            "           1       0.36      0.22      0.28        18\n",
            "           2       0.99      1.00      0.99      1585\n",
            "           3       1.00      1.00      1.00         1\n",
            "\n",
            "    accuracy                           0.98      1625\n",
            "   macro avg       0.69      0.62      0.64      1625\n",
            "weighted avg       0.98      0.98      0.98      1625\n",
            "\n"
          ],
          "name": "stdout"
        }
      ]
    },
    {
      "cell_type": "markdown",
      "metadata": {
        "id": "AlrCWg8e3B9H",
        "colab_type": "text"
      },
      "source": [
        "Visualizing\n"
      ]
    },
    {
      "cell_type": "code",
      "metadata": {
        "id": "AonEdVDd3LUu",
        "colab_type": "code",
        "colab": {
          "base_uri": "https://localhost:8080/",
          "height": 916
        },
        "outputId": "ccefe107-a621-4756-ff7b-84001fb4e889"
      },
      "source": [
        "import os\n",
        "from graphviz import Source\n",
        "from sklearn.tree import export_graphviz\n",
        "import graphviz \n",
        "\n",
        "#path = 'https://github.com/zhijing-zhang/DAV6150/tree/master/Dataset' \n",
        "dot_data = export_graphviz(dt_clf,\n",
        "        #out_file=os.path.join(path, \"decision_tree\"),\n",
        "        out_file=None,\n",
        "        feature_names=['edibility', 'stalk_surface_above', 'stalk_surface_below', 'gill_size', 'bruises', 'spore_print', 'ring_number', 'habitat'], \n",
        "        class_names=['veil_brown','veil_orange','veil_white','veil_yellow'],#brown=n,orange=o,white=w,yellow=y\n",
        "        rounded=True,\n",
        "        filled=True,\n",
        "        special_characters=True)\n",
        "graph = graphviz.Source(dot_data)\n",
        "graph\n",
        "#graph.render(filename='MyPicture',view=True) \n",
        "#graph.render(\"new_df\")  \n",
        "#Source.from_file(os.path.join(path, \"decision_tree.dot\"))\n"
      ],
      "execution_count": 84,
      "outputs": [
        {
          "output_type": "execute_result",
          "data": {
            "text/plain": [
              "<graphviz.files.Source at 0x7fe220686208>"
            ],
            "image/svg+xml": "<?xml version=\"1.0\" encoding=\"UTF-8\" standalone=\"no\"?>\n<!DOCTYPE svg PUBLIC \"-//W3C//DTD SVG 1.1//EN\"\n \"http://www.w3.org/Graphics/SVG/1.1/DTD/svg11.dtd\">\n<!-- Generated by graphviz version 2.40.1 (20161225.0304)\n -->\n<!-- Title: Tree Pages: 1 -->\n<svg width=\"666pt\" height=\"671pt\"\n viewBox=\"0.00 0.00 666.00 671.00\" xmlns=\"http://www.w3.org/2000/svg\" xmlns:xlink=\"http://www.w3.org/1999/xlink\">\n<g id=\"graph0\" class=\"graph\" transform=\"scale(1 1) rotate(0) translate(4 667)\">\n<title>Tree</title>\n<polygon fill=\"#ffffff\" stroke=\"transparent\" points=\"-4,4 -4,-667 662,-667 662,4 -4,4\"/>\n<!-- 0 -->\n<g id=\"node1\" class=\"node\">\n<title>0</title>\n<path fill=\"#3e9fe6\" stroke=\"#000000\" d=\"M423.5,-663C423.5,-663 275.5,-663 275.5,-663 269.5,-663 263.5,-657 263.5,-651 263.5,-651 263.5,-592 263.5,-592 263.5,-586 269.5,-580 275.5,-580 275.5,-580 423.5,-580 423.5,-580 429.5,-580 435.5,-586 435.5,-592 435.5,-592 435.5,-651 435.5,-651 435.5,-657 429.5,-663 423.5,-663\"/>\n<text text-anchor=\"start\" x=\"295\" y=\"-647.8\" font-family=\"Helvetica,sans-Serif\" font-size=\"14.00\" fill=\"#000000\">spore_print ≤ 0.5</text>\n<text text-anchor=\"start\" x=\"311.5\" y=\"-632.8\" font-family=\"Helvetica,sans-Serif\" font-size=\"14.00\" fill=\"#000000\">gini = 0.048</text>\n<text text-anchor=\"start\" x=\"297.5\" y=\"-617.8\" font-family=\"Helvetica,sans-Serif\" font-size=\"14.00\" fill=\"#000000\">samples = 6499</text>\n<text text-anchor=\"start\" x=\"271.5\" y=\"-602.8\" font-family=\"Helvetica,sans-Serif\" font-size=\"14.00\" fill=\"#000000\">value = [75, 78, 6339, 7]</text>\n<text text-anchor=\"start\" x=\"292.5\" y=\"-587.8\" font-family=\"Helvetica,sans-Serif\" font-size=\"14.00\" fill=\"#000000\">class = veil_white</text>\n</g>\n<!-- 1 -->\n<g id=\"node2\" class=\"node\">\n<title>1</title>\n<path fill=\"#e3fbe1\" stroke=\"#000000\" d=\"M322,-536.5C322,-536.5 199,-536.5 199,-536.5 193,-536.5 187,-530.5 187,-524.5 187,-524.5 187,-480.5 187,-480.5 187,-474.5 193,-468.5 199,-468.5 199,-468.5 322,-468.5 322,-468.5 328,-468.5 334,-474.5 334,-480.5 334,-480.5 334,-524.5 334,-524.5 334,-530.5 328,-536.5 322,-536.5\"/>\n<text text-anchor=\"start\" x=\"222.5\" y=\"-521.3\" font-family=\"Helvetica,sans-Serif\" font-size=\"14.00\" fill=\"#000000\">gini = 0.497</text>\n<text text-anchor=\"start\" x=\"216.5\" y=\"-506.3\" font-family=\"Helvetica,sans-Serif\" font-size=\"14.00\" fill=\"#000000\">samples = 37</text>\n<text text-anchor=\"start\" x=\"195\" y=\"-491.3\" font-family=\"Helvetica,sans-Serif\" font-size=\"14.00\" fill=\"#000000\">value = [17, 20, 0, 0]</text>\n<text text-anchor=\"start\" x=\"197.5\" y=\"-476.3\" font-family=\"Helvetica,sans-Serif\" font-size=\"14.00\" fill=\"#000000\">class = veil_orange</text>\n</g>\n<!-- 0&#45;&gt;1 -->\n<g id=\"edge1\" class=\"edge\">\n<title>0&#45;&gt;1</title>\n<path fill=\"none\" stroke=\"#000000\" d=\"M318.3721,-579.8796C309.9014,-568.5536 300.7181,-556.2748 292.2153,-544.9058\"/>\n<polygon fill=\"#000000\" stroke=\"#000000\" points=\"294.9562,-542.7268 286.1641,-536.8149 289.3505,-546.9193 294.9562,-542.7268\"/>\n<text text-anchor=\"middle\" x=\"282.5953\" y=\"-557.8589\" font-family=\"Helvetica,sans-Serif\" font-size=\"14.00\" fill=\"#000000\">True</text>\n</g>\n<!-- 2 -->\n<g id=\"node3\" class=\"node\">\n<title>2</title>\n<path fill=\"#3d9fe5\" stroke=\"#000000\" d=\"M512.5,-544C512.5,-544 364.5,-544 364.5,-544 358.5,-544 352.5,-538 352.5,-532 352.5,-532 352.5,-473 352.5,-473 352.5,-467 358.5,-461 364.5,-461 364.5,-461 512.5,-461 512.5,-461 518.5,-461 524.5,-467 524.5,-473 524.5,-473 524.5,-532 524.5,-532 524.5,-538 518.5,-544 512.5,-544\"/>\n<text text-anchor=\"start\" x=\"384\" y=\"-528.8\" font-family=\"Helvetica,sans-Serif\" font-size=\"14.00\" fill=\"#000000\">spore_print ≤ 7.5</text>\n<text text-anchor=\"start\" x=\"400.5\" y=\"-513.8\" font-family=\"Helvetica,sans-Serif\" font-size=\"14.00\" fill=\"#000000\">gini = 0.038</text>\n<text text-anchor=\"start\" x=\"386.5\" y=\"-498.8\" font-family=\"Helvetica,sans-Serif\" font-size=\"14.00\" fill=\"#000000\">samples = 6462</text>\n<text text-anchor=\"start\" x=\"360.5\" y=\"-483.8\" font-family=\"Helvetica,sans-Serif\" font-size=\"14.00\" fill=\"#000000\">value = [58, 58, 6339, 7]</text>\n<text text-anchor=\"start\" x=\"381.5\" y=\"-468.8\" font-family=\"Helvetica,sans-Serif\" font-size=\"14.00\" fill=\"#000000\">class = veil_white</text>\n</g>\n<!-- 0&#45;&gt;2 -->\n<g id=\"edge2\" class=\"edge\">\n<title>0&#45;&gt;2</title>\n<path fill=\"none\" stroke=\"#000000\" d=\"M380.6279,-579.8796C387.229,-571.0534 394.2629,-561.6485 401.0702,-552.5466\"/>\n<polygon fill=\"#000000\" stroke=\"#000000\" points=\"404.0528,-554.4024 407.2393,-544.2981 398.4472,-550.2099 404.0528,-554.4024\"/>\n<text text-anchor=\"middle\" x=\"410.8081\" y=\"-565.342\" font-family=\"Helvetica,sans-Serif\" font-size=\"14.00\" fill=\"#000000\">False</text>\n</g>\n<!-- 3 -->\n<g id=\"node4\" class=\"node\">\n<title>3</title>\n<path fill=\"#3c9ee5\" stroke=\"#000000\" d=\"M428,-425C428,-425 265,-425 265,-425 259,-425 253,-419 253,-413 253,-413 253,-354 253,-354 253,-348 259,-342 265,-342 265,-342 428,-342 428,-342 434,-342 440,-348 440,-354 440,-354 440,-413 440,-413 440,-419 434,-425 428,-425\"/>\n<text text-anchor=\"start\" x=\"261\" y=\"-409.8\" font-family=\"Helvetica,sans-Serif\" font-size=\"14.00\" fill=\"#000000\">stalk_surface_above ≤ 2.5</text>\n<text text-anchor=\"start\" x=\"308.5\" y=\"-394.8\" font-family=\"Helvetica,sans-Serif\" font-size=\"14.00\" fill=\"#000000\">gini = 0.027</text>\n<text text-anchor=\"start\" x=\"294.5\" y=\"-379.8\" font-family=\"Helvetica,sans-Serif\" font-size=\"14.00\" fill=\"#000000\">samples = 6426</text>\n<text text-anchor=\"start\" x=\"268.5\" y=\"-364.8\" font-family=\"Helvetica,sans-Serif\" font-size=\"14.00\" fill=\"#000000\">value = [39, 41, 6339, 7]</text>\n<text text-anchor=\"start\" x=\"289.5\" y=\"-349.8\" font-family=\"Helvetica,sans-Serif\" font-size=\"14.00\" fill=\"#000000\">class = veil_white</text>\n</g>\n<!-- 2&#45;&gt;3 -->\n<g id=\"edge3\" class=\"edge\">\n<title>2&#45;&gt;3</title>\n<path fill=\"none\" stroke=\"#000000\" d=\"M406.3229,-460.8796C399.4296,-451.9633 392.0798,-442.4565 384.9761,-433.268\"/>\n<polygon fill=\"#000000\" stroke=\"#000000\" points=\"387.6999,-431.0687 378.8145,-425.2981 382.1619,-435.3502 387.6999,-431.0687\"/>\n</g>\n<!-- 12 -->\n<g id=\"node13\" class=\"node\">\n<title>12</title>\n<path fill=\"#fcf2ea\" stroke=\"#000000\" d=\"M593,-417.5C593,-417.5 470,-417.5 470,-417.5 464,-417.5 458,-411.5 458,-405.5 458,-405.5 458,-361.5 458,-361.5 458,-355.5 464,-349.5 470,-349.5 470,-349.5 593,-349.5 593,-349.5 599,-349.5 605,-355.5 605,-361.5 605,-361.5 605,-405.5 605,-405.5 605,-411.5 599,-417.5 593,-417.5\"/>\n<text text-anchor=\"start\" x=\"493.5\" y=\"-402.3\" font-family=\"Helvetica,sans-Serif\" font-size=\"14.00\" fill=\"#000000\">gini = 0.498</text>\n<text text-anchor=\"start\" x=\"487.5\" y=\"-387.3\" font-family=\"Helvetica,sans-Serif\" font-size=\"14.00\" fill=\"#000000\">samples = 36</text>\n<text text-anchor=\"start\" x=\"466\" y=\"-372.3\" font-family=\"Helvetica,sans-Serif\" font-size=\"14.00\" fill=\"#000000\">value = [19, 17, 0, 0]</text>\n<text text-anchor=\"start\" x=\"471.5\" y=\"-357.3\" font-family=\"Helvetica,sans-Serif\" font-size=\"14.00\" fill=\"#000000\">class = veil_brown</text>\n</g>\n<!-- 2&#45;&gt;12 -->\n<g id=\"edge12\" class=\"edge\">\n<title>2&#45;&gt;12</title>\n<path fill=\"none\" stroke=\"#000000\" d=\"M471.0269,-460.8796C479.8783,-449.5536 489.4743,-437.2748 498.3593,-425.9058\"/>\n<polygon fill=\"#000000\" stroke=\"#000000\" points=\"501.2824,-427.8494 504.6824,-417.8149 495.7669,-423.539 501.2824,-427.8494\"/>\n</g>\n<!-- 4 -->\n<g id=\"node5\" class=\"node\">\n<title>4</title>\n<path fill=\"#3b9ee5\" stroke=\"#000000\" d=\"M333.5,-306C333.5,-306 185.5,-306 185.5,-306 179.5,-306 173.5,-300 173.5,-294 173.5,-294 173.5,-235 173.5,-235 173.5,-229 179.5,-223 185.5,-223 185.5,-223 333.5,-223 333.5,-223 339.5,-223 345.5,-229 345.5,-235 345.5,-235 345.5,-294 345.5,-294 345.5,-300 339.5,-306 333.5,-306\"/>\n<text text-anchor=\"start\" x=\"220\" y=\"-290.8\" font-family=\"Helvetica,sans-Serif\" font-size=\"14.00\" fill=\"#000000\">habitat ≤ 1.5</text>\n<text text-anchor=\"start\" x=\"221.5\" y=\"-275.8\" font-family=\"Helvetica,sans-Serif\" font-size=\"14.00\" fill=\"#000000\">gini = 0.025</text>\n<text text-anchor=\"start\" x=\"207.5\" y=\"-260.8\" font-family=\"Helvetica,sans-Serif\" font-size=\"14.00\" fill=\"#000000\">samples = 6406</text>\n<text text-anchor=\"start\" x=\"181.5\" y=\"-245.8\" font-family=\"Helvetica,sans-Serif\" font-size=\"14.00\" fill=\"#000000\">value = [39, 41, 6326, 0]</text>\n<text text-anchor=\"start\" x=\"202.5\" y=\"-230.8\" font-family=\"Helvetica,sans-Serif\" font-size=\"14.00\" fill=\"#000000\">class = veil_white</text>\n</g>\n<!-- 3&#45;&gt;4 -->\n<g id=\"edge4\" class=\"edge\">\n<title>3&#45;&gt;4</title>\n<path fill=\"none\" stroke=\"#000000\" d=\"M316.0716,-341.8796C309.6189,-333.0534 302.743,-323.6485 296.0887,-314.5466\"/>\n<polygon fill=\"#000000\" stroke=\"#000000\" points=\"298.7856,-312.3051 290.0583,-306.2981 293.1347,-316.4364 298.7856,-312.3051\"/>\n</g>\n<!-- 9 -->\n<g id=\"node10\" class=\"node\">\n<title>9</title>\n<path fill=\"#a4d2f3\" stroke=\"#000000\" d=\"M491,-306C491,-306 376,-306 376,-306 370,-306 364,-300 364,-294 364,-294 364,-235 364,-235 364,-229 370,-223 376,-223 376,-223 491,-223 491,-223 497,-223 503,-229 503,-235 503,-235 503,-294 503,-294 503,-300 497,-306 491,-306\"/>\n<text text-anchor=\"start\" x=\"391.5\" y=\"-290.8\" font-family=\"Helvetica,sans-Serif\" font-size=\"14.00\" fill=\"#000000\">edibility ≤ 0.5</text>\n<text text-anchor=\"start\" x=\"395.5\" y=\"-275.8\" font-family=\"Helvetica,sans-Serif\" font-size=\"14.00\" fill=\"#000000\">gini = 0.455</text>\n<text text-anchor=\"start\" x=\"389.5\" y=\"-260.8\" font-family=\"Helvetica,sans-Serif\" font-size=\"14.00\" fill=\"#000000\">samples = 20</text>\n<text text-anchor=\"start\" x=\"372\" y=\"-245.8\" font-family=\"Helvetica,sans-Serif\" font-size=\"14.00\" fill=\"#000000\">value = [0, 0, 13, 7]</text>\n<text text-anchor=\"start\" x=\"376.5\" y=\"-230.8\" font-family=\"Helvetica,sans-Serif\" font-size=\"14.00\" fill=\"#000000\">class = veil_white</text>\n</g>\n<!-- 3&#45;&gt;9 -->\n<g id=\"edge9\" class=\"edge\">\n<title>3&#45;&gt;9</title>\n<path fill=\"none\" stroke=\"#000000\" d=\"M376.9284,-341.8796C383.3811,-333.0534 390.257,-323.6485 396.9113,-314.5466\"/>\n<polygon fill=\"#000000\" stroke=\"#000000\" points=\"399.8653,-316.4364 402.9417,-306.2981 394.2144,-312.3051 399.8653,-316.4364\"/>\n</g>\n<!-- 5 -->\n<g id=\"node6\" class=\"node\">\n<title>5</title>\n<path fill=\"#399de5\" stroke=\"#000000\" d=\"M143,-179.5C143,-179.5 12,-179.5 12,-179.5 6,-179.5 0,-173.5 0,-167.5 0,-167.5 0,-123.5 0,-123.5 0,-117.5 6,-111.5 12,-111.5 12,-111.5 143,-111.5 143,-111.5 149,-111.5 155,-117.5 155,-123.5 155,-123.5 155,-167.5 155,-167.5 155,-173.5 149,-179.5 143,-179.5\"/>\n<text text-anchor=\"start\" x=\"48\" y=\"-164.3\" font-family=\"Helvetica,sans-Serif\" font-size=\"14.00\" fill=\"#000000\">gini = 0.0</text>\n<text text-anchor=\"start\" x=\"25.5\" y=\"-149.3\" font-family=\"Helvetica,sans-Serif\" font-size=\"14.00\" fill=\"#000000\">samples = 4250</text>\n<text text-anchor=\"start\" x=\"8\" y=\"-134.3\" font-family=\"Helvetica,sans-Serif\" font-size=\"14.00\" fill=\"#000000\">value = [0, 0, 4250, 0]</text>\n<text text-anchor=\"start\" x=\"20.5\" y=\"-119.3\" font-family=\"Helvetica,sans-Serif\" font-size=\"14.00\" fill=\"#000000\">class = veil_white</text>\n</g>\n<!-- 4&#45;&gt;5 -->\n<g id=\"edge5\" class=\"edge\">\n<title>4&#45;&gt;5</title>\n<path fill=\"none\" stroke=\"#000000\" d=\"M195.8452,-222.8796C177.0889,-210.6158 156.6239,-197.2348 138.067,-185.1015\"/>\n<polygon fill=\"#000000\" stroke=\"#000000\" points=\"139.9733,-182.1662 129.6882,-179.623 136.1425,-188.025 139.9733,-182.1662\"/>\n</g>\n<!-- 6 -->\n<g id=\"node7\" class=\"node\">\n<title>6</title>\n<path fill=\"#40a1e6\" stroke=\"#000000\" d=\"M333.5,-187C333.5,-187 185.5,-187 185.5,-187 179.5,-187 173.5,-181 173.5,-175 173.5,-175 173.5,-116 173.5,-116 173.5,-110 179.5,-104 185.5,-104 185.5,-104 333.5,-104 333.5,-104 339.5,-104 345.5,-110 345.5,-116 345.5,-116 345.5,-175 345.5,-175 345.5,-181 339.5,-187 333.5,-187\"/>\n<text text-anchor=\"start\" x=\"220\" y=\"-171.8\" font-family=\"Helvetica,sans-Serif\" font-size=\"14.00\" fill=\"#000000\">habitat ≤ 2.5</text>\n<text text-anchor=\"start\" x=\"221.5\" y=\"-156.8\" font-family=\"Helvetica,sans-Serif\" font-size=\"14.00\" fill=\"#000000\">gini = 0.072</text>\n<text text-anchor=\"start\" x=\"207.5\" y=\"-141.8\" font-family=\"Helvetica,sans-Serif\" font-size=\"14.00\" fill=\"#000000\">samples = 2156</text>\n<text text-anchor=\"start\" x=\"181.5\" y=\"-126.8\" font-family=\"Helvetica,sans-Serif\" font-size=\"14.00\" fill=\"#000000\">value = [39, 41, 2076, 0]</text>\n<text text-anchor=\"start\" x=\"202.5\" y=\"-111.8\" font-family=\"Helvetica,sans-Serif\" font-size=\"14.00\" fill=\"#000000\">class = veil_white</text>\n</g>\n<!-- 4&#45;&gt;6 -->\n<g id=\"edge6\" class=\"edge\">\n<title>4&#45;&gt;6</title>\n<path fill=\"none\" stroke=\"#000000\" d=\"M259.5,-222.8796C259.5,-214.6838 259.5,-205.9891 259.5,-197.5013\"/>\n<polygon fill=\"#000000\" stroke=\"#000000\" points=\"263.0001,-197.298 259.5,-187.2981 256.0001,-197.2981 263.0001,-197.298\"/>\n</g>\n<!-- 7 -->\n<g id=\"node8\" class=\"node\">\n<title>7</title>\n<path fill=\"#56ace9\" stroke=\"#000000\" d=\"M240.5,-68C240.5,-68 100.5,-68 100.5,-68 94.5,-68 88.5,-62 88.5,-56 88.5,-56 88.5,-12 88.5,-12 88.5,-6 94.5,0 100.5,0 100.5,0 240.5,0 240.5,0 246.5,0 252.5,-6 252.5,-12 252.5,-12 252.5,-56 252.5,-56 252.5,-62 246.5,-68 240.5,-68\"/>\n<text text-anchor=\"start\" x=\"132.5\" y=\"-52.8\" font-family=\"Helvetica,sans-Serif\" font-size=\"14.00\" fill=\"#000000\">gini = 0.247</text>\n<text text-anchor=\"start\" x=\"122.5\" y=\"-37.8\" font-family=\"Helvetica,sans-Serif\" font-size=\"14.00\" fill=\"#000000\">samples = 580</text>\n<text text-anchor=\"start\" x=\"96.5\" y=\"-22.8\" font-family=\"Helvetica,sans-Serif\" font-size=\"14.00\" fill=\"#000000\">value = [39, 41, 500, 0]</text>\n<text text-anchor=\"start\" x=\"113.5\" y=\"-7.8\" font-family=\"Helvetica,sans-Serif\" font-size=\"14.00\" fill=\"#000000\">class = veil_white</text>\n</g>\n<!-- 6&#45;&gt;7 -->\n<g id=\"edge7\" class=\"edge\">\n<title>6&#45;&gt;7</title>\n<path fill=\"none\" stroke=\"#000000\" d=\"M226.3597,-103.9815C219.097,-94.8828 211.4017,-85.242 204.1204,-76.1199\"/>\n<polygon fill=\"#000000\" stroke=\"#000000\" points=\"206.8234,-73.8958 197.8495,-68.2637 201.3525,-78.2627 206.8234,-73.8958\"/>\n</g>\n<!-- 8 -->\n<g id=\"node9\" class=\"node\">\n<title>8</title>\n<path fill=\"#399de5\" stroke=\"#000000\" d=\"M414,-68C414,-68 283,-68 283,-68 277,-68 271,-62 271,-56 271,-56 271,-12 271,-12 271,-6 277,0 283,0 283,0 414,0 414,0 420,0 426,-6 426,-12 426,-12 426,-56 426,-56 426,-62 420,-68 414,-68\"/>\n<text text-anchor=\"start\" x=\"319\" y=\"-52.8\" font-family=\"Helvetica,sans-Serif\" font-size=\"14.00\" fill=\"#000000\">gini = 0.0</text>\n<text text-anchor=\"start\" x=\"296.5\" y=\"-37.8\" font-family=\"Helvetica,sans-Serif\" font-size=\"14.00\" fill=\"#000000\">samples = 1576</text>\n<text text-anchor=\"start\" x=\"279\" y=\"-22.8\" font-family=\"Helvetica,sans-Serif\" font-size=\"14.00\" fill=\"#000000\">value = [0, 0, 1576, 0]</text>\n<text text-anchor=\"start\" x=\"291.5\" y=\"-7.8\" font-family=\"Helvetica,sans-Serif\" font-size=\"14.00\" fill=\"#000000\">class = veil_white</text>\n</g>\n<!-- 6&#45;&gt;8 -->\n<g id=\"edge8\" class=\"edge\">\n<title>6&#45;&gt;8</title>\n<path fill=\"none\" stroke=\"#000000\" d=\"M292.6403,-103.9815C299.903,-94.8828 307.5983,-85.242 314.8796,-76.1199\"/>\n<polygon fill=\"#000000\" stroke=\"#000000\" points=\"317.6475,-78.2627 321.1505,-68.2637 312.1766,-73.8958 317.6475,-78.2627\"/>\n</g>\n<!-- 10 -->\n<g id=\"node11\" class=\"node\">\n<title>10</title>\n<path fill=\"#399de5\" stroke=\"#000000\" d=\"M491,-179.5C491,-179.5 376,-179.5 376,-179.5 370,-179.5 364,-173.5 364,-167.5 364,-167.5 364,-123.5 364,-123.5 364,-117.5 370,-111.5 376,-111.5 376,-111.5 491,-111.5 491,-111.5 497,-111.5 503,-117.5 503,-123.5 503,-123.5 503,-167.5 503,-167.5 503,-173.5 497,-179.5 491,-179.5\"/>\n<text text-anchor=\"start\" x=\"404\" y=\"-164.3\" font-family=\"Helvetica,sans-Serif\" font-size=\"14.00\" fill=\"#000000\">gini = 0.0</text>\n<text text-anchor=\"start\" x=\"389.5\" y=\"-149.3\" font-family=\"Helvetica,sans-Serif\" font-size=\"14.00\" fill=\"#000000\">samples = 13</text>\n<text text-anchor=\"start\" x=\"372\" y=\"-134.3\" font-family=\"Helvetica,sans-Serif\" font-size=\"14.00\" fill=\"#000000\">value = [0, 0, 13, 0]</text>\n<text text-anchor=\"start\" x=\"376.5\" y=\"-119.3\" font-family=\"Helvetica,sans-Serif\" font-size=\"14.00\" fill=\"#000000\">class = veil_white</text>\n</g>\n<!-- 9&#45;&gt;10 -->\n<g id=\"edge10\" class=\"edge\">\n<title>9&#45;&gt;10</title>\n<path fill=\"none\" stroke=\"#000000\" d=\"M433.5,-222.8796C433.5,-212.2134 433.5,-200.7021 433.5,-189.9015\"/>\n<polygon fill=\"#000000\" stroke=\"#000000\" points=\"437.0001,-189.8149 433.5,-179.8149 430.0001,-189.815 437.0001,-189.8149\"/>\n</g>\n<!-- 11 -->\n<g id=\"node12\" class=\"node\">\n<title>11</title>\n<path fill=\"#d739e5\" stroke=\"#000000\" d=\"M646,-179.5C646,-179.5 533,-179.5 533,-179.5 527,-179.5 521,-173.5 521,-167.5 521,-167.5 521,-123.5 521,-123.5 521,-117.5 527,-111.5 533,-111.5 533,-111.5 646,-111.5 646,-111.5 652,-111.5 658,-117.5 658,-123.5 658,-123.5 658,-167.5 658,-167.5 658,-173.5 652,-179.5 646,-179.5\"/>\n<text text-anchor=\"start\" x=\"560\" y=\"-164.3\" font-family=\"Helvetica,sans-Serif\" font-size=\"14.00\" fill=\"#000000\">gini = 0.0</text>\n<text text-anchor=\"start\" x=\"550\" y=\"-149.3\" font-family=\"Helvetica,sans-Serif\" font-size=\"14.00\" fill=\"#000000\">samples = 7</text>\n<text text-anchor=\"start\" x=\"532\" y=\"-134.3\" font-family=\"Helvetica,sans-Serif\" font-size=\"14.00\" fill=\"#000000\">value = [0, 0, 0, 7]</text>\n<text text-anchor=\"start\" x=\"529\" y=\"-119.3\" font-family=\"Helvetica,sans-Serif\" font-size=\"14.00\" fill=\"#000000\">class = veil_yellow</text>\n</g>\n<!-- 9&#45;&gt;11 -->\n<g id=\"edge11\" class=\"edge\">\n<title>9&#45;&gt;11</title>\n<path fill=\"none\" stroke=\"#000000\" d=\"M488.0612,-222.8796C503.8484,-210.8368 521.0479,-197.7167 536.7241,-185.7586\"/>\n<polygon fill=\"#000000\" stroke=\"#000000\" points=\"538.9392,-188.4709 544.7673,-179.623 534.6937,-182.9053 538.9392,-188.4709\"/>\n</g>\n</g>\n</svg>\n"
          },
          "metadata": {
            "tags": []
          },
          "execution_count": 84
        }
      ]
    },
    {
      "cell_type": "markdown",
      "metadata": {
        "id": "3XIkQN99YtDN",
        "colab_type": "text"
      },
      "source": [
        "Obviously, the result of 'white' can be seen."
      ]
    },
    {
      "cell_type": "markdown",
      "metadata": {
        "id": "a4c-VIro6IFl",
        "colab_type": "text"
      },
      "source": [
        "__Decision Tree model 2__"
      ]
    },
    {
      "cell_type": "code",
      "metadata": {
        "id": "F0b5SrvH6Kmm",
        "colab_type": "code",
        "colab": {
          "base_uri": "https://localhost:8080/",
          "height": 202
        },
        "outputId": "663cb97b-298d-4ad8-f698-cdfab4b0aeb8"
      },
      "source": [
        "import time\n",
        "start = time.time()\n",
        "\n",
        "from sklearn.tree import DecisionTreeClassifier\n",
        "from sklearn.metrics import accuracy_score\n",
        "\n",
        "dt_clf = DecisionTreeClassifier(max_depth=5, random_state=42)\n",
        "\n",
        "dt_clf.fit(X2_train , y2_train)\n",
        "\n",
        "DTpred2 = dt_clf.predict(X2_test)\n",
        "\n",
        "probablility = dt_clf.predict_proba(X2_test)\n",
        "\n",
        "print('type the predict:\\n',DTpred2) #output is the type the predict\n",
        "print('\\nprobablility of every type:\\n',probablility)   #output is the probablility of every type"
      ],
      "execution_count": 90,
      "outputs": [
        {
          "output_type": "stream",
          "text": [
            "type the predict:\n",
            " [2 2 2 ... 2 2 2]\n",
            "\n",
            "probablility of every type:\n",
            " [[0. 0. 1. 0.]\n",
            " [0. 0. 1. 0.]\n",
            " [0. 0. 1. 0.]\n",
            " ...\n",
            " [0. 0. 1. 0.]\n",
            " [0. 0. 1. 0.]\n",
            " [0. 0. 1. 0.]]\n"
          ],
          "name": "stdout"
        }
      ]
    },
    {
      "cell_type": "code",
      "metadata": {
        "id": "XW-4fISIPq7R",
        "colab_type": "code",
        "colab": {
          "base_uri": "https://localhost:8080/",
          "height": 34
        },
        "outputId": "8b2b04a1-cdac-496a-b9bd-e98f73606187"
      },
      "source": [
        "end = time.time()\n",
        "running_time = end-start\n",
        "print('DecisionTree-2 time cost : %.5f sec' %running_time)"
      ],
      "execution_count": 91,
      "outputs": [
        {
          "output_type": "stream",
          "text": [
            "DecisionTree-2 time cost : 2.68173 sec\n"
          ],
          "name": "stdout"
        }
      ]
    },
    {
      "cell_type": "code",
      "metadata": {
        "id": "yBcMAznp7TPr",
        "colab_type": "code",
        "colab": {
          "base_uri": "https://localhost:8080/",
          "height": 34
        },
        "outputId": "c7278143-5ee6-41b1-d7af-a406d99e81c6"
      },
      "source": [
        "# count result \n",
        "unique, counts = np.unique(DTpred2, return_counts=True)\n",
        "dict(zip(unique, counts))"
      ],
      "execution_count": 92,
      "outputs": [
        {
          "output_type": "execute_result",
          "data": {
            "text/plain": [
              "{0: 17, 1: 22, 2: 1585, 3: 1}"
            ]
          },
          "metadata": {
            "tags": []
          },
          "execution_count": 92
        }
      ]
    },
    {
      "cell_type": "code",
      "metadata": {
        "id": "BI-luhco7Vfh",
        "colab_type": "code",
        "colab": {
          "base_uri": "https://localhost:8080/",
          "height": 34
        },
        "outputId": "fddc2369-6aeb-4e7e-defd-68d1bb179f5b"
      },
      "source": [
        "# return orig value\n",
        "from sklearn import preprocessing\n",
        "le_veil_color.inverse_transform(DTpred1)"
      ],
      "execution_count": 93,
      "outputs": [
        {
          "output_type": "execute_result",
          "data": {
            "text/plain": [
              "array(['w', 'w', 'w', ..., 'w', 'w', 'w'], dtype=object)"
            ]
          },
          "metadata": {
            "tags": []
          },
          "execution_count": 93
        }
      ]
    },
    {
      "cell_type": "code",
      "metadata": {
        "id": "AraZeN9t7UsS",
        "colab_type": "code",
        "colab": {
          "base_uri": "https://localhost:8080/",
          "height": 70
        },
        "outputId": "e2621d18-f231-49e8-f47e-8f965e573d1d"
      },
      "source": [
        "print('DecisionTreeClassifier basic hyperparameters:\\n', dt_clf.get_params())"
      ],
      "execution_count": 94,
      "outputs": [
        {
          "output_type": "stream",
          "text": [
            "DecisionTreeClassifier basic hyperparameters:\n",
            " {'ccp_alpha': 0.0, 'class_weight': None, 'criterion': 'gini', 'max_depth': 5, 'max_features': None, 'max_leaf_nodes': None, 'min_impurity_decrease': 0.0, 'min_impurity_split': None, 'min_samples_leaf': 1, 'min_samples_split': 2, 'min_weight_fraction_leaf': 0.0, 'presort': 'deprecated', 'random_state': 42, 'splitter': 'best'}\n"
          ],
          "name": "stdout"
        }
      ]
    },
    {
      "cell_type": "code",
      "metadata": {
        "id": "wsHCjqKOTkKO",
        "colab_type": "code",
        "colab": {
          "base_uri": "https://localhost:8080/",
          "height": 269
        },
        "outputId": "813b1333-8522-49c3-c815-6b50ffdcbab7"
      },
      "source": [
        "from sklearn.metrics import classification_report, confusion_matrix\n",
        "print(confusion_matrix(y1_test,DTpred2))\n",
        "print(classification_report(y1_test,DTpred2))"
      ],
      "execution_count": 95,
      "outputs": [
        {
          "output_type": "stream",
          "text": [
            "[[   7   14    0    0]\n",
            " [  10    8    0    0]\n",
            " [   0    0 1585    0]\n",
            " [   0    0    0    1]]\n",
            "              precision    recall  f1-score   support\n",
            "\n",
            "           0       0.41      0.33      0.37        21\n",
            "           1       0.36      0.44      0.40        18\n",
            "           2       1.00      1.00      1.00      1585\n",
            "           3       1.00      1.00      1.00         1\n",
            "\n",
            "    accuracy                           0.99      1625\n",
            "   macro avg       0.69      0.69      0.69      1625\n",
            "weighted avg       0.99      0.99      0.99      1625\n",
            "\n"
          ],
          "name": "stdout"
        }
      ]
    },
    {
      "cell_type": "code",
      "metadata": {
        "id": "YyR21dFIDVJD",
        "colab_type": "code",
        "colab": {
          "base_uri": "https://localhost:8080/",
          "height": 936
        },
        "outputId": "a8c6edf3-285d-490c-83e8-c4b8cd78140b"
      },
      "source": [
        "import os\n",
        "from graphviz import Source\n",
        "from sklearn.tree import export_graphviz\n",
        "import graphviz \n",
        "\n",
        "#path = 'https://github.com/zhijing-zhang/DAV6150/tree/master/Dataset' \n",
        "dot_data = export_graphviz(dt_clf,\n",
        "        #out_file=os.path.join(path, \"decision_tree\"),\n",
        "        out_file=None,\n",
        "        feature_names=['edibility', 'gill_attach', 'gill_color', 'stalk_shape', 'stalk_root', 'ring_type', 'population'], \n",
        "        class_names=['veil_brown','veil_orange','veil_white','veil_yellow'],#brown=n,orange=o,white=w,yellow=y\n",
        "        rounded=True,\n",
        "        filled=True,\n",
        "        special_characters=True)\n",
        "graph = graphviz.Source(dot_data)\n",
        "graph\n",
        "#graph.render(filename='MyPicture',view=True) \n",
        "#graph.render(\"new_df\")  \n",
        "#Source.from_file(os.path.join(path, \"decision_tree.dot\"))"
      ],
      "execution_count": 96,
      "outputs": [
        {
          "output_type": "execute_result",
          "data": {
            "text/plain": [
              "<graphviz.files.Source at 0x7fe2206864e0>"
            ],
            "image/svg+xml": "<?xml version=\"1.0\" encoding=\"UTF-8\" standalone=\"no\"?>\n<!DOCTYPE svg PUBLIC \"-//W3C//DTD SVG 1.1//EN\"\n \"http://www.w3.org/Graphics/SVG/1.1/DTD/svg11.dtd\">\n<!-- Generated by graphviz version 2.40.1 (20161225.0304)\n -->\n<!-- Title: Tree Pages: 1 -->\n<svg width=\"1457pt\" height=\"671pt\"\n viewBox=\"0.00 0.00 1457.00 671.00\" xmlns=\"http://www.w3.org/2000/svg\" xmlns:xlink=\"http://www.w3.org/1999/xlink\">\n<g id=\"graph0\" class=\"graph\" transform=\"scale(1 1) rotate(0) translate(4 667)\">\n<title>Tree</title>\n<polygon fill=\"#ffffff\" stroke=\"transparent\" points=\"-4,4 -4,-667 1453,-667 1453,4 -4,4\"/>\n<!-- 0 -->\n<g id=\"node1\" class=\"node\">\n<title>0</title>\n<path fill=\"#3e9fe6\" stroke=\"#000000\" d=\"M889.5,-663C889.5,-663 741.5,-663 741.5,-663 735.5,-663 729.5,-657 729.5,-651 729.5,-651 729.5,-592 729.5,-592 729.5,-586 735.5,-580 741.5,-580 741.5,-580 889.5,-580 889.5,-580 895.5,-580 901.5,-586 901.5,-592 901.5,-592 901.5,-651 901.5,-651 901.5,-657 895.5,-663 889.5,-663\"/>\n<text text-anchor=\"start\" x=\"765\" y=\"-647.8\" font-family=\"Helvetica,sans-Serif\" font-size=\"14.00\" fill=\"#000000\">gill_attach ≤ 0.5</text>\n<text text-anchor=\"start\" x=\"777.5\" y=\"-632.8\" font-family=\"Helvetica,sans-Serif\" font-size=\"14.00\" fill=\"#000000\">gini = 0.048</text>\n<text text-anchor=\"start\" x=\"763.5\" y=\"-617.8\" font-family=\"Helvetica,sans-Serif\" font-size=\"14.00\" fill=\"#000000\">samples = 6499</text>\n<text text-anchor=\"start\" x=\"737.5\" y=\"-602.8\" font-family=\"Helvetica,sans-Serif\" font-size=\"14.00\" fill=\"#000000\">value = [75, 78, 6339, 7]</text>\n<text text-anchor=\"start\" x=\"758.5\" y=\"-587.8\" font-family=\"Helvetica,sans-Serif\" font-size=\"14.00\" fill=\"#000000\">class = veil_white</text>\n</g>\n<!-- 1 -->\n<g id=\"node2\" class=\"node\">\n<title>1</title>\n<path fill=\"#f9fef9\" stroke=\"#000000\" d=\"M716,-544C716,-544 585,-544 585,-544 579,-544 573,-538 573,-532 573,-532 573,-473 573,-473 573,-467 579,-461 585,-461 585,-461 716,-461 716,-461 722,-461 728,-467 728,-473 728,-473 728,-532 728,-532 728,-538 722,-544 716,-544\"/>\n<text text-anchor=\"start\" x=\"602.5\" y=\"-528.8\" font-family=\"Helvetica,sans-Serif\" font-size=\"14.00\" fill=\"#000000\">ring_type ≤ 3.5</text>\n<text text-anchor=\"start\" x=\"612.5\" y=\"-513.8\" font-family=\"Helvetica,sans-Serif\" font-size=\"14.00\" fill=\"#000000\">gini = 0.581</text>\n<text text-anchor=\"start\" x=\"602.5\" y=\"-498.8\" font-family=\"Helvetica,sans-Serif\" font-size=\"14.00\" fill=\"#000000\">samples = 169</text>\n<text text-anchor=\"start\" x=\"581\" y=\"-483.8\" font-family=\"Helvetica,sans-Serif\" font-size=\"14.00\" fill=\"#000000\">value = [75, 78, 16, 0]</text>\n<text text-anchor=\"start\" x=\"587.5\" y=\"-468.8\" font-family=\"Helvetica,sans-Serif\" font-size=\"14.00\" fill=\"#000000\">class = veil_orange</text>\n</g>\n<!-- 0&#45;&gt;1 -->\n<g id=\"edge1\" class=\"edge\">\n<title>0&#45;&gt;1</title>\n<path fill=\"none\" stroke=\"#000000\" d=\"M757.791,-579.8796C744.477,-570.2774 730.2134,-559.9903 716.5741,-550.1534\"/>\n<polygon fill=\"#000000\" stroke=\"#000000\" points=\"718.3345,-547.1077 708.1764,-544.0969 714.2398,-552.7852 718.3345,-547.1077\"/>\n<text text-anchor=\"middle\" x=\"712.1736\" y=\"-565.0753\" font-family=\"Helvetica,sans-Serif\" font-size=\"14.00\" fill=\"#000000\">True</text>\n</g>\n<!-- 14 -->\n<g id=\"node15\" class=\"node\">\n<title>14</title>\n<path fill=\"#399de5\" stroke=\"#000000\" d=\"M1048,-544C1048,-544 917,-544 917,-544 911,-544 905,-538 905,-532 905,-532 905,-473 905,-473 905,-467 911,-461 917,-461 917,-461 1048,-461 1048,-461 1054,-461 1060,-467 1060,-473 1060,-473 1060,-532 1060,-532 1060,-538 1054,-544 1048,-544\"/>\n<text text-anchor=\"start\" x=\"932\" y=\"-528.8\" font-family=\"Helvetica,sans-Serif\" font-size=\"14.00\" fill=\"#000000\">gill_color ≤ 10.5</text>\n<text text-anchor=\"start\" x=\"944.5\" y=\"-513.8\" font-family=\"Helvetica,sans-Serif\" font-size=\"14.00\" fill=\"#000000\">gini = 0.002</text>\n<text text-anchor=\"start\" x=\"930.5\" y=\"-498.8\" font-family=\"Helvetica,sans-Serif\" font-size=\"14.00\" fill=\"#000000\">samples = 6330</text>\n<text text-anchor=\"start\" x=\"913\" y=\"-483.8\" font-family=\"Helvetica,sans-Serif\" font-size=\"14.00\" fill=\"#000000\">value = [0, 0, 6323, 7]</text>\n<text text-anchor=\"start\" x=\"925.5\" y=\"-468.8\" font-family=\"Helvetica,sans-Serif\" font-size=\"14.00\" fill=\"#000000\">class = veil_white</text>\n</g>\n<!-- 0&#45;&gt;14 -->\n<g id=\"edge14\" class=\"edge\">\n<title>0&#45;&gt;14</title>\n<path fill=\"none\" stroke=\"#000000\" d=\"M873.9085,-579.8796C887.3839,-570.2774 901.8203,-559.9903 915.625,-550.1534\"/>\n<polygon fill=\"#000000\" stroke=\"#000000\" points=\"918.0117,-552.7505 924.1245,-544.0969 913.9494,-547.0497 918.0117,-552.7505\"/>\n<text text-anchor=\"middle\" x=\"919.9866\" y=\"-565.0521\" font-family=\"Helvetica,sans-Serif\" font-size=\"14.00\" fill=\"#000000\">False</text>\n</g>\n<!-- 2 -->\n<g id=\"node3\" class=\"node\">\n<title>2</title>\n<path fill=\"#399de5\" stroke=\"#000000\" d=\"M547,-417.5C547,-417.5 432,-417.5 432,-417.5 426,-417.5 420,-411.5 420,-405.5 420,-405.5 420,-361.5 420,-361.5 420,-355.5 426,-349.5 432,-349.5 432,-349.5 547,-349.5 547,-349.5 553,-349.5 559,-355.5 559,-361.5 559,-361.5 559,-405.5 559,-405.5 559,-411.5 553,-417.5 547,-417.5\"/>\n<text text-anchor=\"start\" x=\"460\" y=\"-402.3\" font-family=\"Helvetica,sans-Serif\" font-size=\"14.00\" fill=\"#000000\">gini = 0.0</text>\n<text text-anchor=\"start\" x=\"445.5\" y=\"-387.3\" font-family=\"Helvetica,sans-Serif\" font-size=\"14.00\" fill=\"#000000\">samples = 16</text>\n<text text-anchor=\"start\" x=\"428\" y=\"-372.3\" font-family=\"Helvetica,sans-Serif\" font-size=\"14.00\" fill=\"#000000\">value = [0, 0, 16, 0]</text>\n<text text-anchor=\"start\" x=\"432.5\" y=\"-357.3\" font-family=\"Helvetica,sans-Serif\" font-size=\"14.00\" fill=\"#000000\">class = veil_white</text>\n</g>\n<!-- 1&#45;&gt;2 -->\n<g id=\"edge2\" class=\"edge\">\n<title>1&#45;&gt;2</title>\n<path fill=\"none\" stroke=\"#000000\" d=\"M594.19,-460.8796C577.8968,-448.8368 560.1461,-435.7167 543.9675,-423.7586\"/>\n<polygon fill=\"#000000\" stroke=\"#000000\" points=\"545.7886,-420.7524 535.6665,-417.623 541.6279,-426.3816 545.7886,-420.7524\"/>\n</g>\n<!-- 3 -->\n<g id=\"node4\" class=\"node\">\n<title>3</title>\n<path fill=\"#f8fef7\" stroke=\"#000000\" d=\"M712,-425C712,-425 589,-425 589,-425 583,-425 577,-419 577,-413 577,-413 577,-354 577,-354 577,-348 583,-342 589,-342 589,-342 712,-342 712,-342 718,-342 724,-348 724,-354 724,-354 724,-413 724,-413 724,-419 718,-425 712,-425\"/>\n<text text-anchor=\"start\" x=\"604\" y=\"-409.8\" font-family=\"Helvetica,sans-Serif\" font-size=\"14.00\" fill=\"#000000\">gill_color ≤ 8.5</text>\n<text text-anchor=\"start\" x=\"621\" y=\"-394.8\" font-family=\"Helvetica,sans-Serif\" font-size=\"14.00\" fill=\"#000000\">gini = 0.5</text>\n<text text-anchor=\"start\" x=\"602.5\" y=\"-379.8\" font-family=\"Helvetica,sans-Serif\" font-size=\"14.00\" fill=\"#000000\">samples = 153</text>\n<text text-anchor=\"start\" x=\"585\" y=\"-364.8\" font-family=\"Helvetica,sans-Serif\" font-size=\"14.00\" fill=\"#000000\">value = [75, 78, 0, 0]</text>\n<text text-anchor=\"start\" x=\"587.5\" y=\"-349.8\" font-family=\"Helvetica,sans-Serif\" font-size=\"14.00\" fill=\"#000000\">class = veil_orange</text>\n</g>\n<!-- 1&#45;&gt;3 -->\n<g id=\"edge3\" class=\"edge\">\n<title>1&#45;&gt;3</title>\n<path fill=\"none\" stroke=\"#000000\" d=\"M650.5,-460.8796C650.5,-452.6838 650.5,-443.9891 650.5,-435.5013\"/>\n<polygon fill=\"#000000\" stroke=\"#000000\" points=\"654.0001,-435.298 650.5,-425.2981 647.0001,-435.2981 654.0001,-435.298\"/>\n</g>\n<!-- 4 -->\n<g id=\"node5\" class=\"node\">\n<title>4</title>\n<path fill=\"#ebfcea\" stroke=\"#000000\" d=\"M465,-306C465,-306 342,-306 342,-306 336,-306 330,-300 330,-294 330,-294 330,-235 330,-235 330,-229 336,-223 342,-223 342,-223 465,-223 465,-223 471,-223 477,-229 477,-235 477,-235 477,-294 477,-294 477,-300 471,-306 465,-306\"/>\n<text text-anchor=\"start\" x=\"352\" y=\"-290.8\" font-family=\"Helvetica,sans-Serif\" font-size=\"14.00\" fill=\"#000000\">population ≤ 2.5</text>\n<text text-anchor=\"start\" x=\"365.5\" y=\"-275.8\" font-family=\"Helvetica,sans-Serif\" font-size=\"14.00\" fill=\"#000000\">gini = 0.498</text>\n<text text-anchor=\"start\" x=\"355.5\" y=\"-260.8\" font-family=\"Helvetica,sans-Serif\" font-size=\"14.00\" fill=\"#000000\">samples = 106</text>\n<text text-anchor=\"start\" x=\"338\" y=\"-245.8\" font-family=\"Helvetica,sans-Serif\" font-size=\"14.00\" fill=\"#000000\">value = [50, 56, 0, 0]</text>\n<text text-anchor=\"start\" x=\"340.5\" y=\"-230.8\" font-family=\"Helvetica,sans-Serif\" font-size=\"14.00\" fill=\"#000000\">class = veil_orange</text>\n</g>\n<!-- 3&#45;&gt;4 -->\n<g id=\"edge4\" class=\"edge\">\n<title>3&#45;&gt;4</title>\n<path fill=\"none\" stroke=\"#000000\" d=\"M576.7757,-346.5318C573.6446,-344.9953 570.5426,-343.4794 567.5,-342 541.1524,-329.1897 512.2963,-315.4551 486.2344,-303.1599\"/>\n<polygon fill=\"#000000\" stroke=\"#000000\" points=\"487.6791,-299.9716 477.1411,-298.8749 484.6951,-306.3038 487.6791,-299.9716\"/>\n</g>\n<!-- 11 -->\n<g id=\"node12\" class=\"node\">\n<title>11</title>\n<path fill=\"#fcf0e7\" stroke=\"#000000\" d=\"M712,-306C712,-306 589,-306 589,-306 583,-306 577,-300 577,-294 577,-294 577,-235 577,-235 577,-229 583,-223 589,-223 589,-223 712,-223 712,-223 718,-223 724,-229 724,-235 724,-235 724,-294 724,-294 724,-300 718,-306 712,-306\"/>\n<text text-anchor=\"start\" x=\"599\" y=\"-290.8\" font-family=\"Helvetica,sans-Serif\" font-size=\"14.00\" fill=\"#000000\">population ≤ 2.5</text>\n<text text-anchor=\"start\" x=\"612.5\" y=\"-275.8\" font-family=\"Helvetica,sans-Serif\" font-size=\"14.00\" fill=\"#000000\">gini = 0.498</text>\n<text text-anchor=\"start\" x=\"606.5\" y=\"-260.8\" font-family=\"Helvetica,sans-Serif\" font-size=\"14.00\" fill=\"#000000\">samples = 47</text>\n<text text-anchor=\"start\" x=\"585\" y=\"-245.8\" font-family=\"Helvetica,sans-Serif\" font-size=\"14.00\" fill=\"#000000\">value = [25, 22, 0, 0]</text>\n<text text-anchor=\"start\" x=\"590.5\" y=\"-230.8\" font-family=\"Helvetica,sans-Serif\" font-size=\"14.00\" fill=\"#000000\">class = veil_brown</text>\n</g>\n<!-- 3&#45;&gt;11 -->\n<g id=\"edge11\" class=\"edge\">\n<title>3&#45;&gt;11</title>\n<path fill=\"none\" stroke=\"#000000\" d=\"M650.5,-341.8796C650.5,-333.6838 650.5,-324.9891 650.5,-316.5013\"/>\n<polygon fill=\"#000000\" stroke=\"#000000\" points=\"654.0001,-316.298 650.5,-306.2981 647.0001,-316.2981 654.0001,-316.298\"/>\n</g>\n<!-- 5 -->\n<g id=\"node6\" class=\"node\">\n<title>5</title>\n<path fill=\"#e5fbe3\" stroke=\"#000000\" d=\"M300,-187C300,-187 177,-187 177,-187 171,-187 165,-181 165,-175 165,-175 165,-116 165,-116 165,-110 171,-104 177,-104 177,-104 300,-104 300,-104 306,-104 312,-110 312,-116 312,-116 312,-175 312,-175 312,-181 306,-187 300,-187\"/>\n<text text-anchor=\"start\" x=\"192\" y=\"-171.8\" font-family=\"Helvetica,sans-Serif\" font-size=\"14.00\" fill=\"#000000\">gill_color ≤ 5.5</text>\n<text text-anchor=\"start\" x=\"200.5\" y=\"-156.8\" font-family=\"Helvetica,sans-Serif\" font-size=\"14.00\" fill=\"#000000\">gini = 0.497</text>\n<text text-anchor=\"start\" x=\"194.5\" y=\"-141.8\" font-family=\"Helvetica,sans-Serif\" font-size=\"14.00\" fill=\"#000000\">samples = 52</text>\n<text text-anchor=\"start\" x=\"173\" y=\"-126.8\" font-family=\"Helvetica,sans-Serif\" font-size=\"14.00\" fill=\"#000000\">value = [24, 28, 0, 0]</text>\n<text text-anchor=\"start\" x=\"175.5\" y=\"-111.8\" font-family=\"Helvetica,sans-Serif\" font-size=\"14.00\" fill=\"#000000\">class = veil_orange</text>\n</g>\n<!-- 4&#45;&gt;5 -->\n<g id=\"edge5\" class=\"edge\">\n<title>4&#45;&gt;5</title>\n<path fill=\"none\" stroke=\"#000000\" d=\"M345.791,-222.8796C332.477,-213.2774 318.2134,-202.9903 304.5741,-193.1534\"/>\n<polygon fill=\"#000000\" stroke=\"#000000\" points=\"306.3345,-190.1077 296.1764,-187.0969 302.2398,-195.7852 306.3345,-190.1077\"/>\n</g>\n<!-- 8 -->\n<g id=\"node9\" class=\"node\">\n<title>8</title>\n<path fill=\"#f2fdf1\" stroke=\"#000000\" d=\"M465,-187C465,-187 342,-187 342,-187 336,-187 330,-181 330,-175 330,-175 330,-116 330,-116 330,-110 336,-104 342,-104 342,-104 465,-104 465,-104 471,-104 477,-110 477,-116 477,-116 477,-175 477,-175 477,-181 471,-187 465,-187\"/>\n<text text-anchor=\"start\" x=\"357\" y=\"-171.8\" font-family=\"Helvetica,sans-Serif\" font-size=\"14.00\" fill=\"#000000\">gill_color ≤ 5.5</text>\n<text text-anchor=\"start\" x=\"365.5\" y=\"-156.8\" font-family=\"Helvetica,sans-Serif\" font-size=\"14.00\" fill=\"#000000\">gini = 0.499</text>\n<text text-anchor=\"start\" x=\"359.5\" y=\"-141.8\" font-family=\"Helvetica,sans-Serif\" font-size=\"14.00\" fill=\"#000000\">samples = 54</text>\n<text text-anchor=\"start\" x=\"338\" y=\"-126.8\" font-family=\"Helvetica,sans-Serif\" font-size=\"14.00\" fill=\"#000000\">value = [26, 28, 0, 0]</text>\n<text text-anchor=\"start\" x=\"340.5\" y=\"-111.8\" font-family=\"Helvetica,sans-Serif\" font-size=\"14.00\" fill=\"#000000\">class = veil_orange</text>\n</g>\n<!-- 4&#45;&gt;8 -->\n<g id=\"edge8\" class=\"edge\">\n<title>4&#45;&gt;8</title>\n<path fill=\"none\" stroke=\"#000000\" d=\"M403.5,-222.8796C403.5,-214.6838 403.5,-205.9891 403.5,-197.5013\"/>\n<polygon fill=\"#000000\" stroke=\"#000000\" points=\"407.0001,-197.298 403.5,-187.2981 400.0001,-197.2981 407.0001,-197.298\"/>\n</g>\n<!-- 6 -->\n<g id=\"node7\" class=\"node\">\n<title>6</title>\n<path fill=\"#dafad7\" stroke=\"#000000\" d=\"M135,-68C135,-68 12,-68 12,-68 6,-68 0,-62 0,-56 0,-56 0,-12 0,-12 0,-6 6,0 12,0 12,0 135,0 135,0 141,0 147,-6 147,-12 147,-12 147,-56 147,-56 147,-62 141,-68 135,-68\"/>\n<text text-anchor=\"start\" x=\"35.5\" y=\"-52.8\" font-family=\"Helvetica,sans-Serif\" font-size=\"14.00\" fill=\"#000000\">gini = 0.494</text>\n<text text-anchor=\"start\" x=\"29.5\" y=\"-37.8\" font-family=\"Helvetica,sans-Serif\" font-size=\"14.00\" fill=\"#000000\">samples = 27</text>\n<text text-anchor=\"start\" x=\"8\" y=\"-22.8\" font-family=\"Helvetica,sans-Serif\" font-size=\"14.00\" fill=\"#000000\">value = [12, 15, 0, 0]</text>\n<text text-anchor=\"start\" x=\"10.5\" y=\"-7.8\" font-family=\"Helvetica,sans-Serif\" font-size=\"14.00\" fill=\"#000000\">class = veil_orange</text>\n</g>\n<!-- 5&#45;&gt;6 -->\n<g id=\"edge6\" class=\"edge\">\n<title>5&#45;&gt;6</title>\n<path fill=\"none\" stroke=\"#000000\" d=\"M177.0601,-103.9815C162.4309,-94.0957 146.8549,-83.5701 132.3452,-73.7651\"/>\n<polygon fill=\"#000000\" stroke=\"#000000\" points=\"134.1859,-70.7848 123.9406,-68.0856 130.2665,-76.5847 134.1859,-70.7848\"/>\n</g>\n<!-- 7 -->\n<g id=\"node8\" class=\"node\">\n<title>7</title>\n<path fill=\"#f1fdf0\" stroke=\"#000000\" d=\"M300,-68C300,-68 177,-68 177,-68 171,-68 165,-62 165,-56 165,-56 165,-12 165,-12 165,-6 171,0 177,0 177,0 300,0 300,0 306,0 312,-6 312,-12 312,-12 312,-56 312,-56 312,-62 306,-68 300,-68\"/>\n<text text-anchor=\"start\" x=\"200.5\" y=\"-52.8\" font-family=\"Helvetica,sans-Serif\" font-size=\"14.00\" fill=\"#000000\">gini = 0.499</text>\n<text text-anchor=\"start\" x=\"194.5\" y=\"-37.8\" font-family=\"Helvetica,sans-Serif\" font-size=\"14.00\" fill=\"#000000\">samples = 25</text>\n<text text-anchor=\"start\" x=\"173\" y=\"-22.8\" font-family=\"Helvetica,sans-Serif\" font-size=\"14.00\" fill=\"#000000\">value = [12, 13, 0, 0]</text>\n<text text-anchor=\"start\" x=\"175.5\" y=\"-7.8\" font-family=\"Helvetica,sans-Serif\" font-size=\"14.00\" fill=\"#000000\">class = veil_orange</text>\n</g>\n<!-- 5&#45;&gt;7 -->\n<g id=\"edge7\" class=\"edge\">\n<title>5&#45;&gt;7</title>\n<path fill=\"none\" stroke=\"#000000\" d=\"M238.5,-103.9815C238.5,-95.618 238.5,-86.7965 238.5,-78.3409\"/>\n<polygon fill=\"#000000\" stroke=\"#000000\" points=\"242.0001,-78.2636 238.5,-68.2637 235.0001,-78.2637 242.0001,-78.2636\"/>\n</g>\n<!-- 9 -->\n<g id=\"node10\" class=\"node\">\n<title>9</title>\n<path fill=\"#f2fdf1\" stroke=\"#000000\" d=\"M465,-68C465,-68 342,-68 342,-68 336,-68 330,-62 330,-56 330,-56 330,-12 330,-12 330,-6 336,0 342,0 342,0 465,0 465,0 471,0 477,-6 477,-12 477,-12 477,-56 477,-56 477,-62 471,-68 465,-68\"/>\n<text text-anchor=\"start\" x=\"365.5\" y=\"-52.8\" font-family=\"Helvetica,sans-Serif\" font-size=\"14.00\" fill=\"#000000\">gini = 0.499</text>\n<text text-anchor=\"start\" x=\"359.5\" y=\"-37.8\" font-family=\"Helvetica,sans-Serif\" font-size=\"14.00\" fill=\"#000000\">samples = 27</text>\n<text text-anchor=\"start\" x=\"338\" y=\"-22.8\" font-family=\"Helvetica,sans-Serif\" font-size=\"14.00\" fill=\"#000000\">value = [13, 14, 0, 0]</text>\n<text text-anchor=\"start\" x=\"340.5\" y=\"-7.8\" font-family=\"Helvetica,sans-Serif\" font-size=\"14.00\" fill=\"#000000\">class = veil_orange</text>\n</g>\n<!-- 8&#45;&gt;9 -->\n<g id=\"edge9\" class=\"edge\">\n<title>8&#45;&gt;9</title>\n<path fill=\"none\" stroke=\"#000000\" d=\"M403.5,-103.9815C403.5,-95.618 403.5,-86.7965 403.5,-78.3409\"/>\n<polygon fill=\"#000000\" stroke=\"#000000\" points=\"407.0001,-78.2636 403.5,-68.2637 400.0001,-78.2637 407.0001,-78.2636\"/>\n</g>\n<!-- 10 -->\n<g id=\"node11\" class=\"node\">\n<title>10</title>\n<path fill=\"#f2fdf1\" stroke=\"#000000\" d=\"M630,-68C630,-68 507,-68 507,-68 501,-68 495,-62 495,-56 495,-56 495,-12 495,-12 495,-6 501,0 507,0 507,0 630,0 630,0 636,0 642,-6 642,-12 642,-12 642,-56 642,-56 642,-62 636,-68 630,-68\"/>\n<text text-anchor=\"start\" x=\"530.5\" y=\"-52.8\" font-family=\"Helvetica,sans-Serif\" font-size=\"14.00\" fill=\"#000000\">gini = 0.499</text>\n<text text-anchor=\"start\" x=\"524.5\" y=\"-37.8\" font-family=\"Helvetica,sans-Serif\" font-size=\"14.00\" fill=\"#000000\">samples = 27</text>\n<text text-anchor=\"start\" x=\"503\" y=\"-22.8\" font-family=\"Helvetica,sans-Serif\" font-size=\"14.00\" fill=\"#000000\">value = [13, 14, 0, 0]</text>\n<text text-anchor=\"start\" x=\"505.5\" y=\"-7.8\" font-family=\"Helvetica,sans-Serif\" font-size=\"14.00\" fill=\"#000000\">class = veil_orange</text>\n</g>\n<!-- 8&#45;&gt;10 -->\n<g id=\"edge10\" class=\"edge\">\n<title>8&#45;&gt;10</title>\n<path fill=\"none\" stroke=\"#000000\" d=\"M464.9399,-103.9815C479.5691,-94.0957 495.1451,-83.5701 509.6548,-73.7651\"/>\n<polygon fill=\"#000000\" stroke=\"#000000\" points=\"511.7335,-76.5847 518.0594,-68.0856 507.8141,-70.7848 511.7335,-76.5847\"/>\n</g>\n<!-- 12 -->\n<g id=\"node13\" class=\"node\">\n<title>12</title>\n<path fill=\"#ffffff\" stroke=\"#000000\" d=\"M630,-179.5C630,-179.5 507,-179.5 507,-179.5 501,-179.5 495,-173.5 495,-167.5 495,-167.5 495,-123.5 495,-123.5 495,-117.5 501,-111.5 507,-111.5 507,-111.5 630,-111.5 630,-111.5 636,-111.5 642,-117.5 642,-123.5 642,-123.5 642,-167.5 642,-167.5 642,-173.5 636,-179.5 630,-179.5\"/>\n<text text-anchor=\"start\" x=\"539\" y=\"-164.3\" font-family=\"Helvetica,sans-Serif\" font-size=\"14.00\" fill=\"#000000\">gini = 0.5</text>\n<text text-anchor=\"start\" x=\"524.5\" y=\"-149.3\" font-family=\"Helvetica,sans-Serif\" font-size=\"14.00\" fill=\"#000000\">samples = 22</text>\n<text text-anchor=\"start\" x=\"503\" y=\"-134.3\" font-family=\"Helvetica,sans-Serif\" font-size=\"14.00\" fill=\"#000000\">value = [11, 11, 0, 0]</text>\n<text text-anchor=\"start\" x=\"508.5\" y=\"-119.3\" font-family=\"Helvetica,sans-Serif\" font-size=\"14.00\" fill=\"#000000\">class = veil_brown</text>\n</g>\n<!-- 11&#45;&gt;12 -->\n<g id=\"edge12\" class=\"edge\">\n<title>11&#45;&gt;12</title>\n<path fill=\"none\" stroke=\"#000000\" d=\"M621.8204,-222.8796C614.0917,-211.6636 605.7191,-199.5131 597.9492,-188.2372\"/>\n<polygon fill=\"#000000\" stroke=\"#000000\" points=\"600.7018,-186.0634 592.1456,-179.8149 594.9377,-190.0353 600.7018,-186.0634\"/>\n</g>\n<!-- 13 -->\n<g id=\"node14\" class=\"node\">\n<title>13</title>\n<path fill=\"#f9e4d5\" stroke=\"#000000\" d=\"M795,-179.5C795,-179.5 672,-179.5 672,-179.5 666,-179.5 660,-173.5 660,-167.5 660,-167.5 660,-123.5 660,-123.5 660,-117.5 666,-111.5 672,-111.5 672,-111.5 795,-111.5 795,-111.5 801,-111.5 807,-117.5 807,-123.5 807,-123.5 807,-167.5 807,-167.5 807,-173.5 801,-179.5 795,-179.5\"/>\n<text text-anchor=\"start\" x=\"695.5\" y=\"-164.3\" font-family=\"Helvetica,sans-Serif\" font-size=\"14.00\" fill=\"#000000\">gini = 0.493</text>\n<text text-anchor=\"start\" x=\"689.5\" y=\"-149.3\" font-family=\"Helvetica,sans-Serif\" font-size=\"14.00\" fill=\"#000000\">samples = 25</text>\n<text text-anchor=\"start\" x=\"668\" y=\"-134.3\" font-family=\"Helvetica,sans-Serif\" font-size=\"14.00\" fill=\"#000000\">value = [14, 11, 0, 0]</text>\n<text text-anchor=\"start\" x=\"673.5\" y=\"-119.3\" font-family=\"Helvetica,sans-Serif\" font-size=\"14.00\" fill=\"#000000\">class = veil_brown</text>\n</g>\n<!-- 11&#45;&gt;13 -->\n<g id=\"edge13\" class=\"edge\">\n<title>11&#45;&gt;13</title>\n<path fill=\"none\" stroke=\"#000000\" d=\"M679.5294,-222.8796C687.3523,-211.6636 695.827,-199.5131 703.6917,-188.2372\"/>\n<polygon fill=\"#000000\" stroke=\"#000000\" points=\"706.716,-190.0192 709.5661,-179.8149 700.9746,-186.0147 706.716,-190.0192\"/>\n</g>\n<!-- 15 -->\n<g id=\"node16\" class=\"node\">\n<title>15</title>\n<path fill=\"#399de5\" stroke=\"#000000\" d=\"M1048,-425C1048,-425 917,-425 917,-425 911,-425 905,-419 905,-413 905,-413 905,-354 905,-354 905,-348 911,-342 917,-342 917,-342 1048,-342 1048,-342 1054,-342 1060,-348 1060,-354 1060,-354 1060,-413 1060,-413 1060,-419 1054,-425 1048,-425\"/>\n<text text-anchor=\"start\" x=\"931\" y=\"-409.8\" font-family=\"Helvetica,sans-Serif\" font-size=\"14.00\" fill=\"#000000\">population ≤ 1.5</text>\n<text text-anchor=\"start\" x=\"944.5\" y=\"-394.8\" font-family=\"Helvetica,sans-Serif\" font-size=\"14.00\" fill=\"#000000\">gini = 0.001</text>\n<text text-anchor=\"start\" x=\"930.5\" y=\"-379.8\" font-family=\"Helvetica,sans-Serif\" font-size=\"14.00\" fill=\"#000000\">samples = 6320</text>\n<text text-anchor=\"start\" x=\"913\" y=\"-364.8\" font-family=\"Helvetica,sans-Serif\" font-size=\"14.00\" fill=\"#000000\">value = [0, 0, 6316, 4]</text>\n<text text-anchor=\"start\" x=\"925.5\" y=\"-349.8\" font-family=\"Helvetica,sans-Serif\" font-size=\"14.00\" fill=\"#000000\">class = veil_white</text>\n</g>\n<!-- 14&#45;&gt;15 -->\n<g id=\"edge15\" class=\"edge\">\n<title>14&#45;&gt;15</title>\n<path fill=\"none\" stroke=\"#000000\" d=\"M982.5,-460.8796C982.5,-452.6838 982.5,-443.9891 982.5,-435.5013\"/>\n<polygon fill=\"#000000\" stroke=\"#000000\" points=\"986.0001,-435.298 982.5,-425.2981 979.0001,-435.2981 986.0001,-435.298\"/>\n</g>\n<!-- 22 -->\n<g id=\"node23\" class=\"node\">\n<title>22</title>\n<path fill=\"#8ec7f0\" stroke=\"#000000\" d=\"M1285,-425C1285,-425 1178,-425 1178,-425 1172,-425 1166,-419 1166,-413 1166,-413 1166,-354 1166,-354 1166,-348 1172,-342 1178,-342 1178,-342 1285,-342 1285,-342 1291,-342 1297,-348 1297,-354 1297,-354 1297,-413 1297,-413 1297,-419 1291,-425 1285,-425\"/>\n<text text-anchor=\"start\" x=\"1183.5\" y=\"-409.8\" font-family=\"Helvetica,sans-Serif\" font-size=\"14.00\" fill=\"#000000\">ring_type ≤ 1.5</text>\n<text text-anchor=\"start\" x=\"1198\" y=\"-394.8\" font-family=\"Helvetica,sans-Serif\" font-size=\"14.00\" fill=\"#000000\">gini = 0.42</text>\n<text text-anchor=\"start\" x=\"1187.5\" y=\"-379.8\" font-family=\"Helvetica,sans-Serif\" font-size=\"14.00\" fill=\"#000000\">samples = 10</text>\n<text text-anchor=\"start\" x=\"1174\" y=\"-364.8\" font-family=\"Helvetica,sans-Serif\" font-size=\"14.00\" fill=\"#000000\">value = [0, 0, 7, 3]</text>\n<text text-anchor=\"start\" x=\"1174.5\" y=\"-349.8\" font-family=\"Helvetica,sans-Serif\" font-size=\"14.00\" fill=\"#000000\">class = veil_white</text>\n</g>\n<!-- 14&#45;&gt;22 -->\n<g id=\"edge22\" class=\"edge\">\n<title>14&#45;&gt;22</title>\n<path fill=\"none\" stroke=\"#000000\" d=\"M1060.2609,-465.3371C1090.909,-450.6901 1125.9776,-433.9304 1156.3646,-419.4081\"/>\n<polygon fill=\"#000000\" stroke=\"#000000\" points=\"1158.1213,-422.4478 1165.6347,-414.9778 1155.1029,-416.132 1158.1213,-422.4478\"/>\n</g>\n<!-- 16 -->\n<g id=\"node17\" class=\"node\">\n<title>16</title>\n<path fill=\"#3b9ee5\" stroke=\"#000000\" d=\"M960,-306C960,-306 837,-306 837,-306 831,-306 825,-300 825,-294 825,-294 825,-235 825,-235 825,-229 831,-223 837,-223 837,-223 960,-223 960,-223 966,-223 972,-229 972,-235 972,-235 972,-294 972,-294 972,-300 966,-306 960,-306\"/>\n<text text-anchor=\"start\" x=\"856.5\" y=\"-290.8\" font-family=\"Helvetica,sans-Serif\" font-size=\"14.00\" fill=\"#000000\">edibility ≤ 0.5</text>\n<text text-anchor=\"start\" x=\"860.5\" y=\"-275.8\" font-family=\"Helvetica,sans-Serif\" font-size=\"14.00\" fill=\"#000000\">gini = 0.017</text>\n<text text-anchor=\"start\" x=\"850.5\" y=\"-260.8\" font-family=\"Helvetica,sans-Serif\" font-size=\"14.00\" fill=\"#000000\">samples = 477</text>\n<text text-anchor=\"start\" x=\"833\" y=\"-245.8\" font-family=\"Helvetica,sans-Serif\" font-size=\"14.00\" fill=\"#000000\">value = [0, 0, 473, 4]</text>\n<text text-anchor=\"start\" x=\"841.5\" y=\"-230.8\" font-family=\"Helvetica,sans-Serif\" font-size=\"14.00\" fill=\"#000000\">class = veil_white</text>\n</g>\n<!-- 15&#45;&gt;16 -->\n<g id=\"edge16\" class=\"edge\">\n<title>15&#45;&gt;16</title>\n<path fill=\"none\" stroke=\"#000000\" d=\"M953.1209,-341.8796C946.8906,-333.0534 940.2519,-323.6485 933.827,-314.5466\"/>\n<polygon fill=\"#000000\" stroke=\"#000000\" points=\"936.6308,-312.4494 928.0045,-306.2981 930.912,-316.4862 936.6308,-312.4494\"/>\n</g>\n<!-- 21 -->\n<g id=\"node22\" class=\"node\">\n<title>21</title>\n<path fill=\"#399de5\" stroke=\"#000000\" d=\"M1133,-298.5C1133,-298.5 1002,-298.5 1002,-298.5 996,-298.5 990,-292.5 990,-286.5 990,-286.5 990,-242.5 990,-242.5 990,-236.5 996,-230.5 1002,-230.5 1002,-230.5 1133,-230.5 1133,-230.5 1139,-230.5 1145,-236.5 1145,-242.5 1145,-242.5 1145,-286.5 1145,-286.5 1145,-292.5 1139,-298.5 1133,-298.5\"/>\n<text text-anchor=\"start\" x=\"1038\" y=\"-283.3\" font-family=\"Helvetica,sans-Serif\" font-size=\"14.00\" fill=\"#000000\">gini = 0.0</text>\n<text text-anchor=\"start\" x=\"1015.5\" y=\"-268.3\" font-family=\"Helvetica,sans-Serif\" font-size=\"14.00\" fill=\"#000000\">samples = 5843</text>\n<text text-anchor=\"start\" x=\"998\" y=\"-253.3\" font-family=\"Helvetica,sans-Serif\" font-size=\"14.00\" fill=\"#000000\">value = [0, 0, 5843, 0]</text>\n<text text-anchor=\"start\" x=\"1010.5\" y=\"-238.3\" font-family=\"Helvetica,sans-Serif\" font-size=\"14.00\" fill=\"#000000\">class = veil_white</text>\n</g>\n<!-- 15&#45;&gt;21 -->\n<g id=\"edge21\" class=\"edge\">\n<title>15&#45;&gt;21</title>\n<path fill=\"none\" stroke=\"#000000\" d=\"M1012.2289,-341.8796C1020.2403,-330.6636 1028.9192,-318.5131 1036.9734,-307.2372\"/>\n<polygon fill=\"#000000\" stroke=\"#000000\" points=\"1040.025,-308.9866 1042.9893,-298.8149 1034.3288,-304.9179 1040.025,-308.9866\"/>\n</g>\n<!-- 17 -->\n<g id=\"node18\" class=\"node\">\n<title>17</title>\n<path fill=\"#399de5\" stroke=\"#000000\" d=\"M960,-179.5C960,-179.5 837,-179.5 837,-179.5 831,-179.5 825,-173.5 825,-167.5 825,-167.5 825,-123.5 825,-123.5 825,-117.5 831,-111.5 837,-111.5 837,-111.5 960,-111.5 960,-111.5 966,-111.5 972,-117.5 972,-123.5 972,-123.5 972,-167.5 972,-167.5 972,-173.5 966,-179.5 960,-179.5\"/>\n<text text-anchor=\"start\" x=\"869\" y=\"-164.3\" font-family=\"Helvetica,sans-Serif\" font-size=\"14.00\" fill=\"#000000\">gini = 0.0</text>\n<text text-anchor=\"start\" x=\"850.5\" y=\"-149.3\" font-family=\"Helvetica,sans-Serif\" font-size=\"14.00\" fill=\"#000000\">samples = 459</text>\n<text text-anchor=\"start\" x=\"833\" y=\"-134.3\" font-family=\"Helvetica,sans-Serif\" font-size=\"14.00\" fill=\"#000000\">value = [0, 0, 459, 0]</text>\n<text text-anchor=\"start\" x=\"841.5\" y=\"-119.3\" font-family=\"Helvetica,sans-Serif\" font-size=\"14.00\" fill=\"#000000\">class = veil_white</text>\n</g>\n<!-- 16&#45;&gt;17 -->\n<g id=\"edge17\" class=\"edge\">\n<title>16&#45;&gt;17</title>\n<path fill=\"none\" stroke=\"#000000\" d=\"M898.5,-222.8796C898.5,-212.2134 898.5,-200.7021 898.5,-189.9015\"/>\n<polygon fill=\"#000000\" stroke=\"#000000\" points=\"902.0001,-189.8149 898.5,-179.8149 895.0001,-189.815 902.0001,-189.8149\"/>\n</g>\n<!-- 18 -->\n<g id=\"node19\" class=\"node\">\n<title>18</title>\n<path fill=\"#72b9ec\" stroke=\"#000000\" d=\"M1117,-187C1117,-187 1002,-187 1002,-187 996,-187 990,-181 990,-175 990,-175 990,-116 990,-116 990,-110 996,-104 1002,-104 1002,-104 1117,-104 1117,-104 1123,-104 1129,-110 1129,-116 1129,-116 1129,-175 1129,-175 1129,-181 1123,-187 1117,-187\"/>\n<text text-anchor=\"start\" x=\"1011.5\" y=\"-171.8\" font-family=\"Helvetica,sans-Serif\" font-size=\"14.00\" fill=\"#000000\">ring_type ≤ 1.5</text>\n<text text-anchor=\"start\" x=\"1021.5\" y=\"-156.8\" font-family=\"Helvetica,sans-Serif\" font-size=\"14.00\" fill=\"#000000\">gini = 0.346</text>\n<text text-anchor=\"start\" x=\"1015.5\" y=\"-141.8\" font-family=\"Helvetica,sans-Serif\" font-size=\"14.00\" fill=\"#000000\">samples = 18</text>\n<text text-anchor=\"start\" x=\"998\" y=\"-126.8\" font-family=\"Helvetica,sans-Serif\" font-size=\"14.00\" fill=\"#000000\">value = [0, 0, 14, 4]</text>\n<text text-anchor=\"start\" x=\"1002.5\" y=\"-111.8\" font-family=\"Helvetica,sans-Serif\" font-size=\"14.00\" fill=\"#000000\">class = veil_white</text>\n</g>\n<!-- 16&#45;&gt;18 -->\n<g id=\"edge18\" class=\"edge\">\n<title>16&#45;&gt;18</title>\n<path fill=\"none\" stroke=\"#000000\" d=\"M954.81,-222.8796C967.8012,-213.2774 981.719,-202.9903 995.0277,-193.1534\"/>\n<polygon fill=\"#000000\" stroke=\"#000000\" points=\"997.2604,-195.8555 1003.2218,-187.0969 993.0996,-190.2263 997.2604,-195.8555\"/>\n</g>\n<!-- 19 -->\n<g id=\"node20\" class=\"node\">\n<title>19</title>\n<path fill=\"#d739e5\" stroke=\"#000000\" d=\"M1038,-68C1038,-68 925,-68 925,-68 919,-68 913,-62 913,-56 913,-56 913,-12 913,-12 913,-6 919,0 925,0 925,0 1038,0 1038,0 1044,0 1050,-6 1050,-12 1050,-12 1050,-56 1050,-56 1050,-62 1044,-68 1038,-68\"/>\n<text text-anchor=\"start\" x=\"952\" y=\"-52.8\" font-family=\"Helvetica,sans-Serif\" font-size=\"14.00\" fill=\"#000000\">gini = 0.0</text>\n<text text-anchor=\"start\" x=\"942\" y=\"-37.8\" font-family=\"Helvetica,sans-Serif\" font-size=\"14.00\" fill=\"#000000\">samples = 4</text>\n<text text-anchor=\"start\" x=\"924\" y=\"-22.8\" font-family=\"Helvetica,sans-Serif\" font-size=\"14.00\" fill=\"#000000\">value = [0, 0, 0, 4]</text>\n<text text-anchor=\"start\" x=\"921\" y=\"-7.8\" font-family=\"Helvetica,sans-Serif\" font-size=\"14.00\" fill=\"#000000\">class = veil_yellow</text>\n</g>\n<!-- 18&#45;&gt;19 -->\n<g id=\"edge19\" class=\"edge\">\n<title>18&#45;&gt;19</title>\n<path fill=\"none\" stroke=\"#000000\" d=\"M1030.4557,-103.9815C1024.2192,-95.0666 1017.6187,-85.6313 1011.3522,-76.6734\"/>\n<polygon fill=\"#000000\" stroke=\"#000000\" points=\"1014.0693,-74.4515 1005.4692,-68.2637 1008.3335,-78.464 1014.0693,-74.4515\"/>\n</g>\n<!-- 20 -->\n<g id=\"node21\" class=\"node\">\n<title>20</title>\n<path fill=\"#399de5\" stroke=\"#000000\" d=\"M1195,-68C1195,-68 1080,-68 1080,-68 1074,-68 1068,-62 1068,-56 1068,-56 1068,-12 1068,-12 1068,-6 1074,0 1080,0 1080,0 1195,0 1195,0 1201,0 1207,-6 1207,-12 1207,-12 1207,-56 1207,-56 1207,-62 1201,-68 1195,-68\"/>\n<text text-anchor=\"start\" x=\"1108\" y=\"-52.8\" font-family=\"Helvetica,sans-Serif\" font-size=\"14.00\" fill=\"#000000\">gini = 0.0</text>\n<text text-anchor=\"start\" x=\"1093.5\" y=\"-37.8\" font-family=\"Helvetica,sans-Serif\" font-size=\"14.00\" fill=\"#000000\">samples = 14</text>\n<text text-anchor=\"start\" x=\"1076\" y=\"-22.8\" font-family=\"Helvetica,sans-Serif\" font-size=\"14.00\" fill=\"#000000\">value = [0, 0, 14, 0]</text>\n<text text-anchor=\"start\" x=\"1080.5\" y=\"-7.8\" font-family=\"Helvetica,sans-Serif\" font-size=\"14.00\" fill=\"#000000\">class = veil_white</text>\n</g>\n<!-- 18&#45;&gt;20 -->\n<g id=\"edge20\" class=\"edge\">\n<title>18&#45;&gt;20</title>\n<path fill=\"none\" stroke=\"#000000\" d=\"M1088.5443,-103.9815C1094.7808,-95.0666 1101.3813,-85.6313 1107.6478,-76.6734\"/>\n<polygon fill=\"#000000\" stroke=\"#000000\" points=\"1110.6665,-78.464 1113.5308,-68.2637 1104.9307,-74.4515 1110.6665,-78.464\"/>\n</g>\n<!-- 23 -->\n<g id=\"node24\" class=\"node\">\n<title>23</title>\n<path fill=\"#d739e5\" stroke=\"#000000\" d=\"M1288,-298.5C1288,-298.5 1175,-298.5 1175,-298.5 1169,-298.5 1163,-292.5 1163,-286.5 1163,-286.5 1163,-242.5 1163,-242.5 1163,-236.5 1169,-230.5 1175,-230.5 1175,-230.5 1288,-230.5 1288,-230.5 1294,-230.5 1300,-236.5 1300,-242.5 1300,-242.5 1300,-286.5 1300,-286.5 1300,-292.5 1294,-298.5 1288,-298.5\"/>\n<text text-anchor=\"start\" x=\"1202\" y=\"-283.3\" font-family=\"Helvetica,sans-Serif\" font-size=\"14.00\" fill=\"#000000\">gini = 0.0</text>\n<text text-anchor=\"start\" x=\"1192\" y=\"-268.3\" font-family=\"Helvetica,sans-Serif\" font-size=\"14.00\" fill=\"#000000\">samples = 3</text>\n<text text-anchor=\"start\" x=\"1174\" y=\"-253.3\" font-family=\"Helvetica,sans-Serif\" font-size=\"14.00\" fill=\"#000000\">value = [0, 0, 0, 3]</text>\n<text text-anchor=\"start\" x=\"1171\" y=\"-238.3\" font-family=\"Helvetica,sans-Serif\" font-size=\"14.00\" fill=\"#000000\">class = veil_yellow</text>\n</g>\n<!-- 22&#45;&gt;23 -->\n<g id=\"edge23\" class=\"edge\">\n<title>22&#45;&gt;23</title>\n<path fill=\"none\" stroke=\"#000000\" d=\"M1231.5,-341.8796C1231.5,-331.2134 1231.5,-319.7021 1231.5,-308.9015\"/>\n<polygon fill=\"#000000\" stroke=\"#000000\" points=\"1235.0001,-308.8149 1231.5,-298.8149 1228.0001,-308.815 1235.0001,-308.8149\"/>\n</g>\n<!-- 24 -->\n<g id=\"node25\" class=\"node\">\n<title>24</title>\n<path fill=\"#399de5\" stroke=\"#000000\" d=\"M1437,-298.5C1437,-298.5 1330,-298.5 1330,-298.5 1324,-298.5 1318,-292.5 1318,-286.5 1318,-286.5 1318,-242.5 1318,-242.5 1318,-236.5 1324,-230.5 1330,-230.5 1330,-230.5 1437,-230.5 1437,-230.5 1443,-230.5 1449,-236.5 1449,-242.5 1449,-242.5 1449,-286.5 1449,-286.5 1449,-292.5 1443,-298.5 1437,-298.5\"/>\n<text text-anchor=\"start\" x=\"1354\" y=\"-283.3\" font-family=\"Helvetica,sans-Serif\" font-size=\"14.00\" fill=\"#000000\">gini = 0.0</text>\n<text text-anchor=\"start\" x=\"1344\" y=\"-268.3\" font-family=\"Helvetica,sans-Serif\" font-size=\"14.00\" fill=\"#000000\">samples = 7</text>\n<text text-anchor=\"start\" x=\"1326\" y=\"-253.3\" font-family=\"Helvetica,sans-Serif\" font-size=\"14.00\" fill=\"#000000\">value = [0, 0, 7, 0]</text>\n<text text-anchor=\"start\" x=\"1326.5\" y=\"-238.3\" font-family=\"Helvetica,sans-Serif\" font-size=\"14.00\" fill=\"#000000\">class = veil_white</text>\n</g>\n<!-- 22&#45;&gt;24 -->\n<g id=\"edge24\" class=\"edge\">\n<title>22&#45;&gt;24</title>\n<path fill=\"none\" stroke=\"#000000\" d=\"M1284.6622,-341.8796C1299.8313,-330.0038 1316.3384,-317.0804 1331.4409,-305.2568\"/>\n<polygon fill=\"#000000\" stroke=\"#000000\" points=\"1333.9528,-307.7353 1339.6692,-298.8149 1329.6376,-302.2236 1333.9528,-307.7353\"/>\n</g>\n</g>\n</svg>\n"
          },
          "metadata": {
            "tags": []
          },
          "execution_count": 96
        }
      ]
    },
    {
      "cell_type": "markdown",
      "metadata": {
        "id": "zjtNY_EHfvtt",
        "colab_type": "text"
      },
      "source": [
        "### Random Forest"
      ]
    },
    {
      "cell_type": "markdown",
      "metadata": {
        "id": "lh1E8t1KnU0x",
        "colab_type": "text"
      },
      "source": [
        "We also compare the relevent between the BaggingClassifier and RandomForestClassifier.\n",
        "\n",
        "In sklearn if we bag decision trees, we still end up using all features with each decision tree. In random forests however, we use a subset of features. Therefore, here we put the BaggingClassifier() before random forest. "
      ]
    },
    {
      "cell_type": "markdown",
      "metadata": {
        "id": "beY0Avt7Vy4r",
        "colab_type": "text"
      },
      "source": [
        "__Bagging model 1__ "
      ]
    },
    {
      "cell_type": "code",
      "metadata": {
        "id": "xYtbKBelneWi",
        "colab_type": "code",
        "colab": {
          "base_uri": "https://localhost:8080/",
          "height": 34
        },
        "outputId": "09062c08-4222-4b61-d5db-b94d894d011e"
      },
      "source": [
        "# Bagging ensembles- model1\n",
        "import time\n",
        "start = time.time()\n",
        "\n",
        "from sklearn.ensemble import BaggingClassifier\n",
        "from sklearn.tree import DecisionTreeClassifier\n",
        "\n",
        "bag_clf = BaggingClassifier(\n",
        "    DecisionTreeClassifier(splitter=\"random\", max_leaf_nodes=16, random_state=42), \n",
        "    n_estimators=500, max_samples=100, bootstrap=True, random_state=42)\n",
        "bag_clf.fit(X1_train, y1_train)\n",
        "BEpred1 = bag_clf.predict(X1_test)\n",
        "\n",
        "end = time.time()\n",
        "running_time = end-start\n",
        "print('Bagging-1 time cost : %.5f sec' %running_time)"
      ],
      "execution_count": 97,
      "outputs": [
        {
          "output_type": "stream",
          "text": [
            "Bagging-1 time cost : 1.07270 sec\n"
          ],
          "name": "stdout"
        }
      ]
    },
    {
      "cell_type": "code",
      "metadata": {
        "id": "u0r7ZweQTt80",
        "colab_type": "code",
        "colab": {
          "base_uri": "https://localhost:8080/",
          "height": 322
        },
        "outputId": "d481c6fe-47f9-4330-b56f-94a64c489ed5"
      },
      "source": [
        "from sklearn.metrics import classification_report, confusion_matrix\n",
        "print(confusion_matrix(y1_test,BEpred1))\n",
        "print(classification_report(y1_test,BEpred1))"
      ],
      "execution_count": 98,
      "outputs": [
        {
          "output_type": "stream",
          "text": [
            "[[  10    7    4    0]\n",
            " [   9    4    5    0]\n",
            " [   0    0 1585    0]\n",
            " [   0    0    1    0]]\n",
            "              precision    recall  f1-score   support\n",
            "\n",
            "           0       0.53      0.48      0.50        21\n",
            "           1       0.36      0.22      0.28        18\n",
            "           2       0.99      1.00      1.00      1585\n",
            "           3       0.00      0.00      0.00         1\n",
            "\n",
            "    accuracy                           0.98      1625\n",
            "   macro avg       0.47      0.42      0.44      1625\n",
            "weighted avg       0.98      0.98      0.98      1625\n",
            "\n"
          ],
          "name": "stdout"
        },
        {
          "output_type": "stream",
          "text": [
            "/usr/local/lib/python3.6/dist-packages/sklearn/metrics/_classification.py:1272: UndefinedMetricWarning: Precision and F-score are ill-defined and being set to 0.0 in labels with no predicted samples. Use `zero_division` parameter to control this behavior.\n",
            "  _warn_prf(average, modifier, msg_start, len(result))\n"
          ],
          "name": "stderr"
        }
      ]
    },
    {
      "cell_type": "markdown",
      "metadata": {
        "id": "TKY10OGfV6Bv",
        "colab_type": "text"
      },
      "source": [
        "__Bagging model 2__"
      ]
    },
    {
      "cell_type": "code",
      "metadata": {
        "id": "YW1XVG2aMpOn",
        "colab_type": "code",
        "colab": {
          "base_uri": "https://localhost:8080/",
          "height": 34
        },
        "outputId": "cd568213-c63e-42ee-fe35-f8cf72cd0af3"
      },
      "source": [
        "# Bagging ensembles-model2\n",
        "import time\n",
        "start = time.time()\n",
        "\n",
        "from sklearn.ensemble import BaggingClassifier\n",
        "from sklearn.tree import DecisionTreeClassifier\n",
        "\n",
        "bag_clf = BaggingClassifier(\n",
        "    DecisionTreeClassifier(splitter=\"random\", max_leaf_nodes=16, random_state=42), \n",
        "    n_estimators=500, max_samples=100, bootstrap=True, random_state=42)\n",
        "bag_clf.fit(X2_train, y2_train)\n",
        "BEpred2 = bag_clf.predict(X2_test)\n",
        "\n",
        "end = time.time()\n",
        "running_time = end-start\n",
        "print('Bagging-2 time cost : %.5f sec' %running_time)"
      ],
      "execution_count": 99,
      "outputs": [
        {
          "output_type": "stream",
          "text": [
            "Bagging-2 time cost : 1.02411 sec\n"
          ],
          "name": "stdout"
        }
      ]
    },
    {
      "cell_type": "code",
      "metadata": {
        "id": "DQ7GyNstTxhm",
        "colab_type": "code",
        "colab": {
          "base_uri": "https://localhost:8080/",
          "height": 322
        },
        "outputId": "0ad9c97c-5027-4d41-dfdc-51582fecdf94"
      },
      "source": [
        "from sklearn.metrics import classification_report, confusion_matrix\n",
        "print(confusion_matrix(y1_test,BEpred2))\n",
        "print(classification_report(y1_test,BEpred2))"
      ],
      "execution_count": 100,
      "outputs": [
        {
          "output_type": "stream",
          "text": [
            "[[   7   14    0    0]\n",
            " [  10    8    0    0]\n",
            " [   2    0 1583    0]\n",
            " [   0    0    1    0]]\n",
            "              precision    recall  f1-score   support\n",
            "\n",
            "           0       0.37      0.33      0.35        21\n",
            "           1       0.36      0.44      0.40        18\n",
            "           2       1.00      1.00      1.00      1585\n",
            "           3       0.00      0.00      0.00         1\n",
            "\n",
            "    accuracy                           0.98      1625\n",
            "   macro avg       0.43      0.44      0.44      1625\n",
            "weighted avg       0.98      0.98      0.98      1625\n",
            "\n"
          ],
          "name": "stdout"
        },
        {
          "output_type": "stream",
          "text": [
            "/usr/local/lib/python3.6/dist-packages/sklearn/metrics/_classification.py:1272: UndefinedMetricWarning: Precision and F-score are ill-defined and being set to 0.0 in labels with no predicted samples. Use `zero_division` parameter to control this behavior.\n",
            "  _warn_prf(average, modifier, msg_start, len(result))\n"
          ],
          "name": "stderr"
        }
      ]
    },
    {
      "cell_type": "markdown",
      "metadata": {
        "id": "IBbWKly1oDM0",
        "colab_type": "text"
      },
      "source": [
        "Then we use RandomForestClassifier() \n",
        "__RandomForest model 1__"
      ]
    },
    {
      "cell_type": "code",
      "metadata": {
        "id": "uL6-5fk9nlpm",
        "colab_type": "code",
        "colab": {
          "base_uri": "https://localhost:8080/",
          "height": 34
        },
        "outputId": "22770b15-2caf-4a40-cb8d-61a1b2c8fc8f"
      },
      "source": [
        "# RandomForest -model1\n",
        "import time\n",
        "start = time.time()\n",
        "\n",
        "from sklearn.ensemble import RandomForestClassifier\n",
        "rnd_clf = RandomForestClassifier(n_estimators=500, max_leaf_nodes=16, random_state=42)\n",
        "rnd_clf.fit(X1_train, y1_train)\n",
        "RFpred1 = rnd_clf.predict(X1_test)\n",
        "\n",
        "end = time.time()\n",
        "running_time = end-start\n",
        "print('RandomForest-2 time cost : %.5f sec' %running_time)"
      ],
      "execution_count": 101,
      "outputs": [
        {
          "output_type": "stream",
          "text": [
            "RandomForest-2 time cost : 1.14937 sec\n"
          ],
          "name": "stdout"
        }
      ]
    },
    {
      "cell_type": "code",
      "metadata": {
        "id": "8ANhxhaeT0vN",
        "colab_type": "code",
        "colab": {
          "base_uri": "https://localhost:8080/",
          "height": 269
        },
        "outputId": "5b93983b-aee7-454f-e80d-147ca320a68f"
      },
      "source": [
        "from sklearn.metrics import classification_report, confusion_matrix\n",
        "print(confusion_matrix(y1_test,RFpred1))\n",
        "print(classification_report(y1_test,RFpred1))"
      ],
      "execution_count": 102,
      "outputs": [
        {
          "output_type": "stream",
          "text": [
            "[[   9   12    0    0]\n",
            " [  12    6    0    0]\n",
            " [   0    0 1585    0]\n",
            " [   0    0    0    1]]\n",
            "              precision    recall  f1-score   support\n",
            "\n",
            "           0       0.43      0.43      0.43        21\n",
            "           1       0.33      0.33      0.33        18\n",
            "           2       1.00      1.00      1.00      1585\n",
            "           3       1.00      1.00      1.00         1\n",
            "\n",
            "    accuracy                           0.99      1625\n",
            "   macro avg       0.69      0.69      0.69      1625\n",
            "weighted avg       0.99      0.99      0.99      1625\n",
            "\n"
          ],
          "name": "stdout"
        }
      ]
    },
    {
      "cell_type": "markdown",
      "metadata": {
        "id": "HUqSjRPaWA5U",
        "colab_type": "text"
      },
      "source": [
        "__RandomForest model 2__"
      ]
    },
    {
      "cell_type": "code",
      "metadata": {
        "id": "85smnQE9Mykj",
        "colab_type": "code",
        "colab": {
          "base_uri": "https://localhost:8080/",
          "height": 34
        },
        "outputId": "ccdeed3f-4c58-443c-f136-0c76b6115f08"
      },
      "source": [
        "# RandomForest -model2\n",
        "import time\n",
        "start = time.time()\n",
        "\n",
        "from sklearn.ensemble import RandomForestClassifier\n",
        "rnd_clf = RandomForestClassifier(n_estimators=500, max_leaf_nodes=16, random_state=42)\n",
        "rnd_clf.fit(X2_train, y2_train)\n",
        "RFpred2 = rnd_clf.predict(X2_test)\n",
        "end = time.time()\n",
        "running_time = end-start\n",
        "print('RandomForest-2 time cost : %.5f sec' %running_time)"
      ],
      "execution_count": 103,
      "outputs": [
        {
          "output_type": "stream",
          "text": [
            "RandomForest-2 time cost : 1.16321 sec\n"
          ],
          "name": "stdout"
        }
      ]
    },
    {
      "cell_type": "code",
      "metadata": {
        "id": "lkUKo0FTT3ZZ",
        "colab_type": "code",
        "colab": {
          "base_uri": "https://localhost:8080/",
          "height": 269
        },
        "outputId": "a740ec4a-e8e5-4aa6-f3df-149f48207971"
      },
      "source": [
        "from sklearn.metrics import classification_report, confusion_matrix\n",
        "print(confusion_matrix(y1_test,RFpred2))\n",
        "print(classification_report(y1_test,RFpred2))"
      ],
      "execution_count": 104,
      "outputs": [
        {
          "output_type": "stream",
          "text": [
            "[[   7   14    0    0]\n",
            " [  10    8    0    0]\n",
            " [   0    0 1585    0]\n",
            " [   0    0    0    1]]\n",
            "              precision    recall  f1-score   support\n",
            "\n",
            "           0       0.41      0.33      0.37        21\n",
            "           1       0.36      0.44      0.40        18\n",
            "           2       1.00      1.00      1.00      1585\n",
            "           3       1.00      1.00      1.00         1\n",
            "\n",
            "    accuracy                           0.99      1625\n",
            "   macro avg       0.69      0.69      0.69      1625\n",
            "weighted avg       0.99      0.99      0.99      1625\n",
            "\n"
          ],
          "name": "stdout"
        }
      ]
    },
    {
      "cell_type": "markdown",
      "metadata": {
        "id": "xEv-cPnV437J",
        "colab_type": "text"
      },
      "source": [
        "## Select Model"
      ]
    },
    {
      "cell_type": "code",
      "metadata": {
        "id": "VI5ZieORwp89",
        "colab_type": "code",
        "colab": {}
      },
      "source": [
        "# print table\n",
        "'''\n",
        "mix = {'value type': ['0','0','0','1','1','1'],\n",
        "             'matrics': [\"precision\",'recall','f1-score',\"precision\",'recall','f1-score'],\n",
        "            'model1': ['0.61','0.59','0.60','0.61','0.62','0.61'],\n",
        "            'model2': ['0.56','0.84','0.67','0.69','0.34','0.45'],\n",
        "             'model3': ['0.66','0.64','0.65','0.66','0.67','0.66']             \n",
        "            }\n",
        "\n",
        "df = pd.DataFrame(mix, columns= ['value type','matrics','model1','model2','model3'])\n",
        "\n",
        "pivot = df.pivot_table(index=['matrics','value type'], values=['model1','model2','model3'], aggfunc='sum')\n",
        "print (pivot)\n",
        "'''"
      ],
      "execution_count": null,
      "outputs": []
    },
    {
      "cell_type": "markdown",
      "metadata": {
        "id": "LZiZeW9c46-L",
        "colab_type": "text"
      },
      "source": [
        "## Conclusions"
      ]
    },
    {
      "cell_type": "markdown",
      "metadata": {
        "id": "DEeSt4_1joMK",
        "colab_type": "text"
      },
      "source": [
        "Based on our results, model gave us better result, we assumed that the reason was due to "
      ]
    },
    {
      "cell_type": "markdown",
      "metadata": {
        "id": "MP1WDUwBjiBx",
        "colab_type": "text"
      },
      "source": [
        "## Reference"
      ]
    },
    {
      "cell_type": "markdown",
      "metadata": {
        "id": "8RWRivsBjkMg",
        "colab_type": "text"
      },
      "source": [
        "1. https://www.kdnuggets.com/2017/06/7-techniques-handle-imbalanced-data.html \n",
        "\n",
        "2. https://en.wikipedia.org/wiki/Goodness_of_fit\n",
        "\n",
        "3. https://www.canr.msu.edu/resources/dont_pick_poison_when_gathering_mushrooms_for_food_in_michigan_e2777\n"
      ]
    }
  ]
}