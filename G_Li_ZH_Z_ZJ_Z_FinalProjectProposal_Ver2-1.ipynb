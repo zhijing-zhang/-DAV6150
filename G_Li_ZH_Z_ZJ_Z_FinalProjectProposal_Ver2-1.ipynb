{
  "nbformat": 4,
  "nbformat_minor": 0,
  "metadata": {
    "colab": {
      "name": "G_Li_ZH_Z_ZJ_Z_FinalProjectProposal_Ver2.ipynb",
      "provenance": [],
      "collapsed_sections": []
    },
    "kernelspec": {
      "name": "python3",
      "display_name": "Python 3"
    }
  },
  "cells": [
    {
      "cell_type": "markdown",
      "metadata": {
        "id": "BJAdIjDjbMu-",
        "colab_type": "text"
      },
      "source": [
        "# Final Project Proposal\n",
        "### Group Members: Gege Li, Zhihong Zhang, Zhijing Zhang"
      ]
    },
    {
      "cell_type": "markdown",
      "metadata": {
        "id": "Is13QSDPbRov",
        "colab_type": "text"
      },
      "source": [
        "### 1. Introduction (8 Points)\n"
      ]
    },
    {
      "cell_type": "markdown",
      "metadata": {
        "id": "p8VORpLR25qh",
        "colab_type": "text"
      },
      "source": [
        "Insurance plays an increasingly important role in our daily life. It ranges from traditional insurance(Such as Car, Health, life) to new insurance(such as devices, pets, etc). \n",
        "\n",
        "According to the National Association of insurance commission(NAIC), just in the year of 2018, the insurance industry involves more than 2.4 trillion USD in the USA.\n",
        "\n",
        "During this COVID pandemic period, we realize more how important insurance can play in life. At the same time, the insurance companies also want to correctly sell their product at the right price and to the customers. Properly identifying the customer can prevent insurance companies from bankruptcy and provide essential support to customers as well. The initial goal of the project is to provide support on identifying the number of customers who want to buy products from the insurance companies. "
      ]
    },
    {
      "cell_type": "markdown",
      "metadata": {
        "id": "Q6vSq3QsbUIg",
        "colab_type": "text"
      },
      "source": [
        "### 2. Research Questions (8 Points)\n",
        "\n",
        "For our project, the main question will be how to identify the target customers.\n",
        "To reach the answer to this question, through EDA work, we will answer what kind of features can help to identify. \n",
        "\n",
        "\n",
        "After collecting enough data and finishing the analysis, we are going to build a series of predictive models to find whether the customer will buy the new product or not. The main features of how to affect a customer to buy the product will be used in our feature selection. \n",
        "\n",
        "The result of our research will help the company identify potential customers and it can help insurance companies reduce the workload and find the target customer.\n"
      ]
    },
    {
      "cell_type": "markdown",
      "metadata": {
        "id": "MDfZ9-ZjbXjc",
        "colab_type": "text"
      },
      "source": [
        "### 3. Data to be Used (4 Points)\n",
        "\n",
        "Data will need to be collected from the Kaggle website. https://www.kaggle.com/rluyck/insurance-company?select=Customer_data.csv \n",
        "The data set is from an anonymous insurance company that wants to identify customers willing to buy a new product. They gathered data about customers to whom they offered the new product. This dataset gets information about whether they did or did not sign up for the new product, together with some customer information and information about their buying behavior of two other products.  \n",
        "\n",
        "The whole dataset contains 15 columns and 14016 raws. The response variable is __'TARGET'__(Indicator of buying the new product (0 = no, 1= yes)). The explanatory features are:\n",
        "- ID: Unique customer identifier \n",
        "- Loyalty: Loyalty level, from low to high (0 to 3), 99 = unclassified \n",
        "- Age: Age in years \n",
        "- City: Unique code per city \n",
        "- Age_p: Age of partner in years \n",
        "- LOR: Length of relationship in years \n",
        "- LOR_m: Length of relationship in months \n",
        "- Prod_A: Bought product A (0= no, 1=yes) \n",
        "- Type_A: Type of product A  \n",
        "- Turnover_A: Amount of money spent on product A \n",
        "- Prod_B: Bought product B (0= no, 1=yes) \n",
        "- Type_B: Type of product B \n",
        "- Turnover_B: Amount of money spent on product B \n",
        "- Contract: Type of contract \n",
        " \n",
        " "
      ]
    },
    {
      "cell_type": "markdown",
      "metadata": {
        "id": "4WrsinF4bZ3G",
        "colab_type": "text"
      },
      "source": [
        "### 4. Approach (10 Points)\n",
        "\n",
        "Our data is a CSV file from the Kaggle website, so we can directly download it and store it in a data frame. Before we start building models, we will do some basic exploratory data analysis(EDA) and data preparation work. We plan to use the histogram, Box plot, scatter plot, bar chart, pair plot, and other graphics for visual analysis. Through the EDA process, we can also apply our domain knowledge of feature selection to provide us at least five explanatory variables for building models.\n",
        "\n",
        "Our response variable is categorical, we will construct at least four different models: logistic regression, SVM, KNN, and Random forest. We will use the confusion matrix including accuracy, precision, recall, f1-score, and support to compare their performance. At last, we are also going to construct our ensemble models. For the ensembling model, our initial plan is to choose three out of four models to build one ensembling model than we can use all the models we built before to make another ensemble model.\n",
        "\n",
        "Finally, we will give a summary of our findings and make our conclusion of the research project. "
      ]
    },
    {
      "cell_type": "markdown",
      "metadata": {
        "id": "ppQC066pbb7a",
        "colab_type": "text"
      },
      "source": [
        "__Responsibility__\n",
        "\n",
        "Gege Li: \n",
        "- find data set\n",
        "- create EDA analysis\n",
        "- edit markdown\n",
        "- Work on checking team code and writing by term.\n",
        "\n",
        "Zhijing Zhang:\n",
        "- create EDA analysis\n",
        "- Create models\n",
        "- edit markdown\n",
        "- Work on checking team code and writing by term\n",
        "\n",
        "Zhihong Zhang:\n",
        "- create EDA analysis\n",
        "- edit markdown\n",
        "- find reference\n",
        "- Work on checking team code and writing  by term"
      ]
    },
    {
      "cell_type": "markdown",
      "metadata": {
        "id": "KAbi3MSbcAHo",
        "colab_type": "text"
      },
      "source": [
        "## References:\n",
        "https://www.kaggle.com/rluyck/selling-a-new-insurance-product#Collecting-raw-data-and-importing-libraries\n",
        "\n",
        "https://towardsdatascience.com/ensemble-learning-using-scikit-learn-85c4531ff86a\n",
        "\n",
        "https://towardsdatascience.com/simple-guide-for-ensemble-learning-methods-d87cc68705a2\n",
        "\n",
        "https://www.analyticsvidhya.com/blog/2015/09/questions-ensemble-modeling/\n",
        "\n",
        "https://towardsdatascience.com/ensemble-methods-bagging-boosting-and-stacking-c9214a10a205\n",
        "\n",
        "\n",
        "https://www.naic.org/cipr_statistics.htm\n"
      ]
    },
    {
      "cell_type": "code",
      "metadata": {
        "id": "n-kYSdmNbL0X",
        "colab_type": "code",
        "colab": {}
      },
      "source": [
        ""
      ],
      "execution_count": null,
      "outputs": []
    }
  ]
}