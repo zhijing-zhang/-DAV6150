{
  "nbformat": 4,
  "nbformat_minor": 0,
  "metadata": {
    "colab": {
      "name": "G_L_ZH_Z_ZJ_Z_M8_assn_.ipynb",
      "provenance": [],
      "collapsed_sections": [],
      "toc_visible": true
    },
    "kernelspec": {
      "name": "python3",
      "display_name": "Python 3"
    }
  },
  "cells": [
    {
      "cell_type": "markdown",
      "metadata": {
        "id": "RXtaSL7QkQok",
        "colab_type": "text"
      },
      "source": [
        "# Module 8 -- KNN and SVM\n",
        "### Group Members: Gege Li, Zhihong Zhang, Zhijing Zhang"
      ]
    },
    {
      "cell_type": "markdown",
      "metadata": {
        "id": "Ljuw9F0FkXpX",
        "colab_type": "text"
      },
      "source": [
        "## Introduction\n",
        "\n",
        "In this module, we are going to dig further from the last module and work on the same Federal Reserve Bank data set. In this assignment, construct and compare a series of K-Nearest Neighbor and Support Vector Machine models that predict whether or not a given mortgage application is likely to be denied. \n"
      ]
    },
    {
      "cell_type": "markdown",
      "metadata": {
        "id": "bQPvr6N55wkZ",
        "colab_type": "text"
      },
      "source": [
        "## Exploratory Data Analysis"
      ]
    },
    {
      "cell_type": "code",
      "metadata": {
        "id": "aOezTxozoRAN",
        "colab_type": "code",
        "colab": {
          "base_uri": "https://localhost:8080/",
          "height": 101
        },
        "outputId": "b4524ea4-31d0-4e11-ca78-1622225bdba4"
      },
      "source": [
        "#deal with imbalanced data\n",
        "!pip install imbalanced-learn"
      ],
      "execution_count": null,
      "outputs": [
        {
          "output_type": "stream",
          "text": [
            "Requirement already satisfied: imbalanced-learn in /usr/local/lib/python3.6/dist-packages (0.4.3)\n",
            "Requirement already satisfied: numpy>=1.8.2 in /usr/local/lib/python3.6/dist-packages (from imbalanced-learn) (1.18.5)\n",
            "Requirement already satisfied: scipy>=0.13.3 in /usr/local/lib/python3.6/dist-packages (from imbalanced-learn) (1.4.1)\n",
            "Requirement already satisfied: scikit-learn>=0.20 in /usr/local/lib/python3.6/dist-packages (from imbalanced-learn) (0.22.2.post1)\n",
            "Requirement already satisfied: joblib>=0.11 in /usr/local/lib/python3.6/dist-packages (from scikit-learn>=0.20->imbalanced-learn) (0.15.1)\n"
          ],
          "name": "stdout"
        }
      ]
    },
    {
      "cell_type": "code",
      "metadata": {
        "id": "p7Hx7Gk6kP4O",
        "colab_type": "code",
        "colab": {
          "base_uri": "https://localhost:8080/",
          "height": 138
        },
        "outputId": "6b1bf03d-daec-4923-9c87-8359334d671b"
      },
      "source": [
        "#prepared library \n",
        "import numpy as np\n",
        "import pandas as pd\n",
        "import matplotlib.pyplot as plt\n",
        "import seaborn as sns\n",
        "\n",
        "# import library for dealing with imbalance data\n",
        "import imblearn"
      ],
      "execution_count": null,
      "outputs": [
        {
          "output_type": "stream",
          "text": [
            "/usr/local/lib/python3.6/dist-packages/statsmodels/tools/_testing.py:19: FutureWarning: pandas.util.testing is deprecated. Use the functions in the public API at pandas.testing instead.\n",
            "  import pandas.util.testing as tm\n",
            "/usr/local/lib/python3.6/dist-packages/sklearn/externals/six.py:31: FutureWarning: The module is deprecated in version 0.21 and will be removed in version 0.23 since we've dropped support for Python 2.7. Please rely on the official version of six (https://pypi.org/project/six/).\n",
            "  \"(https://pypi.org/project/six/).\", FutureWarning)\n",
            "/usr/local/lib/python3.6/dist-packages/sklearn/utils/deprecation.py:144: FutureWarning: The sklearn.neighbors.base module is  deprecated in version 0.22 and will be removed in version 0.24. The corresponding classes / functions should instead be imported from sklearn.neighbors. Anything that cannot be imported from sklearn.neighbors is now part of the private API.\n",
            "  warnings.warn(message, FutureWarning)\n"
          ],
          "name": "stderr"
        }
      ]
    },
    {
      "cell_type": "code",
      "metadata": {
        "id": "LGl4uFb7kc4H",
        "colab_type": "code",
        "colab": {
          "base_uri": "https://localhost:8080/",
          "height": 195
        },
        "outputId": "d0a88598-d611-4fe2-fac6-c4f29f5e1966"
      },
      "source": [
        "# check and read the dataset from github\n",
        " \n",
        "df = pd.read_csv('https://raw.githubusercontent.com/steinszzh/DAV6150/master/m7hw/M7_Data.csv')\n",
        "df.head()"
      ],
      "execution_count": null,
      "outputs": [
        {
          "output_type": "execute_result",
          "data": {
            "text/html": [
              "<div>\n",
              "<style scoped>\n",
              "    .dataframe tbody tr th:only-of-type {\n",
              "        vertical-align: middle;\n",
              "    }\n",
              "\n",
              "    .dataframe tbody tr th {\n",
              "        vertical-align: top;\n",
              "    }\n",
              "\n",
              "    .dataframe thead th {\n",
              "        text-align: right;\n",
              "    }\n",
              "</style>\n",
              "<table border=\"1\" class=\"dataframe\">\n",
              "  <thead>\n",
              "    <tr style=\"text-align: right;\">\n",
              "      <th></th>\n",
              "      <th>Unnamed: 0</th>\n",
              "      <th>dir</th>\n",
              "      <th>hir</th>\n",
              "      <th>lvr</th>\n",
              "      <th>ccs</th>\n",
              "      <th>mcs</th>\n",
              "      <th>pbcr</th>\n",
              "      <th>dmi</th>\n",
              "      <th>self</th>\n",
              "      <th>single</th>\n",
              "      <th>uria</th>\n",
              "      <th>comdominiom</th>\n",
              "      <th>black</th>\n",
              "      <th>deny</th>\n",
              "    </tr>\n",
              "  </thead>\n",
              "  <tbody>\n",
              "    <tr>\n",
              "      <th>0</th>\n",
              "      <td>1</td>\n",
              "      <td>0.221</td>\n",
              "      <td>0.221</td>\n",
              "      <td>0.800000</td>\n",
              "      <td>5.0</td>\n",
              "      <td>2.0</td>\n",
              "      <td>no</td>\n",
              "      <td>no</td>\n",
              "      <td>no</td>\n",
              "      <td>no</td>\n",
              "      <td>3.9</td>\n",
              "      <td>0</td>\n",
              "      <td>no</td>\n",
              "      <td>no</td>\n",
              "    </tr>\n",
              "    <tr>\n",
              "      <th>1</th>\n",
              "      <td>2</td>\n",
              "      <td>0.265</td>\n",
              "      <td>0.265</td>\n",
              "      <td>0.921875</td>\n",
              "      <td>2.0</td>\n",
              "      <td>2.0</td>\n",
              "      <td>no</td>\n",
              "      <td>no</td>\n",
              "      <td>no</td>\n",
              "      <td>yes</td>\n",
              "      <td>3.2</td>\n",
              "      <td>0</td>\n",
              "      <td>no</td>\n",
              "      <td>no</td>\n",
              "    </tr>\n",
              "    <tr>\n",
              "      <th>2</th>\n",
              "      <td>3</td>\n",
              "      <td>0.372</td>\n",
              "      <td>0.248</td>\n",
              "      <td>0.920398</td>\n",
              "      <td>1.0</td>\n",
              "      <td>2.0</td>\n",
              "      <td>no</td>\n",
              "      <td>no</td>\n",
              "      <td>no</td>\n",
              "      <td>no</td>\n",
              "      <td>3.2</td>\n",
              "      <td>0</td>\n",
              "      <td>no</td>\n",
              "      <td>no</td>\n",
              "    </tr>\n",
              "    <tr>\n",
              "      <th>3</th>\n",
              "      <td>4</td>\n",
              "      <td>0.320</td>\n",
              "      <td>0.250</td>\n",
              "      <td>0.860465</td>\n",
              "      <td>1.0</td>\n",
              "      <td>2.0</td>\n",
              "      <td>no</td>\n",
              "      <td>no</td>\n",
              "      <td>no</td>\n",
              "      <td>no</td>\n",
              "      <td>4.3</td>\n",
              "      <td>0</td>\n",
              "      <td>no</td>\n",
              "      <td>no</td>\n",
              "    </tr>\n",
              "    <tr>\n",
              "      <th>4</th>\n",
              "      <td>5</td>\n",
              "      <td>0.360</td>\n",
              "      <td>0.350</td>\n",
              "      <td>0.600000</td>\n",
              "      <td>1.0</td>\n",
              "      <td>1.0</td>\n",
              "      <td>no</td>\n",
              "      <td>no</td>\n",
              "      <td>no</td>\n",
              "      <td>no</td>\n",
              "      <td>3.2</td>\n",
              "      <td>0</td>\n",
              "      <td>no</td>\n",
              "      <td>no</td>\n",
              "    </tr>\n",
              "  </tbody>\n",
              "</table>\n",
              "</div>"
            ],
            "text/plain": [
              "   Unnamed: 0    dir    hir       lvr  ccs  ...  single uria comdominiom black deny\n",
              "0           1  0.221  0.221  0.800000  5.0  ...      no  3.9           0    no   no\n",
              "1           2  0.265  0.265  0.921875  2.0  ...     yes  3.2           0    no   no\n",
              "2           3  0.372  0.248  0.920398  1.0  ...      no  3.2           0    no   no\n",
              "3           4  0.320  0.250  0.860465  1.0  ...      no  4.3           0    no   no\n",
              "4           5  0.360  0.350  0.600000  1.0  ...      no  3.2           0    no   no\n",
              "\n",
              "[5 rows x 14 columns]"
            ]
          },
          "metadata": {
            "tags": []
          },
          "execution_count": 4
        }
      ]
    },
    {
      "cell_type": "code",
      "metadata": {
        "id": "S6JdbP9UkgeC",
        "colab_type": "code",
        "colab": {
          "base_uri": "https://localhost:8080/",
          "height": 195
        },
        "outputId": "73c8e888-ed6c-42a4-da46-413ff3c9b23d"
      },
      "source": [
        "#replace the name\n",
        "df.rename(columns={'Unnamed: 0':'Unique ID'}, inplace=True)\n",
        "#check\n",
        "df.head()"
      ],
      "execution_count": null,
      "outputs": [
        {
          "output_type": "execute_result",
          "data": {
            "text/html": [
              "<div>\n",
              "<style scoped>\n",
              "    .dataframe tbody tr th:only-of-type {\n",
              "        vertical-align: middle;\n",
              "    }\n",
              "\n",
              "    .dataframe tbody tr th {\n",
              "        vertical-align: top;\n",
              "    }\n",
              "\n",
              "    .dataframe thead th {\n",
              "        text-align: right;\n",
              "    }\n",
              "</style>\n",
              "<table border=\"1\" class=\"dataframe\">\n",
              "  <thead>\n",
              "    <tr style=\"text-align: right;\">\n",
              "      <th></th>\n",
              "      <th>Unique ID</th>\n",
              "      <th>dir</th>\n",
              "      <th>hir</th>\n",
              "      <th>lvr</th>\n",
              "      <th>ccs</th>\n",
              "      <th>mcs</th>\n",
              "      <th>pbcr</th>\n",
              "      <th>dmi</th>\n",
              "      <th>self</th>\n",
              "      <th>single</th>\n",
              "      <th>uria</th>\n",
              "      <th>comdominiom</th>\n",
              "      <th>black</th>\n",
              "      <th>deny</th>\n",
              "    </tr>\n",
              "  </thead>\n",
              "  <tbody>\n",
              "    <tr>\n",
              "      <th>0</th>\n",
              "      <td>1</td>\n",
              "      <td>0.221</td>\n",
              "      <td>0.221</td>\n",
              "      <td>0.800000</td>\n",
              "      <td>5.0</td>\n",
              "      <td>2.0</td>\n",
              "      <td>no</td>\n",
              "      <td>no</td>\n",
              "      <td>no</td>\n",
              "      <td>no</td>\n",
              "      <td>3.9</td>\n",
              "      <td>0</td>\n",
              "      <td>no</td>\n",
              "      <td>no</td>\n",
              "    </tr>\n",
              "    <tr>\n",
              "      <th>1</th>\n",
              "      <td>2</td>\n",
              "      <td>0.265</td>\n",
              "      <td>0.265</td>\n",
              "      <td>0.921875</td>\n",
              "      <td>2.0</td>\n",
              "      <td>2.0</td>\n",
              "      <td>no</td>\n",
              "      <td>no</td>\n",
              "      <td>no</td>\n",
              "      <td>yes</td>\n",
              "      <td>3.2</td>\n",
              "      <td>0</td>\n",
              "      <td>no</td>\n",
              "      <td>no</td>\n",
              "    </tr>\n",
              "    <tr>\n",
              "      <th>2</th>\n",
              "      <td>3</td>\n",
              "      <td>0.372</td>\n",
              "      <td>0.248</td>\n",
              "      <td>0.920398</td>\n",
              "      <td>1.0</td>\n",
              "      <td>2.0</td>\n",
              "      <td>no</td>\n",
              "      <td>no</td>\n",
              "      <td>no</td>\n",
              "      <td>no</td>\n",
              "      <td>3.2</td>\n",
              "      <td>0</td>\n",
              "      <td>no</td>\n",
              "      <td>no</td>\n",
              "    </tr>\n",
              "    <tr>\n",
              "      <th>3</th>\n",
              "      <td>4</td>\n",
              "      <td>0.320</td>\n",
              "      <td>0.250</td>\n",
              "      <td>0.860465</td>\n",
              "      <td>1.0</td>\n",
              "      <td>2.0</td>\n",
              "      <td>no</td>\n",
              "      <td>no</td>\n",
              "      <td>no</td>\n",
              "      <td>no</td>\n",
              "      <td>4.3</td>\n",
              "      <td>0</td>\n",
              "      <td>no</td>\n",
              "      <td>no</td>\n",
              "    </tr>\n",
              "    <tr>\n",
              "      <th>4</th>\n",
              "      <td>5</td>\n",
              "      <td>0.360</td>\n",
              "      <td>0.350</td>\n",
              "      <td>0.600000</td>\n",
              "      <td>1.0</td>\n",
              "      <td>1.0</td>\n",
              "      <td>no</td>\n",
              "      <td>no</td>\n",
              "      <td>no</td>\n",
              "      <td>no</td>\n",
              "      <td>3.2</td>\n",
              "      <td>0</td>\n",
              "      <td>no</td>\n",
              "      <td>no</td>\n",
              "    </tr>\n",
              "  </tbody>\n",
              "</table>\n",
              "</div>"
            ],
            "text/plain": [
              "   Unique ID    dir    hir       lvr  ccs  ...  single uria comdominiom black deny\n",
              "0          1  0.221  0.221  0.800000  5.0  ...      no  3.9           0    no   no\n",
              "1          2  0.265  0.265  0.921875  2.0  ...     yes  3.2           0    no   no\n",
              "2          3  0.372  0.248  0.920398  1.0  ...      no  3.2           0    no   no\n",
              "3          4  0.320  0.250  0.860465  1.0  ...      no  4.3           0    no   no\n",
              "4          5  0.360  0.350  0.600000  1.0  ...      no  3.2           0    no   no\n",
              "\n",
              "[5 rows x 14 columns]"
            ]
          },
          "metadata": {
            "tags": []
          },
          "execution_count": 5
        }
      ]
    },
    {
      "cell_type": "markdown",
      "metadata": {
        "id": "xpmiJpmmcSPj",
        "colab_type": "text"
      },
      "source": [
        "Now we have changed the column names.\n",
        "\n",
        "Before we start data analysis, summaries, and explanations of these attributes were given.\n",
        "The whole dataset contains 2381 rows and 13 attributes except the unique ID . The attributes are showed as follows:\n",
        "\n",
        "- dir:\n",
        "debt payments to total income ratio\n",
        "\n",
        "- hir:\n",
        "housing expenses to income ratio\n",
        "\n",
        "- lvr：\n",
        "ratio of size of loan to assessed value of property\n",
        "\n",
        "- ccs：\n",
        "consumer credit score from 1 to 6 (a low value being a good score)\n",
        "\n",
        "- mcs：\n",
        "mortgage credit score from 1 to 4 (a low value being a good score)\n",
        "\n",
        "- pbcr：\n",
        "public bad credit record ?\n",
        "\n",
        "- dmi：\n",
        "denied mortgage insurance ?\n",
        "\n",
        "- self：\n",
        "self employed ?\n",
        "\n",
        "- single：\n",
        "is the applicant single ?\n",
        "\n",
        "- uria：\n",
        "1989 Massachusetts unemployment rate in the applicant's industry\n",
        "\n",
        "- condominium：\n",
        "is unit a condominium ? (was called comdominiom in version 0.2-9 and earlier versions of the package)\n",
        "\n",
        "- black：\n",
        "is the applicant black ?\n",
        "\n",
        "- deny：\n",
        "mortgage application denied ?"
      ]
    },
    {
      "cell_type": "code",
      "metadata": {
        "id": "itaoDa3CcG7G",
        "colab_type": "code",
        "colab": {
          "base_uri": "https://localhost:8080/",
          "height": 269
        },
        "outputId": "baacbc5b-84a2-4102-c85e-6559e63d5193"
      },
      "source": [
        "df.dtypes"
      ],
      "execution_count": null,
      "outputs": [
        {
          "output_type": "execute_result",
          "data": {
            "text/plain": [
              "Unique ID        int64\n",
              "dir            float64\n",
              "hir            float64\n",
              "lvr            float64\n",
              "ccs            float64\n",
              "mcs            float64\n",
              "pbcr            object\n",
              "dmi             object\n",
              "self            object\n",
              "single          object\n",
              "uria           float64\n",
              "comdominiom      int64\n",
              "black           object\n",
              "deny            object\n",
              "dtype: object"
            ]
          },
          "metadata": {
            "tags": []
          },
          "execution_count": 6
        }
      ]
    },
    {
      "cell_type": "markdown",
      "metadata": {
        "id": "YcK91cQhcfCO",
        "colab_type": "text"
      },
      "source": [
        "From these  explanations of attributes and the data type showed, we know that:\n",
        "-  __'dir', 'hir', 'lvr', 'uria'__ are continous data.\n",
        "- __'ccs', 'mcs', 'pbcr', 'dmi', 'self', 'single', 'comdominiom' and 'black'__  are catrgerical data.\n",
        "-  Specifically, 'pbcr', 'dmi', 'self', 'single', 'condominium' and 'black' are binomial.\n",
        "\n",
        "So we can change the data tpye."
      ]
    },
    {
      "cell_type": "code",
      "metadata": {
        "id": "R1yT_z0vfSmr",
        "colab_type": "code",
        "colab": {
          "base_uri": "https://localhost:8080/",
          "height": 269
        },
        "outputId": "4a9e1ffc-d9a6-4f1a-f7eb-530d792fac2e"
      },
      "source": [
        "# using dictionary to convert specific columns \n",
        "convert_dict = {'ccs': object, \n",
        "                'mcs': object,\n",
        "                'comdominiom': object\n",
        "               } \n",
        "  \n",
        "df = df.astype(convert_dict) \n",
        "df.dtypes"
      ],
      "execution_count": null,
      "outputs": [
        {
          "output_type": "execute_result",
          "data": {
            "text/plain": [
              "Unique ID        int64\n",
              "dir            float64\n",
              "hir            float64\n",
              "lvr            float64\n",
              "ccs             object\n",
              "mcs             object\n",
              "pbcr            object\n",
              "dmi             object\n",
              "self            object\n",
              "single          object\n",
              "uria           float64\n",
              "comdominiom     object\n",
              "black           object\n",
              "deny            object\n",
              "dtype: object"
            ]
          },
          "metadata": {
            "tags": []
          },
          "execution_count": 7
        }
      ]
    },
    {
      "cell_type": "markdown",
      "metadata": {
        "id": "Y32rtng7fR3-",
        "colab_type": "text"
      },
      "source": [
        "Then we check whether there is null value or not."
      ]
    },
    {
      "cell_type": "code",
      "metadata": {
        "id": "Gf7oApnJdO38",
        "colab_type": "code",
        "colab": {
          "base_uri": "https://localhost:8080/",
          "height": 269
        },
        "outputId": "b37e0c39-5945-4576-91b2-67c38ee119f9"
      },
      "source": [
        "#check the null value\n",
        "df.isnull().sum()"
      ],
      "execution_count": null,
      "outputs": [
        {
          "output_type": "execute_result",
          "data": {
            "text/plain": [
              "Unique ID      0\n",
              "dir            0\n",
              "hir            0\n",
              "lvr            0\n",
              "ccs            0\n",
              "mcs            0\n",
              "pbcr           1\n",
              "dmi            0\n",
              "self           1\n",
              "single         0\n",
              "uria           0\n",
              "comdominiom    0\n",
              "black          0\n",
              "deny           0\n",
              "dtype: int64"
            ]
          },
          "metadata": {
            "tags": []
          },
          "execution_count": 8
        }
      ]
    },
    {
      "cell_type": "markdown",
      "metadata": {
        "id": "B69CeSfKdXLH",
        "colab_type": "text"
      },
      "source": [
        "There are two missing values across the whole data set. Although it can be due to nature of lacking of data, we choose to take these two row away because it is less than 0.1% of whole dataset. Taking out two rows will not shift a lot on PDF."
      ]
    },
    {
      "cell_type": "code",
      "metadata": {
        "id": "PfiGdBIJdpNa",
        "colab_type": "code",
        "colab": {}
      },
      "source": [
        "df_num = df.copy()"
      ],
      "execution_count": null,
      "outputs": []
    },
    {
      "cell_type": "code",
      "metadata": {
        "id": "S1_12dKkeBZp",
        "colab_type": "code",
        "colab": {
          "base_uri": "https://localhost:8080/",
          "height": 269
        },
        "outputId": "03a4564a-c364-4c55-d37c-5600bb566556"
      },
      "source": [
        "#Removing all null values row\n",
        "df_num = df_num.dropna(subset=['pbcr','self'])\n",
        "df_num.isnull().sum()"
      ],
      "execution_count": null,
      "outputs": [
        {
          "output_type": "execute_result",
          "data": {
            "text/plain": [
              "Unique ID      0\n",
              "dir            0\n",
              "hir            0\n",
              "lvr            0\n",
              "ccs            0\n",
              "mcs            0\n",
              "pbcr           0\n",
              "dmi            0\n",
              "self           0\n",
              "single         0\n",
              "uria           0\n",
              "comdominiom    0\n",
              "black          0\n",
              "deny           0\n",
              "dtype: int64"
            ]
          },
          "metadata": {
            "tags": []
          },
          "execution_count": 10
        }
      ]
    },
    {
      "cell_type": "code",
      "metadata": {
        "id": "D39zZt4JeNS1",
        "colab_type": "code",
        "colab": {
          "base_uri": "https://localhost:8080/",
          "height": 195
        },
        "outputId": "d4bcb68c-b043-4f94-9146-1224130f072b"
      },
      "source": [
        "#describe the dataset\n",
        "df_num.describe().T "
      ],
      "execution_count": null,
      "outputs": [
        {
          "output_type": "execute_result",
          "data": {
            "text/html": [
              "<div>\n",
              "<style scoped>\n",
              "    .dataframe tbody tr th:only-of-type {\n",
              "        vertical-align: middle;\n",
              "    }\n",
              "\n",
              "    .dataframe tbody tr th {\n",
              "        vertical-align: top;\n",
              "    }\n",
              "\n",
              "    .dataframe thead th {\n",
              "        text-align: right;\n",
              "    }\n",
              "</style>\n",
              "<table border=\"1\" class=\"dataframe\">\n",
              "  <thead>\n",
              "    <tr style=\"text-align: right;\">\n",
              "      <th></th>\n",
              "      <th>count</th>\n",
              "      <th>mean</th>\n",
              "      <th>std</th>\n",
              "      <th>min</th>\n",
              "      <th>25%</th>\n",
              "      <th>50%</th>\n",
              "      <th>75%</th>\n",
              "      <th>max</th>\n",
              "    </tr>\n",
              "  </thead>\n",
              "  <tbody>\n",
              "    <tr>\n",
              "      <th>Unique ID</th>\n",
              "      <td>2380.0</td>\n",
              "      <td>1190.500000</td>\n",
              "      <td>687.191143</td>\n",
              "      <td>1.00</td>\n",
              "      <td>595.750000</td>\n",
              "      <td>1190.500000</td>\n",
              "      <td>1785.250000</td>\n",
              "      <td>2380.00</td>\n",
              "    </tr>\n",
              "    <tr>\n",
              "      <th>dir</th>\n",
              "      <td>2380.0</td>\n",
              "      <td>0.330814</td>\n",
              "      <td>0.107257</td>\n",
              "      <td>0.00</td>\n",
              "      <td>0.280000</td>\n",
              "      <td>0.330000</td>\n",
              "      <td>0.370000</td>\n",
              "      <td>3.00</td>\n",
              "    </tr>\n",
              "    <tr>\n",
              "      <th>hir</th>\n",
              "      <td>2380.0</td>\n",
              "      <td>0.255346</td>\n",
              "      <td>0.096656</td>\n",
              "      <td>0.00</td>\n",
              "      <td>0.214000</td>\n",
              "      <td>0.260000</td>\n",
              "      <td>0.298825</td>\n",
              "      <td>3.00</td>\n",
              "    </tr>\n",
              "    <tr>\n",
              "      <th>lvr</th>\n",
              "      <td>2380.0</td>\n",
              "      <td>0.737776</td>\n",
              "      <td>0.178751</td>\n",
              "      <td>0.02</td>\n",
              "      <td>0.652681</td>\n",
              "      <td>0.779536</td>\n",
              "      <td>0.868459</td>\n",
              "      <td>1.95</td>\n",
              "    </tr>\n",
              "    <tr>\n",
              "      <th>uria</th>\n",
              "      <td>2380.0</td>\n",
              "      <td>3.774496</td>\n",
              "      <td>2.027062</td>\n",
              "      <td>1.80</td>\n",
              "      <td>3.100000</td>\n",
              "      <td>3.200000</td>\n",
              "      <td>3.900000</td>\n",
              "      <td>10.60</td>\n",
              "    </tr>\n",
              "  </tbody>\n",
              "</table>\n",
              "</div>"
            ],
            "text/plain": [
              "            count         mean         std  ...          50%          75%      max\n",
              "Unique ID  2380.0  1190.500000  687.191143  ...  1190.500000  1785.250000  2380.00\n",
              "dir        2380.0     0.330814    0.107257  ...     0.330000     0.370000     3.00\n",
              "hir        2380.0     0.255346    0.096656  ...     0.260000     0.298825     3.00\n",
              "lvr        2380.0     0.737776    0.178751  ...     0.779536     0.868459     1.95\n",
              "uria       2380.0     3.774496    2.027062  ...     3.200000     3.900000    10.60\n",
              "\n",
              "[5 rows x 8 columns]"
            ]
          },
          "metadata": {
            "tags": []
          },
          "execution_count": 11
        }
      ]
    },
    {
      "cell_type": "markdown",
      "metadata": {
        "id": "CpULWlLTeZwc",
        "colab_type": "text"
      },
      "source": [
        "Based on checking of these attributes, now we can draw some plots to see the insight of the data.\n",
        "\n",
        "First of all, we will see the response variable-- __deny__:"
      ]
    },
    {
      "cell_type": "code",
      "metadata": {
        "id": "4LVkW-qVeVsp",
        "colab_type": "code",
        "colab": {
          "base_uri": "https://localhost:8080/",
          "height": 312
        },
        "outputId": "dc1e7c02-b1a5-4d1f-922d-2cdef57c846a"
      },
      "source": [
        "# plots distribution of whether deny or not\n",
        "sns.countplot(x='deny',data=df_num); \n",
        "\n",
        "# give the plot a title\n",
        "plt.title('mortgage application denied or not')"
      ],
      "execution_count": null,
      "outputs": [
        {
          "output_type": "execute_result",
          "data": {
            "text/plain": [
              "Text(0.5, 1.0, 'mortgage application denied or not')"
            ]
          },
          "metadata": {
            "tags": []
          },
          "execution_count": 12
        },
        {
          "output_type": "display_data",
          "data": {
            "image/png": "[encoded data removed]",
            "text/plain": [
              "<Figure size 432x288 with 1 Axes>"
            ]
          },
          "metadata": {
            "tags": [],
            "needs_background": "light"
          }
        }
      ]
    },
    {
      "cell_type": "code",
      "metadata": {
        "id": "UdOxZ4qeopMA",
        "colab_type": "code",
        "colab": {
          "base_uri": "https://localhost:8080/",
          "height": 67
        },
        "outputId": "0f720253-3f88-4012-da81-3c0e394d40f9"
      },
      "source": [
        "# calculate percentage of null error rate\n",
        "df_num['deny'].value_counts()"
      ],
      "execution_count": null,
      "outputs": [
        {
          "output_type": "execute_result",
          "data": {
            "text/plain": [
              "no     2095\n",
              "yes     285\n",
              "Name: deny, dtype: int64"
            ]
          },
          "metadata": {
            "tags": []
          },
          "execution_count": 13
        }
      ]
    },
    {
      "cell_type": "markdown",
      "metadata": {
        "id": "G4DCqbvngQSH",
        "colab_type": "text"
      },
      "source": [
        "Based on our response variable-deny, it is clear to see that nearly __88.025%__ of people are not denied(2095/(2095+285)). It is clearly an imbalanced response variable. It will create some troubles in building up the models. Later we will use Synthetic Minority Oversampling Technique (SMOTE) technique to clear up the data for modeling. SMOTE will make the data set be a balanced data set and fix the null error rate to __50%__ (0.5).\n",
        "\n",
        "Then we check other attributes and check with the condition that the application is denied or not.\n",
        "\n",
        "Firstly we will compare these eight categorical attributes and then we compare them with numerical attributes. \n"
      ]
    },
    {
      "cell_type": "code",
      "metadata": {
        "id": "qH8_Kjstghfx",
        "colab_type": "code",
        "colab": {
          "base_uri": "https://localhost:8080/",
          "height": 296
        },
        "outputId": "cfbfbd66-88e0-4600-b492-a534a3aabf81"
      },
      "source": [
        "# compare to the response features ---pbcr\n",
        "sns.countplot(x='pbcr',hue='deny', data=df_num)"
      ],
      "execution_count": null,
      "outputs": [
        {
          "output_type": "execute_result",
          "data": {
            "text/plain": [
              "<matplotlib.axes._subplots.AxesSubplot at 0x7fa3d3ff2f60>"
            ]
          },
          "metadata": {
            "tags": []
          },
          "execution_count": 14
        },
        {
          "output_type": "display_data",
          "data": {
            "image/png": "[encoded data removed]",
            "text/plain": [
              "<Figure size 432x288 with 1 Axes>"
            ]
          },
          "metadata": {
            "tags": [],
            "needs_background": "light"
          }
        }
      ]
    },
    {
      "cell_type": "code",
      "metadata": {
        "id": "69UQKFoKBdcd",
        "colab_type": "code",
        "colab": {
          "base_uri": "https://localhost:8080/",
          "height": 320
        },
        "outputId": "53f70dff-cb4d-4f3c-a609-26a58649d8f8"
      },
      "source": [
        "# pbcr\n",
        "table=pd.crosstab(df_num.pbcr,df_num.deny)\n",
        "table.div(table.sum(1).astype(float), axis=0).plot(kind='bar', stacked=True)\n",
        "plt.title('Stacked Bar Chart of pbcr vs deny')"
      ],
      "execution_count": null,
      "outputs": [
        {
          "output_type": "execute_result",
          "data": {
            "text/plain": [
              "Text(0.5, 1.0, 'Stacked Bar Chart of pbcr vs deny')"
            ]
          },
          "metadata": {
            "tags": []
          },
          "execution_count": 15
        },
        {
          "output_type": "display_data",
          "data": {
            "image/png": "[encoded data removed]",
            "text/plain": [
              "<Figure size 432x288 with 1 Axes>"
            ]
          },
          "metadata": {
            "tags": [],
            "needs_background": "light"
          }
        }
      ]
    },
    {
      "cell_type": "code",
      "metadata": {
        "id": "bKKp4HyRgnhw",
        "colab_type": "code",
        "colab": {
          "base_uri": "https://localhost:8080/",
          "height": 296
        },
        "outputId": "e5bed032-3465-4bed-d99b-5a70cf8a2aeb"
      },
      "source": [
        "# compare to the response features ---dmi\n",
        "sns.countplot(x='dmi',hue='deny', data=df_num)"
      ],
      "execution_count": null,
      "outputs": [
        {
          "output_type": "execute_result",
          "data": {
            "text/plain": [
              "<matplotlib.axes._subplots.AxesSubplot at 0x7fa3d3fceeb8>"
            ]
          },
          "metadata": {
            "tags": []
          },
          "execution_count": 16
        },
        {
          "output_type": "display_data",
          "data": {
            "image/png": "[encoded data removed]",
            "text/plain": [
              "<Figure size 432x288 with 1 Axes>"
            ]
          },
          "metadata": {
            "tags": [],
            "needs_background": "light"
          }
        }
      ]
    },
    {
      "cell_type": "code",
      "metadata": {
        "id": "a3sPzWRsDq3Q",
        "colab_type": "code",
        "colab": {
          "base_uri": "https://localhost:8080/",
          "height": 320
        },
        "outputId": "d37a3f06-bda0-4bf4-c8f9-80205746d5d7"
      },
      "source": [
        "# dmi\n",
        "table=pd.crosstab(df_num.dmi,df_num.deny)\n",
        "table.div(table.sum(1).astype(float), axis=0).plot(kind='bar', stacked=True)\n",
        "plt.title('Stacked Bar Chart of dmi vs deny')"
      ],
      "execution_count": null,
      "outputs": [
        {
          "output_type": "execute_result",
          "data": {
            "text/plain": [
              "Text(0.5, 1.0, 'Stacked Bar Chart of dmi vs deny')"
            ]
          },
          "metadata": {
            "tags": []
          },
          "execution_count": 17
        },
        {
          "output_type": "display_data",
          "data": {
            "image/png": "[encoded data removed]",
            "text/plain": [
              "<Figure size 432x288 with 1 Axes>"
            ]
          },
          "metadata": {
            "tags": [],
            "needs_background": "light"
          }
        }
      ]
    },
    {
      "cell_type": "code",
      "metadata": {
        "id": "CasnqIu7gpS8",
        "colab_type": "code",
        "colab": {
          "base_uri": "https://localhost:8080/",
          "height": 296
        },
        "outputId": "f2819e28-57a6-4383-dcdd-83839aa25ef5"
      },
      "source": [
        "# compare to the response features ---self\n",
        "sns.countplot(x='self',hue='deny', data=df_num)"
      ],
      "execution_count": null,
      "outputs": [
        {
          "output_type": "execute_result",
          "data": {
            "text/plain": [
              "<matplotlib.axes._subplots.AxesSubplot at 0x7fa3d39bd8d0>"
            ]
          },
          "metadata": {
            "tags": []
          },
          "execution_count": 18
        },
        {
          "output_type": "display_data",
          "data": {
            "image/png": "[encoded data removed]",
            "text/plain": [
              "<Figure size 432x288 with 1 Axes>"
            ]
          },
          "metadata": {
            "tags": [],
            "needs_background": "light"
          }
        }
      ]
    },
    {
      "cell_type": "code",
      "metadata": {
        "id": "PBmrm9qNBkoy",
        "colab_type": "code",
        "colab": {
          "base_uri": "https://localhost:8080/",
          "height": 320
        },
        "outputId": "8fc9a09f-1bc0-4f9a-9c2e-a63c43730d3b"
      },
      "source": [
        "# self\n",
        "table=pd.crosstab(df_num.self,df_num.deny)\n",
        "table.div(table.sum(1).astype(float), axis=0).plot(kind='bar', stacked=True)\n",
        "plt.title('Stacked Bar Chart of self vs deny')"
      ],
      "execution_count": null,
      "outputs": [
        {
          "output_type": "execute_result",
          "data": {
            "text/plain": [
              "Text(0.5, 1.0, 'Stacked Bar Chart of self vs deny')"
            ]
          },
          "metadata": {
            "tags": []
          },
          "execution_count": 19
        },
        {
          "output_type": "display_data",
          "data": {
            "image/png": "[encoded data removed]",
            "text/plain": [
              "<Figure size 432x288 with 1 Axes>"
            ]
          },
          "metadata": {
            "tags": [],
            "needs_background": "light"
          }
        }
      ]
    },
    {
      "cell_type": "code",
      "metadata": {
        "id": "HXFwCssdgtuE",
        "colab_type": "code",
        "colab": {
          "base_uri": "https://localhost:8080/",
          "height": 296
        },
        "outputId": "92fa558c-4d73-4690-bd53-ef0c895b1def"
      },
      "source": [
        "# compare to the response features ---single\n",
        "sns.countplot(x='single',hue='deny', data=df_num)"
      ],
      "execution_count": null,
      "outputs": [
        {
          "output_type": "execute_result",
          "data": {
            "text/plain": [
              "<matplotlib.axes._subplots.AxesSubplot at 0x7fa3d386d780>"
            ]
          },
          "metadata": {
            "tags": []
          },
          "execution_count": 20
        },
        {
          "output_type": "display_data",
          "data": {
            "image/png": "[encoded data removed]",
            "text/plain": [
              "<Figure size 432x288 with 1 Axes>"
            ]
          },
          "metadata": {
            "tags": [],
            "needs_background": "light"
          }
        }
      ]
    },
    {
      "cell_type": "code",
      "metadata": {
        "id": "U-C9UZqTBqxL",
        "colab_type": "code",
        "colab": {
          "base_uri": "https://localhost:8080/",
          "height": 320
        },
        "outputId": "68cb7107-2d57-44f9-b3a4-dc39bbd1e2e9"
      },
      "source": [
        "# single\n",
        "table=pd.crosstab(df_num.single,df_num.deny)\n",
        "table.div(table.sum(1).astype(float), axis=0).plot(kind='bar', stacked=True)\n",
        "plt.title('Stacked Bar Chart of single vs deny')"
      ],
      "execution_count": null,
      "outputs": [
        {
          "output_type": "execute_result",
          "data": {
            "text/plain": [
              "Text(0.5, 1.0, 'Stacked Bar Chart of single vs deny')"
            ]
          },
          "metadata": {
            "tags": []
          },
          "execution_count": 21
        },
        {
          "output_type": "display_data",
          "data": {
            "image/png": "[encoded data removed]",
            "text/plain": [
              "<Figure size 432x288 with 1 Axes>"
            ]
          },
          "metadata": {
            "tags": [],
            "needs_background": "light"
          }
        }
      ]
    },
    {
      "cell_type": "code",
      "metadata": {
        "id": "psXphb9mgvZv",
        "colab_type": "code",
        "colab": {
          "base_uri": "https://localhost:8080/",
          "height": 296
        },
        "outputId": "2fe7af83-3c08-44ba-fd1e-424edeb98bf3"
      },
      "source": [
        "# compare to the response features ---comdominiom\n",
        "sns.countplot(x='comdominiom',hue='deny', data=df_num)"
      ],
      "execution_count": null,
      "outputs": [
        {
          "output_type": "execute_result",
          "data": {
            "text/plain": [
              "<matplotlib.axes._subplots.AxesSubplot at 0x7fa3d374d400>"
            ]
          },
          "metadata": {
            "tags": []
          },
          "execution_count": 22
        },
        {
          "output_type": "display_data",
          "data": {
            "image/png": "[encoded data removed]",
            "text/plain": [
              "<Figure size 432x288 with 1 Axes>"
            ]
          },
          "metadata": {
            "tags": [],
            "needs_background": "light"
          }
        }
      ]
    },
    {
      "cell_type": "code",
      "metadata": {
        "id": "QIWzQrsoBvYc",
        "colab_type": "code",
        "colab": {
          "base_uri": "https://localhost:8080/",
          "height": 309
        },
        "outputId": "c8ef38b9-e5de-4b53-e168-5252e3a30813"
      },
      "source": [
        "# comdominiom\n",
        "table=pd.crosstab(df_num.comdominiom,df_num.deny)\n",
        "table.div(table.sum(1).astype(float), axis=0).plot(kind='bar', stacked=True)\n",
        "plt.title('Stacked Bar Chart of comdominiom vs deny')"
      ],
      "execution_count": null,
      "outputs": [
        {
          "output_type": "execute_result",
          "data": {
            "text/plain": [
              "Text(0.5, 1.0, 'Stacked Bar Chart of comdominiom vs deny')"
            ]
          },
          "metadata": {
            "tags": []
          },
          "execution_count": 23
        },
        {
          "output_type": "display_data",
          "data": {
            "image/png": "[encoded data removed]",
            "text/plain": [
              "<Figure size 432x288 with 1 Axes>"
            ]
          },
          "metadata": {
            "tags": [],
            "needs_background": "light"
          }
        }
      ]
    },
    {
      "cell_type": "code",
      "metadata": {
        "id": "CefnHTz3gw_C",
        "colab_type": "code",
        "colab": {
          "base_uri": "https://localhost:8080/",
          "height": 296
        },
        "outputId": "96121cb3-53c0-4e12-9c04-97a69d5e1277"
      },
      "source": [
        "# compare to the response features ---black\n",
        "sns.countplot(x='black',hue='deny', data=df_num)"
      ],
      "execution_count": null,
      "outputs": [
        {
          "output_type": "execute_result",
          "data": {
            "text/plain": [
              "<matplotlib.axes._subplots.AxesSubplot at 0x7fa3d3898a58>"
            ]
          },
          "metadata": {
            "tags": []
          },
          "execution_count": 24
        },
        {
          "output_type": "display_data",
          "data": {
            "image/png": "[encoded data removed]",
            "text/plain": [
              "<Figure size 432x288 with 1 Axes>"
            ]
          },
          "metadata": {
            "tags": [],
            "needs_background": "light"
          }
        }
      ]
    },
    {
      "cell_type": "code",
      "metadata": {
        "id": "yTltQG1xBzoF",
        "colab_type": "code",
        "colab": {
          "base_uri": "https://localhost:8080/",
          "height": 320
        },
        "outputId": "942de0a1-e550-40a5-9225-61ff8b4118e6"
      },
      "source": [
        "# black\n",
        "table=pd.crosstab(df_num.black,df_num.deny)\n",
        "table.div(table.sum(1).astype(float), axis=0).plot(kind='bar', stacked=True)\n",
        "plt.title('Stacked Bar Chart of black vs deny')"
      ],
      "execution_count": null,
      "outputs": [
        {
          "output_type": "execute_result",
          "data": {
            "text/plain": [
              "Text(0.5, 1.0, 'Stacked Bar Chart of black vs deny')"
            ]
          },
          "metadata": {
            "tags": []
          },
          "execution_count": 25
        },
        {
          "output_type": "display_data",
          "data": {
            "image/png": "[encoded data removed]",
            "text/plain": [
              "<Figure size 432x288 with 1 Axes>"
            ]
          },
          "metadata": {
            "tags": [],
            "needs_background": "light"
          }
        }
      ]
    },
    {
      "cell_type": "code",
      "metadata": {
        "id": "yWl5oRL2gy5z",
        "colab_type": "code",
        "colab": {
          "base_uri": "https://localhost:8080/",
          "height": 296
        },
        "outputId": "10526fa6-634a-438a-b36e-3c2eb0039b28"
      },
      "source": [
        "# compare to the response features ---ccs\n",
        "sns.countplot(x='ccs',hue='deny', data=df_num)"
      ],
      "execution_count": null,
      "outputs": [
        {
          "output_type": "execute_result",
          "data": {
            "text/plain": [
              "<matplotlib.axes._subplots.AxesSubplot at 0x7fa3d365beb8>"
            ]
          },
          "metadata": {
            "tags": []
          },
          "execution_count": 26
        },
        {
          "output_type": "display_data",
          "data": {
            "image/png": "[encoded data removed]",
            "text/plain": [
              "<Figure size 432x288 with 1 Axes>"
            ]
          },
          "metadata": {
            "tags": [],
            "needs_background": "light"
          }
        }
      ]
    },
    {
      "cell_type": "code",
      "metadata": {
        "id": "qO7jwzHKB4o1",
        "colab_type": "code",
        "colab": {
          "base_uri": "https://localhost:8080/",
          "height": 318
        },
        "outputId": "bf31b26e-7204-41ca-c886-1bdbd3d8cc3b"
      },
      "source": [
        "# ccs\n",
        "table=pd.crosstab(df_num.ccs,df_num.deny)\n",
        "table.div(table.sum(1).astype(float), axis=0).plot(kind='bar', stacked=True)\n",
        "plt.title('Stacked Bar Chart of ccs vs deny')"
      ],
      "execution_count": null,
      "outputs": [
        {
          "output_type": "execute_result",
          "data": {
            "text/plain": [
              "Text(0.5, 1.0, 'Stacked Bar Chart of ccs vs deny')"
            ]
          },
          "metadata": {
            "tags": []
          },
          "execution_count": 27
        },
        {
          "output_type": "display_data",
          "data": {
            "image/png": "[encoded data removed]",
            "text/plain": [
              "<Figure size 432x288 with 1 Axes>"
            ]
          },
          "metadata": {
            "tags": [],
            "needs_background": "light"
          }
        }
      ]
    },
    {
      "cell_type": "code",
      "metadata": {
        "id": "4xzcBiNogzMV",
        "colab_type": "code",
        "colab": {
          "base_uri": "https://localhost:8080/",
          "height": 297
        },
        "outputId": "37d53443-4c8f-41e9-cac2-2d8b0bf55899"
      },
      "source": [
        "# compare to the response features ---mcs\n",
        "sns.countplot(x='mcs',hue='deny', data=df_num)"
      ],
      "execution_count": null,
      "outputs": [
        {
          "output_type": "execute_result",
          "data": {
            "text/plain": [
              "<matplotlib.axes._subplots.AxesSubplot at 0x7fa3d3547128>"
            ]
          },
          "metadata": {
            "tags": []
          },
          "execution_count": 28
        },
        {
          "output_type": "display_data",
          "data": {
            "image/png": "[encoded data removed]",
            "text/plain": [
              "<Figure size 432x288 with 1 Axes>"
            ]
          },
          "metadata": {
            "tags": [],
            "needs_background": "light"
          }
        }
      ]
    },
    {
      "cell_type": "code",
      "metadata": {
        "id": "65Tct_UHB9Il",
        "colab_type": "code",
        "colab": {
          "base_uri": "https://localhost:8080/",
          "height": 318
        },
        "outputId": "f9c94c67-d9e3-407f-befe-ed3147260bc1"
      },
      "source": [
        "# mcs\n",
        "table=pd.crosstab(df_num.mcs,df_num.deny)\n",
        "table.div(table.sum(1).astype(float), axis=0).plot(kind='bar', stacked=True)\n",
        "plt.title('Stacked Bar Chart of mcs vs deny')"
      ],
      "execution_count": null,
      "outputs": [
        {
          "output_type": "execute_result",
          "data": {
            "text/plain": [
              "Text(0.5, 1.0, 'Stacked Bar Chart of mcs vs deny')"
            ]
          },
          "metadata": {
            "tags": []
          },
          "execution_count": 29
        },
        {
          "output_type": "display_data",
          "data": {
            "image/png": "[encoded data removed]",
            "text/plain": [
              "<Figure size 432x288 with 1 Axes>"
            ]
          },
          "metadata": {
            "tags": [],
            "needs_background": "light"
          }
        }
      ]
    },
    {
      "cell_type": "markdown",
      "metadata": {
        "id": "ZYuWJD50pNFt",
        "colab_type": "text"
      },
      "source": [
        "From these eight categorical attributes, we have these insights and findings\n",
        "- pbcr: it is a fine indicator, we can see that if pbcr is yes, deny ratio increase a lot. \n",
        "- dmi: it is a very nice indicator, if dmi is yes, it is more likely to be denied. \n",
        "- self:It is not a bad indicator. It is about the same ratio between deny or not across self. But deny ratio is higher when applicant is self-employed\n",
        "- condominium : It is not a good indicator. It is obvious that deny rate is about the same across whether it is condominium or not.\n",
        "- black: It is a good indicator. We can find that if applicant is black, deny rate is higher(yes/ not denied).\n",
        "- single: It is a good indicator. We can tell that it is almost identical number of counts on denied rate over single or not. But there is more counts for not single. It means that it is more likely to be denied if applicant is single. \n",
        "- ccs: as the ccs value increase, the ratio of deny ratio, which can be identified as yes / no also increase. On the other hand, it means that when ccs is higher, it is more likely to be denied but majority is still accepted. \n",
        "- mcs：Overall it is not a good indicator, and the pattern is not clear enough.  We can find as mcs increase,  rate of deny(yes/no) is also increasing as well. It is not as obvious as ccs."
      ]
    },
    {
      "cell_type": "markdown",
      "metadata": {
        "id": "eBU63yZruixk",
        "colab_type": "text"
      },
      "source": [
        "Based on these attributes, we choose these attributes as our choice because they are more clear to show the difference to deny: \n",
        "**pbcr, dmi, single,black, ccs**"
      ]
    },
    {
      "cell_type": "markdown",
      "metadata": {
        "id": "z_A_ni6qhO_A",
        "colab_type": "text"
      },
      "source": [
        "Then we can do some EDA on the continuous features."
      ]
    },
    {
      "cell_type": "code",
      "metadata": {
        "id": "wx2RChyehUF3",
        "colab_type": "code",
        "colab": {
          "base_uri": "https://localhost:8080/",
          "height": 798
        },
        "outputId": "6ce537b0-b02d-46d9-a4a7-a2b1ab9351f8"
      },
      "source": [
        "# compare to the response features--- pari plot\n",
        "df_sub = df_num[['dir','hir','lvr','uria','deny']]\n",
        "sns.pairplot(df_sub, hue='deny', size=2.5)"
      ],
      "execution_count": null,
      "outputs": [
        {
          "output_type": "stream",
          "text": [
            "/usr/local/lib/python3.6/dist-packages/seaborn/axisgrid.py:2071: UserWarning: The `size` parameter has been renamed to `height`; please update your code.\n",
            "  warnings.warn(msg, UserWarning)\n"
          ],
          "name": "stderr"
        },
        {
          "output_type": "execute_result",
          "data": {
            "text/plain": [
              "<seaborn.axisgrid.PairGrid at 0x7fa3d33fffd0>"
            ]
          },
          "metadata": {
            "tags": []
          },
          "execution_count": 30
        },
        {
          "output_type": "display_data",
          "data": {
            "image/png": "[encoded data removed]",
            "text/plain": [
              "<Figure size 773.25x720 with 20 Axes>"
            ]
          },
          "metadata": {
            "tags": [],
            "needs_background": "light"
          }
        }
      ]
    },
    {
      "cell_type": "markdown",
      "metadata": {
        "id": "9Pf-X_u5wnDg",
        "colab_type": "text"
      },
      "source": [
        "Based on this pair plots:\n",
        "- We can check whether attributes are correlated or not. \n",
        "- We find that 'dir' and 'hir' has some coorelation and they have some collinear relationship.  Dir vs hir plot(1,2) and hir vs dir plot(2,1) among these 16 plots showed this positive coorelation. \n",
        "- lvr and uria does not show some coorelations among these attributes.\n"
      ]
    },
    {
      "cell_type": "markdown",
      "metadata": {
        "id": "kMklHKuZhYL9",
        "colab_type": "text"
      },
      "source": [
        "From this plot we find that the 'uria' is different from other continuous features. We think that this is also a categorical data. Let's check."
      ]
    },
    {
      "cell_type": "code",
      "metadata": {
        "id": "kfrl1f8whjV8",
        "colab_type": "code",
        "colab": {
          "base_uri": "https://localhost:8080/",
          "height": 202
        },
        "outputId": "d12496b2-d544-4466-fd2b-76a2bf40555f"
      },
      "source": [
        "# 'uria'\n",
        "df_num['uria'].value_counts()"
      ],
      "execution_count": null,
      "outputs": [
        {
          "output_type": "execute_result",
          "data": {
            "text/plain": [
              "3.2     877\n",
              "3.1     275\n",
              "3.9     229\n",
              "4.3     220\n",
              "1.8     217\n",
              "3.6     174\n",
              "10.6    159\n",
              "2.0     148\n",
              "5.3      65\n",
              "8.9      16\n",
              "Name: uria, dtype: int64"
            ]
          },
          "metadata": {
            "tags": []
          },
          "execution_count": 31
        }
      ]
    },
    {
      "cell_type": "markdown",
      "metadata": {
        "id": "gp65gbnUhsK0",
        "colab_type": "text"
      },
      "source": [
        "Now we can find that 'uria' only have 11 values. So in EDA part we will show this feature as categorical and re-run the EDA."
      ]
    },
    {
      "cell_type": "code",
      "metadata": {
        "id": "MNytW8xwh_pX",
        "colab_type": "code",
        "colab": {
          "base_uri": "https://localhost:8080/",
          "height": 296
        },
        "outputId": "1c54c7c0-8b12-483b-dde1-f788b9443dc8"
      },
      "source": [
        "# compare to the response features ---uria\n",
        "sns.countplot(x='uria',hue='deny', data=df_num)"
      ],
      "execution_count": null,
      "outputs": [
        {
          "output_type": "execute_result",
          "data": {
            "text/plain": [
              "<matplotlib.axes._subplots.AxesSubplot at 0x7fa3d048d6a0>"
            ]
          },
          "metadata": {
            "tags": []
          },
          "execution_count": 32
        },
        {
          "output_type": "display_data",
          "data": {
            "image/png": "[encoded data removed]",
            "text/plain": [
              "<Figure size 432x288 with 1 Axes>"
            ]
          },
          "metadata": {
            "tags": [],
            "needs_background": "light"
          }
        }
      ]
    },
    {
      "cell_type": "code",
      "metadata": {
        "id": "l8RYR0aGCD11",
        "colab_type": "code",
        "colab": {
          "base_uri": "https://localhost:8080/",
          "height": 414
        },
        "outputId": "31b0f1f0-0f48-4789-c7b2-efc58a3cb7c6"
      },
      "source": [
        "# uria\n",
        "table=pd.crosstab(df_num.uria,df_num.deny)\n",
        "table.div(table.sum(1).astype(float), axis=0).plot(kind='bar', stacked=True)\n",
        "plt.title('Stacked Bar Chart of uria vs deny')"
      ],
      "execution_count": null,
      "outputs": [
        {
          "output_type": "execute_result",
          "data": {
            "text/plain": [
              "Text(0.5, 1.0, 'Stacked Bar Chart of uria vs deny')"
            ]
          },
          "metadata": {
            "tags": []
          },
          "execution_count": 33
        },
        {
          "output_type": "display_data",
          "data": {
            "image/png": "[encoded data removed]",
            "text/plain": [
              "<Figure size 432x288 with 1 Axes>"
            ]
          },
          "metadata": {
            "tags": [],
            "needs_background": "light"
          }
        }
      ]
    },
    {
      "cell_type": "markdown",
      "metadata": {
        "id": "wA2SFme8iDsm",
        "colab_type": "text"
      },
      "source": [
        "Then delete 'uria' and re-run the pair plot."
      ]
    },
    {
      "cell_type": "code",
      "metadata": {
        "id": "7Gf4FWN4iI0s",
        "colab_type": "code",
        "colab": {
          "base_uri": "https://localhost:8080/",
          "height": 618
        },
        "outputId": "ed930140-00bd-4a80-8a7a-8fe1a4532f60"
      },
      "source": [
        "# plot\n",
        "df_sub = df_num[['dir','hir','lvr','deny']]\n",
        "sns.pairplot(df_sub, hue='deny', size=2.5)"
      ],
      "execution_count": null,
      "outputs": [
        {
          "output_type": "stream",
          "text": [
            "/usr/local/lib/python3.6/dist-packages/seaborn/axisgrid.py:2071: UserWarning: The `size` parameter has been renamed to `height`; please update your code.\n",
            "  warnings.warn(msg, UserWarning)\n"
          ],
          "name": "stderr"
        },
        {
          "output_type": "execute_result",
          "data": {
            "text/plain": [
              "<seaborn.axisgrid.PairGrid at 0x7fa3d0527080>"
            ]
          },
          "metadata": {
            "tags": []
          },
          "execution_count": 34
        },
        {
          "output_type": "display_data",
          "data": {
            "image/png": "[encoded data removed]",
            "text/plain": [
              "<Figure size 593.25x540 with 12 Axes>"
            ]
          },
          "metadata": {
            "tags": [],
            "needs_background": "light"
          }
        }
      ]
    },
    {
      "cell_type": "markdown",
      "metadata": {
        "id": "tVbysy8kikmL",
        "colab_type": "text"
      },
      "source": [
        "We can find that 'dir' and 'hir' has some correlation. So in later regression modeling we will only choose one as our feature."
      ]
    },
    {
      "cell_type": "markdown",
      "metadata": {
        "id": "AQwfFW3kivVc",
        "colab_type": "text"
      },
      "source": [
        "## Data Preparation & Prepped Data Review \n",
        "\n",
        "**Firstly, we need to convert the categorical features into binary.**"
      ]
    },
    {
      "cell_type": "code",
      "metadata": {
        "id": "U5rDu0M2iv24",
        "colab_type": "code",
        "colab": {}
      },
      "source": [
        "# replace value to 0 and 1 for categorical variable. \n",
        "# replace pbcr\tdmi\tself\tsingle black and deny in order\n",
        "\n",
        "df_num['pbcr'].replace({'no': 0, 'yes': 1}, inplace=True)\n",
        "\n",
        "df_num['dmi'].replace({'no': 0, 'yes': 1}, inplace=True)\n",
        "\n",
        "df_num['self'].replace({'no': 0, 'yes': 1}, inplace=True)\n",
        "\n",
        "df_num['single'].replace({'no': 0, 'yes': 1}, inplace=True)\n",
        "\n",
        "df_num['black'].replace({'no': 0, 'yes': 1}, inplace=True)\n",
        "\n",
        "df_num['deny'].replace({'no': 0, 'yes': 1}, inplace=True)"
      ],
      "execution_count": null,
      "outputs": []
    },
    {
      "cell_type": "markdown",
      "metadata": {
        "id": "pvkzTHIviz8K",
        "colab_type": "text"
      },
      "source": [
        "Now we have converted the binary features into 0 and 1. Re-run the EDA part shown as follow:"
      ]
    },
    {
      "cell_type": "code",
      "metadata": {
        "id": "rbo0Bw0flH-Z",
        "colab_type": "code",
        "colab": {
          "base_uri": "https://localhost:8080/",
          "height": 296
        },
        "outputId": "13d5a62e-b929-4a9a-ba1f-e2eb81fbb06f"
      },
      "source": [
        "# compare to the response features ---(six binomial feature + ccs,mcs)\n",
        "\n",
        "sns.countplot(x='pbcr',hue='deny', data=df_num)\n",
        "#sns.countplot(x='dmi',hue='deny', data=df_num)\n",
        "#sns.countplot(x='self',hue='deny', data=df_num)\n",
        "#sns.countplot(x='single',hue='deny', data=df_num)\n",
        "#sns.countplot(x='black',hue='deny', data=df_num)\n",
        "#sns.countplot(x='mcs',hue='deny', data=df_num)\n",
        "#sns.countplot(x='ccs',hue='deny', data=df_num)"
      ],
      "execution_count": null,
      "outputs": [
        {
          "output_type": "execute_result",
          "data": {
            "text/plain": [
              "<matplotlib.axes._subplots.AxesSubplot at 0x7fa3d340eb00>"
            ]
          },
          "metadata": {
            "tags": []
          },
          "execution_count": 36
        },
        {
          "output_type": "display_data",
          "data": {
            "image/png": "[encoded data removed]",
            "text/plain": [
              "<Figure size 432x288 with 1 Axes>"
            ]
          },
          "metadata": {
            "tags": [],
            "needs_background": "light"
          }
        }
      ]
    },
    {
      "cell_type": "markdown",
      "metadata": {
        "id": "QaFjmh2Wi6ef",
        "colab_type": "text"
      },
      "source": [
        "__Then we need to check the outliers and deal with it.__\n",
        "\n",
        "Since we already now that there are only three continuous data, so we wil focus on 'dir', 'hir' and 'lvr'."
      ]
    },
    {
      "cell_type": "code",
      "metadata": {
        "id": "6lR5Donti2aF",
        "colab_type": "code",
        "colab": {
          "base_uri": "https://localhost:8080/",
          "height": 296
        },
        "outputId": "96219a1b-ea25-4846-97ce-e854f6757432"
      },
      "source": [
        "# dir\n",
        "sns.boxplot(x=df_num[\"dir\"],data=df_num) "
      ],
      "execution_count": null,
      "outputs": [
        {
          "output_type": "execute_result",
          "data": {
            "text/plain": [
              "<matplotlib.axes._subplots.AxesSubplot at 0x7fa3d050f400>"
            ]
          },
          "metadata": {
            "tags": []
          },
          "execution_count": 37
        },
        {
          "output_type": "display_data",
          "data": {
            "image/png": "[encoded data removed]",
            "text/plain": [
              "<Figure size 432x288 with 1 Axes>"
            ]
          },
          "metadata": {
            "tags": [],
            "needs_background": "light"
          }
        }
      ]
    },
    {
      "cell_type": "markdown",
      "metadata": {
        "id": "hsjPtWKrNWc-",
        "colab_type": "text"
      },
      "source": [
        "We find there are some obvious outliers located around 3. Before we decided to remove these data points around 3 for its distance to our mean( it is more than 3 standard deviation away from our mean) . According to our knowledge, higher debt payments to total income ratio may indicate that the credibility of the applicants is lower and this series of data may explain some of the denied data. Based on this belief, we firstly test with building new categorical value based on this numerical value. This selected range of values are based on the common belief of debt-to-income ratio. Based on our reference, in pure risk perspective, 0.4 or lower is considered better ratio, and 0.6 is alreay a risky debt ratio. In order to  fits this three equal range interval, We define 0 to 0.5 is low debt, 0.5 to 1 is medium and over it is a high debt ratio. This medium is a relative term in this scenario, although it is already a high risk in a more general sense. "
      ]
    },
    {
      "cell_type": "code",
      "metadata": {
        "id": "D5Lnip_1VGa1",
        "colab_type": "code",
        "colab": {
          "base_uri": "https://localhost:8080/",
          "height": 195
        },
        "outputId": "308bf831-78c6-451e-ff4b-41cf6f7b97c9"
      },
      "source": [
        "#function for categorize numerical data\n",
        "def level_rate(x):\n",
        "    '''this function tries to categorize the numerical value for debt\n",
        "     '''\n",
        "    if x < .5:\n",
        "        return 'low '\n",
        "    elif .5 < x < 1:\n",
        "        return 'medium '\n",
        "    return 'high'\n",
        "#apply equation for model\n",
        "df_num['debt_level'] = df_num['dir'].apply(level_rate)\n",
        "df_num.head()"
      ],
      "execution_count": null,
      "outputs": [
        {
          "output_type": "execute_result",
          "data": {
            "text/html": [
              "<div>\n",
              "<style scoped>\n",
              "    .dataframe tbody tr th:only-of-type {\n",
              "        vertical-align: middle;\n",
              "    }\n",
              "\n",
              "    .dataframe tbody tr th {\n",
              "        vertical-align: top;\n",
              "    }\n",
              "\n",
              "    .dataframe thead th {\n",
              "        text-align: right;\n",
              "    }\n",
              "</style>\n",
              "<table border=\"1\" class=\"dataframe\">\n",
              "  <thead>\n",
              "    <tr style=\"text-align: right;\">\n",
              "      <th></th>\n",
              "      <th>Unique ID</th>\n",
              "      <th>dir</th>\n",
              "      <th>hir</th>\n",
              "      <th>lvr</th>\n",
              "      <th>ccs</th>\n",
              "      <th>mcs</th>\n",
              "      <th>pbcr</th>\n",
              "      <th>dmi</th>\n",
              "      <th>self</th>\n",
              "      <th>single</th>\n",
              "      <th>uria</th>\n",
              "      <th>comdominiom</th>\n",
              "      <th>black</th>\n",
              "      <th>deny</th>\n",
              "      <th>debt_level</th>\n",
              "    </tr>\n",
              "  </thead>\n",
              "  <tbody>\n",
              "    <tr>\n",
              "      <th>0</th>\n",
              "      <td>1</td>\n",
              "      <td>0.221</td>\n",
              "      <td>0.221</td>\n",
              "      <td>0.800000</td>\n",
              "      <td>5</td>\n",
              "      <td>2</td>\n",
              "      <td>0</td>\n",
              "      <td>0</td>\n",
              "      <td>0</td>\n",
              "      <td>0</td>\n",
              "      <td>3.9</td>\n",
              "      <td>0</td>\n",
              "      <td>0</td>\n",
              "      <td>0</td>\n",
              "      <td>low</td>\n",
              "    </tr>\n",
              "    <tr>\n",
              "      <th>1</th>\n",
              "      <td>2</td>\n",
              "      <td>0.265</td>\n",
              "      <td>0.265</td>\n",
              "      <td>0.921875</td>\n",
              "      <td>2</td>\n",
              "      <td>2</td>\n",
              "      <td>0</td>\n",
              "      <td>0</td>\n",
              "      <td>0</td>\n",
              "      <td>1</td>\n",
              "      <td>3.2</td>\n",
              "      <td>0</td>\n",
              "      <td>0</td>\n",
              "      <td>0</td>\n",
              "      <td>low</td>\n",
              "    </tr>\n",
              "    <tr>\n",
              "      <th>2</th>\n",
              "      <td>3</td>\n",
              "      <td>0.372</td>\n",
              "      <td>0.248</td>\n",
              "      <td>0.920398</td>\n",
              "      <td>1</td>\n",
              "      <td>2</td>\n",
              "      <td>0</td>\n",
              "      <td>0</td>\n",
              "      <td>0</td>\n",
              "      <td>0</td>\n",
              "      <td>3.2</td>\n",
              "      <td>0</td>\n",
              "      <td>0</td>\n",
              "      <td>0</td>\n",
              "      <td>low</td>\n",
              "    </tr>\n",
              "    <tr>\n",
              "      <th>3</th>\n",
              "      <td>4</td>\n",
              "      <td>0.320</td>\n",
              "      <td>0.250</td>\n",
              "      <td>0.860465</td>\n",
              "      <td>1</td>\n",
              "      <td>2</td>\n",
              "      <td>0</td>\n",
              "      <td>0</td>\n",
              "      <td>0</td>\n",
              "      <td>0</td>\n",
              "      <td>4.3</td>\n",
              "      <td>0</td>\n",
              "      <td>0</td>\n",
              "      <td>0</td>\n",
              "      <td>low</td>\n",
              "    </tr>\n",
              "    <tr>\n",
              "      <th>4</th>\n",
              "      <td>5</td>\n",
              "      <td>0.360</td>\n",
              "      <td>0.350</td>\n",
              "      <td>0.600000</td>\n",
              "      <td>1</td>\n",
              "      <td>1</td>\n",
              "      <td>0</td>\n",
              "      <td>0</td>\n",
              "      <td>0</td>\n",
              "      <td>0</td>\n",
              "      <td>3.2</td>\n",
              "      <td>0</td>\n",
              "      <td>0</td>\n",
              "      <td>0</td>\n",
              "      <td>low</td>\n",
              "    </tr>\n",
              "  </tbody>\n",
              "</table>\n",
              "</div>"
            ],
            "text/plain": [
              "   Unique ID    dir    hir       lvr  ... comdominiom black  deny  debt_level\n",
              "0          1  0.221  0.221  0.800000  ...           0     0     0        low \n",
              "1          2  0.265  0.265  0.921875  ...           0     0     0        low \n",
              "2          3  0.372  0.248  0.920398  ...           0     0     0        low \n",
              "3          4  0.320  0.250  0.860465  ...           0     0     0        low \n",
              "4          5  0.360  0.350  0.600000  ...           0     0     0        low \n",
              "\n",
              "[5 rows x 15 columns]"
            ]
          },
          "metadata": {
            "tags": []
          },
          "execution_count": 38
        }
      ]
    },
    {
      "cell_type": "code",
      "metadata": {
        "id": "qvl0Uv1RY-qU",
        "colab_type": "code",
        "colab": {
          "base_uri": "https://localhost:8080/",
          "height": 347
        },
        "outputId": "49631638-92b8-4b80-a8a7-152e9675b3f1"
      },
      "source": [
        "# debt level \n",
        "table=pd.crosstab(df_num.debt_level,df_num.deny)\n",
        "table.div(table.sum(1).astype(float), axis=0).plot(kind='bar', stacked=True)\n",
        "plt.title('Stacked Bar Chart of debt_level vs deny')"
      ],
      "execution_count": null,
      "outputs": [
        {
          "output_type": "execute_result",
          "data": {
            "text/plain": [
              "Text(0.5, 1.0, 'Stacked Bar Chart of debt_level vs deny')"
            ]
          },
          "metadata": {
            "tags": []
          },
          "execution_count": 39
        },
        {
          "output_type": "display_data",
          "data": {
            "image/png": "[encoded data removed]",
            "text/plain": [
              "<Figure size 432x288 with 1 Axes>"
            ]
          },
          "metadata": {
            "tags": [],
            "needs_background": "light"
          }
        }
      ]
    },
    {
      "cell_type": "markdown",
      "metadata": {
        "id": "lFwFuLIVOBWa",
        "colab_type": "text"
      },
      "source": [
        "Now it is clear that, this new built categorical attributes is a good indicator for whether applicant will be denied or not. "
      ]
    },
    {
      "cell_type": "code",
      "metadata": {
        "id": "ulZ13ppRjPBF",
        "colab_type": "code",
        "colab": {
          "base_uri": "https://localhost:8080/",
          "height": 296
        },
        "outputId": "5f39445f-257d-4691-db2c-b220f3352e5b"
      },
      "source": [
        "# hir\n",
        "sns.boxplot(x=df_num[\"hir\"],data=df_num) "
      ],
      "execution_count": null,
      "outputs": [
        {
          "output_type": "execute_result",
          "data": {
            "text/plain": [
              "<matplotlib.axes._subplots.AxesSubplot at 0x7fa3d05739e8>"
            ]
          },
          "metadata": {
            "tags": []
          },
          "execution_count": 40
        },
        {
          "output_type": "display_data",
          "data": {
            "image/png": "[encoded data removed]",
            "text/plain": [
              "<Figure size 432x288 with 1 Axes>"
            ]
          },
          "metadata": {
            "tags": [],
            "needs_background": "light"
          }
        }
      ]
    },
    {
      "cell_type": "markdown",
      "metadata": {
        "id": "nFWQylVsQb8b",
        "colab_type": "text"
      },
      "source": [
        "As we stated before in our pairplot, hir is correlated with dir. Based on the general understanding of this attribute, when the housing expense to income ratio is lower, applicant's financial status is better. This plot also shows some similarities to dir( debt to income ratio). Due to the box plot have a similar distribution,  we also used the same formula for building house expense categorical attributes. We follow the same metrics since this will also provide same range from value distribution."
      ]
    },
    {
      "cell_type": "code",
      "metadata": {
        "id": "oSTXK7C3NPAv",
        "colab_type": "code",
        "colab": {
          "base_uri": "https://localhost:8080/",
          "height": 195
        },
        "outputId": "f4448454-ee13-4fe4-a8b2-d60f9e12b306"
      },
      "source": [
        "#apply equation for model\n",
        "def finance_logic(x):\n",
        "    '''this function tries to categorize the numerical value for debt\n",
        "     '''\n",
        "    if x < .5:\n",
        "        return 'low '\n",
        "    elif .5 < x < 1:\n",
        "        return 'medium '\n",
        "    return 'high'\n",
        "\n",
        "\n",
        "\n",
        "df_num['house_expense'] = df_num['hir'].apply(level_rate)\n",
        "df_num.head()"
      ],
      "execution_count": null,
      "outputs": [
        {
          "output_type": "execute_result",
          "data": {
            "text/html": [
              "<div>\n",
              "<style scoped>\n",
              "    .dataframe tbody tr th:only-of-type {\n",
              "        vertical-align: middle;\n",
              "    }\n",
              "\n",
              "    .dataframe tbody tr th {\n",
              "        vertical-align: top;\n",
              "    }\n",
              "\n",
              "    .dataframe thead th {\n",
              "        text-align: right;\n",
              "    }\n",
              "</style>\n",
              "<table border=\"1\" class=\"dataframe\">\n",
              "  <thead>\n",
              "    <tr style=\"text-align: right;\">\n",
              "      <th></th>\n",
              "      <th>Unique ID</th>\n",
              "      <th>dir</th>\n",
              "      <th>hir</th>\n",
              "      <th>lvr</th>\n",
              "      <th>ccs</th>\n",
              "      <th>mcs</th>\n",
              "      <th>pbcr</th>\n",
              "      <th>dmi</th>\n",
              "      <th>self</th>\n",
              "      <th>single</th>\n",
              "      <th>uria</th>\n",
              "      <th>comdominiom</th>\n",
              "      <th>black</th>\n",
              "      <th>deny</th>\n",
              "      <th>debt_level</th>\n",
              "      <th>house_expense</th>\n",
              "    </tr>\n",
              "  </thead>\n",
              "  <tbody>\n",
              "    <tr>\n",
              "      <th>0</th>\n",
              "      <td>1</td>\n",
              "      <td>0.221</td>\n",
              "      <td>0.221</td>\n",
              "      <td>0.800000</td>\n",
              "      <td>5</td>\n",
              "      <td>2</td>\n",
              "      <td>0</td>\n",
              "      <td>0</td>\n",
              "      <td>0</td>\n",
              "      <td>0</td>\n",
              "      <td>3.9</td>\n",
              "      <td>0</td>\n",
              "      <td>0</td>\n",
              "      <td>0</td>\n",
              "      <td>low</td>\n",
              "      <td>low</td>\n",
              "    </tr>\n",
              "    <tr>\n",
              "      <th>1</th>\n",
              "      <td>2</td>\n",
              "      <td>0.265</td>\n",
              "      <td>0.265</td>\n",
              "      <td>0.921875</td>\n",
              "      <td>2</td>\n",
              "      <td>2</td>\n",
              "      <td>0</td>\n",
              "      <td>0</td>\n",
              "      <td>0</td>\n",
              "      <td>1</td>\n",
              "      <td>3.2</td>\n",
              "      <td>0</td>\n",
              "      <td>0</td>\n",
              "      <td>0</td>\n",
              "      <td>low</td>\n",
              "      <td>low</td>\n",
              "    </tr>\n",
              "    <tr>\n",
              "      <th>2</th>\n",
              "      <td>3</td>\n",
              "      <td>0.372</td>\n",
              "      <td>0.248</td>\n",
              "      <td>0.920398</td>\n",
              "      <td>1</td>\n",
              "      <td>2</td>\n",
              "      <td>0</td>\n",
              "      <td>0</td>\n",
              "      <td>0</td>\n",
              "      <td>0</td>\n",
              "      <td>3.2</td>\n",
              "      <td>0</td>\n",
              "      <td>0</td>\n",
              "      <td>0</td>\n",
              "      <td>low</td>\n",
              "      <td>low</td>\n",
              "    </tr>\n",
              "    <tr>\n",
              "      <th>3</th>\n",
              "      <td>4</td>\n",
              "      <td>0.320</td>\n",
              "      <td>0.250</td>\n",
              "      <td>0.860465</td>\n",
              "      <td>1</td>\n",
              "      <td>2</td>\n",
              "      <td>0</td>\n",
              "      <td>0</td>\n",
              "      <td>0</td>\n",
              "      <td>0</td>\n",
              "      <td>4.3</td>\n",
              "      <td>0</td>\n",
              "      <td>0</td>\n",
              "      <td>0</td>\n",
              "      <td>low</td>\n",
              "      <td>low</td>\n",
              "    </tr>\n",
              "    <tr>\n",
              "      <th>4</th>\n",
              "      <td>5</td>\n",
              "      <td>0.360</td>\n",
              "      <td>0.350</td>\n",
              "      <td>0.600000</td>\n",
              "      <td>1</td>\n",
              "      <td>1</td>\n",
              "      <td>0</td>\n",
              "      <td>0</td>\n",
              "      <td>0</td>\n",
              "      <td>0</td>\n",
              "      <td>3.2</td>\n",
              "      <td>0</td>\n",
              "      <td>0</td>\n",
              "      <td>0</td>\n",
              "      <td>low</td>\n",
              "      <td>low</td>\n",
              "    </tr>\n",
              "  </tbody>\n",
              "</table>\n",
              "</div>"
            ],
            "text/plain": [
              "   Unique ID    dir    hir       lvr  ... black deny  debt_level  house_expense\n",
              "0          1  0.221  0.221  0.800000  ...     0    0        low            low \n",
              "1          2  0.265  0.265  0.921875  ...     0    0        low            low \n",
              "2          3  0.372  0.248  0.920398  ...     0    0        low            low \n",
              "3          4  0.320  0.250  0.860465  ...     0    0        low            low \n",
              "4          5  0.360  0.350  0.600000  ...     0    0        low            low \n",
              "\n",
              "[5 rows x 16 columns]"
            ]
          },
          "metadata": {
            "tags": []
          },
          "execution_count": 41
        }
      ]
    },
    {
      "cell_type": "code",
      "metadata": {
        "id": "E6oyJ_3MrrWh",
        "colab_type": "code",
        "colab": {
          "base_uri": "https://localhost:8080/",
          "height": 347
        },
        "outputId": "952155da-9431-40fb-f354-5903fdc856bc"
      },
      "source": [
        "# housing expense\n",
        "table=pd.crosstab(df_num.house_expense,df_num.deny)\n",
        "table.div(table.sum(1).astype(float), axis=0).plot(kind='bar', stacked=True)\n",
        "plt.title('Stacked Bar Chart of house_expense vs deny')"
      ],
      "execution_count": null,
      "outputs": [
        {
          "output_type": "execute_result",
          "data": {
            "text/plain": [
              "Text(0.5, 1.0, 'Stacked Bar Chart of house_expense vs deny')"
            ]
          },
          "metadata": {
            "tags": []
          },
          "execution_count": 42
        },
        {
          "output_type": "display_data",
          "data": {
            "image/png": "[encoded data removed]",
            "text/plain": [
              "<Figure size 432x288 with 1 Axes>"
            ]
          },
          "metadata": {
            "tags": [],
            "needs_background": "light"
          }
        }
      ]
    },
    {
      "cell_type": "markdown",
      "metadata": {
        "id": "V2jQWrFbT9n7",
        "colab_type": "text"
      },
      "source": [
        "As we expected, house expense ratio also showed a similar pattern like debt to income ratio. For further modeling , we can use new built attributes for modeling. Since dir and hir are correlated, we can either use hir or dir but not using both attributes. "
      ]
    },
    {
      "cell_type": "code",
      "metadata": {
        "id": "R8gJv3huVU2Y",
        "colab_type": "code",
        "colab": {
          "base_uri": "https://localhost:8080/",
          "height": 195
        },
        "outputId": "abd072c4-5745-4dd0-cee1-190e4eb3a39a"
      },
      "source": [
        "#build new binary attributes\n",
        "#function for categorize numerical data\n",
        "def binary_ratio(x):\n",
        "    '''this function tries to make binary data\n",
        "     '''\n",
        "    if x < .5:\n",
        "        return 1\n",
        "    elif .5 < x < 1:\n",
        "        return 1\n",
        "    return 0\n",
        "#apply equation for model\n",
        "df_num['affordable_house'] = df_num['hir'].apply(binary_ratio)\n",
        "df_num.head()"
      ],
      "execution_count": null,
      "outputs": [
        {
          "output_type": "execute_result",
          "data": {
            "text/html": [
              "<div>\n",
              "<style scoped>\n",
              "    .dataframe tbody tr th:only-of-type {\n",
              "        vertical-align: middle;\n",
              "    }\n",
              "\n",
              "    .dataframe tbody tr th {\n",
              "        vertical-align: top;\n",
              "    }\n",
              "\n",
              "    .dataframe thead th {\n",
              "        text-align: right;\n",
              "    }\n",
              "</style>\n",
              "<table border=\"1\" class=\"dataframe\">\n",
              "  <thead>\n",
              "    <tr style=\"text-align: right;\">\n",
              "      <th></th>\n",
              "      <th>Unique ID</th>\n",
              "      <th>dir</th>\n",
              "      <th>hir</th>\n",
              "      <th>lvr</th>\n",
              "      <th>ccs</th>\n",
              "      <th>mcs</th>\n",
              "      <th>pbcr</th>\n",
              "      <th>dmi</th>\n",
              "      <th>self</th>\n",
              "      <th>single</th>\n",
              "      <th>uria</th>\n",
              "      <th>comdominiom</th>\n",
              "      <th>black</th>\n",
              "      <th>deny</th>\n",
              "      <th>debt_level</th>\n",
              "      <th>house_expense</th>\n",
              "      <th>affordable_house</th>\n",
              "    </tr>\n",
              "  </thead>\n",
              "  <tbody>\n",
              "    <tr>\n",
              "      <th>0</th>\n",
              "      <td>1</td>\n",
              "      <td>0.221</td>\n",
              "      <td>0.221</td>\n",
              "      <td>0.800000</td>\n",
              "      <td>5</td>\n",
              "      <td>2</td>\n",
              "      <td>0</td>\n",
              "      <td>0</td>\n",
              "      <td>0</td>\n",
              "      <td>0</td>\n",
              "      <td>3.9</td>\n",
              "      <td>0</td>\n",
              "      <td>0</td>\n",
              "      <td>0</td>\n",
              "      <td>low</td>\n",
              "      <td>low</td>\n",
              "      <td>1</td>\n",
              "    </tr>\n",
              "    <tr>\n",
              "      <th>1</th>\n",
              "      <td>2</td>\n",
              "      <td>0.265</td>\n",
              "      <td>0.265</td>\n",
              "      <td>0.921875</td>\n",
              "      <td>2</td>\n",
              "      <td>2</td>\n",
              "      <td>0</td>\n",
              "      <td>0</td>\n",
              "      <td>0</td>\n",
              "      <td>1</td>\n",
              "      <td>3.2</td>\n",
              "      <td>0</td>\n",
              "      <td>0</td>\n",
              "      <td>0</td>\n",
              "      <td>low</td>\n",
              "      <td>low</td>\n",
              "      <td>1</td>\n",
              "    </tr>\n",
              "    <tr>\n",
              "      <th>2</th>\n",
              "      <td>3</td>\n",
              "      <td>0.372</td>\n",
              "      <td>0.248</td>\n",
              "      <td>0.920398</td>\n",
              "      <td>1</td>\n",
              "      <td>2</td>\n",
              "      <td>0</td>\n",
              "      <td>0</td>\n",
              "      <td>0</td>\n",
              "      <td>0</td>\n",
              "      <td>3.2</td>\n",
              "      <td>0</td>\n",
              "      <td>0</td>\n",
              "      <td>0</td>\n",
              "      <td>low</td>\n",
              "      <td>low</td>\n",
              "      <td>1</td>\n",
              "    </tr>\n",
              "    <tr>\n",
              "      <th>3</th>\n",
              "      <td>4</td>\n",
              "      <td>0.320</td>\n",
              "      <td>0.250</td>\n",
              "      <td>0.860465</td>\n",
              "      <td>1</td>\n",
              "      <td>2</td>\n",
              "      <td>0</td>\n",
              "      <td>0</td>\n",
              "      <td>0</td>\n",
              "      <td>0</td>\n",
              "      <td>4.3</td>\n",
              "      <td>0</td>\n",
              "      <td>0</td>\n",
              "      <td>0</td>\n",
              "      <td>low</td>\n",
              "      <td>low</td>\n",
              "      <td>1</td>\n",
              "    </tr>\n",
              "    <tr>\n",
              "      <th>4</th>\n",
              "      <td>5</td>\n",
              "      <td>0.360</td>\n",
              "      <td>0.350</td>\n",
              "      <td>0.600000</td>\n",
              "      <td>1</td>\n",
              "      <td>1</td>\n",
              "      <td>0</td>\n",
              "      <td>0</td>\n",
              "      <td>0</td>\n",
              "      <td>0</td>\n",
              "      <td>3.2</td>\n",
              "      <td>0</td>\n",
              "      <td>0</td>\n",
              "      <td>0</td>\n",
              "      <td>low</td>\n",
              "      <td>low</td>\n",
              "      <td>1</td>\n",
              "    </tr>\n",
              "  </tbody>\n",
              "</table>\n",
              "</div>"
            ],
            "text/plain": [
              "   Unique ID    dir    hir  ...  debt_level house_expense affordable_house\n",
              "0          1  0.221  0.221  ...        low           low                 1\n",
              "1          2  0.265  0.265  ...        low           low                 1\n",
              "2          3  0.372  0.248  ...        low           low                 1\n",
              "3          4  0.320  0.250  ...        low           low                 1\n",
              "4          5  0.360  0.350  ...        low           low                 1\n",
              "\n",
              "[5 rows x 17 columns]"
            ]
          },
          "metadata": {
            "tags": []
          },
          "execution_count": 43
        }
      ]
    },
    {
      "cell_type": "code",
      "metadata": {
        "id": "CGUqOfeojPzo",
        "colab_type": "code",
        "colab": {}
      },
      "source": [
        "#apply equation for model\n",
        "df_num['affordable_debt'] = df_num['dir'].apply(binary_ratio)"
      ],
      "execution_count": null,
      "outputs": []
    },
    {
      "cell_type": "code",
      "metadata": {
        "id": "ntkQ0AqZYF_L",
        "colab_type": "code",
        "colab": {}
      },
      "source": [
        "#replace column values for affordable place\n",
        "#df_num['affordable_house'].replace({'low': '1', 'medium': '1','high': '0' }, inplace=True)\n",
        "#df_num.head()"
      ],
      "execution_count": null,
      "outputs": []
    },
    {
      "cell_type": "code",
      "metadata": {
        "id": "YD_5tHwjXnA6",
        "colab_type": "code",
        "colab": {
          "base_uri": "https://localhost:8080/",
          "height": 218
        },
        "outputId": "f9d98eea-9c68-4a82-f1fa-4c5472222f05"
      },
      "source": [
        "df_num.affordable_house"
      ],
      "execution_count": null,
      "outputs": [
        {
          "output_type": "execute_result",
          "data": {
            "text/plain": [
              "0       1\n",
              "1       1\n",
              "2       1\n",
              "3       1\n",
              "4       1\n",
              "       ..\n",
              "2375    1\n",
              "2376    1\n",
              "2377    1\n",
              "2378    1\n",
              "2379    1\n",
              "Name: affordable_house, Length: 2380, dtype: int64"
            ]
          },
          "metadata": {
            "tags": []
          },
          "execution_count": 46
        }
      ]
    },
    {
      "cell_type": "code",
      "metadata": {
        "id": "m-4MoYpGjo36",
        "colab_type": "code",
        "colab": {
          "base_uri": "https://localhost:8080/",
          "height": 195
        },
        "outputId": "60564c2e-6044-469d-c6ac-47ed5a197b49"
      },
      "source": [
        "df_num.head()"
      ],
      "execution_count": null,
      "outputs": [
        {
          "output_type": "execute_result",
          "data": {
            "text/html": [
              "<div>\n",
              "<style scoped>\n",
              "    .dataframe tbody tr th:only-of-type {\n",
              "        vertical-align: middle;\n",
              "    }\n",
              "\n",
              "    .dataframe tbody tr th {\n",
              "        vertical-align: top;\n",
              "    }\n",
              "\n",
              "    .dataframe thead th {\n",
              "        text-align: right;\n",
              "    }\n",
              "</style>\n",
              "<table border=\"1\" class=\"dataframe\">\n",
              "  <thead>\n",
              "    <tr style=\"text-align: right;\">\n",
              "      <th></th>\n",
              "      <th>Unique ID</th>\n",
              "      <th>dir</th>\n",
              "      <th>hir</th>\n",
              "      <th>lvr</th>\n",
              "      <th>ccs</th>\n",
              "      <th>mcs</th>\n",
              "      <th>pbcr</th>\n",
              "      <th>dmi</th>\n",
              "      <th>self</th>\n",
              "      <th>single</th>\n",
              "      <th>uria</th>\n",
              "      <th>comdominiom</th>\n",
              "      <th>black</th>\n",
              "      <th>deny</th>\n",
              "      <th>debt_level</th>\n",
              "      <th>house_expense</th>\n",
              "      <th>affordable_house</th>\n",
              "      <th>affordable_debt</th>\n",
              "    </tr>\n",
              "  </thead>\n",
              "  <tbody>\n",
              "    <tr>\n",
              "      <th>0</th>\n",
              "      <td>1</td>\n",
              "      <td>0.221</td>\n",
              "      <td>0.221</td>\n",
              "      <td>0.800000</td>\n",
              "      <td>5</td>\n",
              "      <td>2</td>\n",
              "      <td>0</td>\n",
              "      <td>0</td>\n",
              "      <td>0</td>\n",
              "      <td>0</td>\n",
              "      <td>3.9</td>\n",
              "      <td>0</td>\n",
              "      <td>0</td>\n",
              "      <td>0</td>\n",
              "      <td>low</td>\n",
              "      <td>low</td>\n",
              "      <td>1</td>\n",
              "      <td>1</td>\n",
              "    </tr>\n",
              "    <tr>\n",
              "      <th>1</th>\n",
              "      <td>2</td>\n",
              "      <td>0.265</td>\n",
              "      <td>0.265</td>\n",
              "      <td>0.921875</td>\n",
              "      <td>2</td>\n",
              "      <td>2</td>\n",
              "      <td>0</td>\n",
              "      <td>0</td>\n",
              "      <td>0</td>\n",
              "      <td>1</td>\n",
              "      <td>3.2</td>\n",
              "      <td>0</td>\n",
              "      <td>0</td>\n",
              "      <td>0</td>\n",
              "      <td>low</td>\n",
              "      <td>low</td>\n",
              "      <td>1</td>\n",
              "      <td>1</td>\n",
              "    </tr>\n",
              "    <tr>\n",
              "      <th>2</th>\n",
              "      <td>3</td>\n",
              "      <td>0.372</td>\n",
              "      <td>0.248</td>\n",
              "      <td>0.920398</td>\n",
              "      <td>1</td>\n",
              "      <td>2</td>\n",
              "      <td>0</td>\n",
              "      <td>0</td>\n",
              "      <td>0</td>\n",
              "      <td>0</td>\n",
              "      <td>3.2</td>\n",
              "      <td>0</td>\n",
              "      <td>0</td>\n",
              "      <td>0</td>\n",
              "      <td>low</td>\n",
              "      <td>low</td>\n",
              "      <td>1</td>\n",
              "      <td>1</td>\n",
              "    </tr>\n",
              "    <tr>\n",
              "      <th>3</th>\n",
              "      <td>4</td>\n",
              "      <td>0.320</td>\n",
              "      <td>0.250</td>\n",
              "      <td>0.860465</td>\n",
              "      <td>1</td>\n",
              "      <td>2</td>\n",
              "      <td>0</td>\n",
              "      <td>0</td>\n",
              "      <td>0</td>\n",
              "      <td>0</td>\n",
              "      <td>4.3</td>\n",
              "      <td>0</td>\n",
              "      <td>0</td>\n",
              "      <td>0</td>\n",
              "      <td>low</td>\n",
              "      <td>low</td>\n",
              "      <td>1</td>\n",
              "      <td>1</td>\n",
              "    </tr>\n",
              "    <tr>\n",
              "      <th>4</th>\n",
              "      <td>5</td>\n",
              "      <td>0.360</td>\n",
              "      <td>0.350</td>\n",
              "      <td>0.600000</td>\n",
              "      <td>1</td>\n",
              "      <td>1</td>\n",
              "      <td>0</td>\n",
              "      <td>0</td>\n",
              "      <td>0</td>\n",
              "      <td>0</td>\n",
              "      <td>3.2</td>\n",
              "      <td>0</td>\n",
              "      <td>0</td>\n",
              "      <td>0</td>\n",
              "      <td>low</td>\n",
              "      <td>low</td>\n",
              "      <td>1</td>\n",
              "      <td>1</td>\n",
              "    </tr>\n",
              "  </tbody>\n",
              "</table>\n",
              "</div>"
            ],
            "text/plain": [
              "   Unique ID    dir    hir  ...  house_expense affordable_house affordable_debt\n",
              "0          1  0.221  0.221  ...           low                 1               1\n",
              "1          2  0.265  0.265  ...           low                 1               1\n",
              "2          3  0.372  0.248  ...           low                 1               1\n",
              "3          4  0.320  0.250  ...           low                 1               1\n",
              "4          5  0.360  0.350  ...           low                 1               1\n",
              "\n",
              "[5 rows x 18 columns]"
            ]
          },
          "metadata": {
            "tags": []
          },
          "execution_count": 47
        }
      ]
    },
    {
      "cell_type": "markdown",
      "metadata": {
        "id": "oENW2phXVz9t",
        "colab_type": "text"
      },
      "source": [
        "As we showed, we created ,affordable housing, a new binary classifier based on house expense to income ratio. 1 means it is affordable, 0 means unaffordable."
      ]
    },
    {
      "cell_type": "code",
      "metadata": {
        "id": "re1hqNOtjRPR",
        "colab_type": "code",
        "colab": {
          "base_uri": "https://localhost:8080/",
          "height": 296
        },
        "outputId": "7a11a363-a4b2-4980-e4c7-d377e04f7ee3"
      },
      "source": [
        "# lvr\n",
        "sns.boxplot(x=df_num[\"lvr\"],data=df_num) "
      ],
      "execution_count": null,
      "outputs": [
        {
          "output_type": "execute_result",
          "data": {
            "text/plain": [
              "<matplotlib.axes._subplots.AxesSubplot at 0x7fa3ce5908d0>"
            ]
          },
          "metadata": {
            "tags": []
          },
          "execution_count": 48
        },
        {
          "output_type": "display_data",
          "data": {
            "image/png": "[encoded data removed]",
            "text/plain": [
              "<Figure size 432x288 with 1 Axes>"
            ]
          },
          "metadata": {
            "tags": [],
            "needs_background": "light"
          }
        }
      ]
    },
    {
      "cell_type": "markdown",
      "metadata": {
        "id": "3bcRhi_yNUN-",
        "colab_type": "text"
      },
      "source": [
        "lvr, ratio of size of loan to assessed value of property, similar to the previous two continuous attributes, also means that the higher, the worse financial status applicant has. We did not find a good reference on explaining these attributes but we had the sense that ratio above one is not a favorable status. Then we launched a similar method to build a categorical variable based on these numerical values. "
      ]
    },
    {
      "cell_type": "code",
      "metadata": {
        "id": "jptWn07-dC2n",
        "colab_type": "code",
        "colab": {
          "base_uri": "https://localhost:8080/",
          "height": 195
        },
        "outputId": "c38df360-81a4-4567-f83d-1e39c8491415"
      },
      "source": [
        "#build new binary attributes\n",
        "#function for categorize numerical data\n",
        "def binary_lvr(x):\n",
        "    '''this function tries to make binary data\n",
        "     '''\n",
        "    if x < 1:\n",
        "        return 1\n",
        "    return 0\n",
        "#apply equation for model\n",
        "df_num['suitable_loan'] = df_num['lvr'].apply(binary_lvr)\n",
        "df_num.head()"
      ],
      "execution_count": null,
      "outputs": [
        {
          "output_type": "execute_result",
          "data": {
            "text/html": [
              "<div>\n",
              "<style scoped>\n",
              "    .dataframe tbody tr th:only-of-type {\n",
              "        vertical-align: middle;\n",
              "    }\n",
              "\n",
              "    .dataframe tbody tr th {\n",
              "        vertical-align: top;\n",
              "    }\n",
              "\n",
              "    .dataframe thead th {\n",
              "        text-align: right;\n",
              "    }\n",
              "</style>\n",
              "<table border=\"1\" class=\"dataframe\">\n",
              "  <thead>\n",
              "    <tr style=\"text-align: right;\">\n",
              "      <th></th>\n",
              "      <th>Unique ID</th>\n",
              "      <th>dir</th>\n",
              "      <th>hir</th>\n",
              "      <th>lvr</th>\n",
              "      <th>ccs</th>\n",
              "      <th>mcs</th>\n",
              "      <th>pbcr</th>\n",
              "      <th>dmi</th>\n",
              "      <th>self</th>\n",
              "      <th>single</th>\n",
              "      <th>uria</th>\n",
              "      <th>comdominiom</th>\n",
              "      <th>black</th>\n",
              "      <th>deny</th>\n",
              "      <th>debt_level</th>\n",
              "      <th>house_expense</th>\n",
              "      <th>affordable_house</th>\n",
              "      <th>affordable_debt</th>\n",
              "      <th>suitable_loan</th>\n",
              "    </tr>\n",
              "  </thead>\n",
              "  <tbody>\n",
              "    <tr>\n",
              "      <th>0</th>\n",
              "      <td>1</td>\n",
              "      <td>0.221</td>\n",
              "      <td>0.221</td>\n",
              "      <td>0.800000</td>\n",
              "      <td>5</td>\n",
              "      <td>2</td>\n",
              "      <td>0</td>\n",
              "      <td>0</td>\n",
              "      <td>0</td>\n",
              "      <td>0</td>\n",
              "      <td>3.9</td>\n",
              "      <td>0</td>\n",
              "      <td>0</td>\n",
              "      <td>0</td>\n",
              "      <td>low</td>\n",
              "      <td>low</td>\n",
              "      <td>1</td>\n",
              "      <td>1</td>\n",
              "      <td>1</td>\n",
              "    </tr>\n",
              "    <tr>\n",
              "      <th>1</th>\n",
              "      <td>2</td>\n",
              "      <td>0.265</td>\n",
              "      <td>0.265</td>\n",
              "      <td>0.921875</td>\n",
              "      <td>2</td>\n",
              "      <td>2</td>\n",
              "      <td>0</td>\n",
              "      <td>0</td>\n",
              "      <td>0</td>\n",
              "      <td>1</td>\n",
              "      <td>3.2</td>\n",
              "      <td>0</td>\n",
              "      <td>0</td>\n",
              "      <td>0</td>\n",
              "      <td>low</td>\n",
              "      <td>low</td>\n",
              "      <td>1</td>\n",
              "      <td>1</td>\n",
              "      <td>1</td>\n",
              "    </tr>\n",
              "    <tr>\n",
              "      <th>2</th>\n",
              "      <td>3</td>\n",
              "      <td>0.372</td>\n",
              "      <td>0.248</td>\n",
              "      <td>0.920398</td>\n",
              "      <td>1</td>\n",
              "      <td>2</td>\n",
              "      <td>0</td>\n",
              "      <td>0</td>\n",
              "      <td>0</td>\n",
              "      <td>0</td>\n",
              "      <td>3.2</td>\n",
              "      <td>0</td>\n",
              "      <td>0</td>\n",
              "      <td>0</td>\n",
              "      <td>low</td>\n",
              "      <td>low</td>\n",
              "      <td>1</td>\n",
              "      <td>1</td>\n",
              "      <td>1</td>\n",
              "    </tr>\n",
              "    <tr>\n",
              "      <th>3</th>\n",
              "      <td>4</td>\n",
              "      <td>0.320</td>\n",
              "      <td>0.250</td>\n",
              "      <td>0.860465</td>\n",
              "      <td>1</td>\n",
              "      <td>2</td>\n",
              "      <td>0</td>\n",
              "      <td>0</td>\n",
              "      <td>0</td>\n",
              "      <td>0</td>\n",
              "      <td>4.3</td>\n",
              "      <td>0</td>\n",
              "      <td>0</td>\n",
              "      <td>0</td>\n",
              "      <td>low</td>\n",
              "      <td>low</td>\n",
              "      <td>1</td>\n",
              "      <td>1</td>\n",
              "      <td>1</td>\n",
              "    </tr>\n",
              "    <tr>\n",
              "      <th>4</th>\n",
              "      <td>5</td>\n",
              "      <td>0.360</td>\n",
              "      <td>0.350</td>\n",
              "      <td>0.600000</td>\n",
              "      <td>1</td>\n",
              "      <td>1</td>\n",
              "      <td>0</td>\n",
              "      <td>0</td>\n",
              "      <td>0</td>\n",
              "      <td>0</td>\n",
              "      <td>3.2</td>\n",
              "      <td>0</td>\n",
              "      <td>0</td>\n",
              "      <td>0</td>\n",
              "      <td>low</td>\n",
              "      <td>low</td>\n",
              "      <td>1</td>\n",
              "      <td>1</td>\n",
              "      <td>1</td>\n",
              "    </tr>\n",
              "  </tbody>\n",
              "</table>\n",
              "</div>"
            ],
            "text/plain": [
              "   Unique ID    dir    hir  ...  affordable_house affordable_debt suitable_loan\n",
              "0          1  0.221  0.221  ...                 1               1             1\n",
              "1          2  0.265  0.265  ...                 1               1             1\n",
              "2          3  0.372  0.248  ...                 1               1             1\n",
              "3          4  0.320  0.250  ...                 1               1             1\n",
              "4          5  0.360  0.350  ...                 1               1             1\n",
              "\n",
              "[5 rows x 19 columns]"
            ]
          },
          "metadata": {
            "tags": []
          },
          "execution_count": 49
        }
      ]
    },
    {
      "cell_type": "code",
      "metadata": {
        "id": "fKz4uZuJkasr",
        "colab_type": "code",
        "colab": {
          "base_uri": "https://localhost:8080/",
          "height": 310
        },
        "outputId": "b19aa6f4-fa54-42cf-985d-d84a4b322d74"
      },
      "source": [
        "# suitable_loan \n",
        "table=pd.crosstab(df_num.suitable_loan,df_num.deny)\n",
        "table.div(table.sum(1).astype(float), axis=0).plot(kind='bar', stacked=True)\n",
        "plt.title('Stacked Bar Chart of suitable_loan vs deny')"
      ],
      "execution_count": null,
      "outputs": [
        {
          "output_type": "execute_result",
          "data": {
            "text/plain": [
              "Text(0.5, 1.0, 'Stacked Bar Chart of suitable_loan vs deny')"
            ]
          },
          "metadata": {
            "tags": []
          },
          "execution_count": 50
        },
        {
          "output_type": "display_data",
          "data": {
            "image/png": "[encoded data removed]",
            "text/plain": [
              "<Figure size 432x288 with 1 Axes>"
            ]
          },
          "metadata": {
            "tags": [],
            "needs_background": "light"
          }
        }
      ]
    },
    {
      "cell_type": "markdown",
      "metadata": {
        "id": "Matlgsw7knzU",
        "colab_type": "text"
      },
      "source": [
        "Although it is not as obvious as previous two attributes, this plot still fits our common sense of loan size.\n",
        "It is more likely to be denied if applicant has a larger size of loan. "
      ]
    },
    {
      "cell_type": "markdown",
      "metadata": {
        "id": "7dbpajGLlcGD",
        "colab_type": "text"
      },
      "source": [
        "This is a quick summary of what we did for this section of numerical attributes\n",
        "- We figured these \"outlier\" may not be the problem. Instead, it can become a nice indicator when we used to build our binary classifiers\n",
        "- We built three binary attributes based on some insights of these attributes. They all fit our prior knowledge of loan, debt and living expenses. \n",
        "- We believe that both binary attributes built upon dir and hir can be helpful for further modeling. Since these two attributes have collinearity, we can only choose one for modeling.\n",
        "\n",
        "- Another uncorrelated attribute lvr can also be used to build model. We call this loan size to be one classifier."
      ]
    },
    {
      "cell_type": "markdown",
      "metadata": {
        "id": "ha7BgOT6mUlJ",
        "colab_type": "text"
      },
      "source": [
        "In the next section, we will use five categorical attributes which we discovered from EDA along with three categorical attributes which were built from numerical attributes to create our four models. "
      ]
    },
    {
      "cell_type": "markdown",
      "metadata": {
        "id": "_6zGg48-bGaG",
        "colab_type": "text"
      },
      "source": [
        "We will also apply smote in our modeldue to this imbalanced variable of deny. Since SMOTE will be applied, now it is a balanced data set and we can directly compare the output to null error rate 0.5 . "
      ]
    },
    {
      "cell_type": "markdown",
      "metadata": {
        "id": "t3jp2icBlY3M",
        "colab_type": "text"
      },
      "source": [
        "## KNN + SVM Modeling & Select Models\n",
        "In this session along with Select Modeling session, we basically merges these two section together. KNN and SVM Modeling mainly showed how we combine these attributes and check results with trainind data. Selcet Model section we will use whole data set to test model. "
      ]
    },
    {
      "cell_type": "markdown",
      "metadata": {
        "id": "YjRJj9Cs0oMs",
        "colab_type": "text"
      },
      "source": [
        "### KNN model"
      ]
    },
    {
      "cell_type": "markdown",
      "metadata": {
        "id": "_MyC4OOXUokm",
        "colab_type": "text"
      },
      "source": [
        "Since KNN requires the selection of K, as we know, a small value of k means that noise will have a higher influence on the result and a large value make it computationally expensive.\n",
        "We would choose one k=3 as common starter and choose another K value based on the square root of sample size n as our models. "
      ]
    },
    {
      "cell_type": "markdown",
      "metadata": {
        "id": "iG3JgOzk4a3D",
        "colab_type": "text"
      },
      "source": [
        "__model 1__\n",
        "\n",
        "Based on our EDA part, in model one we will use 'pbcr', 'dmi', 'black', 'ccs' and 'single' these five features. In this model, we also run SMOTE to resample imbalanced samples.  We can find it will make a balanced data set of 3352 samples."
      ]
    },
    {
      "cell_type": "code",
      "metadata": {
        "id": "W6Bpmlm74owW",
        "colab_type": "code",
        "colab": {
          "base_uri": "https://localhost:8080/",
          "height": 306
        },
        "outputId": "780d4d86-85c1-488c-80fc-48c90d0917e1"
      },
      "source": [
        "#KNN -- model 1\n",
        "from sklearn.neighbors import KNeighborsClassifier\n",
        "from sklearn.model_selection import train_test_split\n",
        "\n",
        "#apply smote\n",
        "from imblearn.over_sampling import SMOTE\n",
        "predictors1 = ['pbcr', 'dmi', 'black', 'ccs','single']\n",
        "X1 = df_num[predictors1]\n",
        "y1 = df_num.deny\n",
        "\n",
        "#Try to use SMOTE to resample \n",
        "\n",
        "X1, y1  = SMOTE().fit_resample(df_num[predictors1], df_num.deny)\n",
        "X_train1, X_test1, y_train1, y_test1 = train_test_split(X1, y1, test_size=0.8, random_state=22)\n",
        "\n",
        "\n",
        "#set k=3\n",
        "knn = KNeighborsClassifier(n_neighbors=3)\n",
        "\n",
        "knn.fit(X_train1, y_train1)\n",
        "prediction = knn.predict(X_test1)\n",
        "score = knn.score(X_test1,y_test1)\n",
        "print('before modeling',y_test1)\n",
        "print(\"after modeling:\",prediction)\n",
        "print(\"score:\",score)\n",
        "\n",
        "\n",
        "from sklearn.metrics import classification_report, confusion_matrix\n",
        "print(confusion_matrix(y_test1,prediction))\n",
        "print(classification_report(y_test1,prediction))"
      ],
      "execution_count": null,
      "outputs": [
        {
          "output_type": "stream",
          "text": [
            "/usr/local/lib/python3.6/dist-packages/sklearn/utils/deprecation.py:87: FutureWarning: Function safe_indexing is deprecated; safe_indexing is deprecated in version 0.22 and will be removed in version 0.24.\n",
            "  warnings.warn(msg, category=FutureWarning)\n"
          ],
          "name": "stderr"
        },
        {
          "output_type": "stream",
          "text": [
            "before modeling [0 1 1 ... 0 1 0]\n",
            "after modeling: [0 0 1 ... 1 0 1]\n",
            "score: 0.6596062052505967\n",
            "[[1113  568]\n",
            " [ 573 1098]]\n",
            "              precision    recall  f1-score   support\n",
            "\n",
            "           0       0.66      0.66      0.66      1681\n",
            "           1       0.66      0.66      0.66      1671\n",
            "\n",
            "    accuracy                           0.66      3352\n",
            "   macro avg       0.66      0.66      0.66      3352\n",
            "weighted avg       0.66      0.66      0.66      3352\n",
            "\n"
          ],
          "name": "stdout"
        }
      ]
    },
    {
      "cell_type": "markdown",
      "metadata": {
        "id": "TaPuQJqK5AIe",
        "colab_type": "text"
      },
      "source": [
        "__Model 2__\n",
        "\n",
        "For model two, we not only picked five features from the categorical data, we also introduced extra attributes based on the continuous variables. Since dir and hir has collinearity, we can choose either of them for modeling. We choose dir to make a new binary classifier( affordable_debt) for feature."
      ]
    },
    {
      "cell_type": "code",
      "metadata": {
        "id": "W_mLk8ow0r05",
        "colab_type": "code",
        "colab": {
          "base_uri": "https://localhost:8080/",
          "height": 306
        },
        "outputId": "c2ddbbdb-7d47-412b-86a9-4827f08f8228"
      },
      "source": [
        "#KNN -- model 2\n",
        "\n",
        "predictors2 = ['pbcr', 'dmi', 'black', 'ccs','single','affordable_debt']\n",
        "X2 = df_num[predictors2]\n",
        "y2 = df_num.deny\n",
        "\n",
        "#Try to use SMOTE to resample \n",
        "\n",
        "X2, y2  = SMOTE().fit_resample(df_num[predictors2], df_num.deny)\n",
        "X_train2, X_test2, y_train2, y_test2 = train_test_split(X2, y2, test_size=0.8, random_state=22)\n",
        "\n",
        "#set k=3\n",
        "knn = KNeighborsClassifier(n_neighbors=3)\n",
        "\n",
        "\n",
        "knn.fit(X_train2, y_train2)\n",
        "prediction = knn.predict(X_test2)\n",
        "score = knn.score(X_test2,y_test2)\n",
        "print('before modeling',y_test2)\n",
        "print(\"after modeling:\",prediction)\n",
        "print(\"score:\",score)\n",
        "\n",
        "from sklearn.metrics import classification_report, confusion_matrix\n",
        "print(confusion_matrix(y_test2,prediction))\n",
        "print(classification_report(y_test2,prediction))"
      ],
      "execution_count": null,
      "outputs": [
        {
          "output_type": "stream",
          "text": [
            "/usr/local/lib/python3.6/dist-packages/sklearn/utils/deprecation.py:87: FutureWarning: Function safe_indexing is deprecated; safe_indexing is deprecated in version 0.22 and will be removed in version 0.24.\n",
            "  warnings.warn(msg, category=FutureWarning)\n"
          ],
          "name": "stderr"
        },
        {
          "output_type": "stream",
          "text": [
            "before modeling [0 1 1 ... 0 1 0]\n",
            "after modeling: [1 1 0 ... 0 1 0]\n",
            "score: 0.5238663484486874\n",
            "[[ 729  952]\n",
            " [ 644 1027]]\n",
            "              precision    recall  f1-score   support\n",
            "\n",
            "           0       0.53      0.43      0.48      1681\n",
            "           1       0.52      0.61      0.56      1671\n",
            "\n",
            "    accuracy                           0.52      3352\n",
            "   macro avg       0.52      0.52      0.52      3352\n",
            "weighted avg       0.52      0.52      0.52      3352\n",
            "\n"
          ],
          "name": "stdout"
        }
      ]
    },
    {
      "cell_type": "markdown",
      "metadata": {
        "id": "FxJKgWsA5RRW",
        "colab_type": "text"
      },
      "source": [
        "__model 3__\n",
        "\n",
        "Similar to Model two, we digger further from model 2 by adding one extra newly-built attribute -- suitable loan. "
      ]
    },
    {
      "cell_type": "code",
      "metadata": {
        "id": "WJ0W0Iig5eqx",
        "colab_type": "code",
        "colab": {
          "base_uri": "https://localhost:8080/",
          "height": 306
        },
        "outputId": "eaecbdbb-bf5b-42f9-9067-beb4b6a3dfb5"
      },
      "source": [
        "#KNN -- model 3\n",
        "\n",
        "predictors3 = ['pbcr', 'dmi', 'black', 'ccs','single','affordable_debt', 'suitable_loan']\n",
        "X3 = df_num[predictors3]\n",
        "y3 = df_num.deny\n",
        "\n",
        "#Try to use SMOTE to resample \n",
        "\n",
        "X3, y3  = SMOTE().fit_resample(df_num[predictors3], df_num.deny)\n",
        "X_train3, X_test3, y_train3, y_test3 = train_test_split(X3, y3, test_size=0.8, random_state=22)\n",
        "\n",
        "\n",
        "#set k=3\n",
        "knn = KNeighborsClassifier(n_neighbors=3)\n",
        "\n",
        "knn.fit(X_train3, y_train3)\n",
        "prediction = knn.predict(X_test3)\n",
        "score = knn.score(X_test3,y_test3)\n",
        "print('before modeling',y_test3)\n",
        "print(\"after modeling:\",prediction)\n",
        "print(\"score:\",score)\n",
        "\n",
        "from sklearn.metrics import classification_report, confusion_matrix\n",
        "print(confusion_matrix(y_test3,prediction))\n",
        "print(classification_report(y_test3,prediction))"
      ],
      "execution_count": null,
      "outputs": [
        {
          "output_type": "stream",
          "text": [
            "/usr/local/lib/python3.6/dist-packages/sklearn/utils/deprecation.py:87: FutureWarning: Function safe_indexing is deprecated; safe_indexing is deprecated in version 0.22 and will be removed in version 0.24.\n",
            "  warnings.warn(msg, category=FutureWarning)\n"
          ],
          "name": "stderr"
        },
        {
          "output_type": "stream",
          "text": [
            "before modeling [0 1 1 ... 0 1 0]\n",
            "after modeling: [0 0 0 ... 0 1 0]\n",
            "score: 0.7204653937947494\n",
            "[[1263  418]\n",
            " [ 519 1152]]\n",
            "              precision    recall  f1-score   support\n",
            "\n",
            "           0       0.71      0.75      0.73      1681\n",
            "           1       0.73      0.69      0.71      1671\n",
            "\n",
            "    accuracy                           0.72      3352\n",
            "   macro avg       0.72      0.72      0.72      3352\n",
            "weighted avg       0.72      0.72      0.72      3352\n",
            "\n"
          ],
          "name": "stdout"
        }
      ]
    },
    {
      "cell_type": "markdown",
      "metadata": {
        "id": "4ejMgKHbqwAd",
        "colab_type": "text"
      },
      "source": [
        "In these three models, we mainly compared the situation when k= 3, and model 3 gives a better result on precision. Also, we want to compare the result with a larger k value.  Since there are 3352 samples, we use k=59 (the odd number which is close to the square root of the sample size). Therefore we modified a  bit on model 3 for this variation. "
      ]
    },
    {
      "cell_type": "code",
      "metadata": {
        "id": "0zUWy0K6rWY7",
        "colab_type": "code",
        "colab": {
          "base_uri": "https://localhost:8080/",
          "height": 306
        },
        "outputId": "898cad1c-ac10-4039-fc92-3122e3f0138d"
      },
      "source": [
        "#KNN -- model 3 extension on larger k value\n",
        "\n",
        "predictors3 = ['pbcr', 'dmi', 'black', 'ccs','single','affordable_debt', 'suitable_loan']\n",
        "X3 = df_num[predictors3]\n",
        "y3 = df_num.deny\n",
        "\n",
        "#Try to use SMOTE to resample \n",
        "\n",
        "X3, y3  = SMOTE().fit_resample(df_num[predictors3], df_num.deny)\n",
        "X_train3, X_test3, y_train3, y_test3 = train_test_split(X3, y3, test_size=0.8, random_state=22)\n",
        "\n",
        "\n",
        "#set k=59\n",
        "knn = KNeighborsClassifier(n_neighbors=59)\n",
        "\n",
        "knn.fit(X_train3, y_train3)\n",
        "prediction = knn.predict(X_test3)\n",
        "score = knn.score(X_test3,y_test3)\n",
        "print('before modeling',y_test3)\n",
        "print(\"after modeling:\",prediction)\n",
        "print(\"score:\",score)\n",
        "\n",
        "from sklearn.metrics import classification_report, confusion_matrix\n",
        "print(confusion_matrix(y_test3,prediction))\n",
        "print(classification_report(y_test3,prediction))"
      ],
      "execution_count": null,
      "outputs": [
        {
          "output_type": "stream",
          "text": [
            "/usr/local/lib/python3.6/dist-packages/sklearn/utils/deprecation.py:87: FutureWarning: Function safe_indexing is deprecated; safe_indexing is deprecated in version 0.22 and will be removed in version 0.24.\n",
            "  warnings.warn(msg, category=FutureWarning)\n"
          ],
          "name": "stderr"
        },
        {
          "output_type": "stream",
          "text": [
            "before modeling [0 1 1 ... 0 1 0]\n",
            "after modeling: [0 0 0 ... 0 0 0]\n",
            "score: 0.6960023866348448\n",
            "[[1397  284]\n",
            " [ 735  936]]\n",
            "              precision    recall  f1-score   support\n",
            "\n",
            "           0       0.66      0.83      0.73      1681\n",
            "           1       0.77      0.56      0.65      1671\n",
            "\n",
            "    accuracy                           0.70      3352\n",
            "   macro avg       0.71      0.70      0.69      3352\n",
            "weighted avg       0.71      0.70      0.69      3352\n",
            "\n"
          ],
          "name": "stdout"
        }
      ]
    },
    {
      "cell_type": "markdown",
      "metadata": {
        "id": "N_ApZqrds6Af",
        "colab_type": "text"
      },
      "source": [
        "Now we can compare this extesnion form with original form. We can see when k=3, it gives the best result.  We can also expect in this specific dataset, large k will not help on getting better results. "
      ]
    },
    {
      "cell_type": "markdown",
      "metadata": {
        "id": "cF4vLJr2tPES",
        "colab_type": "text"
      },
      "source": [
        "Then We start the SVM model. "
      ]
    },
    {
      "cell_type": "markdown",
      "metadata": {
        "id": "78sOPzmbydVS",
        "colab_type": "text"
      },
      "source": [
        "### SVM model "
      ]
    },
    {
      "cell_type": "markdown",
      "metadata": {
        "id": "4JCaoqljXqyf",
        "colab_type": "text"
      },
      "source": [
        "- The linear kernel tricks is only suitable for linear data. \n",
        "- For non-linear data, other types of kernel tricks:\n",
        "    - Radial Basis Function (RBF)\n",
        "    - Gaussian (a special case of RBF)\n",
        "    - Polynomial\n",
        "    - sigmoid\n",
        "    - other types\n",
        "\n",
        "We assumpt that linear kernel may have the best perfermance. But at the same time we will also try polynomial, RBF and sigmoid kernel to compare. "
      ]
    },
    {
      "cell_type": "markdown",
      "metadata": {
        "id": "iHr3EUWc-k85",
        "colab_type": "text"
      },
      "source": [
        "The same as KNN model, in SVM model 1 we will choose 'pbcr', 'dmi', 'black', 'ccs' and 'single'. In model 2 we will add 'affordable_debt'. In model 3 we will choose these features: 'pbcr', 'dmi', 'black', 'ccs','single','affordable_debt' and 'suitable_loan'."
      ]
    },
    {
      "cell_type": "markdown",
      "metadata": {
        "id": "F9OH493buBCJ",
        "colab_type": "text"
      },
      "source": [
        "Based on KNN, we noticed that model 3 provided the best performance. Therefore we will start with Model 3 in SVM and then model 2 and model 1."
      ]
    },
    {
      "cell_type": "markdown",
      "metadata": {
        "id": "aOwJuoSs_woC",
        "colab_type": "text"
      },
      "source": [
        "__model 3__"
      ]
    },
    {
      "cell_type": "code",
      "metadata": {
        "id": "Oszf8HhUYD66",
        "colab_type": "code",
        "colab": {
          "base_uri": "https://localhost:8080/",
          "height": 202
        },
        "outputId": "31237f63-62a1-4688-ad21-bf28dc4636a1"
      },
      "source": [
        "#model 3 \n",
        "predictors3 = ['pbcr', 'dmi', 'black', 'ccs','single','affordable_debt', 'suitable_loan']\n",
        "\n",
        "#Import svm model\n",
        "from sklearn.svm import SVC\n",
        "#Create a svm Classifier\n",
        "\n",
        "#kernel='poly'\n",
        "svclassifier = SVC(kernel='poly')\n",
        "svclassifier.fit(X_train3, y_train3)\n",
        "#Predict the response for test dataset\n",
        "y_pred = svclassifier.predict(X_test3)\n",
        "from sklearn.metrics import classification_report, confusion_matrix\n",
        "print(confusion_matrix(y_test3,y_pred))\n",
        "print(classification_report(y_test3,y_pred))"
      ],
      "execution_count": null,
      "outputs": [
        {
          "output_type": "stream",
          "text": [
            "[[1379  302]\n",
            " [ 677  994]]\n",
            "              precision    recall  f1-score   support\n",
            "\n",
            "           0       0.67      0.82      0.74      1681\n",
            "           1       0.77      0.59      0.67      1671\n",
            "\n",
            "    accuracy                           0.71      3352\n",
            "   macro avg       0.72      0.71      0.70      3352\n",
            "weighted avg       0.72      0.71      0.70      3352\n",
            "\n"
          ],
          "name": "stdout"
        }
      ]
    },
    {
      "cell_type": "code",
      "metadata": {
        "id": "z95bmEzJYpkm",
        "colab_type": "code",
        "colab": {
          "base_uri": "https://localhost:8080/",
          "height": 202
        },
        "outputId": "5d2ab1d8-bf71-435c-9f4d-a38d666099c6"
      },
      "source": [
        "#kernel='rbf'\n",
        "svclassifier = SVC(kernel='rbf')\n",
        "svclassifier.fit(X_train3, y_train3)\n",
        "\n",
        "#Predict the response for test dataset\n",
        "y_pred = svclassifier.predict(X_test3)\n",
        "from sklearn.metrics import classification_report, confusion_matrix\n",
        "print(confusion_matrix(y_test3,y_pred))\n",
        "print(classification_report(y_test3,y_pred))"
      ],
      "execution_count": null,
      "outputs": [
        {
          "output_type": "stream",
          "text": [
            "[[1216  465]\n",
            " [ 522 1149]]\n",
            "              precision    recall  f1-score   support\n",
            "\n",
            "           0       0.70      0.72      0.71      1681\n",
            "           1       0.71      0.69      0.70      1671\n",
            "\n",
            "    accuracy                           0.71      3352\n",
            "   macro avg       0.71      0.71      0.71      3352\n",
            "weighted avg       0.71      0.71      0.71      3352\n",
            "\n"
          ],
          "name": "stdout"
        }
      ]
    },
    {
      "cell_type": "code",
      "metadata": {
        "id": "P1KAh2gZYp_s",
        "colab_type": "code",
        "colab": {
          "base_uri": "https://localhost:8080/",
          "height": 202
        },
        "outputId": "17966914-4058-40ad-8773-9b9d389f63df"
      },
      "source": [
        "#kernel='sigmoid'\n",
        "svclassifier = SVC(kernel='sigmoid')\n",
        "svclassifier.fit(X_train3, y_train3)\n",
        "\n",
        "#Predict the response for test dataset\n",
        "y_pred = svclassifier.predict(X_test3)\n",
        "from sklearn.metrics import classification_report, confusion_matrix\n",
        "print(confusion_matrix(y_test3,y_pred))\n",
        "print(classification_report(y_test3,y_pred))"
      ],
      "execution_count": null,
      "outputs": [
        {
          "output_type": "stream",
          "text": [
            "[[1155  526]\n",
            " [ 978  693]]\n",
            "              precision    recall  f1-score   support\n",
            "\n",
            "           0       0.54      0.69      0.61      1681\n",
            "           1       0.57      0.41      0.48      1671\n",
            "\n",
            "    accuracy                           0.55      3352\n",
            "   macro avg       0.55      0.55      0.54      3352\n",
            "weighted avg       0.55      0.55      0.54      3352\n",
            "\n"
          ],
          "name": "stdout"
        }
      ]
    },
    {
      "cell_type": "code",
      "metadata": {
        "id": "ldIl7QzDbfsd",
        "colab_type": "code",
        "colab": {
          "base_uri": "https://localhost:8080/",
          "height": 202
        },
        "outputId": "579a1727-c2a4-44f8-ff60-5bc2ec2c8ea5"
      },
      "source": [
        "#kernel='linear'\n",
        "svclassifier = SVC(kernel='linear')\n",
        "svclassifier.fit(X_train3, y_train3)\n",
        "#Predict the response for test dataset\n",
        "y_pred = svclassifier.predict(X_test3)\n",
        "from sklearn.metrics import classification_report, confusion_matrix\n",
        "print(confusion_matrix(y_test3,y_pred))\n",
        "print(classification_report(y_test3,y_pred))"
      ],
      "execution_count": null,
      "outputs": [
        {
          "output_type": "stream",
          "text": [
            "[[1329  352]\n",
            " [ 592 1079]]\n",
            "              precision    recall  f1-score   support\n",
            "\n",
            "           0       0.69      0.79      0.74      1681\n",
            "           1       0.75      0.65      0.70      1671\n",
            "\n",
            "    accuracy                           0.72      3352\n",
            "   macro avg       0.72      0.72      0.72      3352\n",
            "weighted avg       0.72      0.72      0.72      3352\n",
            "\n"
          ],
          "name": "stdout"
        }
      ]
    },
    {
      "cell_type": "markdown",
      "metadata": {
        "id": "u5gHdr-zui-A",
        "colab_type": "text"
      },
      "source": [
        "Based on these four SVM models with different kernels, we already get a result better than KNN. \n",
        "\n",
        "Currently SVM model has better performance. We assumed that this result can be contributed to relatively small sample size. If there is a larger sample size, KNN may outperform the SVM models. "
      ]
    },
    {
      "cell_type": "markdown",
      "metadata": {
        "id": "FL8IqjDUwhoZ",
        "colab_type": "text"
      },
      "source": [
        "Compare with these four SVM models:\n",
        "- SVM with linear kernel performs best among these four. \n",
        "- Except for linear kernel, sigmoid is the best among the rest of the three.\n",
        "- After we search a lot we know that sigmoid is better for solving classification problems. Gaussian and Polynomial have similar performance but Gaussian is a little bit better."
      ]
    },
    {
      "cell_type": "markdown",
      "metadata": {
        "id": "nfGbr1-zxl_3",
        "colab_type": "text"
      },
      "source": [
        "Therefore, we will only use linear kernel to construct the other two models and compare.\n",
        "\n",
        "__model 2__"
      ]
    },
    {
      "cell_type": "code",
      "metadata": {
        "id": "eRkQ68dCxzJu",
        "colab_type": "code",
        "colab": {
          "base_uri": "https://localhost:8080/",
          "height": 202
        },
        "outputId": "5f0c0e64-d35e-47d0-debc-39b662f93932"
      },
      "source": [
        "#model 2 \n",
        "predictors2 = ['pbcr', 'dmi', 'black', 'ccs','single','affordable_debt']\n",
        "\n",
        "#kernel='linear'\n",
        "svclassifier = SVC(kernel='linear')\n",
        "svclassifier.fit(X_train2, y_train2)\n",
        "#Predict the response for test dataset\n",
        "y_pred = svclassifier.predict(X_test2)\n",
        "from sklearn.metrics import classification_report, confusion_matrix\n",
        "print(confusion_matrix(y_test2,y_pred))\n",
        "print(classification_report(y_test2,y_pred))"
      ],
      "execution_count": null,
      "outputs": [
        {
          "output_type": "stream",
          "text": [
            "[[1343  338]\n",
            " [ 632 1039]]\n",
            "              precision    recall  f1-score   support\n",
            "\n",
            "           0       0.68      0.80      0.73      1681\n",
            "           1       0.75      0.62      0.68      1671\n",
            "\n",
            "    accuracy                           0.71      3352\n",
            "   macro avg       0.72      0.71      0.71      3352\n",
            "weighted avg       0.72      0.71      0.71      3352\n",
            "\n"
          ],
          "name": "stdout"
        }
      ]
    },
    {
      "cell_type": "markdown",
      "metadata": {
        "id": "n668OVk8yJ5R",
        "colab_type": "text"
      },
      "source": [
        "__model 1__"
      ]
    },
    {
      "cell_type": "code",
      "metadata": {
        "id": "QnSVVOCDyLbJ",
        "colab_type": "code",
        "colab": {
          "base_uri": "https://localhost:8080/",
          "height": 202
        },
        "outputId": "46699d7f-33a0-4f55-c989-50f1ac6afaaf"
      },
      "source": [
        "#model 1 \n",
        "predictors1 = ['pbcr', 'dmi', 'black', 'ccs','single']\n",
        "\n",
        "#kernel='linear'\n",
        "svclassifier = SVC(kernel='linear')\n",
        "svclassifier.fit(X_train1, y_train1)\n",
        "#Predict the response for test dataset\n",
        "y_pred = svclassifier.predict(X_test1)\n",
        "from sklearn.metrics import classification_report, confusion_matrix\n",
        "print(confusion_matrix(y_test1,y_pred))\n",
        "print(classification_report(y_test1,y_pred))"
      ],
      "execution_count": null,
      "outputs": [
        {
          "output_type": "stream",
          "text": [
            "[[1346  335]\n",
            " [ 628 1043]]\n",
            "              precision    recall  f1-score   support\n",
            "\n",
            "           0       0.68      0.80      0.74      1681\n",
            "           1       0.76      0.62      0.68      1671\n",
            "\n",
            "    accuracy                           0.71      3352\n",
            "   macro avg       0.72      0.71      0.71      3352\n",
            "weighted avg       0.72      0.71      0.71      3352\n",
            "\n"
          ],
          "name": "stdout"
        }
      ]
    },
    {
      "cell_type": "markdown",
      "metadata": {
        "id": "UgO8dxtsx9UQ",
        "colab_type": "text"
      },
      "source": [
        "Now we have three SVM models with linear kernel. We can compare them and find that although the results are close in these linear kernels, model 3 performs slightly better due to a higher f1 score."
      ]
    },
    {
      "cell_type": "markdown",
      "metadata": {
        "id": "vvtrsAQKmAuw",
        "colab_type": "text"
      },
      "source": [
        "### Select Models \n",
        "From all these analyses and comparisons above, basically all the models can beat the null error rate of 0.5. Since the last module, we did not get a result for a balanced dataset. And the final result only showed that we beat a bit on the null error rate. In this module, all results are in balanced samples and we are safe to say most of the models can beat the logistic model for around 0.68 precision values. \n",
        "\n",
        "Overall Model 3 performs best in both KNN and SVM. When we compared our outcomes, SVM performs a bit better than KNN. Since their results are very close, and SVM only outperformed a little bit. We believe SVM with linear kernel wins in this dataset because the data set is relatively small. We may get a better result for KNN model if we would have much larger data sets. "
      ]
    },
    {
      "cell_type": "markdown",
      "metadata": {
        "id": "2Pfw947hmTNU",
        "colab_type": "text"
      },
      "source": [
        "## Conclusions\n",
        "\n",
        "After all the above, we can find that our best model is model 3 with SVM (linear kernel).\n",
        "\n",
        "For predicting the denied candidates, it gave a precision of 0.75 and recall of 0.65. It beats the null-error rate (0.5) of the data set. In addition, this performance is better than module 7 of logistical regression since in last module the result is only a bit higher than the null error rate. "
      ]
    },
    {
      "cell_type": "markdown",
      "metadata": {
        "id": "QBkYmqU2cl7V",
        "colab_type": "text"
      },
      "source": [
        "## References：\n",
        "\n",
        "1. https://stackabuse.com/implementing-svm-and-kernel-svm-with-pythons-scikit-learn/\n",
        "2. https://towardsdatascience.com/understanding-support-vector-machine-part-2-kernel-trick-mercers-theorem-e1e6848c6c4d\n",
        "3.https://towardsdatascience.com/understanding-support-vector-machine-part-1-lagrange-multipliers-5c24a52ffc5e\n",
        "\n",
        "3. debt ratio https://www.investopedia.com/ask/answers/021215/what-good-debt-ratio-and-what-bad-debt-ratio.asp"
      ]
    }
  ]
}