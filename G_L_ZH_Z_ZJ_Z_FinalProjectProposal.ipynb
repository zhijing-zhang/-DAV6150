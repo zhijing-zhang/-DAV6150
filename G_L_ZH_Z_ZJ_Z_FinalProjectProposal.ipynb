{
  "nbformat": 4,
  "nbformat_minor": 0,
  "metadata": {
    "colab": {
      "name": "G_L_ZH_Z_ZJ_Z_FinalProjectProposal.ipynb",
      "provenance": [],
      "collapsed_sections": []
    },
    "kernelspec": {
      "name": "python3",
      "display_name": "Python 3"
    }
  },
  "cells": [
    {
      "cell_type": "markdown",
      "metadata": {
        "id": "P7pmJCkz1Z5O",
        "colab_type": "text"
      },
      "source": [
        "# Final Project Proposal\n",
        "### Group Members: Gege Li, Zhihong Zhang, Zhijing Zhang"
      ]
    },
    {
      "cell_type": "markdown",
      "metadata": {
        "id": "NZbeiby2Ppd2",
        "colab_type": "text"
      },
      "source": [
        "### 1. Introduction (8 Points)\n",
        "\n",
        "\n",
        "\n"
      ]
    },
    {
      "cell_type": "markdown",
      "metadata": {
        "id": "QaMOdsmKUX8H",
        "colab_type": "text"
      },
      "source": [
        "Face recognization plays an increasingly important role in our daily life. It covers a variety of usage from social media to traditional industries. Facebook auto tag or cell phone facial unlock and even remotely open a bank account. A recent survey showed that 72% of hotel operators are expected to deploy facial recognition by 2025 to identify and interact with guests. In addition to some survey, By 2024, the global facial recognition market could generate $7 billion in revenue. As we can see, facial recognition will become a common and useful technology."
      ]
    },
    {
      "cell_type": "markdown",
      "metadata": {
        "id": "nMvfjZqcwsUh",
        "colab_type": "text"
      },
      "source": [
        "Our project will be focusing on applying the machine learning models from class to this irregular data type- image. "
      ]
    },
    {
      "cell_type": "markdown",
      "metadata": {
        "id": "Tu4Y7lfPgA7V",
        "colab_type": "text"
      },
      "source": [
        "Simply speaking, a common imagine file is a combination of red, green, and blue colors occupy the whole pixels. It will be feasible to change into data and do some further predictions. Also, the image contains other information that we can use as data to do analysis. In our project, we plan to use a series of images to recognize/predict different people by race or gender. We will change the image information into the data firstly. Then use these data to analyze and construct models. Finally, select a preferred one and get our conclusion."
      ]
    },
    {
      "cell_type": "markdown",
      "metadata": {
        "id": "xRPSauw3P5Jp",
        "colab_type": "text"
      },
      "source": [
        "### 2. Research Questions (8 Points)\n"
      ]
    },
    {
      "cell_type": "markdown",
      "metadata": {
        "id": "U8p1pxVpU1gf",
        "colab_type": "text"
      },
      "source": [
        "For our project, the main question will be how to recognize different people by race or gender. We can compare the model performance as well. Which classifier may give the best performance.（For example, identifying certain objects with low False positive or False negative）\n",
        "\n",
        "During this process, we will also do some research to find the correlation between different variables within an image of an individual.\n",
        "\n",
        "Based on the main question, we will also focus on finding the main factors affecting this recognization efficiency."
      ]
    },
    {
      "cell_type": "markdown",
      "metadata": {
        "id": "tVNTwN941HGo",
        "colab_type": "text"
      },
      "source": [
        "It also has various applied research questions and could be widely used in the 'real world'. For example, when the police officer has someone suspected, and our project can be applied on a given monitoring camera on the street to help to narrow down the possible candidates for police to identify. \n",
        "Also, facial expression can be widely applied to health care. For example. People who suffered from autism may have trouble expressing their feeling. And this application may help to identify that and supply necessary support.\n",
        "\n"
      ]
    },
    {
      "cell_type": "markdown",
      "metadata": {
        "id": "M3IprzcsPow3",
        "colab_type": "text"
      },
      "source": [
        "### 3. Data to be Used (4 Points)\n"
      ]
    },
    {
      "cell_type": "markdown",
      "metadata": {
        "id": "DPT_fSA5XPVA",
        "colab_type": "text"
      },
      "source": [
        "Our data is from this website: https://cswww.essex.ac.uk/mv/allfaces/faces94.html  \n",
        "\n",
        "This current image file contains 3060 images. Based on our reference, it satisfied minimal amount of image on training models. \n",
        "\n",
        "For our training data set, we will change the image information into data. In order to fit the requirement, we may use our domain knowledge to do some feature engineering on the training data set.\n",
        "\n",
        "For our testing data set, we may use web scraping or other techniques to find the picture. Since our method required to use certain image size.  We may use other signal processing techniques to convert into our acceptable files. \n"
      ]
    },
    {
      "cell_type": "markdown",
      "metadata": {
        "id": "qUh8mHX90yqF",
        "colab_type": "text"
      },
      "source": [
        "Another testing data set is face95, which contains 1440 image. We think this dataset is enough for our verification purpose. Since both data sets are collected by the same entity. We may consider adding some extra open right images for testing."
      ]
    },
    {
      "cell_type": "markdown",
      "metadata": {
        "id": "4s7KIFxiPoth",
        "colab_type": "text"
      },
      "source": [
        "### 4. Approach (10 Points)\n",
        "\n"
      ]
    },
    {
      "cell_type": "markdown",
      "metadata": {
        "id": "mkbYnKEEcSFR",
        "colab_type": "text"
      },
      "source": [
        "Our initial data are in jpg. Firstly what we need to do is to load data into Python. Due to the nature of the data, we may perform EDA work after we normalized data and generate the corresponding labels for the data. We will\n",
        "normalize the image data and stored in pandas dataframe or CSV. We use OpenCV's algorithm to convert the picture into grayscale first. And we decided the number of the grids near the face for later recognization. Then we run different classifiers to help identify the features on the grids.\n",
        "\n",
        "\n",
        " After we generate suitable grids, the questions are mainly converted into a classification problem. Based on our research, KNN, SVM, and neural networks are all working well with the image data. Since the neural network is a general term, and one of the neural network we chose can be Convolutional Neural Network(CNN) based on research. \n",
        "\n",
        "Therefore, the initial models we plan to use is the neural network, KNN, and SVM. After we got the classification of image data, we can run EDA for data, we can create histogram to see race distribution by each classifier and compared it with our known true value. We can also compare the number of correct predictions by each model. \n",
        "\n",
        "We will compare their performance one by one instead of combining all three together. "
      ]
    },
    {
      "cell_type": "markdown",
      "metadata": {
        "id": "Ev62BryBXsR1",
        "colab_type": "text"
      },
      "source": [
        "Finally, we may also compete our model with existing model using other techniques. If we have enough time, we can compare our results with other suitable neural network model such as GAN."
      ]
    },
    {
      "cell_type": "markdown",
      "metadata": {
        "id": "kCI7FtnIZmO-",
        "colab_type": "text"
      },
      "source": [
        "__Responsibility__\n",
        "\n",
        "Gege Li: \n",
        "- project manager, make sure team work can fits timeline\n",
        "- find data set\n",
        "- edit markdown\n",
        "- Work on checking team code and writing by term.\n",
        "\n",
        "Zhijing Zhang:\n",
        "- find data set\n",
        "- Create models\n",
        "- edit markdown\n",
        "- Work on checking team code and writing by term\n",
        "\n",
        "Zhihong Zhang:\n",
        "- create EDA analysis\n",
        "- edit markdown\n",
        "- find reference\n",
        "- Work on checking team code and writing  by term"
      ]
    },
    {
      "cell_type": "markdown",
      "metadata": {
        "colab_type": "text",
        "id": "VK5yhLOIUS1C"
      },
      "source": [
        "### Reference\n",
        "1. General Statistics of market https://learn.g2.com/facial-recognition-statistics\n",
        "\n",
        "2. How to open cv https://colab.research.google.com/drive/1RWGmqoEQdeyh5TssoGtsXsFk8hbLGtWp#scrollTo=F1BcmGYM3uAB\n",
        "\n",
        "3. https://towardsdatascience.com/how-do-you-know-you-have-enough-training-data-ad9b1fd679ee\n",
        "\n",
        "4. SVM R support https://rpubs.com/Sharon_1684/454441\n",
        "\n",
        "5. https://cloud.google.com/vision/automl/docs/prepare\n",
        "\n",
        "6. https://machinelearningmastery.com/how-to-configure-image-data-augmentation-when-training-deep-learning-neural-networks/\n",
        "\n",
        "7. For method: KNN intro https://medium.com/@YearsOfNoLight/intro-to-image-classification-with-knn-987bc112f0c2\n",
        "\n",
        "8. https://cswww.essex.ac.uk/mv/021/node2.html#SECTION00020000000000000000"
      ]
    }
  ]
}