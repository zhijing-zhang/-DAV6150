{
  "nbformat": 4,
  "nbformat_minor": 0,
  "metadata": {
    "colab": {
      "name": "G_L_ZH_Z_ZJ_Z_FinalProjectProposal.ipynb",
      "provenance": [],
      "collapsed_sections": []
    },
    "kernelspec": {
      "name": "python3",
      "display_name": "Python 3"
    }
  },
  "cells": [
    {
      "cell_type": "markdown",
      "metadata": {
        "id": "P7pmJCkz1Z5O",
        "colab_type": "text"
      },
      "source": [
        "# Final Project Proposal\n",
        "### Group Members: Gege Li, Zhihong Zhang, Zhijing Zhang"
      ]
    },
    {
      "cell_type": "markdown",
      "metadata": {
        "id": "NZbeiby2Ppd2",
        "colab_type": "text"
      },
      "source": [
        "### 1. Introduction (8 Points)\n",
        "\n",
        "\n",
        "\n"
      ]
    },
    {
      "cell_type": "markdown",
      "metadata": {
        "id": "QaMOdsmKUX8H",
        "colab_type": "text"
      },
      "source": [
        "Face recognization plays an increasingly important role in our daily life. It covers a varites of usage from social media to trditional industies.Facebook auto tag, or cell phone facial unlock and even remotely open a bank account . A recent survey showed that 72% of hotel operators are expected to deploy facial recognition by 2025 to identify and interact with guests. In addition to some survey, By 2024, the global facial recognition market could generate $7 billion in revenue. As we can see, facial recognition will become a common and useful technology."
      ]
    },
    {
      "cell_type": "markdown",
      "metadata": {
        "id": "nMvfjZqcwsUh",
        "colab_type": "text"
      },
      "source": [
        "Our project will be focusing on applying the machine learning model from class to this irregular data type- image. "
      ]
    },
    {
      "cell_type": "markdown",
      "metadata": {
        "id": "Tu4Y7lfPgA7V",
        "colab_type": "text"
      },
      "source": [
        "Simply speaking, an common imagine  file is a combination of red,green, and blue colors occupy the whole pixels. It will be feasible to change into data and do some further predictions. Also, image contains other information that we can use as data to do analysis. In our project, we plan to use a series image to recognize/predict different people by race or gender. We will change the image information into data firstly. Then use these data to analysis and construct models. Finally select a preferred one and get our conclusion."
      ]
    },
    {
      "cell_type": "markdown",
      "metadata": {
        "id": "xRPSauw3P5Jp",
        "colab_type": "text"
      },
      "source": [
        "### 2. Research Questions (8 Points)\n"
      ]
    },
    {
      "cell_type": "markdown",
      "metadata": {
        "id": "U8p1pxVpU1gf",
        "colab_type": "text"
      },
      "source": [
        "For our project, the main question will be how to recognize different people by race or gender. We can compare the model performance as well. Which classifier may gave best performance.（For, identify the objects along with low False positive or False negative）\n",
        "\n",
        "During this process, we will also do some research to find the correlation between different variables within an image of an individual.\n",
        "\n",
        "Based on the main question, we will also focus on finding the main factors affecting this recognization efficiency."
      ]
    },
    {
      "cell_type": "markdown",
      "metadata": {
        "id": "tVNTwN941HGo",
        "colab_type": "text"
      },
      "source": [
        "It also has various applied research questions and could be widely used in the 'real world'. For example, when the police officer has someone suspected, and our project can be applied on a given monitoring camera on the street to help to narrow down the possible candidates for police to identify. \n",
        "Also, facial expression can be widely applied to health care. For example. People who suffered from austism may have trouble expressing their feeling. And this application may help to identify that and supply necessary support.\n",
        "\n"
      ]
    },
    {
      "cell_type": "markdown",
      "metadata": {
        "id": "M3IprzcsPow3",
        "colab_type": "text"
      },
      "source": [
        "### 3. Data to be Used (4 Points)\n"
      ]
    },
    {
      "cell_type": "markdown",
      "metadata": {
        "id": "DPT_fSA5XPVA",
        "colab_type": "text"
      },
      "source": [
        "Our data is from this website: https://cswww.essex.ac.uk/mv/allfaces/faces94.html  \n",
        "\n",
        "This current image file contains 3060 images. Based on our reference, it satisfied minimial amount of image on training models. \n",
        "\n",
        "For our training data set, we will change the image information into data. In order to fit the requirement, we may use our domain knowledge to do some feature engineering on the training data set.\n",
        "\n",
        "For our testing data set, we may use webscraping or toher technique to find the picture. Since our method required to use certain image size.  We may use other signal processing technique to convert into our acceptable files. \n"
      ]
    },
    {
      "cell_type": "markdown",
      "metadata": {
        "id": "qUh8mHX90yqF",
        "colab_type": "text"
      },
      "source": [
        "Another testing data set is face95, which contains 1440 image. We think this dataset is enough for our verification purpose. Since both data sets are collected by the same entity. We may consider to add some extra open right images for testing."
      ]
    },
    {
      "cell_type": "markdown",
      "metadata": {
        "id": "4s7KIFxiPoth",
        "colab_type": "text"
      },
      "source": [
        "### 4. Approach (10 Points)\n",
        "Explain how you plan to manage the data you are collecting: e.g., will you be storing it within some sort of database, etc.? Explain what types of statistical analysis you plan to utilize to help answer your research questions. Explain any graphics you plan to generate to help answer your research questions. Identify the three different types of models you plan to construct and how you will compare their performance. Explain\n",
        "your plan for combining the output of your three individual models into a single ensemble model, etc. The reader should come away with a clear understanding of how you plan to proceed with your work. Keep in mind that since this is a proposal, you need to be able to convince the reader that your proposed project is: a) realistic; and b) feasible within the time allotted for the project. Also, be sure to clearly articulate the roles and responsibilities of each team member for your Project work.\n"
      ]
    },
    {
      "cell_type": "markdown",
      "metadata": {
        "id": "mkbYnKEEcSFR",
        "colab_type": "text"
      },
      "source": [
        "Our initial data are in jpg. After we got data in jpg format. Firstly what we need to do is to load data into python. Due to the nature of the data, we may perform EDA work after we normalize and generate the cooresponding label for the data. We will\n",
        "normalize the image data and stored in pandas dataframe or csv. We use OpenCV's algorithm to covert picture into grayscale first. And we decided the number of the grids near face for later recognization. Then we run different classifier to help identify the features on the grids.\n",
        "\n",
        "The models we plan to use are neural network, KNN and SVM.\n",
        "\n"
      ]
    },
    {
      "cell_type": "markdown",
      "metadata": {
        "id": "y7qUCUI5Oig2",
        "colab_type": "text"
      },
      "source": [
        "One of our neural network we chosen is Convoluntional neural Network(CNN)"
      ]
    },
    {
      "cell_type": "markdown",
      "metadata": {
        "id": "Ev62BryBXsR1",
        "colab_type": "text"
      },
      "source": [
        "Finally, we may also commpete our model with existing model using other technique. If we have enough time, we can compare our model with other neural network model such as GAN."
      ]
    },
    {
      "cell_type": "markdown",
      "metadata": {
        "colab_type": "text",
        "id": "VK5yhLOIUS1C"
      },
      "source": [
        "### Reference\n"
      ]
    },
    {
      "cell_type": "markdown",
      "metadata": {
        "id": "gVfYZnWMi7QD",
        "colab_type": "text"
      },
      "source": [
        "General Statistics of market\n",
        "\n",
        "https://learn.g2.com/facial-recognition-statistics"
      ]
    },
    {
      "cell_type": "markdown",
      "metadata": {
        "id": "YZP-d7MVd1Zf",
        "colab_type": "text"
      },
      "source": [
        "Open cv\n",
        "https://colab.research.google.com/drive/1RWGmqoEQdeyh5TssoGtsXsFk8hbLGtWp#scrollTo=F1BcmGYM3uAB\n",
        "\n",
        "How Do You Know You Have Enough Training Data?\n",
        "https://towardsdatascience.com/how-do-you-know-you-have-enough-training-data-ad9b1fd679ee"
      ]
    },
    {
      "cell_type": "markdown",
      "metadata": {
        "id": "ZWJMMu1x3ONZ",
        "colab_type": "text"
      },
      "source": [
        "SVM R support\n",
        "https://rpubs.com/Sharon_1684/454441\n"
      ]
    },
    {
      "cell_type": "markdown",
      "metadata": {
        "id": "D5th9ZifXogv",
        "colab_type": "text"
      },
      "source": [
        "\n",
        "\n",
        "\n",
        "https://cloud.google.com/vision/automl/docs/prepare\n",
        "\n",
        "https://machinelearningmastery.com/how-to-configure-image-data-augmentation-when-training-deep-learning-neural-networks/\n",
        "\n",
        "\n"
      ]
    },
    {
      "cell_type": "markdown",
      "metadata": {
        "id": "DSKEveAaiyFC",
        "colab_type": "text"
      },
      "source": [
        "For method\n",
        "KNN intro \n",
        "https://medium.com/@YearsOfNoLight/intro-to-image-classification-with-knn-987bc112f0c2"
      ]
    },
    {
      "cell_type": "markdown",
      "metadata": {
        "id": "QVTPnXMk4Gc8",
        "colab_type": "text"
      },
      "source": [
        "https://cswww.essex.ac.uk/mv/021/node2.html#SECTION00020000000000000000"
      ]
    }
  ]
}