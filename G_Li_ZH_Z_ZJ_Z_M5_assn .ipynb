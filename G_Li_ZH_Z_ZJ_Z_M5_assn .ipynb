{
 "cells": [
  {
   "cell_type": "markdown",
   "metadata": {
    "colab_type": "text",
    "id": "5gvyURnjMmWX"
   },
   "source": [
    "# DAV 6150 Module 5 Assignment\n",
    "Group Members: Gege Li, Zhihong Zhang, Zhijing Zhang"
   ]
  },
  {
   "cell_type": "markdown",
   "metadata": {
    "colab_type": "text",
    "id": "wweNlfsXM4iV"
   },
   "source": [
    "## Introduction\n",
    "\n",
    "The module is aiming to develop insights and analysis of a data set which has multiple binary observation. As the fifth module of the class, we need to build different metrics based on dataset and compare it with scikit learn built-in function. The general method we plan to do is to do a exploratory data analysis to see relationship between scored class and scored probability. Then we built functions and make plots. Finally we check our answers with built-in functions. \n",
    "\n",
    "## Data to be Used ##\n",
    "The initial data set that was used for this research comes from the Canvas. The data set is a csv format file which can be easily loaded into Python by utilizing the pandas package.  The data points  180 labeled binary observations , and it is used to generate the observable pattern and visualizations. "
   ]
  },
  {
   "cell_type": "markdown",
   "metadata": {
    "colab_type": "text",
    "id": "cnmeIgAMNki7"
   },
   "source": [
    "### Load and read the data set."
   ]
  },
  {
   "cell_type": "code",
   "execution_count": 1,
   "metadata": {
    "colab": {
     "base_uri": "https://localhost:8080/",
     "height": 258
    },
    "colab_type": "code",
    "id": "v78cey69Ma3R",
    "outputId": "d2eb2e98-9a2e-41d0-e9dc-337266d0220f"
   },
   "outputs": [
    {
     "name": "stderr",
     "output_type": "stream",
     "text": [
      "/usr/local/lib/python3.6/dist-packages/statsmodels/tools/_testing.py:19: FutureWarning: pandas.util.testing is deprecated. Use the functions in the public API at pandas.testing instead.\n",
      "  import pandas.util.testing as tm\n"
     ]
    },
    {
     "data": {
      "text/html": [
       "<div>\n",
       "<style scoped>\n",
       "    .dataframe tbody tr th:only-of-type {\n",
       "        vertical-align: middle;\n",
       "    }\n",
       "\n",
       "    .dataframe tbody tr th {\n",
       "        vertical-align: top;\n",
       "    }\n",
       "\n",
       "    .dataframe thead th {\n",
       "        text-align: right;\n",
       "    }\n",
       "</style>\n",
       "<table border=\"1\" class=\"dataframe\">\n",
       "  <thead>\n",
       "    <tr style=\"text-align: right;\">\n",
       "      <th></th>\n",
       "      <th>pregnant</th>\n",
       "      <th>glucose</th>\n",
       "      <th>diastolic</th>\n",
       "      <th>skinfold</th>\n",
       "      <th>insulin</th>\n",
       "      <th>bmi</th>\n",
       "      <th>pedigree</th>\n",
       "      <th>age</th>\n",
       "      <th>class</th>\n",
       "      <th>scored.class</th>\n",
       "      <th>scored.probability</th>\n",
       "    </tr>\n",
       "  </thead>\n",
       "  <tbody>\n",
       "    <tr>\n",
       "      <th>0</th>\n",
       "      <td>7</td>\n",
       "      <td>124</td>\n",
       "      <td>70</td>\n",
       "      <td>33</td>\n",
       "      <td>215</td>\n",
       "      <td>25.5</td>\n",
       "      <td>0.161</td>\n",
       "      <td>37</td>\n",
       "      <td>0</td>\n",
       "      <td>0</td>\n",
       "      <td>0.328452</td>\n",
       "    </tr>\n",
       "    <tr>\n",
       "      <th>1</th>\n",
       "      <td>2</td>\n",
       "      <td>122</td>\n",
       "      <td>76</td>\n",
       "      <td>27</td>\n",
       "      <td>200</td>\n",
       "      <td>35.9</td>\n",
       "      <td>0.483</td>\n",
       "      <td>26</td>\n",
       "      <td>0</td>\n",
       "      <td>0</td>\n",
       "      <td>0.273190</td>\n",
       "    </tr>\n",
       "    <tr>\n",
       "      <th>2</th>\n",
       "      <td>3</td>\n",
       "      <td>107</td>\n",
       "      <td>62</td>\n",
       "      <td>13</td>\n",
       "      <td>48</td>\n",
       "      <td>22.9</td>\n",
       "      <td>0.678</td>\n",
       "      <td>23</td>\n",
       "      <td>1</td>\n",
       "      <td>0</td>\n",
       "      <td>0.109660</td>\n",
       "    </tr>\n",
       "    <tr>\n",
       "      <th>3</th>\n",
       "      <td>1</td>\n",
       "      <td>91</td>\n",
       "      <td>64</td>\n",
       "      <td>24</td>\n",
       "      <td>0</td>\n",
       "      <td>29.2</td>\n",
       "      <td>0.192</td>\n",
       "      <td>21</td>\n",
       "      <td>0</td>\n",
       "      <td>0</td>\n",
       "      <td>0.055998</td>\n",
       "    </tr>\n",
       "    <tr>\n",
       "      <th>4</th>\n",
       "      <td>4</td>\n",
       "      <td>83</td>\n",
       "      <td>86</td>\n",
       "      <td>19</td>\n",
       "      <td>0</td>\n",
       "      <td>29.3</td>\n",
       "      <td>0.317</td>\n",
       "      <td>34</td>\n",
       "      <td>0</td>\n",
       "      <td>0</td>\n",
       "      <td>0.100491</td>\n",
       "    </tr>\n",
       "  </tbody>\n",
       "</table>\n",
       "</div>"
      ],
      "text/plain": [
       "   pregnant  glucose  diastolic  ...  class  scored.class  scored.probability\n",
       "0         7      124         70  ...      0             0            0.328452\n",
       "1         2      122         76  ...      0             0            0.273190\n",
       "2         3      107         62  ...      1             0            0.109660\n",
       "3         1       91         64  ...      0             0            0.055998\n",
       "4         4       83         86  ...      0             0            0.100491\n",
       "\n",
       "[5 rows x 11 columns]"
      ]
     },
     "execution_count": 1,
     "metadata": {
      "tags": []
     },
     "output_type": "execute_result"
    }
   ],
   "source": [
    "#import library\n",
    "import numpy as np\n",
    "import pandas as pd\n",
    "import seaborn as sns\n",
    "import matplotlib.pyplot as plt\n",
    "\n",
    "#reads data from the original source, since first row is column name,also add header. \n",
    "health = pd.read_csv(\"https://raw.githubusercontent.com/steinszzh/DAV6150/master/m5hw/M5_Data.csv\")\n",
    "#health = pd.read_csv(\"https://raw.githubusercontent.com/gegeli638/DAV-6150/master/M5_Data.csv\")\n",
    "\n",
    "# data set check - make sure data was read in as expected\n",
    "health.head() "
   ]
  },
  {
   "cell_type": "markdown",
   "metadata": {
    "colab_type": "text",
    "id": "bO-g9CVhNjIe"
   },
   "source": [
    "### Data preparation:\n",
    "The first thing to do is to check the null value and if there exist null value, replace or drop missing data. "
   ]
  },
  {
   "cell_type": "code",
   "execution_count": null,
   "metadata": {
    "colab": {
     "base_uri": "https://localhost:8080/",
     "height": 34
    },
    "colab_type": "code",
    "id": "To5JDyA9NazP",
    "outputId": "5833bb46-7b8e-4f50-cd6a-8f1288eea238"
   },
   "outputs": [
    {
     "data": {
      "text/plain": [
       "181"
      ]
     },
     "execution_count": 59,
     "metadata": {
      "tags": []
     },
     "output_type": "execute_result"
    }
   ],
   "source": [
    "# how many observations are contained within the example data set?\n",
    "len(health)"
   ]
  },
  {
   "cell_type": "code",
   "execution_count": null,
   "metadata": {
    "colab": {
     "base_uri": "https://localhost:8080/",
     "height": 221
    },
    "colab_type": "code",
    "id": "PiQ0ehEdN7id",
    "outputId": "c2995a4c-fbdb-4c34-d135-351e90bdd893"
   },
   "outputs": [
    {
     "data": {
      "text/plain": [
       "pregnant              0\n",
       "glucose               0\n",
       "diastolic             0\n",
       "skinfold              0\n",
       "insulin               0\n",
       "bmi                   0\n",
       "pedigree              0\n",
       "age                   0\n",
       "class                 0\n",
       "scored.class          0\n",
       "scored.probability    0\n",
       "dtype: int64"
      ]
     },
     "execution_count": 60,
     "metadata": {
      "tags": []
     },
     "output_type": "execute_result"
    }
   ],
   "source": [
    "#check null value\n",
    "health.isnull().sum()"
   ]
  },
  {
   "cell_type": "markdown",
   "metadata": {
    "colab_type": "text",
    "id": "PW1m7UdqOAZ2"
   },
   "source": [
    "Based on these results, there is no null values, and null value check passed.\n",
    "\n",
    "We will focus on these three attributes:\n",
    "-  class: the actual classification for the observation\n",
    " \n",
    "-  scored.class: the predicted classification for the observation (can only be ‘0’or ‘1’; identified by comparing the classification model’s probability score (i.e., the likelihood that the correct classification for an observation is a ‘1’) for the observation against a 0.50 threshold))\n",
    "  \n",
    "-  scored.probability: the classification models probability score (i.s., the likelihood that the correct classification for an observation is a ‘1’)for the observation"
   ]
  },
  {
   "cell_type": "code",
   "execution_count": 2,
   "metadata": {
    "colab": {
     "base_uri": "https://localhost:8080/",
     "height": 204
    },
    "colab_type": "code",
    "id": "erD15FtyOPfm",
    "outputId": "ca1f2e7b-d183-4fb0-9ea3-c76a1489fdd2"
   },
   "outputs": [
    {
     "data": {
      "text/html": [
       "<div>\n",
       "<style scoped>\n",
       "    .dataframe tbody tr th:only-of-type {\n",
       "        vertical-align: middle;\n",
       "    }\n",
       "\n",
       "    .dataframe tbody tr th {\n",
       "        vertical-align: top;\n",
       "    }\n",
       "\n",
       "    .dataframe thead th {\n",
       "        text-align: right;\n",
       "    }\n",
       "</style>\n",
       "<table border=\"1\" class=\"dataframe\">\n",
       "  <thead>\n",
       "    <tr style=\"text-align: right;\">\n",
       "      <th></th>\n",
       "      <th>class</th>\n",
       "      <th>scored.class</th>\n",
       "      <th>scored.probability</th>\n",
       "    </tr>\n",
       "  </thead>\n",
       "  <tbody>\n",
       "    <tr>\n",
       "      <th>0</th>\n",
       "      <td>0</td>\n",
       "      <td>0</td>\n",
       "      <td>0.328452</td>\n",
       "    </tr>\n",
       "    <tr>\n",
       "      <th>1</th>\n",
       "      <td>0</td>\n",
       "      <td>0</td>\n",
       "      <td>0.273190</td>\n",
       "    </tr>\n",
       "    <tr>\n",
       "      <th>2</th>\n",
       "      <td>1</td>\n",
       "      <td>0</td>\n",
       "      <td>0.109660</td>\n",
       "    </tr>\n",
       "    <tr>\n",
       "      <th>3</th>\n",
       "      <td>0</td>\n",
       "      <td>0</td>\n",
       "      <td>0.055998</td>\n",
       "    </tr>\n",
       "    <tr>\n",
       "      <th>4</th>\n",
       "      <td>0</td>\n",
       "      <td>0</td>\n",
       "      <td>0.100491</td>\n",
       "    </tr>\n",
       "  </tbody>\n",
       "</table>\n",
       "</div>"
      ],
      "text/plain": [
       "   class  scored.class  scored.probability\n",
       "0      0             0            0.328452\n",
       "1      0             0            0.273190\n",
       "2      1             0            0.109660\n",
       "3      0             0            0.055998\n",
       "4      0             0            0.100491"
      ]
     },
     "execution_count": 2,
     "metadata": {
      "tags": []
     },
     "output_type": "execute_result"
    }
   ],
   "source": [
    "# reorganize the dataframe\n",
    "df = health.iloc[:,[8,9,10]].copy() \n",
    "df.head()"
   ]
  },
  {
   "cell_type": "markdown",
   "metadata": {
    "colab_type": "text",
    "id": "-QPBEkDYOcJ3"
   },
   "source": [
    "### Calculate the contents of a confusion matrix for the data. \n",
    "By using  __crosstab()__ function and check the __value_counts()__.\n"
   ]
  },
  {
   "cell_type": "code",
   "execution_count": null,
   "metadata": {
    "colab": {
     "base_uri": "https://localhost:8080/",
     "height": 142
    },
    "colab_type": "code",
    "id": "Vpa8qiHdO9JS",
    "outputId": "319b4b8c-ea72-4bfa-80a7-25ba2b699390"
   },
   "outputs": [
    {
     "data": {
      "text/html": [
       "<div>\n",
       "<style scoped>\n",
       "    .dataframe tbody tr th:only-of-type {\n",
       "        vertical-align: middle;\n",
       "    }\n",
       "\n",
       "    .dataframe tbody tr th {\n",
       "        vertical-align: top;\n",
       "    }\n",
       "\n",
       "    .dataframe thead th {\n",
       "        text-align: right;\n",
       "    }\n",
       "</style>\n",
       "<table border=\"1\" class=\"dataframe\">\n",
       "  <thead>\n",
       "    <tr style=\"text-align: right;\">\n",
       "      <th>Predicted</th>\n",
       "      <th>0</th>\n",
       "      <th>1</th>\n",
       "    </tr>\n",
       "    <tr>\n",
       "      <th>Actual</th>\n",
       "      <th></th>\n",
       "      <th></th>\n",
       "    </tr>\n",
       "  </thead>\n",
       "  <tbody>\n",
       "    <tr>\n",
       "      <th>0</th>\n",
       "      <td>119</td>\n",
       "      <td>5</td>\n",
       "    </tr>\n",
       "    <tr>\n",
       "      <th>1</th>\n",
       "      <td>30</td>\n",
       "      <td>27</td>\n",
       "    </tr>\n",
       "  </tbody>\n",
       "</table>\n",
       "</div>"
      ],
      "text/plain": [
       "Predicted    0   1\n",
       "Actual            \n",
       "0          119   5\n",
       "1           30  27"
      ]
     },
     "execution_count": 62,
     "metadata": {
      "tags": []
     },
     "output_type": "execute_result"
    }
   ],
   "source": [
    "#get confusion matrix\n",
    "confusion_matrix1 = pd.crosstab(df['class'], df['scored.class'], rownames=['Actual'],colnames=['Predicted'])\n",
    "confusion_matrix1"
   ]
  },
  {
   "cell_type": "code",
   "execution_count": null,
   "metadata": {
    "colab": {
     "base_uri": "https://localhost:8080/",
     "height": 34
    },
    "colab_type": "code",
    "id": "NVYwJpmiPZKT",
    "outputId": "bb6c4f7c-bfb8-4d4a-d531-91ba8a0ad2b6"
   },
   "outputs": [
    {
     "data": {
      "text/plain": [
       "4"
      ]
     },
     "execution_count": 63,
     "metadata": {
      "tags": []
     },
     "output_type": "execute_result"
    }
   ],
   "source": [
    "confusion_matrix1.size"
   ]
  },
  {
   "cell_type": "code",
   "execution_count": null,
   "metadata": {
    "colab": {
     "base_uri": "https://localhost:8080/",
     "height": 142
    },
    "colab_type": "code",
    "id": "OUtUigPxPUbH",
    "outputId": "02febbb8-4d6a-4a5e-ed16-a98054b64a5e"
   },
   "outputs": [
    {
     "data": {
      "text/html": [
       "<div>\n",
       "<style scoped>\n",
       "    .dataframe tbody tr th:only-of-type {\n",
       "        vertical-align: middle;\n",
       "    }\n",
       "\n",
       "    .dataframe tbody tr th {\n",
       "        vertical-align: top;\n",
       "    }\n",
       "\n",
       "    .dataframe thead th {\n",
       "        text-align: right;\n",
       "    }\n",
       "</style>\n",
       "<table border=\"1\" class=\"dataframe\">\n",
       "  <thead>\n",
       "    <tr style=\"text-align: right;\">\n",
       "      <th>Predicted</th>\n",
       "      <th>0</th>\n",
       "      <th>1</th>\n",
       "    </tr>\n",
       "    <tr>\n",
       "      <th>Actual</th>\n",
       "      <th></th>\n",
       "      <th></th>\n",
       "    </tr>\n",
       "  </thead>\n",
       "  <tbody>\n",
       "    <tr>\n",
       "      <th>0</th>\n",
       "      <td>0.798658</td>\n",
       "      <td>0.15625</td>\n",
       "    </tr>\n",
       "    <tr>\n",
       "      <th>1</th>\n",
       "      <td>0.201342</td>\n",
       "      <td>0.84375</td>\n",
       "    </tr>\n",
       "  </tbody>\n",
       "</table>\n",
       "</div>"
      ],
      "text/plain": [
       "Predicted         0        1\n",
       "Actual                      \n",
       "0          0.798658  0.15625\n",
       "1          0.201342  0.84375"
      ]
     },
     "execution_count": 64,
     "metadata": {
      "tags": []
     },
     "output_type": "execute_result"
    }
   ],
   "source": [
    "#get normallized confusion matrix\n",
    "confusion_matrix2 = pd.crosstab(df['class'], df['scored.class'], rownames=['Actual'],colnames=['Predicted'],normalize=1)\n",
    "confusion_matrix2"
   ]
  },
  {
   "cell_type": "markdown",
   "metadata": {
    "colab_type": "text",
    "id": "tQeSoTZnPpU8"
   },
   "source": [
    "Now we have the confusion matrix. Then we need to examine the output."
   ]
  },
  {
   "cell_type": "code",
   "execution_count": null,
   "metadata": {
    "colab": {
     "base_uri": "https://localhost:8080/",
     "height": 68
    },
    "colab_type": "code",
    "id": "FfY6_oBaPWpR",
    "outputId": "ebd20a88-9fc8-4a89-f332-5a6f55451fe2"
   },
   "outputs": [
    {
     "data": {
      "text/plain": [
       "0    124\n",
       "1     57\n",
       "Name: class, dtype: int64"
      ]
     },
     "execution_count": 65,
     "metadata": {
      "tags": []
     },
     "output_type": "execute_result"
    }
   ],
   "source": [
    "#counts of actual value \n",
    "df['class'].value_counts()"
   ]
  },
  {
   "cell_type": "code",
   "execution_count": null,
   "metadata": {
    "colab": {
     "base_uri": "https://localhost:8080/",
     "height": 68
    },
    "colab_type": "code",
    "id": "YEkRTbwXP1XI",
    "outputId": "86f9dbf0-d162-4ff2-e5b4-354110196dd8"
   },
   "outputs": [
    {
     "data": {
      "text/plain": [
       "0    149\n",
       "1     32\n",
       "Name: scored.class, dtype: int64"
      ]
     },
     "execution_count": 66,
     "metadata": {
      "tags": []
     },
     "output_type": "execute_result"
    }
   ],
   "source": [
    "#counts of predict value \n",
    "df['scored.class'].value_counts(sort=True)"
   ]
  },
  {
   "cell_type": "code",
   "execution_count": null,
   "metadata": {
    "colab": {
     "base_uri": "https://localhost:8080/",
     "height": 204
    },
    "colab_type": "code",
    "id": "cNUp2hDvP5Rd",
    "outputId": "fbdaa71d-5c42-4746-c748-a405e70c4d2d"
   },
   "outputs": [
    {
     "data": {
      "text/plain": [
       "(0.0213, 0.116]    44\n",
       "(0.116, 0.208]     39\n",
       "(0.208, 0.3]       24\n",
       "(0.3, 0.392]       21\n",
       "(0.392, 0.485]     17\n",
       "(0.485, 0.577]      9\n",
       "(0.669, 0.762]      8\n",
       "(0.577, 0.669]      8\n",
       "(0.854, 0.946]      6\n",
       "(0.762, 0.854]      5\n",
       "Name: scored.probability, dtype: int64"
      ]
     },
     "execution_count": 67,
     "metadata": {
      "tags": []
     },
     "output_type": "execute_result"
    }
   ],
   "source": [
    "df['scored.probability'].value_counts(sort=True, bins=10)"
   ]
  },
  {
   "cell_type": "markdown",
   "metadata": {
    "colab_type": "text",
    "id": "DyGnpD5_QIeW"
   },
   "source": [
    "The total actual of 0 is 124, the total actual of 1 is 57. The total predicted of 0 is 149, the total predicted of 1 is 32.\n",
    "\n",
    "After observing the __value_counts()__, the __crosstab()__ outputs sum to the respective __value_counts()__ figures.\n",
    "\n",
    "\n",
    "\n",
    "### Extract the individual confusion matrix values (i.e., TP, FP, TN, FN)"
   ]
  },
  {
   "cell_type": "code",
   "execution_count": 3,
   "metadata": {
    "colab": {},
    "colab_type": "code",
    "id": "i2yOxUJmRR8-"
   },
   "outputs": [],
   "source": [
    "#the actual and predicted values \n",
    "actual_a = df['class']\n",
    "predicted_a=  df['scored.class']"
   ]
  },
  {
   "cell_type": "code",
   "execution_count": 4,
   "metadata": {
    "colab": {},
    "colab_type": "code",
    "id": "47RTGd8CQ-H0"
   },
   "outputs": [],
   "source": [
    "#true positive\n",
    "TP = np.sum(np.logical_and(predicted_a == 1, actual_a == 1))\n",
    "\n",
    "#true negative\n",
    "TN = np.sum(np.logical_and(predicted_a == 0, actual_a == 0))\n",
    "\n",
    "#false positive\n",
    "FP = np.sum(np.logical_and(predicted_a  == 1, actual_a == 0))\n",
    " \n",
    "#false negative\n",
    "FN = np.sum(np.logical_and(predicted_a  == 0, actual_a == 1))"
   ]
  },
  {
   "cell_type": "code",
   "execution_count": null,
   "metadata": {
    "colab": {
     "base_uri": "https://localhost:8080/",
     "height": 34
    },
    "colab_type": "code",
    "id": "cfqpRIY6RcDC",
    "outputId": "49f831b3-eff4-472d-818f-64d56ce72361"
   },
   "outputs": [
    {
     "name": "stdout",
     "output_type": "stream",
     "text": [
      "27 119 5 30\n"
     ]
    }
   ],
   "source": [
    "#check\n",
    "print(TP, TN, FP, FN)"
   ]
  },
  {
   "cell_type": "markdown",
   "metadata": {
    "colab_type": "text",
    "id": "9MEQe1HARlki"
   },
   "source": [
    "### Write Python functions that will return:\n",
    "- the accuracy metric, \n",
    "- the precision metric, \n",
    "- the sensitivity metric, \n",
    "- the specificity metric, \n",
    "- the F1 Score metric.\n",
    "\n",
    "Then apply them to the provided data set.\n",
    "\n",
    "__Accuracy metric__"
   ]
  },
  {
   "cell_type": "code",
   "execution_count": null,
   "metadata": {
    "colab": {
     "base_uri": "https://localhost:8080/",
     "height": 34
    },
    "colab_type": "code",
    "id": "sNNNb5NzRcGh",
    "outputId": "cf9c9d6d-85d4-4555-a535-d827251e70b6"
   },
   "outputs": [
    {
     "name": "stdout",
     "output_type": "stream",
     "text": [
      "accuracy: 0.8066298342541437\n"
     ]
    }
   ],
   "source": [
    "# Accuracy\n",
    "# (TP + TN) / (TP + TN + FP + FN) \n",
    "\n",
    "\n",
    "def cal_accuracy(actual_type, predict_type):\n",
    "  TP =  np.sum(np.logical_and(predict_type == 1, actual_type == 1))\n",
    "  TN = np.sum(np.logical_and(predict_type == 0, actual_type == 0))\n",
    "  FP = np.sum(np.logical_and(predict_type  == 1, actual_type == 0))\n",
    "  FN = np.sum(np.logical_and(predict_type  == 0,actual_type== 1))\n",
    "  return (TP + TN) / (TP + TN + FP + FN)\n",
    "\n",
    "#print the result of provided data set\n",
    "print(\"accuracy:\", cal_accuracy(actual_a, predicted_a))"
   ]
  },
  {
   "cell_type": "markdown",
   "metadata": {
    "colab_type": "text",
    "id": "4T0ZIc6yR36L"
   },
   "source": [
    "__Precision metric__"
   ]
  },
  {
   "cell_type": "code",
   "execution_count": null,
   "metadata": {
    "colab": {
     "base_uri": "https://localhost:8080/",
     "height": 34
    },
    "colab_type": "code",
    "id": "bi-oyiyNSKU0",
    "outputId": "f7841fef-fe03-4a32-a7ed-90ec98115a82"
   },
   "outputs": [
    {
     "name": "stdout",
     "output_type": "stream",
     "text": [
      "precision: 0.84375\n"
     ]
    }
   ],
   "source": [
    "# Precision\n",
    "#TP / (TP + FP)\n",
    "\n",
    "\n",
    "# Precision = TP / TP + FP\n",
    "def cal_precision(actual_type, predict_type):\n",
    "  TP =  np.sum(np.logical_and(predict_type == 1, actual_type == 1))\n",
    "  FP = np.sum(np.logical_and(predict_type  == 1, actual_type == 0))\n",
    "  return TP / (TP + FP)\n",
    "\n",
    "#print the result of provided data set\n",
    "print(\"precision:\", cal_precision(actual_a, predicted_a))"
   ]
  },
  {
   "cell_type": "markdown",
   "metadata": {
    "colab_type": "text",
    "id": "42g4YH_tSGOt"
   },
   "source": [
    "__Sensitivity  metric__ "
   ]
  },
  {
   "cell_type": "code",
   "execution_count": null,
   "metadata": {
    "colab": {
     "base_uri": "https://localhost:8080/",
     "height": 34
    },
    "colab_type": "code",
    "id": "66EcizeaSUwt",
    "outputId": "bbfe0af4-32a1-43d5-8e48-6decb4d0a313"
   },
   "outputs": [
    {
     "name": "stdout",
     "output_type": "stream",
     "text": [
      "sensitivity: 0.47368421052631576\n"
     ]
    }
   ],
   "source": [
    "# Sensitivity\n",
    "# TP / TP + FN\n",
    "\n",
    "\n",
    "def cal_sensitivity(actual_type, predict_type):\n",
    "  TP =  np.sum(np.logical_and(predict_type == 1, actual_type == 1))\n",
    "  FN = np.sum(np.logical_and(predict_type  == 0,actual_type== 1))\n",
    "  return TP / (TP + FN)\n",
    "\n",
    "#print the result of provided data set\n",
    "print(\"sensitivity:\", cal_sensitivity(actual_a, predicted_a))"
   ]
  },
  {
   "cell_type": "markdown",
   "metadata": {
    "colab_type": "text",
    "id": "-ACZkri5R6Fr"
   },
   "source": [
    "__Specificity  metric__ "
   ]
  },
  {
   "cell_type": "code",
   "execution_count": null,
   "metadata": {
    "colab": {
     "base_uri": "https://localhost:8080/",
     "height": 34
    },
    "colab_type": "code",
    "id": "gXTRGgnVSYYM",
    "outputId": "fa7b29f4-82c2-4ad7-c9b3-8f0c708d7c9d"
   },
   "outputs": [
    {
     "name": "stdout",
     "output_type": "stream",
     "text": [
      "specificity: 0.9596774193548387\n"
     ]
    }
   ],
   "source": [
    "# Specificity\n",
    "# TN / FP + TN\n",
    "\n",
    "def cal_specificity(actual_type, predict_type):\n",
    "  TN = np.sum(np.logical_and(predict_type == 0, actual_type == 0))\n",
    "  FP = np.sum(np.logical_and(predict_type  == 1, actual_type == 0))\n",
    "  return TN / (FP + TN)\n",
    "\n",
    "#print the result of provided data set\n",
    "print(\"specificity:\", cal_specificity(actual_a, predicted_a))"
   ]
  },
  {
   "cell_type": "markdown",
   "metadata": {
    "colab_type": "text",
    "id": "lZXq3lS3R6OK"
   },
   "source": [
    "__F1 Score metric__"
   ]
  },
  {
   "cell_type": "code",
   "execution_count": null,
   "metadata": {
    "colab": {
     "base_uri": "https://localhost:8080/",
     "height": 34
    },
    "colab_type": "code",
    "id": "fD3rSibOSa7W",
    "outputId": "b7ee9b3c-0bb3-4806-8d78-d08be1ca87b0"
   },
   "outputs": [
    {
     "name": "stdout",
     "output_type": "stream",
     "text": [
      "F1 Score: 0.6067415730337079\n"
     ]
    }
   ],
   "source": [
    "## F1 Score\n",
    "# F1 Score = 2 * Precision * Recall / (Precision + Recall)\n",
    "\n",
    "\n",
    "# Harmonic mean of (a, b) is 2 * (a * b) / (a + b)\n",
    "def cal_f1(actual_type, predict_type):\n",
    "  return 2 * (cal_precision(actual_type, predict_type) * cal_sensitivity(actual_type, predict_type)) / (cal_precision(actual_type, predict_type) + cal_sensitivity(actual_type, predict_type))\n",
    "\n",
    "#print the result of provided data set\n",
    "print(\"F1 Score:\", cal_f1(actual_a, predicted_a))"
   ]
  },
  {
   "cell_type": "markdown",
   "metadata": {
    "colab_type": "text",
    "id": "ChRYOED7WYOi"
   },
   "source": [
    "In summary, the data we got from own functions of the metrics can be shown as follows:\n",
    "- sensitivity: 0.47368421052631576\n",
    "- accuracy: 0.8066298342541437\n",
    "- precision: 0.84375\n",
    "- specificity : 0.9596774193548387\n",
    "- F1 value is 0.6067\n",
    "\n",
    "### Result Evaluation \n",
    "\n",
    "Now, we use built-in function to compare the result.\n",
    "\n",
    "\n",
    "classification_report can quickly gives a general overview of these metrics"
   ]
  },
  {
   "cell_type": "code",
   "execution_count": null,
   "metadata": {
    "colab": {
     "base_uri": "https://localhost:8080/",
     "height": 170
    },
    "colab_type": "code",
    "id": "YjFpAM4xazVm",
    "outputId": "8bfb1917-7ecb-4389-af9c-ad418cfeb4d3"
   },
   "outputs": [
    {
     "name": "stdout",
     "output_type": "stream",
     "text": [
      "              precision    recall  f1-score   support\n",
      "\n",
      "     class 0       0.80      0.96      0.87       124\n",
      "     class 1       0.84      0.47      0.61        57\n",
      "\n",
      "    accuracy                           0.81       181\n",
      "   macro avg       0.82      0.72      0.74       181\n",
      "weighted avg       0.81      0.81      0.79       181\n",
      "\n"
     ]
    }
   ],
   "source": [
    "from sklearn.metrics import classification_report\n",
    "\n",
    "target_names = ['class 0', 'class 1']\n",
    "print(classification_report(actual_a,predicted_a,target_names= target_names))\n",
    "#,labels=labels,digits=3"
   ]
  },
  {
   "cell_type": "markdown",
   "metadata": {
    "colab_type": "text",
    "id": "_gPVA7s7ZigG"
   },
   "source": [
    "For each individual metric, we can also run correlated score functions to get the results."
   ]
  },
  {
   "cell_type": "code",
   "execution_count": null,
   "metadata": {
    "colab": {
     "base_uri": "https://localhost:8080/",
     "height": 85
    },
    "colab_type": "code",
    "id": "qCDwnPPRihou",
    "outputId": "99c8856c-ab94-4e2f-f5bc-45508ef94c67"
   },
   "outputs": [
    {
     "name": "stdout",
     "output_type": "stream",
     "text": [
      "sklearn accuracy: 0.8066298342541437\n",
      "sklearn precision: 0.84375\n",
      "sklearn F1 Score: 0.6067415730337079\n",
      "sklearn Sensitivity: 0.47368421052631576\n"
     ]
    }
   ],
   "source": [
    "# set up built in function\n",
    "from sklearn.metrics import accuracy_score\n",
    "from sklearn.metrics import precision_score\n",
    "from sklearn.metrics import recall_score\n",
    "from sklearn.metrics import f1_score\n",
    " \n",
    "#print result \n",
    "print(\"sklearn accuracy:\", accuracy_score(actual_a, predicted_a))\n",
    "print(\"sklearn precision:\", precision_score(actual_a, predicted_a))\n",
    "print(\"sklearn F1 Score:\", f1_score(actual_a, predicted_a))\n",
    "print(\"sklearn Sensitivity:\", recall_score(actual_a, predicted_a))"
   ]
  },
  {
   "cell_type": "code",
   "execution_count": null,
   "metadata": {
    "colab": {
     "base_uri": "https://localhost:8080/",
     "height": 34
    },
    "colab_type": "code",
    "id": "zA6g0jpHikAh",
    "outputId": "710c5051-0c87-4f0f-d3d9-3556a1e960fa"
   },
   "outputs": [
    {
     "name": "stdout",
     "output_type": "stream",
     "text": [
      "specificity: 0.9596774193548387\n"
     ]
    }
   ],
   "source": [
    "#if only used built in function for specificity calculation\n",
    "from sklearn.metrics import confusion_matrix\n",
    "from sklearn.metrics import precision_score\n",
    "actual=df['class']\n",
    "predict=df['scored.class']\n",
    "#use \n",
    "tn, fp, fn, tp = confusion_matrix(actual, predict).ravel()\n",
    "\n",
    "specificity = tn / (tn+fp)\n",
    "print(\"specificity:\", specificity)"
   ]
  },
  {
   "cell_type": "markdown",
   "metadata": {
    "colab_type": "text",
    "id": "tXIa7gGhjgHr"
   },
   "source": [
    "From this results we can find that the output of the build-in functions are very similar to our functions. (It is almost identical)"
   ]
  },
  {
   "cell_type": "markdown",
   "metadata": {
    "colab_type": "text",
    "id": "15WLGbAXSpun"
   },
   "source": [
    " ### Write a Python function -- plot a ROC curve and calculate AUC"
   ]
  },
  {
   "cell_type": "code",
   "execution_count": 6,
   "metadata": {
    "colab": {},
    "colab_type": "code",
    "id": "bkjc_1raj7H6"
   },
   "outputs": [],
   "source": [
    "# TPR = TP/ (TP + FN)\n",
    "# FPR = FP / (FP+TN)\n",
    "# thresholds = max(y_score) + 1\n",
    "\n",
    "def cal_ROC(actual_type, predict_type):\n",
    "\n",
    "  TPR = []\n",
    "  FPR = []\n",
    "  P= sum(actual_a)\n",
    "  N= 181- P\n",
    "  for i in interval:\n",
    "    TPR= TP/ P\n",
    "    FPR= FP / N\n",
    "\n",
    "  return"
   ]
  },
  {
   "cell_type": "markdown",
   "metadata": {
    "colab_type": "text",
    "id": "UPemPtgcbcsT"
   },
   "source": [
    "Our team had some trouble on building the functions, and here are ideas of construct this function."
   ]
  },
  {
   "cell_type": "markdown",
   "metadata": {
    "colab_type": "text",
    "id": "aBOxZaI5qXwY"
   },
   "source": [
    "Pseudo code or process for ROC computing\n",
    "\n",
    "1. set up empty lists for true positive rate and false positive rate. \n",
    "2. Based on exported value from confusion matrix to get number of positive or negative values in the actual observation. \n",
    "\n",
    "3. iterate multiple times to append value to these two empty lists of true positive rate and false positive rate. false positive rate is computed by FP / (FP+TN) in this case. it is FP/N\n",
    "similarly, True positive rate is TP/P.\n",
    "\n",
    "4. technically ROC plot is plotting FPR vs TPR. Then use plot function such as matplot or sns to do this part."
   ]
  },
  {
   "cell_type": "markdown",
   "metadata": {
    "colab_type": "text",
    "id": "Fh0hNzJ1tuwD"
   },
   "source": [
    "AUC computing is easy, simply apply trapezoidal rule on fpr and tpr. \n"
   ]
  },
  {
   "cell_type": "code",
   "execution_count": null,
   "metadata": {
    "colab": {},
    "colab_type": "code",
    "id": "dgoPxuU3tx1r"
   },
   "outputs": [],
   "source": [
    "# using  numpy's trapezoidal  rule to get the area\n",
    "auc = np.trapz(TPR,FPR)"
   ]
  },
  {
   "cell_type": "markdown",
   "metadata": {
    "colab_type": "text",
    "id": "yXFDHw6-uIPa"
   },
   "source": [
    "Ideally we can use this strategy to get our plot and area, and unfortunately we have trouble on building the code especially on iterating part. "
   ]
  },
  {
   "cell_type": "markdown",
   "metadata": {
    "colab_type": "text",
    "id": "C0-9bIVLkPWB"
   },
   "source": [
    "### Result Evaluation \n",
    "**compare the output**"
   ]
  },
  {
   "cell_type": "code",
   "execution_count": null,
   "metadata": {
    "colab": {
     "base_uri": "https://localhost:8080/",
     "height": 34
    },
    "colab_type": "code",
    "id": "iG7hZsXMSwyI",
    "outputId": "27f4ce7d-cec6-455e-bb9b-4dadfa6ebde0"
   },
   "outputs": [
    {
     "data": {
      "text/plain": [
       "0.7166808149405772"
      ]
     },
     "execution_count": 80,
     "metadata": {
      "tags": []
     },
     "output_type": "execute_result"
    }
   ],
   "source": [
    "#plot ROC curve using builtin function\n",
    "\n",
    "# y is actual, then predict value\n",
    "fpr, tpr, thresholds = metrics.roc_curve(actual_a,predicted_a )\n",
    "#get area value\n",
    "metrics.auc(fpr, tpr)"
   ]
  },
  {
   "cell_type": "code",
   "execution_count": null,
   "metadata": {
    "colab": {
     "base_uri": "https://localhost:8080/",
     "height": 295
    },
    "colab_type": "code",
    "id": "PJbNqk-aWrwi",
    "outputId": "a2f9b55e-79b9-4655-cb16-e8992f54185e"
   },
   "outputs": [
    {
     "data": {
      "image/png": "[encoded data removed]",
      "text/plain": [
       "<Figure size 432x288 with 1 Axes>"
      ]
     },
     "metadata": {
      "needs_background": "light",
      "tags": []
     },
     "output_type": "display_data"
    }
   ],
   "source": [
    "#alternative\n",
    "\n",
    "import matplotlib.pyplot as plt\n",
    "from sklearn.metrics import roc_curve, auc\n",
    "#define line\n",
    "lw=2\n",
    "fpr = dict()\n",
    "tpr = dict()\n",
    "roc_auc = dict()\n",
    "for i in range(2):\n",
    "    fpr[i], tpr[i], _ = roc_curve(actual_a,predicted_a)\n",
    "    roc_auc[i] = auc(fpr[i], tpr[i])\n",
    "\n",
    "\n",
    "plt.figure()\n",
    "plt.plot(fpr[1], tpr[1], color='darkorange')\n",
    "plt.xlim([0.0, 1.0])\n",
    "plt.ylim([0.0, 1.05])\n",
    "plt.plot([0, 1], [0, 1], color='navy', lw=lw, linestyle='--')\n",
    "plt.xlabel('False Positive Rate')\n",
    "plt.ylabel('True Positive Rate')\n",
    "plt.title('Receiver operating characteristic plot')\n",
    "plt.show()"
   ]
  },
  {
   "cell_type": "markdown",
   "metadata": {
    "colab_type": "text",
    "id": "BdMtWHq5Jvay"
   },
   "source": [
    " Since this ROC plot is based on Scored class attributes directly, and it technically lose some information, now we switched to use score probability for calculating this value. "
   ]
  },
  {
   "cell_type": "code",
   "execution_count": null,
   "metadata": {
    "colab": {},
    "colab_type": "code",
    "id": "9MbnPOf6j-hi"
   },
   "outputs": [],
   "source": [
    "#new predict value\n",
    "predict_in_roc = df['scored.probability'] \n",
    "\n",
    "actual_in_roc = actual_a"
   ]
  },
  {
   "cell_type": "markdown",
   "metadata": {
    "colab_type": "text",
    "id": "uPTn9x9mKcFd"
   },
   "source": [
    "Then we compute AUC and make plot for ROC again."
   ]
  },
  {
   "cell_type": "code",
   "execution_count": null,
   "metadata": {
    "colab": {
     "base_uri": "https://localhost:8080/",
     "height": 34
    },
    "colab_type": "code",
    "id": "zdpreFLXKZSP",
    "outputId": "603b1482-d0b0-42cd-8d65-82301afc8e81"
   },
   "outputs": [
    {
     "data": {
      "text/plain": [
       "0.8503112620260327"
      ]
     },
     "execution_count": 83,
     "metadata": {
      "tags": []
     },
     "output_type": "execute_result"
    }
   ],
   "source": [
    "#plot ROC curve using builtin function\n",
    "from sklearn import datasets, metrics, model_selection, svm\n",
    "\n",
    "# y is actual, then predict value\n",
    "fpr, tpr, thresholds = metrics.roc_curve( actual_in_roc,predict_in_roc)\n",
    "#get area value\n",
    "metrics.auc(fpr, tpr)"
   ]
  },
  {
   "cell_type": "markdown",
   "metadata": {
    "colab_type": "text",
    "id": "1y812qtWbp6w"
   },
   "source": [
    "New area under the curve is 0.85"
   ]
  },
  {
   "cell_type": "code",
   "execution_count": null,
   "metadata": {
    "colab": {
     "base_uri": "https://localhost:8080/",
     "height": 295
    },
    "colab_type": "code",
    "id": "4BBU6dFuKZPK",
    "outputId": "aa672d90-e597-4bdc-d847-da07bb326ac9"
   },
   "outputs": [
    {
     "data": {
      "image/png": "[encoded data removed]",
      "text/plain": [
       "<Figure size 432x288 with 1 Axes>"
      ]
     },
     "metadata": {
      "needs_background": "light",
      "tags": []
     },
     "output_type": "display_data"
    }
   ],
   "source": [
    "#use sckit learn to \n",
    "\n",
    "import matplotlib.pyplot as plt\n",
    "from sklearn.metrics import roc_curve, auc\n",
    "fpr = dict()\n",
    "tpr = dict()\n",
    "roc_auc = dict()\n",
    "for i in range(2):\n",
    "    fpr[i], tpr[i], _ = roc_curve(actual_in_roc,predict_in_roc)\n",
    "    roc_auc[i] = auc(fpr[i], tpr[i])\n",
    "\n",
    "\n",
    "plt.figure()\n",
    "lw = 2\n",
    "plt.plot(fpr[1], tpr[1], color='darkorange',lw=lw, label='ROC curve' )\n",
    "plt.xlim([0.0, 1.0])\n",
    "plt.ylim([0.0, 1.05])\n",
    "plt.plot([0, 1], [0, 1], color='navy', lw=lw, linestyle='--')\n",
    "plt.xlabel('False Positive Rate')\n",
    "plt.ylabel('True Positive Rate')\n",
    "plt.title('Receiver operating characteristic plot')\n",
    "plt.show()"
   ]
  },
  {
   "cell_type": "markdown",
   "metadata": {
    "colab_type": "text",
    "id": "17C4kkLdkHFc"
   },
   "source": [
    "As expected, now we have a large area under the curve along with more responses during this interval."
   ]
  },
  {
   "cell_type": "markdown",
   "metadata": {
    "colab_type": "text",
    "id": "DfV9rrXPa5HW"
   },
   "source": [
    "I think this plot better explains the model for its completeness. By definition, this one has a higher AUC value 0.85 (compared with previous 0.716). This model has a better performance."
   ]
  },
  {
   "cell_type": "markdown",
   "metadata": {
    "colab_type": "text",
    "id": "r9D1HJNCS4-N"
   },
   "source": [
    "## Conclusion\n",
    "\n",
    "Based on results we got, our functions have very similar results with sklearn package, although we have some trouble on setting up to compute ROC by own function, we provide some of our ideas."
   ]
  },
  {
   "cell_type": "markdown",
   "metadata": {
    "colab_type": "text",
    "id": "R1SHJormS-rG"
   },
   "source": [
    "## References\n",
    "\n",
    "\n",
    "1. https://www.displayr.com/what-is-a-crosstab/\n",
    "2. https://blog.floydhub.com/a-pirates-guide-to-accuracy-precision-recall-and-other-scores/\n",
    "3. https://scikit-learn.org/stable/modules/generated/sklearn.metrics.roc_curve.html"
   ]
  },
  {
   "cell_type": "code",
   "execution_count": null,
   "metadata": {},
   "outputs": [],
   "source": []
  }
 ],
 "metadata": {
  "colab": {
   "collapsed_sections": [],
   "name": "G_Li_ZH_Z_ZJ_Z_M5_assn.ipynb",
   "provenance": []
  },
  "kernelspec": {
   "display_name": "Python 3",
   "language": "python",
   "name": "python3"
  },
  "language_info": {
   "codemirror_mode": {
    "name": "ipython",
    "version": 3
   },
   "file_extension": ".py",
   "mimetype": "text/x-python",
   "name": "python",
   "nbconvert_exporter": "python",
   "pygments_lexer": "ipython3",
   "version": "3.7.4"
  }
 },
 "nbformat": 4,
 "nbformat_minor": 1
}
