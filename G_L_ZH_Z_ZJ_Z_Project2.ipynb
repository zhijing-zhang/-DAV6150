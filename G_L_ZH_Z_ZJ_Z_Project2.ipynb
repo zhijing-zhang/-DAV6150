{
  "nbformat": 4,
  "nbformat_minor": 0,
  "metadata": {
    "colab": {
      "name": "G_L_ZH_Z_ZJ_Z_Project2.ipynb",
      "provenance": [],
      "collapsed_sections": []
    },
    "kernelspec": {
      "name": "python3",
      "display_name": "Python 3"
    }
  },
  "cells": [
    {
      "cell_type": "markdown",
      "metadata": {
        "id": "AERZbKzn3LHE",
        "colab_type": "text"
      },
      "source": [
        "#Project 2 \n",
        "###Group members: Gege Li, Zhihong Zhang, Zhijing Zhang"
      ]
    },
    {
      "cell_type": "markdown",
      "metadata": {
        "id": "1J13XZ303629",
        "colab_type": "text"
      },
      "source": [
        "## Introduction\n",
        "In project 2, we are going to use clustering algorithms(Hierarchical and K-means) to create groupings of similar data observations within the provided data set. After completing the necessary EDA and data prep work, we will construct the SVM models to predict the most likely\n",
        "categorization of any previously unseen data items.\n",
        "\n",
        "Steps:\n",
        "- Load data and exploratory data analysis;\n",
        "- Data preparation;\n",
        "- Clustering modeling(Hierarchical and K-means);\n",
        "- Compare clustering ourput and actual labels;\n",
        "- SVM modeling, including feature selections and use different explanatory features and choose better kernel;\n",
        "- Select model and compare with the actual labels;\n",
        "- Get our conclusions.\n"
      ]
    },
    {
      "cell_type": "markdown",
      "metadata": {
        "id": "8JmoJ38V4AoN",
        "colab_type": "text"
      },
      "source": [
        "## Pre-Clustering Exploratory Data Analysis & Pre-Clustering Data Preparation"
      ]
    },
    {
      "cell_type": "code",
      "metadata": {
        "id": "wjHkgtDA3JWO",
        "colab_type": "code",
        "colab": {}
      },
      "source": [
        "#prepared library \n",
        "import numpy as np\n",
        "import pandas as pd\n",
        "import matplotlib.pyplot as plt\n",
        "import seaborn as sns"
      ],
      "execution_count": 63,
      "outputs": []
    },
    {
      "cell_type": "code",
      "metadata": {
        "id": "0gTz71oi5lZP",
        "colab_type": "code",
        "colab": {
          "base_uri": "https://localhost:8080/",
          "height": 224
        },
        "outputId": "a4108d32-48e8-40bf-f82d-1fd1d4f5fe7f"
      },
      "source": [
        "# check and read the dataset from github\n",
        "file = pd.read_csv('https://raw.githubusercontent.com/gegeli638/DAV-6150/master/Project2_Data.csv')\n",
        "file.head()"
      ],
      "execution_count": 64,
      "outputs": [
        {
          "output_type": "execute_result",
          "data": {
            "text/html": [
              "<div>\n",
              "<style scoped>\n",
              "    .dataframe tbody tr th:only-of-type {\n",
              "        vertical-align: middle;\n",
              "    }\n",
              "\n",
              "    .dataframe tbody tr th {\n",
              "        vertical-align: top;\n",
              "    }\n",
              "\n",
              "    .dataframe thead th {\n",
              "        text-align: right;\n",
              "    }\n",
              "</style>\n",
              "<table border=\"1\" class=\"dataframe\">\n",
              "  <thead>\n",
              "    <tr style=\"text-align: right;\">\n",
              "      <th></th>\n",
              "      <th>Administrative</th>\n",
              "      <th>Administrative_Duration</th>\n",
              "      <th>Informational</th>\n",
              "      <th>Informational_Duration</th>\n",
              "      <th>ProductRelated</th>\n",
              "      <th>ProductRelated_Duration</th>\n",
              "      <th>BounceRates</th>\n",
              "      <th>ExitRates</th>\n",
              "      <th>PageValues</th>\n",
              "      <th>SpecialDay</th>\n",
              "      <th>Month</th>\n",
              "      <th>OperatingSystems</th>\n",
              "      <th>Browser</th>\n",
              "      <th>Region</th>\n",
              "      <th>TrafficType</th>\n",
              "      <th>VisitorType</th>\n",
              "      <th>Weekend</th>\n",
              "    </tr>\n",
              "  </thead>\n",
              "  <tbody>\n",
              "    <tr>\n",
              "      <th>0</th>\n",
              "      <td>0</td>\n",
              "      <td>0.0</td>\n",
              "      <td>0</td>\n",
              "      <td>0.0</td>\n",
              "      <td>8</td>\n",
              "      <td>222.000000</td>\n",
              "      <td>0.000000</td>\n",
              "      <td>0.028571</td>\n",
              "      <td>53.474571</td>\n",
              "      <td>0.0</td>\n",
              "      <td>May</td>\n",
              "      <td>1</td>\n",
              "      <td>1</td>\n",
              "      <td>1</td>\n",
              "      <td>2</td>\n",
              "      <td>New_Visitor</td>\n",
              "      <td>True</td>\n",
              "    </tr>\n",
              "    <tr>\n",
              "      <th>1</th>\n",
              "      <td>0</td>\n",
              "      <td>0.0</td>\n",
              "      <td>0</td>\n",
              "      <td>0.0</td>\n",
              "      <td>14</td>\n",
              "      <td>1037.500000</td>\n",
              "      <td>0.014286</td>\n",
              "      <td>0.047619</td>\n",
              "      <td>0.000000</td>\n",
              "      <td>0.0</td>\n",
              "      <td>Mar</td>\n",
              "      <td>2</td>\n",
              "      <td>2</td>\n",
              "      <td>4</td>\n",
              "      <td>2</td>\n",
              "      <td>Returning_Visitor</td>\n",
              "      <td>False</td>\n",
              "    </tr>\n",
              "    <tr>\n",
              "      <th>2</th>\n",
              "      <td>4</td>\n",
              "      <td>37.5</td>\n",
              "      <td>2</td>\n",
              "      <td>82.0</td>\n",
              "      <td>4</td>\n",
              "      <td>96.625000</td>\n",
              "      <td>0.000000</td>\n",
              "      <td>0.017500</td>\n",
              "      <td>0.000000</td>\n",
              "      <td>0.0</td>\n",
              "      <td>Nov</td>\n",
              "      <td>2</td>\n",
              "      <td>2</td>\n",
              "      <td>9</td>\n",
              "      <td>2</td>\n",
              "      <td>New_Visitor</td>\n",
              "      <td>False</td>\n",
              "    </tr>\n",
              "    <tr>\n",
              "      <th>3</th>\n",
              "      <td>4</td>\n",
              "      <td>115.7</td>\n",
              "      <td>0</td>\n",
              "      <td>0.0</td>\n",
              "      <td>16</td>\n",
              "      <td>655.383333</td>\n",
              "      <td>0.000000</td>\n",
              "      <td>0.012037</td>\n",
              "      <td>0.000000</td>\n",
              "      <td>0.0</td>\n",
              "      <td>Nov</td>\n",
              "      <td>1</td>\n",
              "      <td>1</td>\n",
              "      <td>2</td>\n",
              "      <td>3</td>\n",
              "      <td>Returning_Visitor</td>\n",
              "      <td>False</td>\n",
              "    </tr>\n",
              "    <tr>\n",
              "      <th>4</th>\n",
              "      <td>1</td>\n",
              "      <td>60.0</td>\n",
              "      <td>1</td>\n",
              "      <td>15.0</td>\n",
              "      <td>26</td>\n",
              "      <td>670.166667</td>\n",
              "      <td>0.000000</td>\n",
              "      <td>0.003846</td>\n",
              "      <td>0.000000</td>\n",
              "      <td>0.0</td>\n",
              "      <td>May</td>\n",
              "      <td>2</td>\n",
              "      <td>2</td>\n",
              "      <td>3</td>\n",
              "      <td>4</td>\n",
              "      <td>Returning_Visitor</td>\n",
              "      <td>False</td>\n",
              "    </tr>\n",
              "  </tbody>\n",
              "</table>\n",
              "</div>"
            ],
            "text/plain": [
              "   Administrative  Administrative_Duration  ...        VisitorType  Weekend\n",
              "0               0                      0.0  ...        New_Visitor     True\n",
              "1               0                      0.0  ...  Returning_Visitor    False\n",
              "2               4                     37.5  ...        New_Visitor    False\n",
              "3               4                    115.7  ...  Returning_Visitor    False\n",
              "4               1                     60.0  ...  Returning_Visitor    False\n",
              "\n",
              "[5 rows x 17 columns]"
            ]
          },
          "metadata": {
            "tags": []
          },
          "execution_count": 64
        }
      ]
    },
    {
      "cell_type": "markdown",
      "metadata": {
        "id": "O8MhegYbrJze",
        "colab_type": "text"
      },
      "source": [
        "*The dataset consists of __10 numerical__ and __7 categorical__ attributes.*\n",
        "The 'Revenue' attribute can be used as the class label.\n",
        "\n",
        "\n",
        "- \"Administrative\", \"Administrative Duration\", \"Informational\", \"Informational Duration\", \"Product Related\" and \"Product Related Duration\" represent the number of different types of pages visited by the visitor in that session and total time spent in each of these page categories. \n",
        "\n",
        "- The \"Bounce Rate\", \"Exit Rate\" and \"Page Value\" features represent the metrics measured by \"Google Analytics\" for each page in the e-commerce site. \n",
        "\n",
        "-  The \"Special Day\" feature indicates the closeness of the site visiting time to a specific special day (e.g. Mother’s Day, Valentine's Day) in which the sessions are more likely to be finalized with transaction. The value of this attribute is determined by considering the dynamics of e-commerce such as the duration between the order date and delivery date.\n",
        "\n",
        "- The dataset also includes operating system, browser, region, traffic type, visitor type as returning or new visitor, a Boolean value indicating whether the date of the visit is weekend, and month of the year."
      ]
    },
    {
      "cell_type": "markdown",
      "metadata": {
        "id": "AjHWUQ8CpJ69",
        "colab_type": "text"
      },
      "source": [
        "After we got the data, we need to check the data type to see whether it fits the description of the data. Through info, we now know there are four categorical ordinal variables that are recognized as numeric value in python. "
      ]
    },
    {
      "cell_type": "code",
      "metadata": {
        "id": "bjzVqAsC6GY_",
        "colab_type": "code",
        "colab": {
          "base_uri": "https://localhost:8080/",
          "height": 430
        },
        "outputId": "1aa9a333-dd5e-4016-820a-bd015b17fa17"
      },
      "source": [
        "file.info()"
      ],
      "execution_count": 65,
      "outputs": [
        {
          "output_type": "stream",
          "text": [
            "<class 'pandas.core.frame.DataFrame'>\n",
            "RangeIndex: 12330 entries, 0 to 12329\n",
            "Data columns (total 17 columns):\n",
            " #   Column                   Non-Null Count  Dtype  \n",
            "---  ------                   --------------  -----  \n",
            " 0   Administrative           12330 non-null  int64  \n",
            " 1   Administrative_Duration  12330 non-null  float64\n",
            " 2   Informational            12330 non-null  int64  \n",
            " 3   Informational_Duration   12330 non-null  float64\n",
            " 4   ProductRelated           12330 non-null  int64  \n",
            " 5   ProductRelated_Duration  12330 non-null  float64\n",
            " 6   BounceRates              12330 non-null  float64\n",
            " 7   ExitRates                12330 non-null  float64\n",
            " 8   PageValues               12330 non-null  float64\n",
            " 9   SpecialDay               12330 non-null  float64\n",
            " 10  Month                    12330 non-null  object \n",
            " 11  OperatingSystems         12330 non-null  int64  \n",
            " 12  Browser                  12330 non-null  int64  \n",
            " 13  Region                   12330 non-null  int64  \n",
            " 14  TrafficType              12330 non-null  int64  \n",
            " 15  VisitorType              12330 non-null  object \n",
            " 16  Weekend                  12330 non-null  bool   \n",
            "dtypes: bool(1), float64(7), int64(7), object(2)\n",
            "memory usage: 1.5+ MB\n"
          ],
          "name": "stdout"
        }
      ]
    },
    {
      "cell_type": "markdown",
      "metadata": {
        "id": "bkcKFJmfrOfH",
        "colab_type": "text"
      },
      "source": [
        "Also, through info, there is no missing value in this dataset. The null-value check pass as well."
      ]
    },
    {
      "cell_type": "code",
      "metadata": {
        "id": "zWgUo04tpzwj",
        "colab_type": "code",
        "colab": {
          "base_uri": "https://localhost:8080/",
          "height": 327
        },
        "outputId": "d0c9f674-ae25-4a11-dc85-0f67652899be"
      },
      "source": [
        "file.isnull().sum()"
      ],
      "execution_count": 66,
      "outputs": [
        {
          "output_type": "execute_result",
          "data": {
            "text/plain": [
              "Administrative             0\n",
              "Administrative_Duration    0\n",
              "Informational              0\n",
              "Informational_Duration     0\n",
              "ProductRelated             0\n",
              "ProductRelated_Duration    0\n",
              "BounceRates                0\n",
              "ExitRates                  0\n",
              "PageValues                 0\n",
              "SpecialDay                 0\n",
              "Month                      0\n",
              "OperatingSystems           0\n",
              "Browser                    0\n",
              "Region                     0\n",
              "TrafficType                0\n",
              "VisitorType                0\n",
              "Weekend                    0\n",
              "dtype: int64"
            ]
          },
          "metadata": {
            "tags": []
          },
          "execution_count": 66
        }
      ]
    },
    {
      "cell_type": "code",
      "metadata": {
        "id": "vZv9dB9guY6u",
        "colab_type": "code",
        "colab": {
          "base_uri": "https://localhost:8080/",
          "height": 189
        },
        "outputId": "bc441845-0209-4f75-b4dd-958e8085fc10"
      },
      "source": [
        "#value counts\n",
        "file.SpecialDay.value_counts()\n",
        "file.OperatingSystems.value_counts()\n",
        "file.Browser.value_counts()\n",
        "file.Region.value_counts()\n",
        "#file.VisitorType.value_counts()"
      ],
      "execution_count": 67,
      "outputs": [
        {
          "output_type": "execute_result",
          "data": {
            "text/plain": [
              "1    4780\n",
              "3    2403\n",
              "4    1182\n",
              "2    1136\n",
              "6     805\n",
              "7     761\n",
              "9     511\n",
              "8     434\n",
              "5     318\n",
              "Name: Region, dtype: int64"
            ]
          },
          "metadata": {
            "tags": []
          },
          "execution_count": 67
        }
      ]
    },
    {
      "cell_type": "markdown",
      "metadata": {
        "id": "bQYRmCFLrQzM",
        "colab_type": "text"
      },
      "source": [
        "Based on the data info, let's check the attributes. \n",
        "\n",
        "We find that \"Administrative\", \"Administrative Duration\", \"Informational\", \"Informational Duration\", \"Product Related\", \"Product Related Duration\",  \"Bounce Rate\", \"Exit Rate\", \"Page Value\" and 'SpecialDay' are numerical attributes. 'Month', 'Operatingsystems', 'Browser', 'Region', 'TrafficTpye', 'VisitorTpye' and 'Weedend' are categorical attributes.\n",
        "\n",
        "For the categorical data, we plan to make some of them to be numeric to make plots to see how it distributes. \n",
        "\n",
        "So we will change the data type in order to do further EDA. "
      ]
    },
    {
      "cell_type": "code",
      "metadata": {
        "id": "kning6foCezK",
        "colab_type": "code",
        "colab": {}
      },
      "source": [
        "df = file.copy()"
      ],
      "execution_count": 68,
      "outputs": []
    },
    {
      "cell_type": "code",
      "metadata": {
        "id": "Ogs5jRTbAM6W",
        "colab_type": "code",
        "colab": {
          "base_uri": "https://localhost:8080/",
          "height": 224
        },
        "outputId": "4b019738-0f47-4b6d-fc20-5ff6d1e5977e"
      },
      "source": [
        "#change month\n",
        "df.Month.replace({'Jan':'1',\n",
        "        'Feb':'2',\n",
        "        'Mar':'3',\n",
        "        'Apr':'4',\n",
        "        'May':'5',\n",
        "        'June':'6',\n",
        "        'Jul':'7',\n",
        "        'Aug':'8',\n",
        "        'Sep':'9',\n",
        "        'Oct':'10',\n",
        "        'Nov':'11',\n",
        "        'Dec':'12'}, inplace = True)\n",
        "\n",
        "#change weekend\n",
        "df.Weekend.replace({True: '0',\n",
        "           False:'1'},inplace = True)\n",
        "df.head()"
      ],
      "execution_count": 69,
      "outputs": [
        {
          "output_type": "execute_result",
          "data": {
            "text/html": [
              "<div>\n",
              "<style scoped>\n",
              "    .dataframe tbody tr th:only-of-type {\n",
              "        vertical-align: middle;\n",
              "    }\n",
              "\n",
              "    .dataframe tbody tr th {\n",
              "        vertical-align: top;\n",
              "    }\n",
              "\n",
              "    .dataframe thead th {\n",
              "        text-align: right;\n",
              "    }\n",
              "</style>\n",
              "<table border=\"1\" class=\"dataframe\">\n",
              "  <thead>\n",
              "    <tr style=\"text-align: right;\">\n",
              "      <th></th>\n",
              "      <th>Administrative</th>\n",
              "      <th>Administrative_Duration</th>\n",
              "      <th>Informational</th>\n",
              "      <th>Informational_Duration</th>\n",
              "      <th>ProductRelated</th>\n",
              "      <th>ProductRelated_Duration</th>\n",
              "      <th>BounceRates</th>\n",
              "      <th>ExitRates</th>\n",
              "      <th>PageValues</th>\n",
              "      <th>SpecialDay</th>\n",
              "      <th>Month</th>\n",
              "      <th>OperatingSystems</th>\n",
              "      <th>Browser</th>\n",
              "      <th>Region</th>\n",
              "      <th>TrafficType</th>\n",
              "      <th>VisitorType</th>\n",
              "      <th>Weekend</th>\n",
              "    </tr>\n",
              "  </thead>\n",
              "  <tbody>\n",
              "    <tr>\n",
              "      <th>0</th>\n",
              "      <td>0</td>\n",
              "      <td>0.0</td>\n",
              "      <td>0</td>\n",
              "      <td>0.0</td>\n",
              "      <td>8</td>\n",
              "      <td>222.000000</td>\n",
              "      <td>0.000000</td>\n",
              "      <td>0.028571</td>\n",
              "      <td>53.474571</td>\n",
              "      <td>0.0</td>\n",
              "      <td>5</td>\n",
              "      <td>1</td>\n",
              "      <td>1</td>\n",
              "      <td>1</td>\n",
              "      <td>2</td>\n",
              "      <td>New_Visitor</td>\n",
              "      <td>0</td>\n",
              "    </tr>\n",
              "    <tr>\n",
              "      <th>1</th>\n",
              "      <td>0</td>\n",
              "      <td>0.0</td>\n",
              "      <td>0</td>\n",
              "      <td>0.0</td>\n",
              "      <td>14</td>\n",
              "      <td>1037.500000</td>\n",
              "      <td>0.014286</td>\n",
              "      <td>0.047619</td>\n",
              "      <td>0.000000</td>\n",
              "      <td>0.0</td>\n",
              "      <td>3</td>\n",
              "      <td>2</td>\n",
              "      <td>2</td>\n",
              "      <td>4</td>\n",
              "      <td>2</td>\n",
              "      <td>Returning_Visitor</td>\n",
              "      <td>1</td>\n",
              "    </tr>\n",
              "    <tr>\n",
              "      <th>2</th>\n",
              "      <td>4</td>\n",
              "      <td>37.5</td>\n",
              "      <td>2</td>\n",
              "      <td>82.0</td>\n",
              "      <td>4</td>\n",
              "      <td>96.625000</td>\n",
              "      <td>0.000000</td>\n",
              "      <td>0.017500</td>\n",
              "      <td>0.000000</td>\n",
              "      <td>0.0</td>\n",
              "      <td>11</td>\n",
              "      <td>2</td>\n",
              "      <td>2</td>\n",
              "      <td>9</td>\n",
              "      <td>2</td>\n",
              "      <td>New_Visitor</td>\n",
              "      <td>1</td>\n",
              "    </tr>\n",
              "    <tr>\n",
              "      <th>3</th>\n",
              "      <td>4</td>\n",
              "      <td>115.7</td>\n",
              "      <td>0</td>\n",
              "      <td>0.0</td>\n",
              "      <td>16</td>\n",
              "      <td>655.383333</td>\n",
              "      <td>0.000000</td>\n",
              "      <td>0.012037</td>\n",
              "      <td>0.000000</td>\n",
              "      <td>0.0</td>\n",
              "      <td>11</td>\n",
              "      <td>1</td>\n",
              "      <td>1</td>\n",
              "      <td>2</td>\n",
              "      <td>3</td>\n",
              "      <td>Returning_Visitor</td>\n",
              "      <td>1</td>\n",
              "    </tr>\n",
              "    <tr>\n",
              "      <th>4</th>\n",
              "      <td>1</td>\n",
              "      <td>60.0</td>\n",
              "      <td>1</td>\n",
              "      <td>15.0</td>\n",
              "      <td>26</td>\n",
              "      <td>670.166667</td>\n",
              "      <td>0.000000</td>\n",
              "      <td>0.003846</td>\n",
              "      <td>0.000000</td>\n",
              "      <td>0.0</td>\n",
              "      <td>5</td>\n",
              "      <td>2</td>\n",
              "      <td>2</td>\n",
              "      <td>3</td>\n",
              "      <td>4</td>\n",
              "      <td>Returning_Visitor</td>\n",
              "      <td>1</td>\n",
              "    </tr>\n",
              "  </tbody>\n",
              "</table>\n",
              "</div>"
            ],
            "text/plain": [
              "   Administrative  Administrative_Duration  ...        VisitorType  Weekend\n",
              "0               0                      0.0  ...        New_Visitor        0\n",
              "1               0                      0.0  ...  Returning_Visitor        1\n",
              "2               4                     37.5  ...        New_Visitor        1\n",
              "3               4                    115.7  ...  Returning_Visitor        1\n",
              "4               1                     60.0  ...  Returning_Visitor        1\n",
              "\n",
              "[5 rows x 17 columns]"
            ]
          },
          "metadata": {
            "tags": []
          },
          "execution_count": 69
        }
      ]
    },
    {
      "cell_type": "code",
      "metadata": {
        "id": "-h41vfNNsGQC",
        "colab_type": "code",
        "colab": {}
      },
      "source": [
        "#change data type\n",
        "\n",
        "convert_dict = {'Month': int, \n",
        "                'Weekend': int,               \n",
        "               } \n",
        "  \n",
        "df = df.astype(convert_dict) "
      ],
      "execution_count": 70,
      "outputs": []
    },
    {
      "cell_type": "code",
      "metadata": {
        "id": "j8HynnvyC_20",
        "colab_type": "code",
        "colab": {
          "base_uri": "https://localhost:8080/",
          "height": 430
        },
        "outputId": "8d35fe72-54a3-4b2c-e080-597e0b2ff2d4"
      },
      "source": [
        "df.info()"
      ],
      "execution_count": 71,
      "outputs": [
        {
          "output_type": "stream",
          "text": [
            "<class 'pandas.core.frame.DataFrame'>\n",
            "RangeIndex: 12330 entries, 0 to 12329\n",
            "Data columns (total 17 columns):\n",
            " #   Column                   Non-Null Count  Dtype  \n",
            "---  ------                   --------------  -----  \n",
            " 0   Administrative           12330 non-null  int64  \n",
            " 1   Administrative_Duration  12330 non-null  float64\n",
            " 2   Informational            12330 non-null  int64  \n",
            " 3   Informational_Duration   12330 non-null  float64\n",
            " 4   ProductRelated           12330 non-null  int64  \n",
            " 5   ProductRelated_Duration  12330 non-null  float64\n",
            " 6   BounceRates              12330 non-null  float64\n",
            " 7   ExitRates                12330 non-null  float64\n",
            " 8   PageValues               12330 non-null  float64\n",
            " 9   SpecialDay               12330 non-null  float64\n",
            " 10  Month                    12330 non-null  int64  \n",
            " 11  OperatingSystems         12330 non-null  int64  \n",
            " 12  Browser                  12330 non-null  int64  \n",
            " 13  Region                   12330 non-null  int64  \n",
            " 14  TrafficType              12330 non-null  int64  \n",
            " 15  VisitorType              12330 non-null  object \n",
            " 16  Weekend                  12330 non-null  int64  \n",
            "dtypes: float64(7), int64(9), object(1)\n",
            "memory usage: 1.6+ MB\n"
          ],
          "name": "stdout"
        }
      ]
    },
    {
      "cell_type": "markdown",
      "metadata": {
        "id": "mkQ31181sJls",
        "colab_type": "text"
      },
      "source": [
        "Now we have the data type changed."
      ]
    },
    {
      "cell_type": "code",
      "metadata": {
        "id": "jfDYREHa6rlj",
        "colab_type": "code",
        "colab": {
          "base_uri": "https://localhost:8080/",
          "height": 545
        },
        "outputId": "667ecda7-80fa-4409-80aa-6d5cdd4f6998"
      },
      "source": [
        "df.describe().T"
      ],
      "execution_count": 72,
      "outputs": [
        {
          "output_type": "execute_result",
          "data": {
            "text/html": [
              "<div>\n",
              "<style scoped>\n",
              "    .dataframe tbody tr th:only-of-type {\n",
              "        vertical-align: middle;\n",
              "    }\n",
              "\n",
              "    .dataframe tbody tr th {\n",
              "        vertical-align: top;\n",
              "    }\n",
              "\n",
              "    .dataframe thead th {\n",
              "        text-align: right;\n",
              "    }\n",
              "</style>\n",
              "<table border=\"1\" class=\"dataframe\">\n",
              "  <thead>\n",
              "    <tr style=\"text-align: right;\">\n",
              "      <th></th>\n",
              "      <th>count</th>\n",
              "      <th>mean</th>\n",
              "      <th>std</th>\n",
              "      <th>min</th>\n",
              "      <th>25%</th>\n",
              "      <th>50%</th>\n",
              "      <th>75%</th>\n",
              "      <th>max</th>\n",
              "    </tr>\n",
              "  </thead>\n",
              "  <tbody>\n",
              "    <tr>\n",
              "      <th>Administrative</th>\n",
              "      <td>12330.0</td>\n",
              "      <td>2.315166</td>\n",
              "      <td>3.321784</td>\n",
              "      <td>0.0</td>\n",
              "      <td>0.000000</td>\n",
              "      <td>1.000000</td>\n",
              "      <td>4.000000</td>\n",
              "      <td>27.000000</td>\n",
              "    </tr>\n",
              "    <tr>\n",
              "      <th>Administrative_Duration</th>\n",
              "      <td>12330.0</td>\n",
              "      <td>80.818611</td>\n",
              "      <td>176.779107</td>\n",
              "      <td>0.0</td>\n",
              "      <td>0.000000</td>\n",
              "      <td>7.500000</td>\n",
              "      <td>93.256250</td>\n",
              "      <td>3398.750000</td>\n",
              "    </tr>\n",
              "    <tr>\n",
              "      <th>Informational</th>\n",
              "      <td>12330.0</td>\n",
              "      <td>0.503569</td>\n",
              "      <td>1.270156</td>\n",
              "      <td>0.0</td>\n",
              "      <td>0.000000</td>\n",
              "      <td>0.000000</td>\n",
              "      <td>0.000000</td>\n",
              "      <td>24.000000</td>\n",
              "    </tr>\n",
              "    <tr>\n",
              "      <th>Informational_Duration</th>\n",
              "      <td>12330.0</td>\n",
              "      <td>34.472398</td>\n",
              "      <td>140.749294</td>\n",
              "      <td>0.0</td>\n",
              "      <td>0.000000</td>\n",
              "      <td>0.000000</td>\n",
              "      <td>0.000000</td>\n",
              "      <td>2549.375000</td>\n",
              "    </tr>\n",
              "    <tr>\n",
              "      <th>ProductRelated</th>\n",
              "      <td>12330.0</td>\n",
              "      <td>31.731468</td>\n",
              "      <td>44.475503</td>\n",
              "      <td>0.0</td>\n",
              "      <td>7.000000</td>\n",
              "      <td>18.000000</td>\n",
              "      <td>38.000000</td>\n",
              "      <td>705.000000</td>\n",
              "    </tr>\n",
              "    <tr>\n",
              "      <th>ProductRelated_Duration</th>\n",
              "      <td>12330.0</td>\n",
              "      <td>1194.746220</td>\n",
              "      <td>1913.669288</td>\n",
              "      <td>0.0</td>\n",
              "      <td>184.137500</td>\n",
              "      <td>598.936905</td>\n",
              "      <td>1464.157213</td>\n",
              "      <td>63973.522230</td>\n",
              "    </tr>\n",
              "    <tr>\n",
              "      <th>BounceRates</th>\n",
              "      <td>12330.0</td>\n",
              "      <td>0.022191</td>\n",
              "      <td>0.048488</td>\n",
              "      <td>0.0</td>\n",
              "      <td>0.000000</td>\n",
              "      <td>0.003112</td>\n",
              "      <td>0.016813</td>\n",
              "      <td>0.200000</td>\n",
              "    </tr>\n",
              "    <tr>\n",
              "      <th>ExitRates</th>\n",
              "      <td>12330.0</td>\n",
              "      <td>0.043073</td>\n",
              "      <td>0.048597</td>\n",
              "      <td>0.0</td>\n",
              "      <td>0.014286</td>\n",
              "      <td>0.025156</td>\n",
              "      <td>0.050000</td>\n",
              "      <td>0.200000</td>\n",
              "    </tr>\n",
              "    <tr>\n",
              "      <th>PageValues</th>\n",
              "      <td>12330.0</td>\n",
              "      <td>5.889258</td>\n",
              "      <td>18.568437</td>\n",
              "      <td>0.0</td>\n",
              "      <td>0.000000</td>\n",
              "      <td>0.000000</td>\n",
              "      <td>0.000000</td>\n",
              "      <td>361.763742</td>\n",
              "    </tr>\n",
              "    <tr>\n",
              "      <th>SpecialDay</th>\n",
              "      <td>12330.0</td>\n",
              "      <td>0.061427</td>\n",
              "      <td>0.198917</td>\n",
              "      <td>0.0</td>\n",
              "      <td>0.000000</td>\n",
              "      <td>0.000000</td>\n",
              "      <td>0.000000</td>\n",
              "      <td>1.000000</td>\n",
              "    </tr>\n",
              "    <tr>\n",
              "      <th>Month</th>\n",
              "      <td>12330.0</td>\n",
              "      <td>7.651987</td>\n",
              "      <td>3.392841</td>\n",
              "      <td>2.0</td>\n",
              "      <td>5.000000</td>\n",
              "      <td>7.000000</td>\n",
              "      <td>11.000000</td>\n",
              "      <td>12.000000</td>\n",
              "    </tr>\n",
              "    <tr>\n",
              "      <th>OperatingSystems</th>\n",
              "      <td>12330.0</td>\n",
              "      <td>2.124006</td>\n",
              "      <td>0.911325</td>\n",
              "      <td>1.0</td>\n",
              "      <td>2.000000</td>\n",
              "      <td>2.000000</td>\n",
              "      <td>3.000000</td>\n",
              "      <td>8.000000</td>\n",
              "    </tr>\n",
              "    <tr>\n",
              "      <th>Browser</th>\n",
              "      <td>12330.0</td>\n",
              "      <td>2.357097</td>\n",
              "      <td>1.717277</td>\n",
              "      <td>1.0</td>\n",
              "      <td>2.000000</td>\n",
              "      <td>2.000000</td>\n",
              "      <td>2.000000</td>\n",
              "      <td>13.000000</td>\n",
              "    </tr>\n",
              "    <tr>\n",
              "      <th>Region</th>\n",
              "      <td>12330.0</td>\n",
              "      <td>3.147364</td>\n",
              "      <td>2.401591</td>\n",
              "      <td>1.0</td>\n",
              "      <td>1.000000</td>\n",
              "      <td>3.000000</td>\n",
              "      <td>4.000000</td>\n",
              "      <td>9.000000</td>\n",
              "    </tr>\n",
              "    <tr>\n",
              "      <th>TrafficType</th>\n",
              "      <td>12330.0</td>\n",
              "      <td>4.069586</td>\n",
              "      <td>4.025169</td>\n",
              "      <td>1.0</td>\n",
              "      <td>2.000000</td>\n",
              "      <td>2.000000</td>\n",
              "      <td>4.000000</td>\n",
              "      <td>20.000000</td>\n",
              "    </tr>\n",
              "    <tr>\n",
              "      <th>Weekend</th>\n",
              "      <td>12330.0</td>\n",
              "      <td>0.767397</td>\n",
              "      <td>0.422509</td>\n",
              "      <td>0.0</td>\n",
              "      <td>1.000000</td>\n",
              "      <td>1.000000</td>\n",
              "      <td>1.000000</td>\n",
              "      <td>1.000000</td>\n",
              "    </tr>\n",
              "  </tbody>\n",
              "</table>\n",
              "</div>"
            ],
            "text/plain": [
              "                           count         mean  ...          75%           max\n",
              "Administrative           12330.0     2.315166  ...     4.000000     27.000000\n",
              "Administrative_Duration  12330.0    80.818611  ...    93.256250   3398.750000\n",
              "Informational            12330.0     0.503569  ...     0.000000     24.000000\n",
              "Informational_Duration   12330.0    34.472398  ...     0.000000   2549.375000\n",
              "ProductRelated           12330.0    31.731468  ...    38.000000    705.000000\n",
              "ProductRelated_Duration  12330.0  1194.746220  ...  1464.157213  63973.522230\n",
              "BounceRates              12330.0     0.022191  ...     0.016813      0.200000\n",
              "ExitRates                12330.0     0.043073  ...     0.050000      0.200000\n",
              "PageValues               12330.0     5.889258  ...     0.000000    361.763742\n",
              "SpecialDay               12330.0     0.061427  ...     0.000000      1.000000\n",
              "Month                    12330.0     7.651987  ...    11.000000     12.000000\n",
              "OperatingSystems         12330.0     2.124006  ...     3.000000      8.000000\n",
              "Browser                  12330.0     2.357097  ...     2.000000     13.000000\n",
              "Region                   12330.0     3.147364  ...     4.000000      9.000000\n",
              "TrafficType              12330.0     4.069586  ...     4.000000     20.000000\n",
              "Weekend                  12330.0     0.767397  ...     1.000000      1.000000\n",
              "\n",
              "[16 rows x 8 columns]"
            ]
          },
          "metadata": {
            "tags": []
          },
          "execution_count": 72
        }
      ]
    },
    {
      "cell_type": "markdown",
      "metadata": {
        "id": "i8feU9PjsRhT",
        "colab_type": "text"
      },
      "source": [
        "We can have a overview of all the features."
      ]
    },
    {
      "cell_type": "code",
      "metadata": {
        "id": "d2BPIoyq9OZK",
        "colab_type": "code",
        "colab": {
          "base_uri": "https://localhost:8080/",
          "height": 1000
        },
        "outputId": "4bf1f9b8-4df2-468f-a6c1-fcf340aceca0"
      },
      "source": [
        "#show the overall histogram\n",
        "df.hist(xlabelsize=10,ylabelsize=10,figsize=(16,12))"
      ],
      "execution_count": 73,
      "outputs": [
        {
          "output_type": "execute_result",
          "data": {
            "text/plain": [
              "array([[<matplotlib.axes._subplots.AxesSubplot object at 0x7f84c5683dd8>,\n",
              "        <matplotlib.axes._subplots.AxesSubplot object at 0x7f84c5660240>,\n",
              "        <matplotlib.axes._subplots.AxesSubplot object at 0x7f84c560f588>,\n",
              "        <matplotlib.axes._subplots.AxesSubplot object at 0x7f84c55bc908>],\n",
              "       [<matplotlib.axes._subplots.AxesSubplot object at 0x7f84c556cc88>,\n",
              "        <matplotlib.axes._subplots.AxesSubplot object at 0x7f84c559dfd0>,\n",
              "        <matplotlib.axes._subplots.AxesSubplot object at 0x7f84c55583c8>,\n",
              "        <matplotlib.axes._subplots.AxesSubplot object at 0x7f84c5506710>],\n",
              "       [<matplotlib.axes._subplots.AxesSubplot object at 0x7f84c5506780>,\n",
              "        <matplotlib.axes._subplots.AxesSubplot object at 0x7f84c5814828>,\n",
              "        <matplotlib.axes._subplots.AxesSubplot object at 0x7f84c57b2208>,\n",
              "        <matplotlib.axes._subplots.AxesSubplot object at 0x7f84c57a9550>],\n",
              "       [<matplotlib.axes._subplots.AxesSubplot object at 0x7f84db396390>,\n",
              "        <matplotlib.axes._subplots.AxesSubplot object at 0x7f84db08bc18>,\n",
              "        <matplotlib.axes._subplots.AxesSubplot object at 0x7f84dad4c5c0>,\n",
              "        <matplotlib.axes._subplots.AxesSubplot object at 0x7f84d545dd68>]],\n",
              "      dtype=object)"
            ]
          },
          "metadata": {
            "tags": []
          },
          "execution_count": 73
        },
        {
          "output_type": "display_data",
          "data": {
            "image/png": "[encoded data removed]",
            "text/plain": [
              "<Figure size 1152x864 with 16 Axes>"
            ]
          },
          "metadata": {
            "tags": [],
            "needs_background": "light"
          }
        }
      ]
    },
    {
      "cell_type": "markdown",
      "metadata": {
        "id": "qaXqLzhF4okI",
        "colab_type": "text"
      },
      "source": [
        "Based on this histogram, we can tell some of the graphs have a quite distinct distribution. Firstly, we want to have variables to have a more diverse distribution for feature selection. Based on these needs, we would like to choose the data which does have some more variance. \n",
        "\n",
        "Some possible good attributes are: Administrative, BounceRates, Browser,  Region, Exit Rate,  Traffic Type,\n",
        "Month, weekend. Especially in month attribute,  December has a very high value (it may be contributed to the Christmas Season).\n",
        "\n",
        "Some possible fine attributes are: Administritive_Duration, SpecialDay."
      ]
    },
    {
      "cell_type": "markdown",
      "metadata": {
        "id": "EKgu5nTgvzzL",
        "colab_type": "text"
      },
      "source": [
        "There are only visitor Type that we didn't do EDA. Let's show a pie plot of Visitor Type."
      ]
    },
    {
      "cell_type": "code",
      "metadata": {
        "id": "efZj2RuUsisK",
        "colab_type": "code",
        "colab": {
          "base_uri": "https://localhost:8080/",
          "height": 457
        },
        "outputId": "76d3b2c0-e65e-4054-a607-9ff15066e8ed"
      },
      "source": [
        "# plotting a pie chart for VisitorType\n",
        "plt.rcParams['figure.figsize'] = (18, 7)\n",
        "size = [10551, 1694, 85]\n",
        "colors = ['violet', 'magenta', 'pink']\n",
        "labels = \"Returning Visitor\", \"New_Visitor\", \"Others\"\n",
        "explode = [0, 0, 0.1]\n",
        "plt.subplot(1, 2, 1)\n",
        "plt.pie(size, colors = colors, labels = labels, explode = explode, shadow = True, autopct = '%.2f%%')\n",
        "plt.title('Different Visitors', fontsize = 30)\n",
        "plt.axis('off')\n",
        "plt.legend()"
      ],
      "execution_count": 74,
      "outputs": [
        {
          "output_type": "execute_result",
          "data": {
            "text/plain": [
              "<matplotlib.legend.Legend at 0x7f84c5683278>"
            ]
          },
          "metadata": {
            "tags": []
          },
          "execution_count": 74
        },
        {
          "output_type": "display_data",
          "data": {
            "image/png": "[encoded data removed]",
            "text/plain": [
              "<Figure size 1296x504 with 1 Axes>"
            ]
          },
          "metadata": {
            "tags": []
          }
        }
      ]
    },
    {
      "cell_type": "markdown",
      "metadata": {
        "id": "ClLA6Zo_vxy-",
        "colab_type": "text"
      },
      "source": [
        "From this pie plot we can find that most visitors are retruning visitor(86.75%). 13.74% are new vistiors and 0.69% are others."
      ]
    },
    {
      "cell_type": "markdown",
      "metadata": {
        "id": "cSO_rorCs1d9",
        "colab_type": "text"
      },
      "source": [
        "Then we can show the correlation among these features. (Here are some categorical attributes in heatmap but we will ignore it.)"
      ]
    },
    {
      "cell_type": "code",
      "metadata": {
        "id": "BUo9a_QX8fUr",
        "colab_type": "code",
        "colab": {
          "base_uri": "https://localhost:8080/",
          "height": 763
        },
        "outputId": "6d4bed04-7aa0-40b9-a6d7-11bfddad4ef9"
      },
      "source": [
        "#correlation heatmap \n",
        "plt.figure(figsize=(18,12))\n",
        "ax = sns.heatmap(df.corr(), cmap='RdBu', annot=True)\n",
        "plt.show()"
      ],
      "execution_count": 75,
      "outputs": [
        {
          "output_type": "display_data",
          "data": {
            "image/png": "[encoded data removed]",
            "text/plain": [
              "<Figure size 1296x864 with 2 Axes>"
            ]
          },
          "metadata": {
            "tags": [],
            "needs_background": "light"
          }
        }
      ]
    },
    {
      "cell_type": "markdown",
      "metadata": {
        "id": "rwnXiKKIxpth",
        "colab_type": "text"
      },
      "source": [
        "Based on the heatmap, we have these findings:\n",
        "\n",
        "- Administrative has a strong positive correlation with Administrative  duration. Also, these two terms have some correlation with the Informational, informational_Duration. These two terms have a negative correlation with Product related and ProductRelated_Duration \n",
        "\n",
        "- Product related is closely correlated with ProductRelated_Duration. These two terms have some negative correlation with the Exit Rate and Page values.\n",
        "\n",
        "\n",
        "- Bounce Rate is correlated with the Exit Rate.\n",
        "\n",
        "\n",
        "- OperatingSystem has some correlation with Browser and Traffic Type.\n",
        "\n",
        "- Special Day has some negative correlation with months."
      ]
    },
    {
      "cell_type": "code",
      "metadata": {
        "id": "0HiZoj3Pqh49",
        "colab_type": "code",
        "colab": {
          "base_uri": "https://localhost:8080/",
          "height": 430
        },
        "outputId": "63b3a9cf-42a6-47fb-e400-9e50e52002d3"
      },
      "source": [
        "df.info()"
      ],
      "execution_count": 76,
      "outputs": [
        {
          "output_type": "stream",
          "text": [
            "<class 'pandas.core.frame.DataFrame'>\n",
            "RangeIndex: 12330 entries, 0 to 12329\n",
            "Data columns (total 17 columns):\n",
            " #   Column                   Non-Null Count  Dtype  \n",
            "---  ------                   --------------  -----  \n",
            " 0   Administrative           12330 non-null  int64  \n",
            " 1   Administrative_Duration  12330 non-null  float64\n",
            " 2   Informational            12330 non-null  int64  \n",
            " 3   Informational_Duration   12330 non-null  float64\n",
            " 4   ProductRelated           12330 non-null  int64  \n",
            " 5   ProductRelated_Duration  12330 non-null  float64\n",
            " 6   BounceRates              12330 non-null  float64\n",
            " 7   ExitRates                12330 non-null  float64\n",
            " 8   PageValues               12330 non-null  float64\n",
            " 9   SpecialDay               12330 non-null  float64\n",
            " 10  Month                    12330 non-null  int64  \n",
            " 11  OperatingSystems         12330 non-null  int64  \n",
            " 12  Browser                  12330 non-null  int64  \n",
            " 13  Region                   12330 non-null  int64  \n",
            " 14  TrafficType              12330 non-null  int64  \n",
            " 15  VisitorType              12330 non-null  object \n",
            " 16  Weekend                  12330 non-null  int64  \n",
            "dtypes: float64(7), int64(9), object(1)\n",
            "memory usage: 1.6+ MB\n"
          ],
          "name": "stdout"
        }
      ]
    },
    {
      "cell_type": "code",
      "metadata": {
        "id": "fGrEBl8s8X_v",
        "colab_type": "code",
        "colab": {
          "base_uri": "https://localhost:8080/",
          "height": 224
        },
        "outputId": "5f85f7c4-1a9d-41cb-b1e1-ceac173ada0b"
      },
      "source": [
        "df.head()"
      ],
      "execution_count": 77,
      "outputs": [
        {
          "output_type": "execute_result",
          "data": {
            "text/html": [
              "<div>\n",
              "<style scoped>\n",
              "    .dataframe tbody tr th:only-of-type {\n",
              "        vertical-align: middle;\n",
              "    }\n",
              "\n",
              "    .dataframe tbody tr th {\n",
              "        vertical-align: top;\n",
              "    }\n",
              "\n",
              "    .dataframe thead th {\n",
              "        text-align: right;\n",
              "    }\n",
              "</style>\n",
              "<table border=\"1\" class=\"dataframe\">\n",
              "  <thead>\n",
              "    <tr style=\"text-align: right;\">\n",
              "      <th></th>\n",
              "      <th>Administrative</th>\n",
              "      <th>Administrative_Duration</th>\n",
              "      <th>Informational</th>\n",
              "      <th>Informational_Duration</th>\n",
              "      <th>ProductRelated</th>\n",
              "      <th>ProductRelated_Duration</th>\n",
              "      <th>BounceRates</th>\n",
              "      <th>ExitRates</th>\n",
              "      <th>PageValues</th>\n",
              "      <th>SpecialDay</th>\n",
              "      <th>Month</th>\n",
              "      <th>OperatingSystems</th>\n",
              "      <th>Browser</th>\n",
              "      <th>Region</th>\n",
              "      <th>TrafficType</th>\n",
              "      <th>VisitorType</th>\n",
              "      <th>Weekend</th>\n",
              "    </tr>\n",
              "  </thead>\n",
              "  <tbody>\n",
              "    <tr>\n",
              "      <th>0</th>\n",
              "      <td>0</td>\n",
              "      <td>0.0</td>\n",
              "      <td>0</td>\n",
              "      <td>0.0</td>\n",
              "      <td>8</td>\n",
              "      <td>222.000000</td>\n",
              "      <td>0.000000</td>\n",
              "      <td>0.028571</td>\n",
              "      <td>53.474571</td>\n",
              "      <td>0.0</td>\n",
              "      <td>5</td>\n",
              "      <td>1</td>\n",
              "      <td>1</td>\n",
              "      <td>1</td>\n",
              "      <td>2</td>\n",
              "      <td>New_Visitor</td>\n",
              "      <td>0</td>\n",
              "    </tr>\n",
              "    <tr>\n",
              "      <th>1</th>\n",
              "      <td>0</td>\n",
              "      <td>0.0</td>\n",
              "      <td>0</td>\n",
              "      <td>0.0</td>\n",
              "      <td>14</td>\n",
              "      <td>1037.500000</td>\n",
              "      <td>0.014286</td>\n",
              "      <td>0.047619</td>\n",
              "      <td>0.000000</td>\n",
              "      <td>0.0</td>\n",
              "      <td>3</td>\n",
              "      <td>2</td>\n",
              "      <td>2</td>\n",
              "      <td>4</td>\n",
              "      <td>2</td>\n",
              "      <td>Returning_Visitor</td>\n",
              "      <td>1</td>\n",
              "    </tr>\n",
              "    <tr>\n",
              "      <th>2</th>\n",
              "      <td>4</td>\n",
              "      <td>37.5</td>\n",
              "      <td>2</td>\n",
              "      <td>82.0</td>\n",
              "      <td>4</td>\n",
              "      <td>96.625000</td>\n",
              "      <td>0.000000</td>\n",
              "      <td>0.017500</td>\n",
              "      <td>0.000000</td>\n",
              "      <td>0.0</td>\n",
              "      <td>11</td>\n",
              "      <td>2</td>\n",
              "      <td>2</td>\n",
              "      <td>9</td>\n",
              "      <td>2</td>\n",
              "      <td>New_Visitor</td>\n",
              "      <td>1</td>\n",
              "    </tr>\n",
              "    <tr>\n",
              "      <th>3</th>\n",
              "      <td>4</td>\n",
              "      <td>115.7</td>\n",
              "      <td>0</td>\n",
              "      <td>0.0</td>\n",
              "      <td>16</td>\n",
              "      <td>655.383333</td>\n",
              "      <td>0.000000</td>\n",
              "      <td>0.012037</td>\n",
              "      <td>0.000000</td>\n",
              "      <td>0.0</td>\n",
              "      <td>11</td>\n",
              "      <td>1</td>\n",
              "      <td>1</td>\n",
              "      <td>2</td>\n",
              "      <td>3</td>\n",
              "      <td>Returning_Visitor</td>\n",
              "      <td>1</td>\n",
              "    </tr>\n",
              "    <tr>\n",
              "      <th>4</th>\n",
              "      <td>1</td>\n",
              "      <td>60.0</td>\n",
              "      <td>1</td>\n",
              "      <td>15.0</td>\n",
              "      <td>26</td>\n",
              "      <td>670.166667</td>\n",
              "      <td>0.000000</td>\n",
              "      <td>0.003846</td>\n",
              "      <td>0.000000</td>\n",
              "      <td>0.0</td>\n",
              "      <td>5</td>\n",
              "      <td>2</td>\n",
              "      <td>2</td>\n",
              "      <td>3</td>\n",
              "      <td>4</td>\n",
              "      <td>Returning_Visitor</td>\n",
              "      <td>1</td>\n",
              "    </tr>\n",
              "  </tbody>\n",
              "</table>\n",
              "</div>"
            ],
            "text/plain": [
              "   Administrative  Administrative_Duration  ...        VisitorType  Weekend\n",
              "0               0                      0.0  ...        New_Visitor        0\n",
              "1               0                      0.0  ...  Returning_Visitor        1\n",
              "2               4                     37.5  ...        New_Visitor        1\n",
              "3               4                    115.7  ...  Returning_Visitor        1\n",
              "4               1                     60.0  ...  Returning_Visitor        1\n",
              "\n",
              "[5 rows x 17 columns]"
            ]
          },
          "metadata": {
            "tags": []
          },
          "execution_count": 77
        }
      ]
    },
    {
      "cell_type": "markdown",
      "metadata": {
        "id": "2qLuDCVVjZmz",
        "colab_type": "text"
      },
      "source": [
        "When we check data again, we know this Visitor Type may cause trouble later since it is still categorical."
      ]
    },
    {
      "cell_type": "markdown",
      "metadata": {
        "id": "5dMekgX2ChcN",
        "colab_type": "text"
      },
      "source": [
        "For this categorical data, since it does not require order, we can either use dummy or one hot encoder to change the categorical data into numeric data. In our case, although one hot encoder will add our dimensionality, it is suitable to use in this data set since the visitor attribute has only three different values. "
      ]
    },
    {
      "cell_type": "code",
      "metadata": {
        "id": "R4av4gZx9vpq",
        "colab_type": "code",
        "colab": {
          "base_uri": "https://localhost:8080/",
          "height": 223
        },
        "outputId": "4cfcfeba-8586-4aea-8fc6-c3361e1f559f"
      },
      "source": [
        "X = df.iloc[:,-2]\n",
        "X"
      ],
      "execution_count": 78,
      "outputs": [
        {
          "output_type": "execute_result",
          "data": {
            "text/plain": [
              "0              New_Visitor\n",
              "1        Returning_Visitor\n",
              "2              New_Visitor\n",
              "3        Returning_Visitor\n",
              "4        Returning_Visitor\n",
              "               ...        \n",
              "12325    Returning_Visitor\n",
              "12326    Returning_Visitor\n",
              "12327    Returning_Visitor\n",
              "12328    Returning_Visitor\n",
              "12329    Returning_Visitor\n",
              "Name: VisitorType, Length: 12330, dtype: object"
            ]
          },
          "metadata": {
            "tags": []
          },
          "execution_count": 78
        }
      ]
    },
    {
      "cell_type": "code",
      "metadata": {
        "id": "NdCxzwarqiH0",
        "colab_type": "code",
        "colab": {
          "base_uri": "https://localhost:8080/",
          "height": 420
        },
        "outputId": "8d26ac59-91a7-4d85-e225-66d34c9baa91"
      },
      "source": [
        "#  labelencoder\n",
        "from sklearn import preprocessing\n",
        "\n",
        "df_le = pd.DataFrame(data = df.VisitorType)\n",
        "df_le"
      ],
      "execution_count": 79,
      "outputs": [
        {
          "output_type": "execute_result",
          "data": {
            "text/html": [
              "<div>\n",
              "<style scoped>\n",
              "    .dataframe tbody tr th:only-of-type {\n",
              "        vertical-align: middle;\n",
              "    }\n",
              "\n",
              "    .dataframe tbody tr th {\n",
              "        vertical-align: top;\n",
              "    }\n",
              "\n",
              "    .dataframe thead th {\n",
              "        text-align: right;\n",
              "    }\n",
              "</style>\n",
              "<table border=\"1\" class=\"dataframe\">\n",
              "  <thead>\n",
              "    <tr style=\"text-align: right;\">\n",
              "      <th></th>\n",
              "      <th>VisitorType</th>\n",
              "    </tr>\n",
              "  </thead>\n",
              "  <tbody>\n",
              "    <tr>\n",
              "      <th>0</th>\n",
              "      <td>New_Visitor</td>\n",
              "    </tr>\n",
              "    <tr>\n",
              "      <th>1</th>\n",
              "      <td>Returning_Visitor</td>\n",
              "    </tr>\n",
              "    <tr>\n",
              "      <th>2</th>\n",
              "      <td>New_Visitor</td>\n",
              "    </tr>\n",
              "    <tr>\n",
              "      <th>3</th>\n",
              "      <td>Returning_Visitor</td>\n",
              "    </tr>\n",
              "    <tr>\n",
              "      <th>4</th>\n",
              "      <td>Returning_Visitor</td>\n",
              "    </tr>\n",
              "    <tr>\n",
              "      <th>...</th>\n",
              "      <td>...</td>\n",
              "    </tr>\n",
              "    <tr>\n",
              "      <th>12325</th>\n",
              "      <td>Returning_Visitor</td>\n",
              "    </tr>\n",
              "    <tr>\n",
              "      <th>12326</th>\n",
              "      <td>Returning_Visitor</td>\n",
              "    </tr>\n",
              "    <tr>\n",
              "      <th>12327</th>\n",
              "      <td>Returning_Visitor</td>\n",
              "    </tr>\n",
              "    <tr>\n",
              "      <th>12328</th>\n",
              "      <td>Returning_Visitor</td>\n",
              "    </tr>\n",
              "    <tr>\n",
              "      <th>12329</th>\n",
              "      <td>Returning_Visitor</td>\n",
              "    </tr>\n",
              "  </tbody>\n",
              "</table>\n",
              "<p>12330 rows × 1 columns</p>\n",
              "</div>"
            ],
            "text/plain": [
              "             VisitorType\n",
              "0            New_Visitor\n",
              "1      Returning_Visitor\n",
              "2            New_Visitor\n",
              "3      Returning_Visitor\n",
              "4      Returning_Visitor\n",
              "...                  ...\n",
              "12325  Returning_Visitor\n",
              "12326  Returning_Visitor\n",
              "12327  Returning_Visitor\n",
              "12328  Returning_Visitor\n",
              "12329  Returning_Visitor\n",
              "\n",
              "[12330 rows x 1 columns]"
            ]
          },
          "metadata": {
            "tags": []
          },
          "execution_count": 79
        }
      ]
    },
    {
      "cell_type": "code",
      "metadata": {
        "id": "qQfVhWwb6PNv",
        "colab_type": "code",
        "colab": {
          "base_uri": "https://localhost:8080/",
          "height": 85
        },
        "outputId": "598a5b88-bc07-40ed-ed63-55e96b13cc97"
      },
      "source": [
        "# creating instance of labelencoder\n",
        "labelencoder = preprocessing.LabelEncoder()\n",
        "# Assigning numerical values and storing in another column\n",
        "df_le['labelencoder'] = labelencoder.fit_transform(df_le['VisitorType'])\n",
        "df_le.labelencoder.value_counts()"
      ],
      "execution_count": 80,
      "outputs": [
        {
          "output_type": "execute_result",
          "data": {
            "text/plain": [
              "2    10551\n",
              "0     1694\n",
              "1       85\n",
              "Name: labelencoder, dtype: int64"
            ]
          },
          "metadata": {
            "tags": []
          },
          "execution_count": 80
        }
      ]
    },
    {
      "cell_type": "markdown",
      "metadata": {
        "id": "9FrfPARJDkth",
        "colab_type": "text"
      },
      "source": [
        "Based on previous diagram, we knew 2 is assigned to returning visitor, 0 is assigned to new customer, and 1 is for otthers. "
      ]
    },
    {
      "cell_type": "code",
      "metadata": {
        "id": "C-4XnlkSqik6",
        "colab_type": "code",
        "colab": {
          "base_uri": "https://localhost:8080/",
          "height": 420
        },
        "outputId": "6163a4b4-336e-4314-8858-45f4095a9374"
      },
      "source": [
        "# one-hot\n",
        "from sklearn.preprocessing import OneHotEncoder\n",
        "# creating instance of one-hot-encoder\n",
        "enc = OneHotEncoder(handle_unknown='ignore')\n",
        "# passing bridge-types-cat column (label encoded values of bridge_types)\n",
        "enc_df = pd.DataFrame(enc.fit_transform(df_le[['VisitorType']]).toarray())\n",
        "enc_df"
      ],
      "execution_count": 81,
      "outputs": [
        {
          "output_type": "execute_result",
          "data": {
            "text/html": [
              "<div>\n",
              "<style scoped>\n",
              "    .dataframe tbody tr th:only-of-type {\n",
              "        vertical-align: middle;\n",
              "    }\n",
              "\n",
              "    .dataframe tbody tr th {\n",
              "        vertical-align: top;\n",
              "    }\n",
              "\n",
              "    .dataframe thead th {\n",
              "        text-align: right;\n",
              "    }\n",
              "</style>\n",
              "<table border=\"1\" class=\"dataframe\">\n",
              "  <thead>\n",
              "    <tr style=\"text-align: right;\">\n",
              "      <th></th>\n",
              "      <th>0</th>\n",
              "      <th>1</th>\n",
              "      <th>2</th>\n",
              "    </tr>\n",
              "  </thead>\n",
              "  <tbody>\n",
              "    <tr>\n",
              "      <th>0</th>\n",
              "      <td>1.0</td>\n",
              "      <td>0.0</td>\n",
              "      <td>0.0</td>\n",
              "    </tr>\n",
              "    <tr>\n",
              "      <th>1</th>\n",
              "      <td>0.0</td>\n",
              "      <td>0.0</td>\n",
              "      <td>1.0</td>\n",
              "    </tr>\n",
              "    <tr>\n",
              "      <th>2</th>\n",
              "      <td>1.0</td>\n",
              "      <td>0.0</td>\n",
              "      <td>0.0</td>\n",
              "    </tr>\n",
              "    <tr>\n",
              "      <th>3</th>\n",
              "      <td>0.0</td>\n",
              "      <td>0.0</td>\n",
              "      <td>1.0</td>\n",
              "    </tr>\n",
              "    <tr>\n",
              "      <th>4</th>\n",
              "      <td>0.0</td>\n",
              "      <td>0.0</td>\n",
              "      <td>1.0</td>\n",
              "    </tr>\n",
              "    <tr>\n",
              "      <th>...</th>\n",
              "      <td>...</td>\n",
              "      <td>...</td>\n",
              "      <td>...</td>\n",
              "    </tr>\n",
              "    <tr>\n",
              "      <th>12325</th>\n",
              "      <td>0.0</td>\n",
              "      <td>0.0</td>\n",
              "      <td>1.0</td>\n",
              "    </tr>\n",
              "    <tr>\n",
              "      <th>12326</th>\n",
              "      <td>0.0</td>\n",
              "      <td>0.0</td>\n",
              "      <td>1.0</td>\n",
              "    </tr>\n",
              "    <tr>\n",
              "      <th>12327</th>\n",
              "      <td>0.0</td>\n",
              "      <td>0.0</td>\n",
              "      <td>1.0</td>\n",
              "    </tr>\n",
              "    <tr>\n",
              "      <th>12328</th>\n",
              "      <td>0.0</td>\n",
              "      <td>0.0</td>\n",
              "      <td>1.0</td>\n",
              "    </tr>\n",
              "    <tr>\n",
              "      <th>12329</th>\n",
              "      <td>0.0</td>\n",
              "      <td>0.0</td>\n",
              "      <td>1.0</td>\n",
              "    </tr>\n",
              "  </tbody>\n",
              "</table>\n",
              "<p>12330 rows × 3 columns</p>\n",
              "</div>"
            ],
            "text/plain": [
              "         0    1    2\n",
              "0      1.0  0.0  0.0\n",
              "1      0.0  0.0  1.0\n",
              "2      1.0  0.0  0.0\n",
              "3      0.0  0.0  1.0\n",
              "4      0.0  0.0  1.0\n",
              "...    ...  ...  ...\n",
              "12325  0.0  0.0  1.0\n",
              "12326  0.0  0.0  1.0\n",
              "12327  0.0  0.0  1.0\n",
              "12328  0.0  0.0  1.0\n",
              "12329  0.0  0.0  1.0\n",
              "\n",
              "[12330 rows x 3 columns]"
            ]
          },
          "metadata": {
            "tags": []
          },
          "execution_count": 81
        }
      ]
    },
    {
      "cell_type": "code",
      "metadata": {
        "id": "tIwb81Txf1_E",
        "colab_type": "code",
        "colab": {}
      },
      "source": [
        "enc_df.rename(columns={0: 'Visitor_0', 1: 'Visitor_1',2: 'Visitor_2'},inplace=True)"
      ],
      "execution_count": 82,
      "outputs": []
    },
    {
      "cell_type": "markdown",
      "metadata": {
        "id": "ZZRBOSq-I9Gn",
        "colab_type": "text"
      },
      "source": [
        "In order to avoid the error caused by binary indices(such as 0), we add prefix for it.  "
      ]
    },
    {
      "cell_type": "code",
      "metadata": {
        "id": "JVmF3QEYD285",
        "colab_type": "code",
        "colab": {
          "base_uri": "https://localhost:8080/",
          "height": 224
        },
        "outputId": "696779a1-e298-44f4-b39f-0ee8e155161e"
      },
      "source": [
        "df.drop(columns = 'VisitorType',inplace=True)\n",
        "new = pd.concat([df, enc_df],axis=1)\n",
        "new.head()"
      ],
      "execution_count": 83,
      "outputs": [
        {
          "output_type": "execute_result",
          "data": {
            "text/html": [
              "<div>\n",
              "<style scoped>\n",
              "    .dataframe tbody tr th:only-of-type {\n",
              "        vertical-align: middle;\n",
              "    }\n",
              "\n",
              "    .dataframe tbody tr th {\n",
              "        vertical-align: top;\n",
              "    }\n",
              "\n",
              "    .dataframe thead th {\n",
              "        text-align: right;\n",
              "    }\n",
              "</style>\n",
              "<table border=\"1\" class=\"dataframe\">\n",
              "  <thead>\n",
              "    <tr style=\"text-align: right;\">\n",
              "      <th></th>\n",
              "      <th>Administrative</th>\n",
              "      <th>Administrative_Duration</th>\n",
              "      <th>Informational</th>\n",
              "      <th>Informational_Duration</th>\n",
              "      <th>ProductRelated</th>\n",
              "      <th>ProductRelated_Duration</th>\n",
              "      <th>BounceRates</th>\n",
              "      <th>ExitRates</th>\n",
              "      <th>PageValues</th>\n",
              "      <th>SpecialDay</th>\n",
              "      <th>Month</th>\n",
              "      <th>OperatingSystems</th>\n",
              "      <th>Browser</th>\n",
              "      <th>Region</th>\n",
              "      <th>TrafficType</th>\n",
              "      <th>Weekend</th>\n",
              "      <th>Visitor_0</th>\n",
              "      <th>Visitor_1</th>\n",
              "      <th>Visitor_2</th>\n",
              "    </tr>\n",
              "  </thead>\n",
              "  <tbody>\n",
              "    <tr>\n",
              "      <th>0</th>\n",
              "      <td>0</td>\n",
              "      <td>0.0</td>\n",
              "      <td>0</td>\n",
              "      <td>0.0</td>\n",
              "      <td>8</td>\n",
              "      <td>222.000000</td>\n",
              "      <td>0.000000</td>\n",
              "      <td>0.028571</td>\n",
              "      <td>53.474571</td>\n",
              "      <td>0.0</td>\n",
              "      <td>5</td>\n",
              "      <td>1</td>\n",
              "      <td>1</td>\n",
              "      <td>1</td>\n",
              "      <td>2</td>\n",
              "      <td>0</td>\n",
              "      <td>1.0</td>\n",
              "      <td>0.0</td>\n",
              "      <td>0.0</td>\n",
              "    </tr>\n",
              "    <tr>\n",
              "      <th>1</th>\n",
              "      <td>0</td>\n",
              "      <td>0.0</td>\n",
              "      <td>0</td>\n",
              "      <td>0.0</td>\n",
              "      <td>14</td>\n",
              "      <td>1037.500000</td>\n",
              "      <td>0.014286</td>\n",
              "      <td>0.047619</td>\n",
              "      <td>0.000000</td>\n",
              "      <td>0.0</td>\n",
              "      <td>3</td>\n",
              "      <td>2</td>\n",
              "      <td>2</td>\n",
              "      <td>4</td>\n",
              "      <td>2</td>\n",
              "      <td>1</td>\n",
              "      <td>0.0</td>\n",
              "      <td>0.0</td>\n",
              "      <td>1.0</td>\n",
              "    </tr>\n",
              "    <tr>\n",
              "      <th>2</th>\n",
              "      <td>4</td>\n",
              "      <td>37.5</td>\n",
              "      <td>2</td>\n",
              "      <td>82.0</td>\n",
              "      <td>4</td>\n",
              "      <td>96.625000</td>\n",
              "      <td>0.000000</td>\n",
              "      <td>0.017500</td>\n",
              "      <td>0.000000</td>\n",
              "      <td>0.0</td>\n",
              "      <td>11</td>\n",
              "      <td>2</td>\n",
              "      <td>2</td>\n",
              "      <td>9</td>\n",
              "      <td>2</td>\n",
              "      <td>1</td>\n",
              "      <td>1.0</td>\n",
              "      <td>0.0</td>\n",
              "      <td>0.0</td>\n",
              "    </tr>\n",
              "    <tr>\n",
              "      <th>3</th>\n",
              "      <td>4</td>\n",
              "      <td>115.7</td>\n",
              "      <td>0</td>\n",
              "      <td>0.0</td>\n",
              "      <td>16</td>\n",
              "      <td>655.383333</td>\n",
              "      <td>0.000000</td>\n",
              "      <td>0.012037</td>\n",
              "      <td>0.000000</td>\n",
              "      <td>0.0</td>\n",
              "      <td>11</td>\n",
              "      <td>1</td>\n",
              "      <td>1</td>\n",
              "      <td>2</td>\n",
              "      <td>3</td>\n",
              "      <td>1</td>\n",
              "      <td>0.0</td>\n",
              "      <td>0.0</td>\n",
              "      <td>1.0</td>\n",
              "    </tr>\n",
              "    <tr>\n",
              "      <th>4</th>\n",
              "      <td>1</td>\n",
              "      <td>60.0</td>\n",
              "      <td>1</td>\n",
              "      <td>15.0</td>\n",
              "      <td>26</td>\n",
              "      <td>670.166667</td>\n",
              "      <td>0.000000</td>\n",
              "      <td>0.003846</td>\n",
              "      <td>0.000000</td>\n",
              "      <td>0.0</td>\n",
              "      <td>5</td>\n",
              "      <td>2</td>\n",
              "      <td>2</td>\n",
              "      <td>3</td>\n",
              "      <td>4</td>\n",
              "      <td>1</td>\n",
              "      <td>0.0</td>\n",
              "      <td>0.0</td>\n",
              "      <td>1.0</td>\n",
              "    </tr>\n",
              "  </tbody>\n",
              "</table>\n",
              "</div>"
            ],
            "text/plain": [
              "   Administrative  Administrative_Duration  ...  Visitor_1  Visitor_2\n",
              "0               0                      0.0  ...        0.0        0.0\n",
              "1               0                      0.0  ...        0.0        1.0\n",
              "2               4                     37.5  ...        0.0        0.0\n",
              "3               4                    115.7  ...        0.0        1.0\n",
              "4               1                     60.0  ...        0.0        1.0\n",
              "\n",
              "[5 rows x 19 columns]"
            ]
          },
          "metadata": {
            "tags": []
          },
          "execution_count": 83
        }
      ]
    },
    {
      "cell_type": "markdown",
      "metadata": {
        "id": "SyxAMya8kZoU",
        "colab_type": "text"
      },
      "source": [
        "After these preclustering preparation, we can now build our clustering models."
      ]
    },
    {
      "cell_type": "markdown",
      "metadata": {
        "id": "hdqsa20sby0C",
        "colab_type": "text"
      },
      "source": [
        "##  Cluster Modeling & Post-Clustering Exploratory Data Analysis "
      ]
    },
    {
      "cell_type": "markdown",
      "metadata": {
        "id": "Gz9PpVwRb0xj",
        "colab_type": "text"
      },
      "source": [
        "Firstly, we start with  hierarchical clustering. We also plot some related plots."
      ]
    },
    {
      "cell_type": "markdown",
      "metadata": {
        "id": "QHd35jmwcCsS",
        "colab_type": "text"
      },
      "source": [
        "### hierarchical clustering"
      ]
    },
    {
      "cell_type": "code",
      "metadata": {
        "id": "DYexI_Qxa7IM",
        "colab_type": "code",
        "colab": {}
      },
      "source": [
        "from sklearn import preprocessing\n",
        "\n",
        "X_std = preprocessing.StandardScaler().fit_transform(new)\n",
        "\n",
        "#X_std = df[['Administrative','Administrative_Duration','BounceRates','ExitRates','Region','OperatingSystems','Browser','TrafficType','Month','Weekend','SpecialDay']]\n",
        "#km = KMeans(2, random_state=42)\n",
        "#km.fit(X_std)\n",
        "\n",
        "#X_std.head()"
      ],
      "execution_count": 84,
      "outputs": []
    },
    {
      "cell_type": "code",
      "metadata": {
        "id": "GEeYx4sbJUq0",
        "colab_type": "code",
        "colab": {
          "base_uri": "https://localhost:8080/",
          "height": 668
        },
        "outputId": "3644bbd1-54b5-4ff1-801f-7c1014efb779"
      },
      "source": [
        "from scipy.cluster import hierarchy\n",
        "fig, ax = plt.subplots(figsize=(18, 12))\n",
        "dend = hierarchy.dendrogram(\n",
        "    hierarchy.linkage(X_std, method=\"ward\"),\n",
        "    truncate_mode=\"lastp\",\n",
        "    p=20,\n",
        "    show_contracted=True)"
      ],
      "execution_count": 85,
      "outputs": [
        {
          "output_type": "display_data",
          "data": {
            "image/png": "[encoded data removed]",
            "text/plain": [
              "<Figure size 1296x864 with 1 Axes>"
            ]
          },
          "metadata": {
            "tags": [],
            "needs_background": "light"
          }
        }
      ]
    },
    {
      "cell_type": "markdown",
      "metadata": {
        "id": "heH2hlenbdN9",
        "colab_type": "text"
      },
      "source": [
        "From this linkage function, based on our testing, the parameter for 'ward' estimation gives us the best performance of it. Theoritical, Ward is based on ANOVA, and if the clustering is reasonable, the value should be small enough. Generally, Ward method is better than these of centroid, median or average method. "
      ]
    },
    {
      "cell_type": "markdown",
      "metadata": {
        "id": "KiHmVfohJzG5",
        "colab_type": "text"
      },
      "source": [
        "Based on this Dendogram, it is clear we can have two to three clusters.Based on our prior knowledge of what the target variable should look like, we still decide it to be 2 clusters."
      ]
    },
    {
      "cell_type": "code",
      "metadata": {
        "id": "Sg5fBBwHJUzP",
        "colab_type": "code",
        "colab": {
          "base_uri": "https://localhost:8080/",
          "height": 68
        },
        "outputId": "180a35dc-67a9-49c8-8dec-f308295d9678"
      },
      "source": [
        "from sklearn.cluster import AgglomerativeClustering\n",
        "ag = AgglomerativeClustering(\n",
        "    n_clusters=2,\n",
        "    affinity=\"euclidean\",\n",
        "    linkage=\"ward\", #ward minimizes the variance of the clusters being merged.\n",
        ")\n",
        "ag.fit(new)"
      ],
      "execution_count": 86,
      "outputs": [
        {
          "output_type": "execute_result",
          "data": {
            "text/plain": [
              "AgglomerativeClustering(affinity='euclidean', compute_full_tree='auto',\n",
              "                        connectivity=None, distance_threshold=None,\n",
              "                        linkage='ward', memory=None, n_clusters=2)"
            ]
          },
          "metadata": {
            "tags": []
          },
          "execution_count": 86
        }
      ]
    },
    {
      "cell_type": "markdown",
      "metadata": {
        "id": "B891KNcGlEPj",
        "colab_type": "text"
      },
      "source": [
        "Then we tried to put clustered result into our data frame. "
      ]
    },
    {
      "cell_type": "code",
      "metadata": {
        "id": "bsr7s93bPWpk",
        "colab_type": "code",
        "colab": {}
      },
      "source": [
        "temp = ag.fit_predict(new)"
      ],
      "execution_count": 87,
      "outputs": []
    },
    {
      "cell_type": "code",
      "metadata": {
        "id": "F2C4TeiAQPsZ",
        "colab_type": "code",
        "colab": {}
      },
      "source": [
        "temp = temp.tolist()"
      ],
      "execution_count": 88,
      "outputs": []
    },
    {
      "cell_type": "code",
      "metadata": {
        "id": "H8LeP8C3dZqd",
        "colab_type": "code",
        "colab": {}
      },
      "source": [
        "df_r = new.copy()"
      ],
      "execution_count": 89,
      "outputs": []
    },
    {
      "cell_type": "code",
      "metadata": {
        "id": "AKXEG-M-Pr6r",
        "colab_type": "code",
        "colab": {}
      },
      "source": [
        "df_r[\"Revenue\"] = temp"
      ],
      "execution_count": 90,
      "outputs": []
    },
    {
      "cell_type": "code",
      "metadata": {
        "id": "SgMFZ50xP2K4",
        "colab_type": "code",
        "colab": {
          "base_uri": "https://localhost:8080/",
          "height": 224
        },
        "outputId": "c24814ee-74be-4c57-a5d8-0aca74e684e1"
      },
      "source": [
        "df_r.head()"
      ],
      "execution_count": 91,
      "outputs": [
        {
          "output_type": "execute_result",
          "data": {
            "text/html": [
              "<div>\n",
              "<style scoped>\n",
              "    .dataframe tbody tr th:only-of-type {\n",
              "        vertical-align: middle;\n",
              "    }\n",
              "\n",
              "    .dataframe tbody tr th {\n",
              "        vertical-align: top;\n",
              "    }\n",
              "\n",
              "    .dataframe thead th {\n",
              "        text-align: right;\n",
              "    }\n",
              "</style>\n",
              "<table border=\"1\" class=\"dataframe\">\n",
              "  <thead>\n",
              "    <tr style=\"text-align: right;\">\n",
              "      <th></th>\n",
              "      <th>Administrative</th>\n",
              "      <th>Administrative_Duration</th>\n",
              "      <th>Informational</th>\n",
              "      <th>Informational_Duration</th>\n",
              "      <th>ProductRelated</th>\n",
              "      <th>ProductRelated_Duration</th>\n",
              "      <th>BounceRates</th>\n",
              "      <th>ExitRates</th>\n",
              "      <th>PageValues</th>\n",
              "      <th>SpecialDay</th>\n",
              "      <th>Month</th>\n",
              "      <th>OperatingSystems</th>\n",
              "      <th>Browser</th>\n",
              "      <th>Region</th>\n",
              "      <th>TrafficType</th>\n",
              "      <th>Weekend</th>\n",
              "      <th>Visitor_0</th>\n",
              "      <th>Visitor_1</th>\n",
              "      <th>Visitor_2</th>\n",
              "      <th>Revenue</th>\n",
              "    </tr>\n",
              "  </thead>\n",
              "  <tbody>\n",
              "    <tr>\n",
              "      <th>0</th>\n",
              "      <td>0</td>\n",
              "      <td>0.0</td>\n",
              "      <td>0</td>\n",
              "      <td>0.0</td>\n",
              "      <td>8</td>\n",
              "      <td>222.000000</td>\n",
              "      <td>0.000000</td>\n",
              "      <td>0.028571</td>\n",
              "      <td>53.474571</td>\n",
              "      <td>0.0</td>\n",
              "      <td>5</td>\n",
              "      <td>1</td>\n",
              "      <td>1</td>\n",
              "      <td>1</td>\n",
              "      <td>2</td>\n",
              "      <td>0</td>\n",
              "      <td>1.0</td>\n",
              "      <td>0.0</td>\n",
              "      <td>0.0</td>\n",
              "      <td>0</td>\n",
              "    </tr>\n",
              "    <tr>\n",
              "      <th>1</th>\n",
              "      <td>0</td>\n",
              "      <td>0.0</td>\n",
              "      <td>0</td>\n",
              "      <td>0.0</td>\n",
              "      <td>14</td>\n",
              "      <td>1037.500000</td>\n",
              "      <td>0.014286</td>\n",
              "      <td>0.047619</td>\n",
              "      <td>0.000000</td>\n",
              "      <td>0.0</td>\n",
              "      <td>3</td>\n",
              "      <td>2</td>\n",
              "      <td>2</td>\n",
              "      <td>4</td>\n",
              "      <td>2</td>\n",
              "      <td>1</td>\n",
              "      <td>0.0</td>\n",
              "      <td>0.0</td>\n",
              "      <td>1.0</td>\n",
              "      <td>0</td>\n",
              "    </tr>\n",
              "    <tr>\n",
              "      <th>2</th>\n",
              "      <td>4</td>\n",
              "      <td>37.5</td>\n",
              "      <td>2</td>\n",
              "      <td>82.0</td>\n",
              "      <td>4</td>\n",
              "      <td>96.625000</td>\n",
              "      <td>0.000000</td>\n",
              "      <td>0.017500</td>\n",
              "      <td>0.000000</td>\n",
              "      <td>0.0</td>\n",
              "      <td>11</td>\n",
              "      <td>2</td>\n",
              "      <td>2</td>\n",
              "      <td>9</td>\n",
              "      <td>2</td>\n",
              "      <td>1</td>\n",
              "      <td>1.0</td>\n",
              "      <td>0.0</td>\n",
              "      <td>0.0</td>\n",
              "      <td>0</td>\n",
              "    </tr>\n",
              "    <tr>\n",
              "      <th>3</th>\n",
              "      <td>4</td>\n",
              "      <td>115.7</td>\n",
              "      <td>0</td>\n",
              "      <td>0.0</td>\n",
              "      <td>16</td>\n",
              "      <td>655.383333</td>\n",
              "      <td>0.000000</td>\n",
              "      <td>0.012037</td>\n",
              "      <td>0.000000</td>\n",
              "      <td>0.0</td>\n",
              "      <td>11</td>\n",
              "      <td>1</td>\n",
              "      <td>1</td>\n",
              "      <td>2</td>\n",
              "      <td>3</td>\n",
              "      <td>1</td>\n",
              "      <td>0.0</td>\n",
              "      <td>0.0</td>\n",
              "      <td>1.0</td>\n",
              "      <td>0</td>\n",
              "    </tr>\n",
              "    <tr>\n",
              "      <th>4</th>\n",
              "      <td>1</td>\n",
              "      <td>60.0</td>\n",
              "      <td>1</td>\n",
              "      <td>15.0</td>\n",
              "      <td>26</td>\n",
              "      <td>670.166667</td>\n",
              "      <td>0.000000</td>\n",
              "      <td>0.003846</td>\n",
              "      <td>0.000000</td>\n",
              "      <td>0.0</td>\n",
              "      <td>5</td>\n",
              "      <td>2</td>\n",
              "      <td>2</td>\n",
              "      <td>3</td>\n",
              "      <td>4</td>\n",
              "      <td>1</td>\n",
              "      <td>0.0</td>\n",
              "      <td>0.0</td>\n",
              "      <td>1.0</td>\n",
              "      <td>0</td>\n",
              "    </tr>\n",
              "  </tbody>\n",
              "</table>\n",
              "</div>"
            ],
            "text/plain": [
              "   Administrative  Administrative_Duration  ...  Visitor_2  Revenue\n",
              "0               0                      0.0  ...        0.0        0\n",
              "1               0                      0.0  ...        1.0        0\n",
              "2               4                     37.5  ...        0.0        0\n",
              "3               4                    115.7  ...        1.0        0\n",
              "4               1                     60.0  ...        1.0        0\n",
              "\n",
              "[5 rows x 20 columns]"
            ]
          },
          "metadata": {
            "tags": []
          },
          "execution_count": 91
        }
      ]
    },
    {
      "cell_type": "code",
      "metadata": {
        "id": "sC4gAChFJUyM",
        "colab_type": "code",
        "colab": {}
      },
      "source": [
        "#plot scatterplot to see how clustering look like\n",
        "#plt.figure(figsize=(10, 7))\n",
        "#plt.scatter(X_std, X_std,  cmap='rainbow')#c=new['Revenue'],"
      ],
      "execution_count": 92,
      "outputs": []
    },
    {
      "cell_type": "markdown",
      "metadata": {
        "id": "H_WQneZtb4kN",
        "colab_type": "text"
      },
      "source": [
        "###  K-means "
      ]
    },
    {
      "cell_type": "code",
      "metadata": {
        "id": "_60ugnp7fAGQ",
        "colab_type": "code",
        "colab": {
          "base_uri": "https://localhost:8080/",
          "height": 68
        },
        "outputId": "ade6d9c4-d362-467c-b40d-3dd20f3b46d4"
      },
      "source": [
        "from sklearn.cluster import KMeans\n",
        "X_std = preprocessing.StandardScaler().fit_transform(new)\n",
        "km = KMeans(2, random_state=42)\n",
        "km.fit(X_std)"
      ],
      "execution_count": 93,
      "outputs": [
        {
          "output_type": "execute_result",
          "data": {
            "text/plain": [
              "KMeans(algorithm='auto', copy_x=True, init='k-means++', max_iter=300,\n",
              "       n_clusters=2, n_init=10, n_jobs=None, precompute_distances='auto',\n",
              "       random_state=42, tol=0.0001, verbose=0)"
            ]
          },
          "metadata": {
            "tags": []
          },
          "execution_count": 93
        }
      ]
    },
    {
      "cell_type": "code",
      "metadata": {
        "id": "hJzIjPBHegy7",
        "colab_type": "code",
        "colab": {
          "base_uri": "https://localhost:8080/",
          "height": 312
        },
        "outputId": "8ef53d17-ea25-492f-f9d9-888901408e1f"
      },
      "source": [
        "#elbow plot\n",
        "inertias = []\n",
        "sizes = range(2, 12)\n",
        "for k in sizes:\n",
        "    k2 = KMeans(random_state=42, n_clusters=k)\n",
        "    k2.fit(X_std)\n",
        "    inertias.append(k2.inertia_)\n",
        "fig, ax = plt.subplots(figsize=(6, 4))\n",
        "pd.Series(inertias, index=sizes).plot(ax=ax)\n",
        "ax.set_xlabel(\"K\")\n",
        "ax.set_ylabel(\"Inertia\")\n",
        "plt.title('elbow plot')"
      ],
      "execution_count": 94,
      "outputs": [
        {
          "output_type": "execute_result",
          "data": {
            "text/plain": [
              "Text(0.5, 1.0, 'elbow plot')"
            ]
          },
          "metadata": {
            "tags": []
          },
          "execution_count": 94
        },
        {
          "output_type": "display_data",
          "data": {
            "image/png": "[encoded data removed]",
            "text/plain": [
              "<Figure size 432x288 with 1 Axes>"
            ]
          },
          "metadata": {
            "tags": [],
            "needs_background": "light"
          }
        }
      ]
    },
    {
      "cell_type": "markdown",
      "metadata": {
        "id": "d3OjJYVsLRR6",
        "colab_type": "text"
      },
      "source": [
        "When we checked the slope of the plot, it is obvious that there is an elbow around k=4, which means that less clusters than that \n",
        "would be bad. K=4 is a pretty good choice."
      ]
    },
    {
      "cell_type": "code",
      "metadata": {
        "id": "BVCnNPM9jvSV",
        "colab_type": "code",
        "colab": {
          "base_uri": "https://localhost:8080/",
          "height": 421
        },
        "outputId": "2852f2a0-d69e-45eb-bc7b-384e32ddacf6"
      },
      "source": [
        "\n",
        "#silhouette plot\n",
        "from sklearn import metrics\n",
        "sils = []\n",
        "sizes = range(2, 10)\n",
        "for k in sizes:\n",
        "    k2 = KMeans(random_state=42, n_clusters=k)\n",
        "    k2.fit(X_std)\n",
        "    sils.append(metrics.silhouette_score(new, k2.labels_))\n",
        "\n",
        "\n",
        "fig, ax = plt.subplots(figsize=(4, 6))\n",
        "pd.Series(sils, index=sizes).plot(ax=ax)\n",
        "ax.set_xlabel(\"K\")\n",
        "ax.set_ylabel(\"sils\")\n",
        "plt.title('silhouette plot')"
      ],
      "execution_count": 95,
      "outputs": [
        {
          "output_type": "execute_result",
          "data": {
            "text/plain": [
              "Text(0.5, 1.0, 'silhouette plot')"
            ]
          },
          "metadata": {
            "tags": []
          },
          "execution_count": 95
        },
        {
          "output_type": "display_data",
          "data": {
            "image/png": "[encoded data removed]",
            "text/plain": [
              "<Figure size 288x432 with 1 Axes>"
            ]
          },
          "metadata": {
            "tags": [],
            "needs_background": "light"
          }
        }
      ]
    },
    {
      "cell_type": "markdown",
      "metadata": {
        "id": "CvuAuzub_YZ1",
        "colab_type": "text"
      },
      "source": [
        "From silhouette plots, it is much clear that around two and three is a good choice. K=3 is a better choice if only checked from this graph."
      ]
    },
    {
      "cell_type": "markdown",
      "metadata": {
        "id": "FNibk0HkhDLs",
        "colab_type": "text"
      },
      "source": [
        "When we compared outputs from both plots and combine both insights. K=3 seems to be one optimal value for choice. "
      ]
    },
    {
      "cell_type": "markdown",
      "metadata": {
        "id": "EPRa_Z80x8pN",
        "colab_type": "text"
      },
      "source": [
        "Based on project requirement, we apply a K-means clustering algorithm to the data set using a value of K=2. "
      ]
    },
    {
      "cell_type": "code",
      "metadata": {
        "id": "sH84lyJyJUoh",
        "colab_type": "code",
        "colab": {
          "base_uri": "https://localhost:8080/",
          "height": 1000
        },
        "outputId": "4d8fb139-3df6-45c8-fdbd-d76bdee991de"
      },
      "source": [
        "#k-means clustering\n",
        "km = KMeans(n_clusters=2)\n",
        "km.fit(X_std)\n",
        "labels = km.predict(X_std)\n",
        "new.assign(cluster=labels).groupby(\"cluster\").agg([\"mean\", \"var\"]).T\n"
      ],
      "execution_count": 96,
      "outputs": [
        {
          "output_type": "execute_result",
          "data": {
            "text/html": [
              "<div>\n",
              "<style scoped>\n",
              "    .dataframe tbody tr th:only-of-type {\n",
              "        vertical-align: middle;\n",
              "    }\n",
              "\n",
              "    .dataframe tbody tr th {\n",
              "        vertical-align: top;\n",
              "    }\n",
              "\n",
              "    .dataframe thead th {\n",
              "        text-align: right;\n",
              "    }\n",
              "</style>\n",
              "<table border=\"1\" class=\"dataframe\">\n",
              "  <thead>\n",
              "    <tr style=\"text-align: right;\">\n",
              "      <th></th>\n",
              "      <th>cluster</th>\n",
              "      <th>0</th>\n",
              "      <th>1</th>\n",
              "    </tr>\n",
              "  </thead>\n",
              "  <tbody>\n",
              "    <tr>\n",
              "      <th rowspan=\"2\" valign=\"top\">Administrative</th>\n",
              "      <th>mean</th>\n",
              "      <td>2.283954e+00</td>\n",
              "      <td>2.500281</td>\n",
              "    </tr>\n",
              "    <tr>\n",
              "      <th>var</th>\n",
              "      <td>1.171254e+01</td>\n",
              "      <td>6.975675</td>\n",
              "    </tr>\n",
              "    <tr>\n",
              "      <th rowspan=\"2\" valign=\"top\">Administrative_Duration</th>\n",
              "      <th>mean</th>\n",
              "      <td>7.918364e+01</td>\n",
              "      <td>90.515397</td>\n",
              "    </tr>\n",
              "    <tr>\n",
              "      <th>var</th>\n",
              "      <td>3.197665e+04</td>\n",
              "      <td>26851.854011</td>\n",
              "    </tr>\n",
              "    <tr>\n",
              "      <th rowspan=\"2\" valign=\"top\">Informational</th>\n",
              "      <th>mean</th>\n",
              "      <td>5.335039e-01</td>\n",
              "      <td>0.326026</td>\n",
              "    </tr>\n",
              "    <tr>\n",
              "      <th>var</th>\n",
              "      <td>1.731745e+00</td>\n",
              "      <td>0.874525</td>\n",
              "    </tr>\n",
              "    <tr>\n",
              "      <th rowspan=\"2\" valign=\"top\">Informational_Duration</th>\n",
              "      <th>mean</th>\n",
              "      <td>3.710199e+01</td>\n",
              "      <td>18.876641</td>\n",
              "    </tr>\n",
              "    <tr>\n",
              "      <th>var</th>\n",
              "      <td>2.187298e+04</td>\n",
              "      <td>7298.280652</td>\n",
              "    </tr>\n",
              "    <tr>\n",
              "      <th rowspan=\"2\" valign=\"top\">ProductRelated</th>\n",
              "      <th>mean</th>\n",
              "      <td>3.408246e+01</td>\n",
              "      <td>17.788083</td>\n",
              "    </tr>\n",
              "    <tr>\n",
              "      <th>var</th>\n",
              "      <td>2.212181e+03</td>\n",
              "      <td>362.727282</td>\n",
              "    </tr>\n",
              "    <tr>\n",
              "      <th rowspan=\"2\" valign=\"top\">ProductRelated_Duration</th>\n",
              "      <th>mean</th>\n",
              "      <td>1.289421e+03</td>\n",
              "      <td>633.240447</td>\n",
              "    </tr>\n",
              "    <tr>\n",
              "      <th>var</th>\n",
              "      <td>4.110530e+06</td>\n",
              "      <td>634894.903155</td>\n",
              "    </tr>\n",
              "    <tr>\n",
              "      <th rowspan=\"2\" valign=\"top\">BounceRates</th>\n",
              "      <th>mean</th>\n",
              "      <td>2.477779e-02</td>\n",
              "      <td>0.006852</td>\n",
              "    </tr>\n",
              "    <tr>\n",
              "      <th>var</th>\n",
              "      <td>2.532623e-03</td>\n",
              "      <td>0.001000</td>\n",
              "    </tr>\n",
              "    <tr>\n",
              "      <th rowspan=\"2\" valign=\"top\">ExitRates</th>\n",
              "      <th>mean</th>\n",
              "      <td>4.650461e-02</td>\n",
              "      <td>0.022719</td>\n",
              "    </tr>\n",
              "    <tr>\n",
              "      <th>var</th>\n",
              "      <td>2.491559e-03</td>\n",
              "      <td>0.001108</td>\n",
              "    </tr>\n",
              "    <tr>\n",
              "      <th rowspan=\"2\" valign=\"top\">PageValues</th>\n",
              "      <th>mean</th>\n",
              "      <td>5.006176e+00</td>\n",
              "      <td>11.126695</td>\n",
              "    </tr>\n",
              "    <tr>\n",
              "      <th>var</th>\n",
              "      <td>2.378551e+02</td>\n",
              "      <td>947.400445</td>\n",
              "    </tr>\n",
              "    <tr>\n",
              "      <th rowspan=\"2\" valign=\"top\">SpecialDay</th>\n",
              "      <th>mean</th>\n",
              "      <td>6.854327e-02</td>\n",
              "      <td>0.019224</td>\n",
              "    </tr>\n",
              "    <tr>\n",
              "      <th>var</th>\n",
              "      <td>4.371085e-02</td>\n",
              "      <td>0.012926</td>\n",
              "    </tr>\n",
              "    <tr>\n",
              "      <th rowspan=\"2\" valign=\"top\">Month</th>\n",
              "      <th>mean</th>\n",
              "      <td>7.495877e+00</td>\n",
              "      <td>8.577853</td>\n",
              "    </tr>\n",
              "    <tr>\n",
              "      <th>var</th>\n",
              "      <td>1.146214e+01</td>\n",
              "      <td>10.807631</td>\n",
              "    </tr>\n",
              "    <tr>\n",
              "      <th rowspan=\"2\" valign=\"top\">OperatingSystems</th>\n",
              "      <th>mean</th>\n",
              "      <td>2.109658e+00</td>\n",
              "      <td>2.209106</td>\n",
              "    </tr>\n",
              "    <tr>\n",
              "      <th>var</th>\n",
              "      <td>6.693958e-01</td>\n",
              "      <td>1.778522</td>\n",
              "    </tr>\n",
              "    <tr>\n",
              "      <th rowspan=\"2\" valign=\"top\">Browser</th>\n",
              "      <th>mean</th>\n",
              "      <td>2.315610e+00</td>\n",
              "      <td>2.603148</td>\n",
              "    </tr>\n",
              "    <tr>\n",
              "      <th>var</th>\n",
              "      <td>2.491281e+00</td>\n",
              "      <td>5.596076</td>\n",
              "    </tr>\n",
              "    <tr>\n",
              "      <th rowspan=\"2\" valign=\"top\">Region</th>\n",
              "      <th>mean</th>\n",
              "      <td>3.097242e+00</td>\n",
              "      <td>3.444632</td>\n",
              "    </tr>\n",
              "    <tr>\n",
              "      <th>var</th>\n",
              "      <td>5.518695e+00</td>\n",
              "      <td>7.144711</td>\n",
              "    </tr>\n",
              "    <tr>\n",
              "      <th rowspan=\"2\" valign=\"top\">TrafficType</th>\n",
              "      <th>mean</th>\n",
              "      <td>4.026253e+00</td>\n",
              "      <td>4.326588</td>\n",
              "    </tr>\n",
              "    <tr>\n",
              "      <th>var</th>\n",
              "      <td>1.606462e+01</td>\n",
              "      <td>16.948961</td>\n",
              "    </tr>\n",
              "    <tr>\n",
              "      <th rowspan=\"2\" valign=\"top\">Weekend</th>\n",
              "      <th>mean</th>\n",
              "      <td>7.742394e-01</td>\n",
              "      <td>0.726813</td>\n",
              "    </tr>\n",
              "    <tr>\n",
              "      <th>var</th>\n",
              "      <td>1.748093e-01</td>\n",
              "      <td>0.198668</td>\n",
              "    </tr>\n",
              "    <tr>\n",
              "      <th rowspan=\"2\" valign=\"top\">Visitor_0</th>\n",
              "      <th>mean</th>\n",
              "      <td>0.000000e+00</td>\n",
              "      <td>0.952220</td>\n",
              "    </tr>\n",
              "    <tr>\n",
              "      <th>var</th>\n",
              "      <td>0.000000e+00</td>\n",
              "      <td>0.045522</td>\n",
              "    </tr>\n",
              "    <tr>\n",
              "      <th rowspan=\"2\" valign=\"top\">Visitor_1</th>\n",
              "      <th>mean</th>\n",
              "      <td>0.000000e+00</td>\n",
              "      <td>0.047780</td>\n",
              "    </tr>\n",
              "    <tr>\n",
              "      <th>var</th>\n",
              "      <td>0.000000e+00</td>\n",
              "      <td>0.045522</td>\n",
              "    </tr>\n",
              "    <tr>\n",
              "      <th rowspan=\"2\" valign=\"top\">Visitor_2</th>\n",
              "      <th>mean</th>\n",
              "      <td>1.000000e+00</td>\n",
              "      <td>0.000000</td>\n",
              "    </tr>\n",
              "    <tr>\n",
              "      <th>var</th>\n",
              "      <td>0.000000e+00</td>\n",
              "      <td>0.000000</td>\n",
              "    </tr>\n",
              "  </tbody>\n",
              "</table>\n",
              "</div>"
            ],
            "text/plain": [
              "cluster                                  0              1\n",
              "Administrative          mean  2.283954e+00       2.500281\n",
              "                        var   1.171254e+01       6.975675\n",
              "Administrative_Duration mean  7.918364e+01      90.515397\n",
              "                        var   3.197665e+04   26851.854011\n",
              "Informational           mean  5.335039e-01       0.326026\n",
              "                        var   1.731745e+00       0.874525\n",
              "Informational_Duration  mean  3.710199e+01      18.876641\n",
              "                        var   2.187298e+04    7298.280652\n",
              "ProductRelated          mean  3.408246e+01      17.788083\n",
              "                        var   2.212181e+03     362.727282\n",
              "ProductRelated_Duration mean  1.289421e+03     633.240447\n",
              "                        var   4.110530e+06  634894.903155\n",
              "BounceRates             mean  2.477779e-02       0.006852\n",
              "                        var   2.532623e-03       0.001000\n",
              "ExitRates               mean  4.650461e-02       0.022719\n",
              "                        var   2.491559e-03       0.001108\n",
              "PageValues              mean  5.006176e+00      11.126695\n",
              "                        var   2.378551e+02     947.400445\n",
              "SpecialDay              mean  6.854327e-02       0.019224\n",
              "                        var   4.371085e-02       0.012926\n",
              "Month                   mean  7.495877e+00       8.577853\n",
              "                        var   1.146214e+01      10.807631\n",
              "OperatingSystems        mean  2.109658e+00       2.209106\n",
              "                        var   6.693958e-01       1.778522\n",
              "Browser                 mean  2.315610e+00       2.603148\n",
              "                        var   2.491281e+00       5.596076\n",
              "Region                  mean  3.097242e+00       3.444632\n",
              "                        var   5.518695e+00       7.144711\n",
              "TrafficType             mean  4.026253e+00       4.326588\n",
              "                        var   1.606462e+01      16.948961\n",
              "Weekend                 mean  7.742394e-01       0.726813\n",
              "                        var   1.748093e-01       0.198668\n",
              "Visitor_0               mean  0.000000e+00       0.952220\n",
              "                        var   0.000000e+00       0.045522\n",
              "Visitor_1               mean  0.000000e+00       0.047780\n",
              "                        var   0.000000e+00       0.045522\n",
              "Visitor_2               mean  1.000000e+00       0.000000\n",
              "                        var   0.000000e+00       0.000000"
            ]
          },
          "metadata": {
            "tags": []
          },
          "execution_count": 96
        }
      ]
    },
    {
      "cell_type": "markdown",
      "metadata": {
        "id": "gKWoUq8PlPYe",
        "colab_type": "text"
      },
      "source": [
        "Similarly, we also put the clustered result of Kmeans into the data frame. "
      ]
    },
    {
      "cell_type": "code",
      "metadata": {
        "id": "zFtH0gqlOiM4",
        "colab_type": "code",
        "colab": {
          "base_uri": "https://localhost:8080/",
          "height": 224
        },
        "outputId": "091d759e-b68d-4746-fd30-9d546b96147d"
      },
      "source": [
        "temp2 =  labels.tolist()\n",
        "df_r[\"Revenue2\"] = temp2\n",
        "df_r.head()"
      ],
      "execution_count": 97,
      "outputs": [
        {
          "output_type": "execute_result",
          "data": {
            "text/html": [
              "<div>\n",
              "<style scoped>\n",
              "    .dataframe tbody tr th:only-of-type {\n",
              "        vertical-align: middle;\n",
              "    }\n",
              "\n",
              "    .dataframe tbody tr th {\n",
              "        vertical-align: top;\n",
              "    }\n",
              "\n",
              "    .dataframe thead th {\n",
              "        text-align: right;\n",
              "    }\n",
              "</style>\n",
              "<table border=\"1\" class=\"dataframe\">\n",
              "  <thead>\n",
              "    <tr style=\"text-align: right;\">\n",
              "      <th></th>\n",
              "      <th>Administrative</th>\n",
              "      <th>Administrative_Duration</th>\n",
              "      <th>Informational</th>\n",
              "      <th>Informational_Duration</th>\n",
              "      <th>ProductRelated</th>\n",
              "      <th>ProductRelated_Duration</th>\n",
              "      <th>BounceRates</th>\n",
              "      <th>ExitRates</th>\n",
              "      <th>PageValues</th>\n",
              "      <th>SpecialDay</th>\n",
              "      <th>Month</th>\n",
              "      <th>OperatingSystems</th>\n",
              "      <th>Browser</th>\n",
              "      <th>Region</th>\n",
              "      <th>TrafficType</th>\n",
              "      <th>Weekend</th>\n",
              "      <th>Visitor_0</th>\n",
              "      <th>Visitor_1</th>\n",
              "      <th>Visitor_2</th>\n",
              "      <th>Revenue</th>\n",
              "      <th>Revenue2</th>\n",
              "    </tr>\n",
              "  </thead>\n",
              "  <tbody>\n",
              "    <tr>\n",
              "      <th>0</th>\n",
              "      <td>0</td>\n",
              "      <td>0.0</td>\n",
              "      <td>0</td>\n",
              "      <td>0.0</td>\n",
              "      <td>8</td>\n",
              "      <td>222.000000</td>\n",
              "      <td>0.000000</td>\n",
              "      <td>0.028571</td>\n",
              "      <td>53.474571</td>\n",
              "      <td>0.0</td>\n",
              "      <td>5</td>\n",
              "      <td>1</td>\n",
              "      <td>1</td>\n",
              "      <td>1</td>\n",
              "      <td>2</td>\n",
              "      <td>0</td>\n",
              "      <td>1.0</td>\n",
              "      <td>0.0</td>\n",
              "      <td>0.0</td>\n",
              "      <td>0</td>\n",
              "      <td>1</td>\n",
              "    </tr>\n",
              "    <tr>\n",
              "      <th>1</th>\n",
              "      <td>0</td>\n",
              "      <td>0.0</td>\n",
              "      <td>0</td>\n",
              "      <td>0.0</td>\n",
              "      <td>14</td>\n",
              "      <td>1037.500000</td>\n",
              "      <td>0.014286</td>\n",
              "      <td>0.047619</td>\n",
              "      <td>0.000000</td>\n",
              "      <td>0.0</td>\n",
              "      <td>3</td>\n",
              "      <td>2</td>\n",
              "      <td>2</td>\n",
              "      <td>4</td>\n",
              "      <td>2</td>\n",
              "      <td>1</td>\n",
              "      <td>0.0</td>\n",
              "      <td>0.0</td>\n",
              "      <td>1.0</td>\n",
              "      <td>0</td>\n",
              "      <td>0</td>\n",
              "    </tr>\n",
              "    <tr>\n",
              "      <th>2</th>\n",
              "      <td>4</td>\n",
              "      <td>37.5</td>\n",
              "      <td>2</td>\n",
              "      <td>82.0</td>\n",
              "      <td>4</td>\n",
              "      <td>96.625000</td>\n",
              "      <td>0.000000</td>\n",
              "      <td>0.017500</td>\n",
              "      <td>0.000000</td>\n",
              "      <td>0.0</td>\n",
              "      <td>11</td>\n",
              "      <td>2</td>\n",
              "      <td>2</td>\n",
              "      <td>9</td>\n",
              "      <td>2</td>\n",
              "      <td>1</td>\n",
              "      <td>1.0</td>\n",
              "      <td>0.0</td>\n",
              "      <td>0.0</td>\n",
              "      <td>0</td>\n",
              "      <td>1</td>\n",
              "    </tr>\n",
              "    <tr>\n",
              "      <th>3</th>\n",
              "      <td>4</td>\n",
              "      <td>115.7</td>\n",
              "      <td>0</td>\n",
              "      <td>0.0</td>\n",
              "      <td>16</td>\n",
              "      <td>655.383333</td>\n",
              "      <td>0.000000</td>\n",
              "      <td>0.012037</td>\n",
              "      <td>0.000000</td>\n",
              "      <td>0.0</td>\n",
              "      <td>11</td>\n",
              "      <td>1</td>\n",
              "      <td>1</td>\n",
              "      <td>2</td>\n",
              "      <td>3</td>\n",
              "      <td>1</td>\n",
              "      <td>0.0</td>\n",
              "      <td>0.0</td>\n",
              "      <td>1.0</td>\n",
              "      <td>0</td>\n",
              "      <td>0</td>\n",
              "    </tr>\n",
              "    <tr>\n",
              "      <th>4</th>\n",
              "      <td>1</td>\n",
              "      <td>60.0</td>\n",
              "      <td>1</td>\n",
              "      <td>15.0</td>\n",
              "      <td>26</td>\n",
              "      <td>670.166667</td>\n",
              "      <td>0.000000</td>\n",
              "      <td>0.003846</td>\n",
              "      <td>0.000000</td>\n",
              "      <td>0.0</td>\n",
              "      <td>5</td>\n",
              "      <td>2</td>\n",
              "      <td>2</td>\n",
              "      <td>3</td>\n",
              "      <td>4</td>\n",
              "      <td>1</td>\n",
              "      <td>0.0</td>\n",
              "      <td>0.0</td>\n",
              "      <td>1.0</td>\n",
              "      <td>0</td>\n",
              "      <td>0</td>\n",
              "    </tr>\n",
              "  </tbody>\n",
              "</table>\n",
              "</div>"
            ],
            "text/plain": [
              "   Administrative  Administrative_Duration  ...  Revenue  Revenue2\n",
              "0               0                      0.0  ...        0         1\n",
              "1               0                      0.0  ...        0         0\n",
              "2               4                     37.5  ...        0         1\n",
              "3               4                    115.7  ...        0         0\n",
              "4               1                     60.0  ...        0         0\n",
              "\n",
              "[5 rows x 21 columns]"
            ]
          },
          "metadata": {
            "tags": []
          },
          "execution_count": 97
        }
      ]
    },
    {
      "cell_type": "markdown",
      "metadata": {
        "id": "qGeR7XFsxc_a",
        "colab_type": "text"
      },
      "source": [
        "## Clustering Output vs. Actual Labels"
      ]
    },
    {
      "cell_type": "code",
      "metadata": {
        "id": "Ozfxoi0OyPzB",
        "colab_type": "code",
        "colab": {}
      },
      "source": [
        "# check and read the dataset from github\n",
        "label = pd.read_csv('https://raw.githubusercontent.com/gegeli638/DAV-6150/master/Project2_Data_Labels.csv')\n",
        "label.rename(columns={\"Revenue\": \"V_Revenue\"},inplace=True)"
      ],
      "execution_count": 98,
      "outputs": []
    },
    {
      "cell_type": "code",
      "metadata": {
        "id": "xvGbjuIXVE9J",
        "colab_type": "code",
        "colab": {
          "base_uri": "https://localhost:8080/",
          "height": 224
        },
        "outputId": "5d104671-74de-4df4-ad5c-673b4dcfc883"
      },
      "source": [
        "data = pd.concat([df_r, label],axis=1)\n",
        "data.head()"
      ],
      "execution_count": 99,
      "outputs": [
        {
          "output_type": "execute_result",
          "data": {
            "text/html": [
              "<div>\n",
              "<style scoped>\n",
              "    .dataframe tbody tr th:only-of-type {\n",
              "        vertical-align: middle;\n",
              "    }\n",
              "\n",
              "    .dataframe tbody tr th {\n",
              "        vertical-align: top;\n",
              "    }\n",
              "\n",
              "    .dataframe thead th {\n",
              "        text-align: right;\n",
              "    }\n",
              "</style>\n",
              "<table border=\"1\" class=\"dataframe\">\n",
              "  <thead>\n",
              "    <tr style=\"text-align: right;\">\n",
              "      <th></th>\n",
              "      <th>Administrative</th>\n",
              "      <th>Administrative_Duration</th>\n",
              "      <th>Informational</th>\n",
              "      <th>Informational_Duration</th>\n",
              "      <th>ProductRelated</th>\n",
              "      <th>ProductRelated_Duration</th>\n",
              "      <th>BounceRates</th>\n",
              "      <th>ExitRates</th>\n",
              "      <th>PageValues</th>\n",
              "      <th>SpecialDay</th>\n",
              "      <th>Month</th>\n",
              "      <th>OperatingSystems</th>\n",
              "      <th>Browser</th>\n",
              "      <th>Region</th>\n",
              "      <th>TrafficType</th>\n",
              "      <th>Weekend</th>\n",
              "      <th>Visitor_0</th>\n",
              "      <th>Visitor_1</th>\n",
              "      <th>Visitor_2</th>\n",
              "      <th>Revenue</th>\n",
              "      <th>Revenue2</th>\n",
              "      <th>V_Revenue</th>\n",
              "    </tr>\n",
              "  </thead>\n",
              "  <tbody>\n",
              "    <tr>\n",
              "      <th>0</th>\n",
              "      <td>0</td>\n",
              "      <td>0.0</td>\n",
              "      <td>0</td>\n",
              "      <td>0.0</td>\n",
              "      <td>8</td>\n",
              "      <td>222.000000</td>\n",
              "      <td>0.000000</td>\n",
              "      <td>0.028571</td>\n",
              "      <td>53.474571</td>\n",
              "      <td>0.0</td>\n",
              "      <td>5</td>\n",
              "      <td>1</td>\n",
              "      <td>1</td>\n",
              "      <td>1</td>\n",
              "      <td>2</td>\n",
              "      <td>0</td>\n",
              "      <td>1.0</td>\n",
              "      <td>0.0</td>\n",
              "      <td>0.0</td>\n",
              "      <td>0</td>\n",
              "      <td>1</td>\n",
              "      <td>True</td>\n",
              "    </tr>\n",
              "    <tr>\n",
              "      <th>1</th>\n",
              "      <td>0</td>\n",
              "      <td>0.0</td>\n",
              "      <td>0</td>\n",
              "      <td>0.0</td>\n",
              "      <td>14</td>\n",
              "      <td>1037.500000</td>\n",
              "      <td>0.014286</td>\n",
              "      <td>0.047619</td>\n",
              "      <td>0.000000</td>\n",
              "      <td>0.0</td>\n",
              "      <td>3</td>\n",
              "      <td>2</td>\n",
              "      <td>2</td>\n",
              "      <td>4</td>\n",
              "      <td>2</td>\n",
              "      <td>1</td>\n",
              "      <td>0.0</td>\n",
              "      <td>0.0</td>\n",
              "      <td>1.0</td>\n",
              "      <td>0</td>\n",
              "      <td>0</td>\n",
              "      <td>False</td>\n",
              "    </tr>\n",
              "    <tr>\n",
              "      <th>2</th>\n",
              "      <td>4</td>\n",
              "      <td>37.5</td>\n",
              "      <td>2</td>\n",
              "      <td>82.0</td>\n",
              "      <td>4</td>\n",
              "      <td>96.625000</td>\n",
              "      <td>0.000000</td>\n",
              "      <td>0.017500</td>\n",
              "      <td>0.000000</td>\n",
              "      <td>0.0</td>\n",
              "      <td>11</td>\n",
              "      <td>2</td>\n",
              "      <td>2</td>\n",
              "      <td>9</td>\n",
              "      <td>2</td>\n",
              "      <td>1</td>\n",
              "      <td>1.0</td>\n",
              "      <td>0.0</td>\n",
              "      <td>0.0</td>\n",
              "      <td>0</td>\n",
              "      <td>1</td>\n",
              "      <td>False</td>\n",
              "    </tr>\n",
              "    <tr>\n",
              "      <th>3</th>\n",
              "      <td>4</td>\n",
              "      <td>115.7</td>\n",
              "      <td>0</td>\n",
              "      <td>0.0</td>\n",
              "      <td>16</td>\n",
              "      <td>655.383333</td>\n",
              "      <td>0.000000</td>\n",
              "      <td>0.012037</td>\n",
              "      <td>0.000000</td>\n",
              "      <td>0.0</td>\n",
              "      <td>11</td>\n",
              "      <td>1</td>\n",
              "      <td>1</td>\n",
              "      <td>2</td>\n",
              "      <td>3</td>\n",
              "      <td>1</td>\n",
              "      <td>0.0</td>\n",
              "      <td>0.0</td>\n",
              "      <td>1.0</td>\n",
              "      <td>0</td>\n",
              "      <td>0</td>\n",
              "      <td>False</td>\n",
              "    </tr>\n",
              "    <tr>\n",
              "      <th>4</th>\n",
              "      <td>1</td>\n",
              "      <td>60.0</td>\n",
              "      <td>1</td>\n",
              "      <td>15.0</td>\n",
              "      <td>26</td>\n",
              "      <td>670.166667</td>\n",
              "      <td>0.000000</td>\n",
              "      <td>0.003846</td>\n",
              "      <td>0.000000</td>\n",
              "      <td>0.0</td>\n",
              "      <td>5</td>\n",
              "      <td>2</td>\n",
              "      <td>2</td>\n",
              "      <td>3</td>\n",
              "      <td>4</td>\n",
              "      <td>1</td>\n",
              "      <td>0.0</td>\n",
              "      <td>0.0</td>\n",
              "      <td>1.0</td>\n",
              "      <td>0</td>\n",
              "      <td>0</td>\n",
              "      <td>False</td>\n",
              "    </tr>\n",
              "  </tbody>\n",
              "</table>\n",
              "</div>"
            ],
            "text/plain": [
              "   Administrative  Administrative_Duration  ...  Revenue2  V_Revenue\n",
              "0               0                      0.0  ...         1       True\n",
              "1               0                      0.0  ...         0      False\n",
              "2               4                     37.5  ...         1      False\n",
              "3               4                    115.7  ...         0      False\n",
              "4               1                     60.0  ...         0      False\n",
              "\n",
              "[5 rows x 22 columns]"
            ]
          },
          "metadata": {
            "tags": []
          },
          "execution_count": 99
        }
      ]
    },
    {
      "cell_type": "code",
      "metadata": {
        "id": "wJo0xLyKYALu",
        "colab_type": "code",
        "colab": {
          "base_uri": "https://localhost:8080/",
          "height": 517
        },
        "outputId": "881c8d85-9034-44f3-f8e2-4c6d9a28f6ef"
      },
      "source": [
        "data.info()"
      ],
      "execution_count": 100,
      "outputs": [
        {
          "output_type": "stream",
          "text": [
            "<class 'pandas.core.frame.DataFrame'>\n",
            "RangeIndex: 12330 entries, 0 to 12329\n",
            "Data columns (total 22 columns):\n",
            " #   Column                   Non-Null Count  Dtype  \n",
            "---  ------                   --------------  -----  \n",
            " 0   Administrative           12330 non-null  int64  \n",
            " 1   Administrative_Duration  12330 non-null  float64\n",
            " 2   Informational            12330 non-null  int64  \n",
            " 3   Informational_Duration   12330 non-null  float64\n",
            " 4   ProductRelated           12330 non-null  int64  \n",
            " 5   ProductRelated_Duration  12330 non-null  float64\n",
            " 6   BounceRates              12330 non-null  float64\n",
            " 7   ExitRates                12330 non-null  float64\n",
            " 8   PageValues               12330 non-null  float64\n",
            " 9   SpecialDay               12330 non-null  float64\n",
            " 10  Month                    12330 non-null  int64  \n",
            " 11  OperatingSystems         12330 non-null  int64  \n",
            " 12  Browser                  12330 non-null  int64  \n",
            " 13  Region                   12330 non-null  int64  \n",
            " 14  TrafficType              12330 non-null  int64  \n",
            " 15  Weekend                  12330 non-null  int64  \n",
            " 16  Visitor_0                12330 non-null  float64\n",
            " 17  Visitor_1                12330 non-null  float64\n",
            " 18  Visitor_2                12330 non-null  float64\n",
            " 19  Revenue                  12330 non-null  int64  \n",
            " 20  Revenue2                 12330 non-null  int64  \n",
            " 21  V_Revenue                12330 non-null  bool   \n",
            "dtypes: bool(1), float64(10), int64(11)\n",
            "memory usage: 2.0 MB\n"
          ],
          "name": "stdout"
        }
      ]
    },
    {
      "cell_type": "code",
      "metadata": {
        "id": "LQcBhn1bxl8k",
        "colab_type": "code",
        "colab": {
          "base_uri": "https://localhost:8080/",
          "height": 172
        },
        "outputId": "7bebf70a-67f0-4d83-802a-e4868239b719"
      },
      "source": [
        "#hierarchical\n",
        "print(data['Revenue'].value_counts())\n",
        "#k-means\n",
        "print(data['Revenue2'].value_counts())\n",
        "#label\n",
        "print(data['V_Revenue'].value_counts())"
      ],
      "execution_count": 101,
      "outputs": [
        {
          "output_type": "stream",
          "text": [
            "0    12007\n",
            "1      323\n",
            "Name: Revenue, dtype: int64\n",
            "0    10551\n",
            "1     1779\n",
            "Name: Revenue2, dtype: int64\n",
            "False    10422\n",
            "True      1908\n",
            "Name: V_Revenue, dtype: int64\n"
          ],
          "name": "stdout"
        }
      ]
    },
    {
      "cell_type": "markdown",
      "metadata": {
        "id": "vTVOplzei7xl",
        "colab_type": "text"
      },
      "source": [
        "From this plotted result, we can see k means has an opposite result compared to hierarchical clustering. We know this clustering process does not make judgement on the label, So it is acceptable to get an opposite result.  "
      ]
    },
    {
      "cell_type": "markdown",
      "metadata": {
        "id": "GZK9Csbny0kV",
        "colab_type": "text"
      },
      "source": [
        "Although it is not required in the tasks, we really want to try how different these two different clustering methods are. We now check false positives and false negatives as well. "
      ]
    },
    {
      "cell_type": "code",
      "metadata": {
        "id": "fIOktmNZ-qkH",
        "colab_type": "code",
        "colab": {}
      },
      "source": [
        "data['V_Revenue'].replace({False: 0, True: 1}, inplace=True)"
      ],
      "execution_count": 102,
      "outputs": []
    },
    {
      "cell_type": "code",
      "metadata": {
        "id": "ch8wgRnuC6Es",
        "colab_type": "code",
        "colab": {
          "base_uri": "https://localhost:8080/",
          "height": 224
        },
        "outputId": "6ae2f8f5-0dd3-4505-dba0-2b49e1af1d1c"
      },
      "source": [
        "data.head()"
      ],
      "execution_count": 103,
      "outputs": [
        {
          "output_type": "execute_result",
          "data": {
            "text/html": [
              "<div>\n",
              "<style scoped>\n",
              "    .dataframe tbody tr th:only-of-type {\n",
              "        vertical-align: middle;\n",
              "    }\n",
              "\n",
              "    .dataframe tbody tr th {\n",
              "        vertical-align: top;\n",
              "    }\n",
              "\n",
              "    .dataframe thead th {\n",
              "        text-align: right;\n",
              "    }\n",
              "</style>\n",
              "<table border=\"1\" class=\"dataframe\">\n",
              "  <thead>\n",
              "    <tr style=\"text-align: right;\">\n",
              "      <th></th>\n",
              "      <th>Administrative</th>\n",
              "      <th>Administrative_Duration</th>\n",
              "      <th>Informational</th>\n",
              "      <th>Informational_Duration</th>\n",
              "      <th>ProductRelated</th>\n",
              "      <th>ProductRelated_Duration</th>\n",
              "      <th>BounceRates</th>\n",
              "      <th>ExitRates</th>\n",
              "      <th>PageValues</th>\n",
              "      <th>SpecialDay</th>\n",
              "      <th>Month</th>\n",
              "      <th>OperatingSystems</th>\n",
              "      <th>Browser</th>\n",
              "      <th>Region</th>\n",
              "      <th>TrafficType</th>\n",
              "      <th>Weekend</th>\n",
              "      <th>Visitor_0</th>\n",
              "      <th>Visitor_1</th>\n",
              "      <th>Visitor_2</th>\n",
              "      <th>Revenue</th>\n",
              "      <th>Revenue2</th>\n",
              "      <th>V_Revenue</th>\n",
              "    </tr>\n",
              "  </thead>\n",
              "  <tbody>\n",
              "    <tr>\n",
              "      <th>0</th>\n",
              "      <td>0</td>\n",
              "      <td>0.0</td>\n",
              "      <td>0</td>\n",
              "      <td>0.0</td>\n",
              "      <td>8</td>\n",
              "      <td>222.000000</td>\n",
              "      <td>0.000000</td>\n",
              "      <td>0.028571</td>\n",
              "      <td>53.474571</td>\n",
              "      <td>0.0</td>\n",
              "      <td>5</td>\n",
              "      <td>1</td>\n",
              "      <td>1</td>\n",
              "      <td>1</td>\n",
              "      <td>2</td>\n",
              "      <td>0</td>\n",
              "      <td>1.0</td>\n",
              "      <td>0.0</td>\n",
              "      <td>0.0</td>\n",
              "      <td>0</td>\n",
              "      <td>1</td>\n",
              "      <td>1</td>\n",
              "    </tr>\n",
              "    <tr>\n",
              "      <th>1</th>\n",
              "      <td>0</td>\n",
              "      <td>0.0</td>\n",
              "      <td>0</td>\n",
              "      <td>0.0</td>\n",
              "      <td>14</td>\n",
              "      <td>1037.500000</td>\n",
              "      <td>0.014286</td>\n",
              "      <td>0.047619</td>\n",
              "      <td>0.000000</td>\n",
              "      <td>0.0</td>\n",
              "      <td>3</td>\n",
              "      <td>2</td>\n",
              "      <td>2</td>\n",
              "      <td>4</td>\n",
              "      <td>2</td>\n",
              "      <td>1</td>\n",
              "      <td>0.0</td>\n",
              "      <td>0.0</td>\n",
              "      <td>1.0</td>\n",
              "      <td>0</td>\n",
              "      <td>0</td>\n",
              "      <td>0</td>\n",
              "    </tr>\n",
              "    <tr>\n",
              "      <th>2</th>\n",
              "      <td>4</td>\n",
              "      <td>37.5</td>\n",
              "      <td>2</td>\n",
              "      <td>82.0</td>\n",
              "      <td>4</td>\n",
              "      <td>96.625000</td>\n",
              "      <td>0.000000</td>\n",
              "      <td>0.017500</td>\n",
              "      <td>0.000000</td>\n",
              "      <td>0.0</td>\n",
              "      <td>11</td>\n",
              "      <td>2</td>\n",
              "      <td>2</td>\n",
              "      <td>9</td>\n",
              "      <td>2</td>\n",
              "      <td>1</td>\n",
              "      <td>1.0</td>\n",
              "      <td>0.0</td>\n",
              "      <td>0.0</td>\n",
              "      <td>0</td>\n",
              "      <td>1</td>\n",
              "      <td>0</td>\n",
              "    </tr>\n",
              "    <tr>\n",
              "      <th>3</th>\n",
              "      <td>4</td>\n",
              "      <td>115.7</td>\n",
              "      <td>0</td>\n",
              "      <td>0.0</td>\n",
              "      <td>16</td>\n",
              "      <td>655.383333</td>\n",
              "      <td>0.000000</td>\n",
              "      <td>0.012037</td>\n",
              "      <td>0.000000</td>\n",
              "      <td>0.0</td>\n",
              "      <td>11</td>\n",
              "      <td>1</td>\n",
              "      <td>1</td>\n",
              "      <td>2</td>\n",
              "      <td>3</td>\n",
              "      <td>1</td>\n",
              "      <td>0.0</td>\n",
              "      <td>0.0</td>\n",
              "      <td>1.0</td>\n",
              "      <td>0</td>\n",
              "      <td>0</td>\n",
              "      <td>0</td>\n",
              "    </tr>\n",
              "    <tr>\n",
              "      <th>4</th>\n",
              "      <td>1</td>\n",
              "      <td>60.0</td>\n",
              "      <td>1</td>\n",
              "      <td>15.0</td>\n",
              "      <td>26</td>\n",
              "      <td>670.166667</td>\n",
              "      <td>0.000000</td>\n",
              "      <td>0.003846</td>\n",
              "      <td>0.000000</td>\n",
              "      <td>0.0</td>\n",
              "      <td>5</td>\n",
              "      <td>2</td>\n",
              "      <td>2</td>\n",
              "      <td>3</td>\n",
              "      <td>4</td>\n",
              "      <td>1</td>\n",
              "      <td>0.0</td>\n",
              "      <td>0.0</td>\n",
              "      <td>1.0</td>\n",
              "      <td>0</td>\n",
              "      <td>0</td>\n",
              "      <td>0</td>\n",
              "    </tr>\n",
              "  </tbody>\n",
              "</table>\n",
              "</div>"
            ],
            "text/plain": [
              "   Administrative  Administrative_Duration  ...  Revenue2  V_Revenue\n",
              "0               0                      0.0  ...         1          1\n",
              "1               0                      0.0  ...         0          0\n",
              "2               4                     37.5  ...         1          0\n",
              "3               4                    115.7  ...         0          0\n",
              "4               1                     60.0  ...         0          0\n",
              "\n",
              "[5 rows x 22 columns]"
            ]
          },
          "metadata": {
            "tags": []
          },
          "execution_count": 103
        }
      ]
    },
    {
      "cell_type": "code",
      "metadata": {
        "id": "wmZXHT0bCWn-",
        "colab_type": "code",
        "colab": {}
      },
      "source": [
        "revenue_result=data.copy()"
      ],
      "execution_count": 104,
      "outputs": []
    },
    {
      "cell_type": "code",
      "metadata": {
        "id": "i6AY5XhOzEg6",
        "colab_type": "code",
        "colab": {
          "base_uri": "https://localhost:8080/",
          "height": 258
        },
        "outputId": "aa7e3692-66a7-4da1-dda8-5d3ed879112c"
      },
      "source": [
        "# we want to compare label generated by hierarchy cluster and actual label\n",
        "revenue_result['result'] = np.where(revenue_result['Revenue'] == revenue_result['V_Revenue'], 'match', 'not match')\n",
        "print(revenue_result)"
      ],
      "execution_count": 105,
      "outputs": [
        {
          "output_type": "stream",
          "text": [
            "       Administrative  Administrative_Duration  ...  V_Revenue     result\n",
            "0                   0                     0.00  ...          1  not match\n",
            "1                   0                     0.00  ...          0      match\n",
            "2                   4                    37.50  ...          0      match\n",
            "3                   4                   115.70  ...          0      match\n",
            "4                   1                    60.00  ...          0      match\n",
            "...               ...                      ...  ...        ...        ...\n",
            "12325               3                   148.00  ...          0      match\n",
            "12326               1                     9.00  ...          0      match\n",
            "12327               0                     0.00  ...          0      match\n",
            "12328               0                     0.00  ...          0      match\n",
            "12329               1                    73.75  ...          0      match\n",
            "\n",
            "[12330 rows x 23 columns]\n"
          ],
          "name": "stdout"
        }
      ]
    },
    {
      "cell_type": "code",
      "metadata": {
        "id": "MXYKv6EZzfak",
        "colab_type": "code",
        "colab": {
          "base_uri": "https://localhost:8080/",
          "height": 68
        },
        "outputId": "e104ed47-5a40-4acb-f2a6-a2523cde2862"
      },
      "source": [
        "print(revenue_result['result'].value_counts())"
      ],
      "execution_count": 106,
      "outputs": [
        {
          "output_type": "stream",
          "text": [
            "match        10323\n",
            "not match     2007\n",
            "Name: result, dtype: int64\n"
          ],
          "name": "stdout"
        }
      ]
    },
    {
      "cell_type": "markdown",
      "metadata": {
        "id": "W2VvLAYLDxO7",
        "colab_type": "text"
      },
      "source": [
        "We can see hierarchy clustering actually only predicts roughly 85%(10323/(10323+2007)) of label correctly."
      ]
    },
    {
      "cell_type": "markdown",
      "metadata": {
        "id": "s-25kcDbkH8y",
        "colab_type": "text"
      },
      "source": [
        "As discussed before, Kmeans will get a reversed result. So we this time switch order of match and not match to get the correct result."
      ]
    },
    {
      "cell_type": "code",
      "metadata": {
        "id": "LYqHkimozJJs",
        "colab_type": "code",
        "colab": {
          "base_uri": "https://localhost:8080/",
          "height": 68
        },
        "outputId": "a342de27-a098-4a7f-edf5-4764bc90993e"
      },
      "source": [
        "#we want to compare label generated by k means cluster and actual label\n",
        "#we reverse label a bit to get correct label\n",
        "revenue_result['result2'] = np.where(revenue_result['Revenue2'] == revenue_result['V_Revenue'], 'not match', 'match')\n",
        "print (revenue_result['result2'].value_counts())"
      ],
      "execution_count": 107,
      "outputs": [
        {
          "output_type": "stream",
          "text": [
            "not match    9519\n",
            "match        2811\n",
            "Name: result2, dtype: int64\n"
          ],
          "name": "stdout"
        }
      ]
    },
    {
      "cell_type": "markdown",
      "metadata": {
        "id": "UbRuY2mMETsK",
        "colab_type": "text"
      },
      "source": [
        "Now we see the actual preformance of k-means is not quite good, although total number of positive and negative is closer to the true label, it does not report exact label correctly. On the other hand, it made a lot of false positives and false negatives. \n",
        "However, this clustering method is still better than half-half guess if we balanced the revenue attributes. \n",
        "\n",
        "Also, through this process, we will have to apply SMOTE later on modeling. "
      ]
    },
    {
      "cell_type": "markdown",
      "metadata": {
        "id": "saSPm-wkcG1k",
        "colab_type": "text"
      },
      "source": [
        "Based on comparision, we decided to use Kmeans clustering instead of hierach clustering "
      ]
    },
    {
      "cell_type": "markdown",
      "metadata": {
        "id": "8L2UqZl7v80G",
        "colab_type": "text"
      },
      "source": [
        "For better modeling,we clear up data set to create new copy and only leave appropriate term for modeling. "
      ]
    },
    {
      "cell_type": "code",
      "metadata": {
        "id": "_crH-Pd_2BVz",
        "colab_type": "code",
        "colab": {}
      },
      "source": [
        "SVM_train= data.copy()\n",
        "SVM_train.drop(columns = 'Revenue',inplace=True)\n",
        "SVM_train.drop(columns = 'V_Revenue',inplace=True)"
      ],
      "execution_count": 108,
      "outputs": []
    },
    {
      "cell_type": "code",
      "metadata": {
        "id": "P0KLqIniwGA4",
        "colab_type": "code",
        "colab": {
          "base_uri": "https://localhost:8080/",
          "height": 224
        },
        "outputId": "c7b1d48f-75f9-4868-bae4-9c5ee7131819"
      },
      "source": [
        "SVM_train.head()"
      ],
      "execution_count": 109,
      "outputs": [
        {
          "output_type": "execute_result",
          "data": {
            "text/html": [
              "<div>\n",
              "<style scoped>\n",
              "    .dataframe tbody tr th:only-of-type {\n",
              "        vertical-align: middle;\n",
              "    }\n",
              "\n",
              "    .dataframe tbody tr th {\n",
              "        vertical-align: top;\n",
              "    }\n",
              "\n",
              "    .dataframe thead th {\n",
              "        text-align: right;\n",
              "    }\n",
              "</style>\n",
              "<table border=\"1\" class=\"dataframe\">\n",
              "  <thead>\n",
              "    <tr style=\"text-align: right;\">\n",
              "      <th></th>\n",
              "      <th>Administrative</th>\n",
              "      <th>Administrative_Duration</th>\n",
              "      <th>Informational</th>\n",
              "      <th>Informational_Duration</th>\n",
              "      <th>ProductRelated</th>\n",
              "      <th>ProductRelated_Duration</th>\n",
              "      <th>BounceRates</th>\n",
              "      <th>ExitRates</th>\n",
              "      <th>PageValues</th>\n",
              "      <th>SpecialDay</th>\n",
              "      <th>Month</th>\n",
              "      <th>OperatingSystems</th>\n",
              "      <th>Browser</th>\n",
              "      <th>Region</th>\n",
              "      <th>TrafficType</th>\n",
              "      <th>Weekend</th>\n",
              "      <th>Visitor_0</th>\n",
              "      <th>Visitor_1</th>\n",
              "      <th>Visitor_2</th>\n",
              "      <th>Revenue2</th>\n",
              "    </tr>\n",
              "  </thead>\n",
              "  <tbody>\n",
              "    <tr>\n",
              "      <th>0</th>\n",
              "      <td>0</td>\n",
              "      <td>0.0</td>\n",
              "      <td>0</td>\n",
              "      <td>0.0</td>\n",
              "      <td>8</td>\n",
              "      <td>222.000000</td>\n",
              "      <td>0.000000</td>\n",
              "      <td>0.028571</td>\n",
              "      <td>53.474571</td>\n",
              "      <td>0.0</td>\n",
              "      <td>5</td>\n",
              "      <td>1</td>\n",
              "      <td>1</td>\n",
              "      <td>1</td>\n",
              "      <td>2</td>\n",
              "      <td>0</td>\n",
              "      <td>1.0</td>\n",
              "      <td>0.0</td>\n",
              "      <td>0.0</td>\n",
              "      <td>1</td>\n",
              "    </tr>\n",
              "    <tr>\n",
              "      <th>1</th>\n",
              "      <td>0</td>\n",
              "      <td>0.0</td>\n",
              "      <td>0</td>\n",
              "      <td>0.0</td>\n",
              "      <td>14</td>\n",
              "      <td>1037.500000</td>\n",
              "      <td>0.014286</td>\n",
              "      <td>0.047619</td>\n",
              "      <td>0.000000</td>\n",
              "      <td>0.0</td>\n",
              "      <td>3</td>\n",
              "      <td>2</td>\n",
              "      <td>2</td>\n",
              "      <td>4</td>\n",
              "      <td>2</td>\n",
              "      <td>1</td>\n",
              "      <td>0.0</td>\n",
              "      <td>0.0</td>\n",
              "      <td>1.0</td>\n",
              "      <td>0</td>\n",
              "    </tr>\n",
              "    <tr>\n",
              "      <th>2</th>\n",
              "      <td>4</td>\n",
              "      <td>37.5</td>\n",
              "      <td>2</td>\n",
              "      <td>82.0</td>\n",
              "      <td>4</td>\n",
              "      <td>96.625000</td>\n",
              "      <td>0.000000</td>\n",
              "      <td>0.017500</td>\n",
              "      <td>0.000000</td>\n",
              "      <td>0.0</td>\n",
              "      <td>11</td>\n",
              "      <td>2</td>\n",
              "      <td>2</td>\n",
              "      <td>9</td>\n",
              "      <td>2</td>\n",
              "      <td>1</td>\n",
              "      <td>1.0</td>\n",
              "      <td>0.0</td>\n",
              "      <td>0.0</td>\n",
              "      <td>1</td>\n",
              "    </tr>\n",
              "    <tr>\n",
              "      <th>3</th>\n",
              "      <td>4</td>\n",
              "      <td>115.7</td>\n",
              "      <td>0</td>\n",
              "      <td>0.0</td>\n",
              "      <td>16</td>\n",
              "      <td>655.383333</td>\n",
              "      <td>0.000000</td>\n",
              "      <td>0.012037</td>\n",
              "      <td>0.000000</td>\n",
              "      <td>0.0</td>\n",
              "      <td>11</td>\n",
              "      <td>1</td>\n",
              "      <td>1</td>\n",
              "      <td>2</td>\n",
              "      <td>3</td>\n",
              "      <td>1</td>\n",
              "      <td>0.0</td>\n",
              "      <td>0.0</td>\n",
              "      <td>1.0</td>\n",
              "      <td>0</td>\n",
              "    </tr>\n",
              "    <tr>\n",
              "      <th>4</th>\n",
              "      <td>1</td>\n",
              "      <td>60.0</td>\n",
              "      <td>1</td>\n",
              "      <td>15.0</td>\n",
              "      <td>26</td>\n",
              "      <td>670.166667</td>\n",
              "      <td>0.000000</td>\n",
              "      <td>0.003846</td>\n",
              "      <td>0.000000</td>\n",
              "      <td>0.0</td>\n",
              "      <td>5</td>\n",
              "      <td>2</td>\n",
              "      <td>2</td>\n",
              "      <td>3</td>\n",
              "      <td>4</td>\n",
              "      <td>1</td>\n",
              "      <td>0.0</td>\n",
              "      <td>0.0</td>\n",
              "      <td>1.0</td>\n",
              "      <td>0</td>\n",
              "    </tr>\n",
              "  </tbody>\n",
              "</table>\n",
              "</div>"
            ],
            "text/plain": [
              "   Administrative  Administrative_Duration  ...  Visitor_2  Revenue2\n",
              "0               0                      0.0  ...        0.0         1\n",
              "1               0                      0.0  ...        1.0         0\n",
              "2               4                     37.5  ...        0.0         1\n",
              "3               4                    115.7  ...        1.0         0\n",
              "4               1                     60.0  ...        1.0         0\n",
              "\n",
              "[5 rows x 20 columns]"
            ]
          },
          "metadata": {
            "tags": []
          },
          "execution_count": 109
        }
      ]
    },
    {
      "cell_type": "markdown",
      "metadata": {
        "id": "suhKSbHbwJME",
        "colab_type": "text"
      },
      "source": [
        "As table showed, we now only leave the term of label by clustering method "
      ]
    },
    {
      "cell_type": "markdown",
      "metadata": {
        "id": "6XD3OaWdR9uI",
        "colab_type": "text"
      },
      "source": [
        "Based on the clustering work we did, we knew the data set is not well balanced. To check the real performance of the model. We also need to apply SMOTE technique into our desired variable. "
      ]
    },
    {
      "cell_type": "markdown",
      "metadata": {
        "id": "aiM3Xq6ubLll",
        "colab_type": "text"
      },
      "source": [
        "## SVM Modeling & Select Models"
      ]
    },
    {
      "cell_type": "markdown",
      "metadata": {
        "id": "j5hb1vpsRYSx",
        "colab_type": "text"
      },
      "source": [
        "__model 1__ Select features from EDA."
      ]
    },
    {
      "cell_type": "markdown",
      "metadata": {
        "id": "TD5YdQoHGJJv",
        "colab_type": "text"
      },
      "source": [
        "Based on our EDA findings, we decide to use these explantory variables for building up the model. The selected attributes are Administrative,BounceRates,Browser, Region, Exit Rate, Traffic Type, Month,weekend, Administritive_Duration, and SpecialDay."
      ]
    },
    {
      "cell_type": "markdown",
      "metadata": {
        "id": "5tENmhy_Gw6n",
        "colab_type": "text"
      },
      "source": [
        "We use SMOTE to make the sample to be balanced to get our result. When we tested with different kernels, linear kernel is incapable for running in this case. We assume the time complexity becomes infinite in this case. So we decided to avoid using linear kernel for all models."
      ]
    },
    {
      "cell_type": "code",
      "metadata": {
        "id": "MViCaUYUT3Zq",
        "colab_type": "code",
        "colab": {
          "base_uri": "https://localhost:8080/",
          "height": 71
        },
        "outputId": "a9d71545-adc4-43d2-9ed4-021466410f33"
      },
      "source": [
        "from sklearn.model_selection import train_test_split\n",
        "#apply smote\n",
        "from imblearn.over_sampling import SMOTE\n",
        "predictors1 = ['Administrative', 'BounceRates', 'Browser', 'Region', 'ExitRates', 'TrafficType', 'Month', 'Weekend', 'Administrative_Duration', 'SpecialDay']\n",
        "\n",
        "X = SVM_train[predictors1]\n",
        "y = data.Revenue2\n",
        "\n",
        "#Try to use SMOTE to resample \n",
        "X, y  = SMOTE().fit_resample(X, y)\n",
        "\n",
        "X_train, X_test, y_train, y_test = train_test_split(X, y, test_size=0.8, random_state=22)"
      ],
      "execution_count": 110,
      "outputs": [
        {
          "output_type": "stream",
          "text": [
            "/usr/local/lib/python3.6/dist-packages/sklearn/utils/deprecation.py:87: FutureWarning: Function safe_indexing is deprecated; safe_indexing is deprecated in version 0.22 and will be removed in version 0.24.\n",
            "  warnings.warn(msg, category=FutureWarning)\n"
          ],
          "name": "stderr"
        }
      ]
    },
    {
      "cell_type": "code",
      "metadata": {
        "id": "FMYqNjSVY0rn",
        "colab_type": "code",
        "colab": {
          "base_uri": "https://localhost:8080/",
          "height": 206
        },
        "outputId": "a897f68f-c1c5-4671-c4f3-0b9029374811"
      },
      "source": [
        "#Import svm model\n",
        "from sklearn.svm import SVC\n",
        "#Create a svm Classifier\n",
        "\n",
        "svclassifier = SVC(kernel='poly')\n",
        "svclassifier.fit(X,y)\n",
        "\n",
        "#Predict the response for test dataset\n",
        "y_pred = svclassifier.predict(X_test)\n",
        "\n",
        "from sklearn.metrics import classification_report, confusion_matrix\n",
        "print(confusion_matrix(y_test,y_pred))\n",
        "print(classification_report(y_test,y_pred))"
      ],
      "execution_count": 111,
      "outputs": [
        {
          "output_type": "stream",
          "text": [
            "[[ 228 8264]\n",
            " [  66 8324]]\n",
            "              precision    recall  f1-score   support\n",
            "\n",
            "           0       0.78      0.03      0.05      8492\n",
            "           1       0.50      0.99      0.67      8390\n",
            "\n",
            "    accuracy                           0.51     16882\n",
            "   macro avg       0.64      0.51      0.36     16882\n",
            "weighted avg       0.64      0.51      0.36     16882\n",
            "\n"
          ],
          "name": "stdout"
        }
      ]
    },
    {
      "cell_type": "code",
      "metadata": {
        "id": "UanWQKdpG-K-",
        "colab_type": "code",
        "colab": {
          "base_uri": "https://localhost:8080/",
          "height": 206
        },
        "outputId": "b6a01c7d-bd12-4f45-f1da-1c61dc727f07"
      },
      "source": [
        "#Import svm model\n",
        "from sklearn.svm import SVC\n",
        "#Create a svm Classifier\n",
        "\n",
        "svclassifier = SVC(kernel='rbf')\n",
        "svclassifier.fit(X_train,  y_train)\n",
        "\n",
        "#Predict the response for test dataset\n",
        "y_pred = svclassifier.predict(X_test)\n",
        "\n",
        "from sklearn.metrics import classification_report, confusion_matrix\n",
        "print(confusion_matrix(y_test,y_pred))\n",
        "print(classification_report(y_test,y_pred))"
      ],
      "execution_count": 112,
      "outputs": [
        {
          "output_type": "stream",
          "text": [
            "[[5353 3139]\n",
            " [3482 4908]]\n",
            "              precision    recall  f1-score   support\n",
            "\n",
            "           0       0.61      0.63      0.62      8492\n",
            "           1       0.61      0.58      0.60      8390\n",
            "\n",
            "    accuracy                           0.61     16882\n",
            "   macro avg       0.61      0.61      0.61     16882\n",
            "weighted avg       0.61      0.61      0.61     16882\n",
            "\n"
          ],
          "name": "stdout"
        }
      ]
    },
    {
      "cell_type": "markdown",
      "metadata": {
        "id": "ZL37zIuDZuEJ",
        "colab_type": "text"
      },
      "source": [
        "For model 1, we also compared both two kernels, rbf and poly. Overall, rbf performs better on a balanced scores. We later only compared rbf kernel model. "
      ]
    },
    {
      "cell_type": "markdown",
      "metadata": {
        "id": "DD30Ncw2NvBB",
        "colab_type": "text"
      },
      "source": [
        "__Model 2__ Using bidirectional selection method."
      ]
    },
    {
      "cell_type": "markdown",
      "metadata": {
        "id": "r5L97tOBquXK",
        "colab_type": "text"
      },
      "source": [
        "For the model 2, we use bidirectional selection to select the features. "
      ]
    },
    {
      "cell_type": "code",
      "metadata": {
        "id": "IiFKBbGvVE4Z",
        "colab_type": "code",
        "colab": {}
      },
      "source": [
        "# Feature selection -- Bidirectional\n",
        "import statsmodels.api as sm\n",
        "import statsmodels.formula.api as smf\n",
        "\n",
        "#define a function to perform bidirectional selection\n",
        "def stepwise(data, target,SL_in=0.05,SL_out = 0.05):\n",
        "    '''This function takes a dataset of explanatory variables and a target variable and performs bidirectional\n",
        "    selection to return the best features for a model.'''\n",
        "    original = data.columns.tolist()\n",
        "    best_features = []\n",
        "    while (len(original)>0):\n",
        "        remaining_features = list(set(original)-set(best_features))\n",
        "        new_pval = pd.Series(index=remaining_features)\n",
        "        for new_column in remaining_features:\n",
        "            model = sm.OLS(target, sm.add_constant(data[best_features+[new_column]])).fit()\n",
        "            new_pval[new_column] = model.pvalues[new_column]\n",
        "        min_p_value = new_pval.min()\n",
        "        if(min_p_value<SL_in):\n",
        "            best_features.append(new_pval.idxmin())\n",
        "            while(len(best_features)>0):\n",
        "                best_features_with_constant = sm.add_constant(data[best_features])\n",
        "                p_values = sm.OLS(target, best_features_with_constant).fit().pvalues[1:]\n",
        "                max_p_value = p_values.max()\n",
        "                if(max_p_value >= SL_out):\n",
        "                    excluded_feature = p_values.idxmax()\n",
        "                    best_features.remove(excluded_feature)\n",
        "                else:\n",
        "                    break \n",
        "        else:\n",
        "            break\n",
        "    return best_features"
      ],
      "execution_count": 113,
      "outputs": []
    },
    {
      "cell_type": "code",
      "metadata": {
        "id": "T5i2ibeZ0g6Q",
        "colab_type": "code",
        "colab": {
          "base_uri": "https://localhost:8080/",
          "height": 226
        },
        "outputId": "e8049ab8-11bb-4b1a-ec35-55c1898fabde"
      },
      "source": [
        "#apply the function\n",
        "features =stepwise(new, label)\n",
        "#print \n",
        "features"
      ],
      "execution_count": 114,
      "outputs": [
        {
          "output_type": "stream",
          "text": [
            "/usr/local/lib/python3.6/dist-packages/ipykernel_launcher.py:13: DeprecationWarning: The default dtype for empty Series will be 'object' instead of 'float64' in a future version. Specify a dtype explicitly to silence this warning.\n",
            "  del sys.path[0]\n"
          ],
          "name": "stderr"
        },
        {
          "output_type": "execute_result",
          "data": {
            "text/plain": [
              "['PageValues',\n",
              " 'ProductRelated',\n",
              " 'ExitRates',\n",
              " 'Month',\n",
              " 'Visitor_0',\n",
              " 'ProductRelated_Duration',\n",
              " 'BounceRates',\n",
              " 'OperatingSystems',\n",
              " 'SpecialDay']"
            ]
          },
          "metadata": {
            "tags": []
          },
          "execution_count": 114
        }
      ]
    },
    {
      "cell_type": "markdown",
      "metadata": {
        "id": "qOLxa8bUq4ln",
        "colab_type": "text"
      },
      "source": [
        "After getting these feature, we now set up model."
      ]
    },
    {
      "cell_type": "code",
      "metadata": {
        "id": "euaWqyY4Pe68",
        "colab_type": "code",
        "colab": {
          "base_uri": "https://localhost:8080/",
          "height": 71
        },
        "outputId": "8752fc73-1569-4faa-baa4-610481bb7ccf"
      },
      "source": [
        "#model 2\n",
        "from sklearn.model_selection import train_test_split\n",
        "\n",
        "\n",
        "predictors2 = ['PageValues', 'ProductRelated', 'ExitRates', 'Month','Visitor_0','ProductRelated_Duration', 'BounceRates', 'OperatingSystems', 'SpecialDay']\n",
        "X = SVM_train[predictors2]\n",
        "y2 = data.Revenue2\n",
        "\n",
        "#Try to use SMOTE to resample \n",
        "\n",
        "X2, y2  = SMOTE().fit_resample(X, y2)\n",
        "X2_train, X2_test, y2_train, y2_test = train_test_split(X2, y2, test_size=0.8, random_state=22)"
      ],
      "execution_count": 115,
      "outputs": [
        {
          "output_type": "stream",
          "text": [
            "/usr/local/lib/python3.6/dist-packages/sklearn/utils/deprecation.py:87: FutureWarning: Function safe_indexing is deprecated; safe_indexing is deprecated in version 0.22 and will be removed in version 0.24.\n",
            "  warnings.warn(msg, category=FutureWarning)\n"
          ],
          "name": "stderr"
        }
      ]
    },
    {
      "cell_type": "code",
      "metadata": {
        "id": "-ui8k9tdbVO0",
        "colab_type": "code",
        "colab": {
          "base_uri": "https://localhost:8080/",
          "height": 206
        },
        "outputId": "4b432b40-53bb-4860-f155-e7bfdf4ff11b"
      },
      "source": [
        "#Import svm model\n",
        "from sklearn.svm import SVC\n",
        "#Create a svm Classifier\n",
        "#kernel='linear'\n",
        "svclassifier = SVC(kernel='rbf')\n",
        "svclassifier.fit(X2_train, y2_train)\n",
        "\n",
        "#Predict the response for test dataset\n",
        "y2_pred = svclassifier.predict(X2_test)\n",
        "\n",
        "from sklearn.metrics import classification_report, confusion_matrix\n",
        "print(confusion_matrix(y2_test,y2_pred))\n",
        "print(classification_report(y2_test,y2_pred))"
      ],
      "execution_count": 116,
      "outputs": [
        {
          "output_type": "stream",
          "text": [
            "[[2830 5662]\n",
            " [1232 7158]]\n",
            "              precision    recall  f1-score   support\n",
            "\n",
            "           0       0.70      0.33      0.45      8492\n",
            "           1       0.56      0.85      0.67      8390\n",
            "\n",
            "    accuracy                           0.59     16882\n",
            "   macro avg       0.63      0.59      0.56     16882\n",
            "weighted avg       0.63      0.59      0.56     16882\n",
            "\n"
          ],
          "name": "stdout"
        }
      ]
    },
    {
      "cell_type": "markdown",
      "metadata": {
        "id": "cJDXlU41nCaJ",
        "colab_type": "text"
      },
      "source": [
        "Model 2 has a better precision. "
      ]
    },
    {
      "cell_type": "markdown",
      "metadata": {
        "id": "V__qYv0RZ1V8",
        "colab_type": "text"
      },
      "source": [
        "__model 3__ Using RandomForestClassifier to find better features\n",
        "\n",
        "For this model, according to some online tutorial,  we used randomforest to rank the importance.\n",
        "Based on the selected attributes, we built model3. \n",
        "We used parameter thresholds of 0.01 to optimize the attributes. In one word, we only use values of more than 0.01. \n",
        "In this model, we picked pagevalues,month, ExitRates,and Producrt related."
      ]
    },
    {
      "cell_type": "code",
      "metadata": {
        "id": "bDJaaXgiVFz_",
        "colab_type": "code",
        "colab": {}
      },
      "source": [
        "\n",
        "#install the required package\n",
        "!pip install shap\n"
      ],
      "execution_count": null,
      "outputs": []
    },
    {
      "cell_type": "code",
      "metadata": {
        "id": "7V6phUODbg1S",
        "colab_type": "code",
        "colab": {
          "base_uri": "https://localhost:8080/",
          "height": 381
        },
        "outputId": "60f8a8ba-81f1-481f-81bc-8747edc779f5"
      },
      "source": [
        "\n",
        "# import shap\n",
        "import shap\n",
        "\n",
        "from sklearn import tree\n",
        "from sklearn.tree import DecisionTreeClassifier\n",
        "from sklearn.ensemble import RandomForestClassifier\n",
        "\n",
        "model = RandomForestClassifier()\n",
        "model.fit(X_train, y_train)\n",
        "\n",
        "explainer = shap.TreeExplainer(model)\n",
        "shap_values = explainer.shap_values(X_test)\n",
        "\n",
        "shap.summary_plot(shap_values[1], X_test, plot_type = 'bar')\n"
      ],
      "execution_count": 120,
      "outputs": [
        {
          "output_type": "stream",
          "text": [
            "Setting feature_perturbation = \"tree_path_dependent\" because no background data was given.\n"
          ],
          "name": "stderr"
        },
        {
          "output_type": "display_data",
          "data": {
            "image/png": "[encoded data removed]",
            "text/plain": [
              "<Figure size 576x396 with 1 Axes>"
            ]
          },
          "metadata": {
            "tags": [],
            "needs_background": "light"
          }
        }
      ]
    },
    {
      "cell_type": "code",
      "metadata": {
        "id": "zUWcxwYd2L07",
        "colab_type": "code",
        "colab": {
          "base_uri": "https://localhost:8080/",
          "height": 34
        },
        "outputId": "55fcbdb7-49ca-4e0f-d837-46b13d9dd4f1"
      },
      "source": [
        "#model 3\n",
        "from sklearn.model_selection import train_test_split\n",
        "\n",
        "\n",
        "predictors3 = ['PageValues', 'ProductRelated', 'ExitRates', 'Month']\n",
        "X = SVM_train[predictors3]\n",
        "y3 = data.Revenue2\n",
        "\n",
        "#Try to use SMOTE to resample \n",
        "\n",
        "X3, y3  = SMOTE().fit_resample(X, y3)\n",
        "X3_train, X3_test, y3_train, y3_test = train_test_split(X3, y3, test_size=0.8, random_state=22)"
      ],
      "execution_count": 121,
      "outputs": [
        {
          "output_type": "stream",
          "text": [
            "Function safe_indexing is deprecated; safe_indexing is deprecated in version 0.22 and will be removed in version 0.24.\n"
          ],
          "name": "stderr"
        }
      ]
    },
    {
      "cell_type": "code",
      "metadata": {
        "id": "omdnrbl_6DSN",
        "colab_type": "code",
        "colab": {
          "base_uri": "https://localhost:8080/",
          "height": 206
        },
        "outputId": "85f0215b-9627-4411-ff9b-adcaaf197cc4"
      },
      "source": [
        "#Import svm model\n",
        "from sklearn.svm import SVC\n",
        "#Create a svm Classifier\n",
        "#kernel='linear'\n",
        "svclassifier = SVC(kernel='rbf')\n",
        "svclassifier.fit(X3_train, y3_train)\n",
        "\n",
        "#Predict the response for test dataset\n",
        "y3_pred = svclassifier.predict(X3_test)\n",
        "\n",
        "from sklearn.metrics import classification_report, confusion_matrix\n",
        "print(confusion_matrix(y3_test,y3_pred))\n",
        "print(classification_report(y3_test,y3_pred))"
      ],
      "execution_count": 122,
      "outputs": [
        {
          "output_type": "stream",
          "text": [
            "[[5688 2804]\n",
            " [2961 5429]]\n",
            "              precision    recall  f1-score   support\n",
            "\n",
            "           0       0.66      0.67      0.66      8492\n",
            "           1       0.66      0.65      0.65      8390\n",
            "\n",
            "    accuracy                           0.66     16882\n",
            "   macro avg       0.66      0.66      0.66     16882\n",
            "weighted avg       0.66      0.66      0.66     16882\n",
            "\n"
          ],
          "name": "stdout"
        }
      ]
    },
    {
      "cell_type": "markdown",
      "metadata": {
        "id": "PQk4uE5rM6NE",
        "colab_type": "text"
      },
      "source": [
        "Among these three model, model 3 gave the best result."
      ]
    },
    {
      "cell_type": "markdown",
      "metadata": {
        "id": "aYEPB1qbya_j",
        "colab_type": "text"
      },
      "source": [
        "## Clustering + SVM Output vs. Actual Labels"
      ]
    },
    {
      "cell_type": "code",
      "metadata": {
        "id": "svRZ2uPmVp5D",
        "colab_type": "code",
        "colab": {
          "base_uri": "https://localhost:8080/",
          "height": 154
        },
        "outputId": "d5bd9160-ad5c-4b10-8245-cd12bfeeebd8"
      },
      "source": [
        "mix = {'value type': ['0','0','0','1','1','1'],\n",
        "             'matrics': [\"precision\",'recall','f1-score',\"precision\",'recall','f1-score'],\n",
        "            'model1': ['0.61','0.59','0.60','0.61','0.62','0.61'],\n",
        "            'model2': ['0.56','0.84','0.67','0.69','0.34','0.45'],\n",
        "             'model3': ['0.66','0.64','0.65','0.66','0.67','0.66']             \n",
        "            }\n",
        "\n",
        "df = pd.DataFrame(mix, columns= ['value type','matrics','model1','model2','model3'])\n",
        "\n",
        "pivot = df.pivot_table(index=['matrics','value type'], values=['model1','model2','model3'], aggfunc='sum')\n",
        "print (pivot)"
      ],
      "execution_count": 123,
      "outputs": [
        {
          "output_type": "stream",
          "text": [
            "                     model1 model2 model3\n",
            "matrics   value type                     \n",
            "f1-score  0            0.60   0.67   0.65\n",
            "          1            0.61   0.45   0.66\n",
            "precision 0            0.61   0.56   0.66\n",
            "          1            0.61   0.69   0.66\n",
            "recall    0            0.59   0.84   0.64\n",
            "          1            0.62   0.34   0.67\n"
          ],
          "name": "stdout"
        }
      ]
    },
    {
      "cell_type": "markdown",
      "metadata": {
        "id": "yP47KsRhOCKl",
        "colab_type": "text"
      },
      "source": [
        "Based on the performance of different model with kernel. We found rbf kernel give the best performance. \n",
        "Among our models, the model two and model three has closer performance based on precision, recall and f1score. Since model 3 has less feature, with a higher scores, we think it is a more efficient model."
      ]
    },
    {
      "cell_type": "markdown",
      "metadata": {
        "id": "xz_dXSAOyeQo",
        "colab_type": "text"
      },
      "source": [
        "## Conclusions"
      ]
    },
    {
      "cell_type": "markdown",
      "metadata": {
        "id": "jUpcpkyCs2Wi",
        "colab_type": "text"
      },
      "source": [
        "Based on our modeling, model 3 gave the best result. Although it is not very ideal, we can get 66% of precision on a balanced dataset. It still performs better than random guess of 50% in a balanced data. "
      ]
    },
    {
      "cell_type": "markdown",
      "metadata": {
        "id": "_eXmjVIJ76fC",
        "colab_type": "text"
      },
      "source": [
        "## References\n",
        "\n",
        "1. https://github.com/ageron/handson-ml2/blob/master/09_unsupervised_learning.ipynb\n",
        "2. https://www.kaggle.com/roshansharma/online-shopper-s-intention\n",
        "3. https://jakevdp.github.io/PythonDataScienceHandbook/05.11-k-means.html"
      ]
    }
  ]
}